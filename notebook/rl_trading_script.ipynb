{
 "cells": [
  {
   "cell_type": "code",
   "execution_count": 65,
   "metadata": {},
   "outputs": [],
   "source": [
    "import warnings\n",
    "warnings.filterwarnings(\"ignore\")"
   ]
  },
  {
   "cell_type": "code",
   "execution_count": 66,
   "metadata": {},
   "outputs": [],
   "source": [
    "from matplotlib import pyplot as plt\n",
    "import numpy as np\n",
    "import random\n",
    "import tensorflow as tf\n",
    "import fix_yahoo_finance as yf \n",
    "from datetime import datetime\n",
    "import time\n",
    "import copy\n",
    "import pandas as pd\n",
    "import altair as alt\n",
    "import seaborn as sns"
   ]
  },
  {
   "cell_type": "code",
   "execution_count": 67,
   "metadata": {},
   "outputs": [],
   "source": [
    "def plot_prices(train_prices, test_prices=None):\n",
    "    plt.xlabel('time')\n",
    "    plt.ylabel('price')\n",
    "    plt.plot(range(len(train_prices)), train_prices, 'b')\n",
    "    if test_prices is not None:\n",
    "        plt.plot(range(len(train_prices), len(train_prices) + len(test_prices)), test_prices, 'g')\n",
    "    plt.show()"
   ]
  },
  {
   "cell_type": "code",
   "execution_count": 68,
   "metadata": {},
   "outputs": [
    {
     "name": "stdout",
     "output_type": "stream",
     "text": [
      "[*********************100%***********************]  1 of 1 downloaded\n"
     ]
    },
    {
     "data": {
      "image/png": "[encoded data removed]",
      "text/plain": [
       "<Figure size 432x288 with 1 Axes>"
      ]
     },
     "metadata": {},
     "output_type": "display_data"
    }
   ],
   "source": [
    "data = yf.download('WWL','2010-01-01','2019-03-01')\n",
    "data.Close.plot()\n",
    "plt.show()"
   ]
  },
  {
   "cell_type": "code",
   "execution_count": 69,
   "metadata": {},
   "outputs": [
    {
     "name": "stdout",
     "output_type": "stream",
     "text": [
      "[*********************100%***********************]  1 of 1 downloaded\n"
     ]
    }
   ],
   "source": [
    "df = yf.download('WWL','2010-01-01','2019-03-01')\n",
    "df.index.name = 'Date'\n",
    "df.reset_index(inplace=True)\n",
    "# filter out the desired features\n",
    "df = df[['Date', 'Adj Close']]\n",
    "# rename feature column names\n",
    "df = df.rename(columns={'Adj Close': 'actual', 'Date': 'date'})\n",
    "# convert dates from object to DateTime type\n",
    "dates = df['date']\n",
    "dates = pd.to_datetime(dates, infer_datetime_format=True)\n",
    "df['date'] = dates"
   ]
  },
  {
   "cell_type": "code",
   "execution_count": 70,
   "metadata": {},
   "outputs": [],
   "source": [
    "class DecisionPolicy:\n",
    "    # A Given a state, the decision policy will calculate the next action to take\n",
    "    def select_action(self, current_state): \n",
    "        pass\n",
    "    # Improve the Q-function from a new experience of taking an action\n",
    "    def update_q(self, state, action, reward, next_state): \n",
    "        pass"
   ]
  },
  {
   "cell_type": "code",
   "execution_count": 71,
   "metadata": {},
   "outputs": [],
   "source": [
    "class RandomDecisionPolicy(DecisionPolicy):\n",
    "    # Inherit from DecisionPolicy to implement its functions\n",
    "    def __init__(self, actions):\n",
    "        self.actions = actions\n",
    "    # Randomly choose the next action\n",
    "    def select_action(self, current_state, step):\n",
    "        action = random.choice(self.actions)\n",
    "        return action"
   ]
  },
  {
   "cell_type": "code",
   "execution_count": 72,
   "metadata": {},
   "outputs": [],
   "source": [
    "class QLearningDecisionPolicy(DecisionPolicy):\n",
    "    # Set the hyper-parameters from the Q-function. \n",
    "    # To keep the solution from getting “stuck” when applying the same action over and over.\n",
    "    # The lesser the epsilon value, the more often it will randomly explore new actions.\n",
    "    def __init__(self, actions, input_dim):\n",
    "        self.epsilon = 0.95\n",
    "        self.gamma = 0.5\n",
    "        self.actions = actions\n",
    "        output_dim = len(actions) # output dimentions\n",
    "        h1_dim = 20 # Set the number of hidden nodes in the neural networks\n",
    "\n",
    "        self.x = tf.placeholder(tf.float32, [None, input_dim]) # input vector\n",
    "        self.y = tf.placeholder(tf.float32, [output_dim]) # output vector\n",
    "        W1 = tf.Variable(tf.random_normal([input_dim, h1_dim])) # weights from input to hidden \n",
    "        b1 = tf.Variable(tf.constant(0.1, shape=[h1_dim])) # biases from input to hidden\n",
    "        h1 = tf.nn.relu(tf.matmul(self.x, W1) + b1) # hidden layer vector\n",
    "        W2 = tf.Variable(tf.random_normal([h1_dim, output_dim])) # weights from hidden to output\n",
    "        b2 = tf.Variable(tf.constant(0.1, shape=[output_dim])) # biases from hidden to output\n",
    "        self.q = tf.nn.relu(tf.matmul(h1, W2) + b2) # output of neural network\n",
    "        \n",
    "        # Set loss as a squared error and use an optimizer\n",
    "        loss = tf.square(self.y - self.q)\n",
    "        self.train_op = tf.train.AdamOptimizer(0.001).minimize(loss)\n",
    "        self.sess = tf.Session()\n",
    "        self.sess.run(tf.global_variables_initializer())\n",
    "        \n",
    "    def select_action(self, current_state, step):\n",
    "        threshold = min(self.epsilon, step / 1000.)\n",
    "        if random.random() < threshold:\n",
    "            # Exploit best option with probability epsilon\n",
    "            action_q_vals = self.sess.run(self.q, feed_dict={self.x: current_state})\n",
    "            action_idx = np.argmax(action_q_vals)  # TODO: replace w/ tensorflow's argmax\n",
    "            action = self.actions[action_idx]\n",
    "        else:\n",
    "            # Explore random option with probability 1 - epsilon\n",
    "            action = self.actions[random.randint(0, len(self.actions) - 1)]\n",
    "        return action\n",
    "\n",
    "    # Update the Q-function by updating its model parameters\n",
    "    def update_q(self, state, action, reward, next_state):\n",
    "        action_q_vals = self.sess.run(self.q, feed_dict={self.x: state})\n",
    "        next_action_q_vals = self.sess.run(self.q, feed_dict={self.x: next_state})\n",
    "        next_action_idx = np.argmax(next_action_q_vals)\n",
    "        current_action_idx = self.actions.index(action)\n",
    "        action_q_vals[0, current_action_idx] = reward + self.gamma * next_action_q_vals[0, next_action_idx]\n",
    "        action_q_vals = np.squeeze(np.asarray(action_q_vals))\n",
    "        self.sess.run(self.train_op, feed_dict={self.x: state, self.y: action_q_vals})"
   ]
  },
  {
   "cell_type": "code",
   "execution_count": 73,
   "metadata": {},
   "outputs": [],
   "source": [
    "def run_simulation(policy, initial_budget, initial_num_stocks, prices, hist, learn=True):\n",
    "    # Initialize values that depend on computing the net worth of a portfolio\n",
    "    budget = initial_budget\n",
    "    num_stocks = initial_num_stocks\n",
    "    share_value = 0\n",
    "    transitions = list()\n",
    "    history = []\n",
    "    portfolio_history = []\n",
    "    for i in range(len(prices) - hist - 1):\n",
    "        if i % 1000 == 0:\n",
    "            print('progress {:.2f}%'.format(float(100*i) / (len(prices) - hist - 1)))\n",
    "        # The state is a `hist+2` dimensional vector. We’ll force it to by a numpy matrix.\n",
    "        current_state = np.asmatrix(np.hstack((prices[i:i+hist], budget, num_stocks)))\n",
    "        # Calculate the portfolio value\n",
    "        current_portfolio = budget + num_stocks * share_value\n",
    "        # Select an action from the current policy\n",
    "        action = policy.select_action(current_state, i)\n",
    "        share_value = float(prices[i + hist])\n",
    "        # Update portfolio values based on action\n",
    "        if action == 'Buy' and budget >= share_value:\n",
    "            budget -= share_value\n",
    "            num_stocks += 1\n",
    "            history.append((prices[i], 'BUY'))\n",
    "            portfolio_history.append((current_portfolio, 'BUY'))\n",
    "        elif action == 'Sell' and num_stocks > 0:\n",
    "            budget += share_value\n",
    "            num_stocks -= 1\n",
    "            history.append((prices[i],'SELL'))\n",
    "            portfolio_history.append((current_portfolio,'SELL'))\n",
    "        else:\n",
    "            action = 'Hold'\n",
    "            history.append((prices[i], 'HOLD'))\n",
    "            portfolio_history.append((current_portfolio, 'HOLD'))\n",
    "        \n",
    "        # Compute new portfolio value after taking action\n",
    "        new_portfolio = budget + num_stocks * share_value\n",
    "        if learn:\n",
    "            reward = new_portfolio - current_portfolio\n",
    "            next_state = np.asmatrix(np.hstack((prices[i+1:i+hist+1], budget, num_stocks)))\n",
    "            transitions.append((current_state, action, reward, next_state))\n",
    "            policy.update_q(current_state, action, reward, next_state)\n",
    "\n",
    "    # Compute final portfolio worth\n",
    "    portfolio = budget + num_stocks * share_value\n",
    "    return portfolio, history, portfolio_history"
   ]
  },
  {
   "cell_type": "code",
   "execution_count": 74,
   "metadata": {},
   "outputs": [],
   "source": [
    "def run_simulations(policy, budget, num_stocks, prices, hist):\n",
    "    # Decide number of times to re-run the simulations\n",
    "    num_tries = 5\n",
    "    # Store portfolio worth of each run in this array\n",
    "    final_portfolios = list()\n",
    "    # Run this simulation\n",
    "    #for _ in range(num_tries):\n",
    "    #    portfolio, history, portfolio_history = run_simulation(policy, budget, num_stocks, prices, hist)\n",
    "    #    final_portfolios.append(portfolio)\n",
    "    #    print('Final portfolio: ${}'.format(portfolio))      \n",
    "    #plt.title('Final Portfolio Value')\n",
    "    #plt.xlabel('Epochs')\n",
    "    #plt.ylabel('Training Portfolio Value')\n",
    "    #plt.plot(final_portfolios)\n",
    "    #plt.show()"
   ]
  },
  {
   "cell_type": "code",
   "execution_count": 75,
   "metadata": {
    "scrolled": false
   },
   "outputs": [
    {
     "name": "stdout",
     "output_type": "stream",
     "text": [
      "progress 0.00%\n",
      "progress 76.45%\n",
      "1661.1001569999999\n",
      "224.5073617232231\n"
     ]
    }
   ],
   "source": [
    "if __name__ == \"__main__\":    \n",
    "    tf.reset_default_graph()\n",
    "    prices = data.Close\n",
    "    n = len(prices)\n",
    "    n_train = int(n * 0.25)\n",
    "    train_prices = prices[:n_train]\n",
    "    test_prices = prices[n_train:]\n",
    "    #print(train_prices)\n",
    "    #print(test_prices)\n",
    "    #plot_prices(train_prices, test_prices)\n",
    "\n",
    "    # Define the list of actions the agent can take\n",
    "    actions = ['Buy', 'Sell', 'Hold']\n",
    "    hist = 200\n",
    "    # Initial a decision policy\n",
    "    policy = QLearningDecisionPolicy(actions, hist + 2)\n",
    "    # Set the initial amount of money available to use\n",
    "    budget = 1000.0\n",
    "    # Set the number of stocks already owned\n",
    "    num_stocks = 0\n",
    "    # Run simulations multiple times to compute expected value of final net worth\n",
    "    run_simulations(policy, budget, num_stocks, train_prices, hist)\n",
    "\n",
    "    # Exacute on test set\n",
    "    portfolio, history, portfolio_history = run_simulation(policy, budget, num_stocks, test_prices, hist, learn=False)\n",
    "    print(portfolio)\n",
    "    print( np.std([x[0] for x in portfolio_history]))"
   ]
  },
  {
   "cell_type": "code",
   "execution_count": 76,
   "metadata": {
    "scrolled": false
   },
   "outputs": [
    {
     "name": "stdout",
     "output_type": "stream",
     "text": [
      "progress 0.00%\n",
      "progress 0.00%\n",
      "progress 76.45%\n",
      "1442.4998770000016\n",
      "108.26889616832723\n"
     ]
    }
   ],
   "source": [
    "if __name__ == \"__main__\":\n",
    "    prices = data.Close\n",
    "    n = len(prices)\n",
    "    n_train = int(n * 0.25)\n",
    "    train_prices = prices[:n_train]\n",
    "    test_prices = prices[n_train:]\n",
    "    #print(train_prices)\n",
    "    #print(test_prices)\n",
    "    #plot_prices(train_prices, test_prices)\n",
    "\n",
    "    # Define the list of actions the agent can take\n",
    "    actions = ['Buy', 'Hold', 'Sell']\n",
    "    # Initial a decision policy\n",
    "    policy = RandomDecisionPolicy(actions)\n",
    "    # Set the initial amount of money available to use\n",
    "    budget = 1000.0\n",
    "    # Set the number of stocks already owned\n",
    "    num_stocks = 0\n",
    "    # Run simulations multiple times to compute expected value of final net worth\n",
    "    run_simulation(policy, budget, num_stocks, train_prices, hist)\n",
    "\n",
    "    # Exacute on test set\n",
    "    portfolio_rand, history_rand, portfolio_history_rand = run_simulation(policy, budget, num_stocks, test_prices, hist, learn=False)\n",
    "    print(portfolio_rand)\n",
    "    print(np.std([x[0] for x in portfolio_history_rand]))"
   ]
  },
  {
   "cell_type": "code",
   "execution_count": 77,
   "metadata": {},
   "outputs": [
    {
     "name": "stdout",
     "output_type": "stream",
     "text": [
      "progress 0.00%\n",
      "progress 0.00%\n",
      "progress 76.45%\n",
      "1394.0\n",
      "163.35898788143172\n"
     ]
    }
   ],
   "source": [
    "if __name__ == \"__main__\":\n",
    "    prices = data.Close\n",
    "    n = len(prices)\n",
    "    n_train = int(n * 0.25)\n",
    "    train_prices = prices[:n_train]\n",
    "    test_prices = prices[n_train:]\n",
    "    #print(train_prices)\n",
    "    #print(test_prices)\n",
    "    #plot_prices(train_prices, test_prices)\n",
    "\n",
    "    # Define the list of actions the agent can take\n",
    "    actions = ['Buy', 'Hold', 'Hold']\n",
    "    # Initial a decision policy\n",
    "    policy = RandomDecisionPolicy(actions)\n",
    "    # Set the initial amount of money available to use\n",
    "    budget = 1000.0\n",
    "    # Set the number of stocks already owned\n",
    "    num_stocks = 0\n",
    "    # Run simulations multiple times to compute expected value of final net worth\n",
    "    run_simulation(policy, budget, num_stocks, train_prices, hist)\n",
    "\n",
    "    # Exacute on test set\n",
    "    portfolio_bh, history_bh, portfolio_history_bh = run_simulation(policy, budget, num_stocks, test_prices, hist, learn=True)\n",
    "    print(portfolio_bh)\n",
    "    print(np.std([x[0] for x in portfolio_history_bh]))"
   ]
  },
  {
   "cell_type": "code",
   "execution_count": 78,
   "metadata": {},
   "outputs": [],
   "source": [
    "test_prices_plot = pd.DataFrame(test_prices)\n",
    "test_prices_plot.index.name = 'Date'\n",
    "test_prices_plot.reset_index(inplace=True)\n",
    "\n",
    "\n",
    "# filter out the desired features\n",
    "test_prices_plot = test_prices_plot[['Date', 'Close']]\n",
    "# rename feature column names\n",
    "test_prices_plot = test_prices_plot.rename(columns={'Close': 'actual', 'Date': 'date'})\n",
    "# convert dates from object to DateTime type\n",
    "dates = test_prices_plot['date']\n",
    "dates = pd.to_datetime(dates, infer_datetime_format=True)\n",
    "test_prices_plot['date'] = dates\n",
    "test_prices_plot = test_prices_plot[hist:]"
   ]
  },
  {
   "cell_type": "code",
   "execution_count": 79,
   "metadata": {},
   "outputs": [],
   "source": [
    "def visualize(df, history):\n",
    "    # add history to dataframe\n",
    "    position = [history[0][0]] + [x[0] for x in history]\n",
    "    actions = ['HOLD'] + [x[1] for x in history]\n",
    "    df['position'] = position\n",
    "    df['action'] = actions\n",
    "    \n",
    "    # specify y-axis scale for stock prices\n",
    "    scale = alt.Scale(domain=(min(min(df['actual']), min(df['position'])) - 50, max(max(df['actual']), max(df['position'])) + 50), clamp=True)\n",
    "    \n",
    "    # plot a line chart for stock positions\n",
    "    actual = alt.Chart(df).mark_line(\n",
    "        color='black',\n",
    "        opacity=0.2\n",
    "    ).encode(\n",
    "        x='date:T',\n",
    "        y=alt.Y('position', axis=alt.Axis(format='$.2f', title='Price'), scale=scale)\n",
    "    ).interactive(\n",
    "        bind_y=False\n",
    "    )\n",
    "    \n",
    "    # plot the BUY and SELL actions as points\n",
    "    points = alt.Chart(df).transform_filter(\n",
    "        alt.datum.action != 'HOLD'\n",
    "    ).mark_point(\n",
    "        filled=True\n",
    "    ).encode(\n",
    "        x=alt.X('date:T', axis=alt.Axis(title='Date')),\n",
    "        y=alt.Y('position', axis=alt.Axis(format='$.2f', title='Price'), scale=scale),\n",
    "        color='action'\n",
    "        #color=alt.Color('action', scale=alt.Scale(range=['blue', 'green', 'red']))\n",
    "    ).interactive(bind_y=False)\n",
    "\n",
    "    # merge the two charts\n",
    "    chart = alt.layer(actual, points, title=\"Portfolio Actions\").properties(height=300, width=1000)\n",
    "    \n",
    "    return chart"
   ]
  },
  {
   "cell_type": "code",
   "execution_count": 80,
   "metadata": {},
   "outputs": [
    {
     "data": {
      "application/vnd.vegalite.v2+json": {
       "$schema": "https://vega.github.io/schema/vega-lite/v2.6.0.json",
       "config": {
        "view": {
         "height": 300,
         "width": 400
        }
       },
       "datasets": {
        "data-9c1bc1ebbbe9126d8252552eecfd7d8c": [
         {
          "action": "HOLD",
          "actual": 709.5,
          "date": "2012-11-07T00:00:00",
          "position": 505
         },
         {
          "action": "HOLD",
          "actual": 709.5,
          "date": "2012-11-08T00:00:00",
          "position": 505
         },
         {
          "action": "HOLD",
          "actual": 708.5,
          "date": "2012-11-09T00:00:00",
          "position": 505
         },
         {
          "action": "HOLD",
          "actual": 712,
          "date": "2012-11-12T00:00:00",
          "position": 510
         },
         {
          "action": "BUY",
          "actual": 708.5,
          "date": "2012-11-13T00:00:00",
          "position": 512
         },
         {
          "action": "HOLD",
          "actual": 710,
          "date": "2012-11-14T00:00:00",
          "position": 510
         },
         {
          "action": "HOLD",
          "actual": 710,
          "date": "2012-11-15T00:00:00",
          "position": 515
         },
         {
          "action": "HOLD",
          "actual": 715,
          "date": "2012-11-16T00:00:00",
          "position": 518
         },
         {
          "action": "HOLD",
          "actual": 724,
          "date": "2012-11-19T00:00:00",
          "position": 520
         },
         {
          "action": "SELL",
          "actual": 724,
          "date": "2012-11-20T00:00:00",
          "position": 525
         },
         {
          "action": "HOLD",
          "actual": 724,
          "date": "2012-11-21T00:00:00",
          "position": 525
         },
         {
          "action": "HOLD",
          "actual": 726,
          "date": "2012-11-23T00:00:00",
          "position": 530.5
         },
         {
          "action": "BUY",
          "actual": 736,
          "date": "2012-11-26T00:00:00",
          "position": 545
         },
         {
          "action": "HOLD",
          "actual": 739,
          "date": "2012-11-27T00:00:00",
          "position": 547
         },
         {
          "action": "HOLD",
          "actual": 740,
          "date": "2012-11-28T00:00:00",
          "position": 555
         },
         {
          "action": "HOLD",
          "actual": 754,
          "date": "2012-11-29T00:00:00",
          "position": 571
         },
         {
          "action": "SELL",
          "actual": 753,
          "date": "2012-11-30T00:00:00",
          "position": 594.5
         },
         {
          "action": "BUY",
          "actual": 768,
          "date": "2012-12-03T00:00:00",
          "position": 580.5
         },
         {
          "action": "SELL",
          "actual": 757,
          "date": "2012-12-04T00:00:00",
          "position": 580
         },
         {
          "action": "HOLD",
          "actual": 760,
          "date": "2012-12-05T00:00:00",
          "position": 579.5
         },
         {
          "action": "HOLD",
          "actual": 759.5,
          "date": "2012-12-06T00:00:00",
          "position": 590
         },
         {
          "action": "HOLD",
          "actual": 755.5,
          "date": "2012-12-07T00:00:00",
          "position": 587
         },
         {
          "action": "BUY",
          "actual": 753,
          "date": "2012-12-10T00:00:00",
          "position": 580
         },
         {
          "action": "SELL",
          "actual": 753,
          "date": "2012-12-11T00:00:00",
          "position": 586
         },
         {
          "action": "HOLD",
          "actual": 767.5,
          "date": "2012-12-12T00:00:00",
          "position": 586
         },
         {
          "action": "HOLD",
          "actual": 767.5,
          "date": "2012-12-13T00:00:00",
          "position": 578.5
         },
         {
          "action": "HOLD",
          "actual": 788,
          "date": "2012-12-14T00:00:00",
          "position": 580
         },
         {
          "action": "HOLD",
          "actual": 788,
          "date": "2012-12-17T00:00:00",
          "position": 580
         },
         {
          "action": "BUY",
          "actual": 779,
          "date": "2012-12-18T00:00:00",
          "position": 579.5
         },
         {
          "action": "HOLD",
          "actual": 798,
          "date": "2012-12-19T00:00:00",
          "position": 574
         },
         {
          "action": "HOLD",
          "actual": 794,
          "date": "2012-12-20T00:00:00",
          "position": 581.5
         },
         {
          "action": "HOLD",
          "actual": 794,
          "date": "2012-12-21T00:00:00",
          "position": 583
         },
         {
          "action": "HOLD",
          "actual": 794,
          "date": "2012-12-24T00:00:00",
          "position": 574
         },
         {
          "action": "SELL",
          "actual": 794,
          "date": "2012-12-26T00:00:00",
          "position": 584
         },
         {
          "action": "HOLD",
          "actual": 786,
          "date": "2012-12-27T00:00:00",
          "position": 584
         },
         {
          "action": "HOLD",
          "actual": 798,
          "date": "2012-12-28T00:00:00",
          "position": 595.5
         },
         {
          "action": "BUY",
          "actual": 798,
          "date": "2012-12-31T00:00:00",
          "position": 595
         },
         {
          "action": "HOLD",
          "actual": 796.5,
          "date": "2013-01-02T00:00:00",
          "position": 589.5
         },
         {
          "action": "SELL",
          "actual": 789.5,
          "date": "2013-01-03T00:00:00",
          "position": 585
         },
         {
          "action": "BUY",
          "actual": 772,
          "date": "2013-01-04T00:00:00",
          "position": 583
         },
         {
          "action": "HOLD",
          "actual": 768.5,
          "date": "2013-01-07T00:00:00",
          "position": 580
         },
         {
          "action": "SELL",
          "actual": 768,
          "date": "2013-01-08T00:00:00",
          "position": 574
         },
         {
          "action": "BUY",
          "actual": 762,
          "date": "2013-01-09T00:00:00",
          "position": 567
         },
         {
          "action": "HOLD",
          "actual": 760,
          "date": "2013-01-10T00:00:00",
          "position": 564
         },
         {
          "action": "HOLD",
          "actual": 768,
          "date": "2013-01-11T00:00:00",
          "position": 560
         },
         {
          "action": "SELL",
          "actual": 768,
          "date": "2013-01-14T00:00:00",
          "position": 557
         },
         {
          "action": "HOLD",
          "actual": 754,
          "date": "2013-01-15T00:00:00",
          "position": 547
         },
         {
          "action": "HOLD",
          "actual": 763,
          "date": "2013-01-16T00:00:00",
          "position": 547
         },
         {
          "action": "BUY",
          "actual": 777,
          "date": "2013-01-17T00:00:00",
          "position": 540
         },
         {
          "action": "HOLD",
          "actual": 778,
          "date": "2013-01-18T00:00:00",
          "position": 548
         },
         {
          "action": "SELL",
          "actual": 780,
          "date": "2013-01-22T00:00:00",
          "position": 550
         },
         {
          "action": "HOLD",
          "actual": 778.5,
          "date": "2013-01-23T00:00:00",
          "position": 550
         },
         {
          "action": "HOLD",
          "actual": 800,
          "date": "2013-01-24T00:00:00",
          "position": 555
         },
         {
          "action": "BUY",
          "actual": 810,
          "date": "2013-01-25T00:00:00",
          "position": 550
         },
         {
          "action": "SELL",
          "actual": 812,
          "date": "2013-01-28T00:00:00",
          "position": 550
         },
         {
          "action": "HOLD",
          "actual": 817,
          "date": "2013-01-29T00:00:00",
          "position": 550
         },
         {
          "action": "BUY",
          "actual": 816,
          "date": "2013-01-30T00:00:00",
          "position": 550
         },
         {
          "action": "HOLD",
          "actual": 811,
          "date": "2013-01-31T00:00:00",
          "position": 549.5
         },
         {
          "action": "SELL",
          "actual": 804,
          "date": "2013-02-01T00:00:00",
          "position": 540
         },
         {
          "action": "BUY",
          "actual": 800,
          "date": "2013-02-04T00:00:00",
          "position": 548.5
         },
         {
          "action": "HOLD",
          "actual": 800,
          "date": "2013-02-05T00:00:00",
          "position": 547
         },
         {
          "action": "SELL",
          "actual": 784,
          "date": "2013-02-06T00:00:00",
          "position": 547
         },
         {
          "action": "BUY",
          "actual": 784,
          "date": "2013-02-07T00:00:00",
          "position": 547
         },
         {
          "action": "HOLD",
          "actual": 784,
          "date": "2013-02-08T00:00:00",
          "position": 575
         },
         {
          "action": "HOLD",
          "actual": 798,
          "date": "2013-02-11T00:00:00",
          "position": 533.5
         },
         {
          "action": "HOLD",
          "actual": 807,
          "date": "2013-02-12T00:00:00",
          "position": 550
         },
         {
          "action": "HOLD",
          "actual": 800,
          "date": "2013-02-13T00:00:00",
          "position": 570
         },
         {
          "action": "HOLD",
          "actual": 803,
          "date": "2013-02-14T00:00:00",
          "position": 580
         },
         {
          "action": "HOLD",
          "actual": 807,
          "date": "2013-02-15T00:00:00",
          "position": 563
         },
         {
          "action": "SELL",
          "actual": 795,
          "date": "2013-02-19T00:00:00",
          "position": 563
         },
         {
          "action": "BUY",
          "actual": 785,
          "date": "2013-02-20T00:00:00",
          "position": 563
         },
         {
          "action": "SELL",
          "actual": 800,
          "date": "2013-02-21T00:00:00",
          "position": 563
         },
         {
          "action": "HOLD",
          "actual": 798,
          "date": "2013-02-22T00:00:00",
          "position": 563
         },
         {
          "action": "BUY",
          "actual": 806,
          "date": "2013-02-25T00:00:00",
          "position": 563
         },
         {
          "action": "HOLD",
          "actual": 805,
          "date": "2013-02-26T00:00:00",
          "position": 546.5
         },
         {
          "action": "HOLD",
          "actual": 796.5,
          "date": "2013-02-27T00:00:00",
          "position": 550
         },
         {
          "action": "SELL",
          "actual": 806.5,
          "date": "2013-02-28T00:00:00",
          "position": 550
         },
         {
          "action": "BUY",
          "actual": 806,
          "date": "2013-03-01T00:00:00",
          "position": 550
         },
         {
          "action": "SELL",
          "actual": 804,
          "date": "2013-03-04T00:00:00",
          "position": 564.5
         },
         {
          "action": "HOLD",
          "actual": 806,
          "date": "2013-03-05T00:00:00",
          "position": 555
         },
         {
          "action": "BUY",
          "actual": 815,
          "date": "2013-03-06T00:00:00",
          "position": 561
         },
         {
          "action": "HOLD",
          "actual": 825,
          "date": "2013-03-07T00:00:00",
          "position": 550
         },
         {
          "action": "HOLD",
          "actual": 840,
          "date": "2013-03-08T00:00:00",
          "position": 549.5
         },
         {
          "action": "HOLD",
          "actual": 845,
          "date": "2013-03-11T00:00:00",
          "position": 537
         },
         {
          "action": "HOLD",
          "actual": 840,
          "date": "2013-03-12T00:00:00",
          "position": 532
         },
         {
          "action": "HOLD",
          "actual": 835,
          "date": "2013-03-13T00:00:00",
          "position": 536
         },
         {
          "action": "SELL",
          "actual": 825,
          "date": "2013-03-14T00:00:00",
          "position": 531
         },
         {
          "action": "BUY",
          "actual": 802,
          "date": "2013-03-15T00:00:00",
          "position": 530
         },
         {
          "action": "SELL",
          "actual": 807,
          "date": "2013-03-18T00:00:00",
          "position": 530
         },
         {
          "action": "HOLD",
          "actual": 800,
          "date": "2013-03-19T00:00:00",
          "position": 544
         },
         {
          "action": "BUY",
          "actual": 800,
          "date": "2013-03-20T00:00:00",
          "position": 540
         },
         {
          "action": "SELL",
          "actual": 790.5,
          "date": "2013-03-21T00:00:00",
          "position": 556
         },
         {
          "action": "HOLD",
          "actual": 780.5,
          "date": "2013-03-22T00:00:00",
          "position": 556
         },
         {
          "action": "HOLD",
          "actual": 760,
          "date": "2013-03-25T00:00:00",
          "position": 536
         },
         {
          "action": "BUY",
          "actual": 770,
          "date": "2013-03-26T00:00:00",
          "position": 536
         },
         {
          "action": "HOLD",
          "actual": 770.5,
          "date": "2013-03-27T00:00:00",
          "position": 555
         },
         {
          "action": "SELL",
          "actual": 795,
          "date": "2013-03-28T00:00:00",
          "position": 555
         },
         {
          "action": "BUY",
          "actual": 795,
          "date": "2013-04-01T00:00:00",
          "position": 555
         },
         {
          "action": "HOLD",
          "actual": 800,
          "date": "2013-04-02T00:00:00",
          "position": 560
         },
         {
          "action": "HOLD",
          "actual": 790,
          "date": "2013-04-03T00:00:00",
          "position": 559.5
         },
         {
          "action": "SELL",
          "actual": 790,
          "date": "2013-04-04T00:00:00",
          "position": 557.5
         },
         {
          "action": "BUY",
          "actual": 787.5,
          "date": "2013-04-05T00:00:00",
          "position": 550
         },
         {
          "action": "HOLD",
          "actual": 799,
          "date": "2013-04-08T00:00:00",
          "position": 547
         },
         {
          "action": "HOLD",
          "actual": 805,
          "date": "2013-04-09T00:00:00",
          "position": 563.5
         },
         {
          "action": "HOLD",
          "actual": 807.5,
          "date": "2013-04-10T00:00:00",
          "position": 563
         },
         {
          "action": "HOLD",
          "actual": 811.5,
          "date": "2013-04-11T00:00:00",
          "position": 563
         },
         {
          "action": "SELL",
          "actual": 815,
          "date": "2013-04-12T00:00:00",
          "position": 560
         },
         {
          "action": "HOLD",
          "actual": 804,
          "date": "2013-04-15T00:00:00",
          "position": 555
         },
         {
          "action": "HOLD",
          "actual": 804,
          "date": "2013-04-16T00:00:00",
          "position": 557
         },
         {
          "action": "HOLD",
          "actual": 819.799988,
          "date": "2013-04-17T00:00:00",
          "position": 557.5
         },
         {
          "action": "HOLD",
          "actual": 805,
          "date": "2013-04-18T00:00:00",
          "position": 556.5
         },
         {
          "action": "HOLD",
          "actual": 799,
          "date": "2013-04-19T00:00:00",
          "position": 559
         },
         {
          "action": "BUY",
          "actual": 800,
          "date": "2013-04-22T00:00:00",
          "position": 560
         },
         {
          "action": "HOLD",
          "actual": 800,
          "date": "2013-04-23T00:00:00",
          "position": 560
         },
         {
          "action": "SELL",
          "actual": 801,
          "date": "2013-04-24T00:00:00",
          "position": 560
         },
         {
          "action": "HOLD",
          "actual": 795,
          "date": "2013-04-25T00:00:00",
          "position": 553
         },
         {
          "action": "HOLD",
          "actual": 802,
          "date": "2013-04-26T00:00:00",
          "position": 560
         },
         {
          "action": "BUY",
          "actual": 801,
          "date": "2013-04-29T00:00:00",
          "position": 563
         },
         {
          "action": "HOLD",
          "actual": 813,
          "date": "2013-04-30T00:00:00",
          "position": 565
         },
         {
          "action": "HOLD",
          "actual": 801,
          "date": "2013-05-01T00:00:00",
          "position": 598
         },
         {
          "action": "HOLD",
          "actual": 813,
          "date": "2013-05-02T00:00:00",
          "position": 575
         },
         {
          "action": "SELL",
          "actual": 813,
          "date": "2013-05-03T00:00:00",
          "position": 585
         },
         {
          "action": "HOLD",
          "actual": 811.849976,
          "date": "2013-05-06T00:00:00",
          "position": 588
         },
         {
          "action": "HOLD",
          "actual": 811.849976,
          "date": "2013-05-07T00:00:00",
          "position": 606.5
         },
         {
          "action": "HOLD",
          "actual": 810,
          "date": "2013-05-08T00:00:00",
          "position": 607.5
         },
         {
          "action": "HOLD",
          "actual": 800.299988,
          "date": "2013-05-09T00:00:00",
          "position": 628
         },
         {
          "action": "HOLD",
          "actual": 810,
          "date": "2013-05-10T00:00:00",
          "position": 620
         },
         {
          "action": "HOLD",
          "actual": 808,
          "date": "2013-05-13T00:00:00",
          "position": 610
         },
         {
          "action": "HOLD",
          "actual": 807.950012,
          "date": "2013-05-14T00:00:00",
          "position": 614
         },
         {
          "action": "HOLD",
          "actual": 809.950012,
          "date": "2013-05-15T00:00:00",
          "position": 617
         },
         {
          "action": "HOLD",
          "actual": 808.950012,
          "date": "2013-05-16T00:00:00",
          "position": 617
         },
         {
          "action": "BUY",
          "actual": 810,
          "date": "2013-05-17T00:00:00",
          "position": 617
         },
         {
          "action": "HOLD",
          "actual": 814,
          "date": "2013-05-20T00:00:00",
          "position": 626
         },
         {
          "action": "HOLD",
          "actual": 821,
          "date": "2013-05-21T00:00:00",
          "position": 626
         },
         {
          "action": "HOLD",
          "actual": 821.950012,
          "date": "2013-05-22T00:00:00",
          "position": 621
         },
         {
          "action": "HOLD",
          "actual": 809,
          "date": "2013-05-23T00:00:00",
          "position": 620
         },
         {
          "action": "SELL",
          "actual": 811.049988,
          "date": "2013-05-24T00:00:00",
          "position": 625.5
         },
         {
          "action": "BUY",
          "actual": 820,
          "date": "2013-05-28T00:00:00",
          "position": 619.5
         },
         {
          "action": "HOLD",
          "actual": 821.900024,
          "date": "2013-05-29T00:00:00",
          "position": 611
         },
         {
          "action": "HOLD",
          "actual": 821.900024,
          "date": "2013-05-30T00:00:00",
          "position": 607.5
         },
         {
          "action": "HOLD",
          "actual": 824,
          "date": "2013-05-31T00:00:00",
          "position": 608
         },
         {
          "action": "HOLD",
          "actual": 819,
          "date": "2013-06-03T00:00:00",
          "position": 609.5
         },
         {
          "action": "HOLD",
          "actual": 820,
          "date": "2013-06-04T00:00:00",
          "position": 610
         },
         {
          "action": "SELL",
          "actual": 818.5,
          "date": "2013-06-05T00:00:00",
          "position": 618
         },
         {
          "action": "BUY",
          "actual": 816.400024,
          "date": "2013-06-06T00:00:00",
          "position": 618
         },
         {
          "action": "HOLD",
          "actual": 814,
          "date": "2013-06-07T00:00:00",
          "position": 620
         },
         {
          "action": "SELL",
          "actual": 805,
          "date": "2013-06-10T00:00:00",
          "position": 630
         },
         {
          "action": "HOLD",
          "actual": 806,
          "date": "2013-06-11T00:00:00",
          "position": 655
         },
         {
          "action": "HOLD",
          "actual": 799,
          "date": "2013-06-12T00:00:00",
          "position": 666
         },
         {
          "action": "HOLD",
          "actual": 799,
          "date": "2013-06-13T00:00:00",
          "position": 679
         },
         {
          "action": "BUY",
          "actual": 797,
          "date": "2013-06-14T00:00:00",
          "position": 670
         },
         {
          "action": "HOLD",
          "actual": 797,
          "date": "2013-06-17T00:00:00",
          "position": 670
         },
         {
          "action": "SELL",
          "actual": 791.599976,
          "date": "2013-06-18T00:00:00",
          "position": 650.5
         },
         {
          "action": "BUY",
          "actual": 792.099976,
          "date": "2013-06-19T00:00:00",
          "position": 669.5
         },
         {
          "action": "HOLD",
          "actual": 789,
          "date": "2013-06-20T00:00:00",
          "position": 667.5
         },
         {
          "action": "HOLD",
          "actual": 784.900024,
          "date": "2013-06-21T00:00:00",
          "position": 640.5
         },
         {
          "action": "HOLD",
          "actual": 775,
          "date": "2013-06-24T00:00:00",
          "position": 654.5
         },
         {
          "action": "HOLD",
          "actual": 780,
          "date": "2013-06-25T00:00:00",
          "position": 642
         },
         {
          "action": "HOLD",
          "actual": 779,
          "date": "2013-06-26T00:00:00",
          "position": 639.5
         },
         {
          "action": "SELL",
          "actual": 778.799988,
          "date": "2013-06-27T00:00:00",
          "position": 645
         },
         {
          "action": "BUY",
          "actual": 780,
          "date": "2013-06-28T00:00:00",
          "position": 649
         },
         {
          "action": "SELL",
          "actual": 777.099976,
          "date": "2013-07-01T00:00:00",
          "position": 649.5
         },
         {
          "action": "HOLD",
          "actual": 783.599976,
          "date": "2013-07-02T00:00:00",
          "position": 649.5
         },
         {
          "action": "HOLD",
          "actual": 792,
          "date": "2013-07-03T00:00:00",
          "position": 648.5
         },
         {
          "action": "BUY",
          "actual": 843,
          "date": "2013-07-05T00:00:00",
          "position": 648.5
         },
         {
          "action": "HOLD",
          "actual": 850,
          "date": "2013-07-08T00:00:00",
          "position": 640
         },
         {
          "action": "HOLD",
          "actual": 842.7999880000001,
          "date": "2013-07-09T00:00:00",
          "position": 656
         },
         {
          "action": "HOLD",
          "actual": 830,
          "date": "2013-07-10T00:00:00",
          "position": 660
         },
         {
          "action": "SELL",
          "actual": 875,
          "date": "2013-07-11T00:00:00",
          "position": 669
         },
         {
          "action": "HOLD",
          "actual": 861,
          "date": "2013-07-12T00:00:00",
          "position": 660
         },
         {
          "action": "HOLD",
          "actual": 860,
          "date": "2013-07-15T00:00:00",
          "position": 658.5
         },
         {
          "action": "HOLD",
          "actual": 870,
          "date": "2013-07-16T00:00:00",
          "position": 652
         },
         {
          "action": "HOLD",
          "actual": 900,
          "date": "2013-07-17T00:00:00",
          "position": 675
         },
         {
          "action": "BUY",
          "actual": 898,
          "date": "2013-07-18T00:00:00",
          "position": 661.5
         },
         {
          "action": "HOLD",
          "actual": 945,
          "date": "2013-07-19T00:00:00",
          "position": 670
         },
         {
          "action": "SELL",
          "actual": 945,
          "date": "2013-07-22T00:00:00",
          "position": 670
         },
         {
          "action": "BUY",
          "actual": 954,
          "date": "2013-07-23T00:00:00",
          "position": 678
         },
         {
          "action": "HOLD",
          "actual": 969,
          "date": "2013-07-24T00:00:00",
          "position": 685
         },
         {
          "action": "SELL",
          "actual": 963.2999880000001,
          "date": "2013-07-25T00:00:00",
          "position": 684
         },
         {
          "action": "HOLD",
          "actual": 967,
          "date": "2013-07-26T00:00:00",
          "position": 685
         },
         {
          "action": "HOLD",
          "actual": 963,
          "date": "2013-07-29T00:00:00",
          "position": 691
         },
         {
          "action": "HOLD",
          "actual": 972.849976,
          "date": "2013-07-30T00:00:00",
          "position": 694.5
         },
         {
          "action": "HOLD",
          "actual": 980,
          "date": "2013-07-31T00:00:00",
          "position": 688
         },
         {
          "action": "HOLD",
          "actual": 967,
          "date": "2013-08-01T00:00:00",
          "position": 685
         },
         {
          "action": "HOLD",
          "actual": 966.9500119999999,
          "date": "2013-08-02T00:00:00",
          "position": 696.5
         },
         {
          "action": "BUY",
          "actual": 968.4500119999999,
          "date": "2013-08-05T00:00:00",
          "position": 706.5
         },
         {
          "action": "HOLD",
          "actual": 962.5,
          "date": "2013-08-06T00:00:00",
          "position": 709
         },
         {
          "action": "HOLD",
          "actual": 974.9500119999999,
          "date": "2013-08-07T00:00:00",
          "position": 708
         },
         {
          "action": "SELL",
          "actual": 970,
          "date": "2013-08-08T00:00:00",
          "position": 713
         },
         {
          "action": "BUY",
          "actual": 975,
          "date": "2013-08-09T00:00:00",
          "position": 713
         },
         {
          "action": "HOLD",
          "actual": 980,
          "date": "2013-08-12T00:00:00",
          "position": 726.5
         },
         {
          "action": "HOLD",
          "actual": 1004.5,
          "date": "2013-08-13T00:00:00",
          "position": 719
         },
         {
          "action": "HOLD",
          "actual": 1020,
          "date": "2013-08-14T00:00:00",
          "position": 723
         },
         {
          "action": "HOLD",
          "actual": 1020,
          "date": "2013-08-15T00:00:00",
          "position": 722
         },
         {
          "action": "SELL",
          "actual": 986,
          "date": "2013-08-16T00:00:00",
          "position": 722
         },
         {
          "action": "BUY",
          "actual": 1020,
          "date": "2013-08-19T00:00:00",
          "position": 709
         },
         {
          "action": "HOLD",
          "actual": 1000,
          "date": "2013-08-20T00:00:00",
          "position": 720
         },
         {
          "action": "SELL",
          "actual": 993.7999880000001,
          "date": "2013-08-21T00:00:00",
          "position": 720
         },
         {
          "action": "BUY",
          "actual": 1016.900024,
          "date": "2013-08-22T00:00:00",
          "position": 734.5
         },
         {
          "action": "HOLD",
          "actual": 1020,
          "date": "2013-08-23T00:00:00",
          "position": 731
         },
         {
          "action": "HOLD",
          "actual": 1055,
          "date": "2013-08-26T00:00:00",
          "position": 715
         },
         {
          "action": "HOLD",
          "actual": 1033,
          "date": "2013-08-27T00:00:00",
          "position": 709.5
         },
         {
          "action": "HOLD",
          "actual": 1015,
          "date": "2013-08-28T00:00:00",
          "position": 709.5
         },
         {
          "action": "HOLD",
          "actual": 1016,
          "date": "2013-08-29T00:00:00",
          "position": 708.5
         },
         {
          "action": "HOLD",
          "actual": 999.900024,
          "date": "2013-08-30T00:00:00",
          "position": 712
         },
         {
          "action": "SELL",
          "actual": 1023.849976,
          "date": "2013-09-03T00:00:00",
          "position": 708.5
         },
         {
          "action": "HOLD",
          "actual": 1001.9500119999999,
          "date": "2013-09-04T00:00:00",
          "position": 710
         },
         {
          "action": "HOLD",
          "actual": 985,
          "date": "2013-09-05T00:00:00",
          "position": 710
         },
         {
          "action": "HOLD",
          "actual": 1000,
          "date": "2013-09-06T00:00:00",
          "position": 715
         },
         {
          "action": "BUY",
          "actual": 1032,
          "date": "2013-09-09T00:00:00",
          "position": 724
         },
         {
          "action": "HOLD",
          "actual": 1027.099976,
          "date": "2013-09-10T00:00:00",
          "position": 724
         },
         {
          "action": "HOLD",
          "actual": 1031,
          "date": "2013-09-11T00:00:00",
          "position": 724
         },
         {
          "action": "SELL",
          "actual": 1049.5,
          "date": "2013-09-12T00:00:00",
          "position": 726
         },
         {
          "action": "HOLD",
          "actual": 1055,
          "date": "2013-09-13T00:00:00",
          "position": 736
         },
         {
          "action": "HOLD",
          "actual": 1040,
          "date": "2013-09-16T00:00:00",
          "position": 739
         },
         {
          "action": "HOLD",
          "actual": 1042,
          "date": "2013-09-17T00:00:00",
          "position": 740
         },
         {
          "action": "HOLD",
          "actual": 1045,
          "date": "2013-09-18T00:00:00",
          "position": 754
         },
         {
          "action": "HOLD",
          "actual": 1051,
          "date": "2013-09-19T00:00:00",
          "position": 753
         },
         {
          "action": "HOLD",
          "actual": 1102,
          "date": "2013-09-20T00:00:00",
          "position": 768
         },
         {
          "action": "BUY",
          "actual": 1100,
          "date": "2013-09-23T00:00:00",
          "position": 757
         },
         {
          "action": "HOLD",
          "actual": 1050,
          "date": "2013-09-24T00:00:00",
          "position": 760
         },
         {
          "action": "SELL",
          "actual": 1040,
          "date": "2013-09-25T00:00:00",
          "position": 759.5
         },
         {
          "action": "HOLD",
          "actual": 1030,
          "date": "2013-09-26T00:00:00",
          "position": 755.5
         },
         {
          "action": "BUY",
          "actual": 1000,
          "date": "2013-09-27T00:00:00",
          "position": 753
         },
         {
          "action": "HOLD",
          "actual": 1019,
          "date": "2013-09-30T00:00:00",
          "position": 753
         },
         {
          "action": "SELL",
          "actual": 1027,
          "date": "2013-10-01T00:00:00",
          "position": 767.5
         },
         {
          "action": "HOLD",
          "actual": 1037,
          "date": "2013-10-02T00:00:00",
          "position": 767.5
         },
         {
          "action": "HOLD",
          "actual": 1035,
          "date": "2013-10-03T00:00:00",
          "position": 788
         },
         {
          "action": "HOLD",
          "actual": 1031.699951,
          "date": "2013-10-04T00:00:00",
          "position": 788
         },
         {
          "action": "BUY",
          "actual": 1040,
          "date": "2013-10-07T00:00:00",
          "position": 779
         },
         {
          "action": "HOLD",
          "actual": 1044,
          "date": "2013-10-08T00:00:00",
          "position": 798
         },
         {
          "action": "HOLD",
          "actual": 1046.900024,
          "date": "2013-10-09T00:00:00",
          "position": 794
         },
         {
          "action": "HOLD",
          "actual": 1055.300049,
          "date": "2013-10-10T00:00:00",
          "position": 794
         },
         {
          "action": "SELL",
          "actual": 1080,
          "date": "2013-10-11T00:00:00",
          "position": 794
         },
         {
          "action": "BUY",
          "actual": 1071.400024,
          "date": "2013-10-14T00:00:00",
          "position": 794
         },
         {
          "action": "HOLD",
          "actual": 1094.900024,
          "date": "2013-10-15T00:00:00",
          "position": 786
         },
         {
          "action": "HOLD",
          "actual": 1068.5,
          "date": "2013-10-16T00:00:00",
          "position": 798
         },
         {
          "action": "HOLD",
          "actual": 1095,
          "date": "2013-10-17T00:00:00",
          "position": 798
         },
         {
          "action": "HOLD",
          "actual": 1195,
          "date": "2013-10-18T00:00:00",
          "position": 796.5
         },
         {
          "action": "HOLD",
          "actual": 1163,
          "date": "2013-10-21T00:00:00",
          "position": 789.5
         },
         {
          "action": "SELL",
          "actual": 1160,
          "date": "2013-10-22T00:00:00",
          "position": 772
         },
         {
          "action": "HOLD",
          "actual": 1136,
          "date": "2013-10-23T00:00:00",
          "position": 768.5
         },
         {
          "action": "BUY",
          "actual": 1136,
          "date": "2013-10-24T00:00:00",
          "position": 768
         },
         {
          "action": "HOLD",
          "actual": 1170.699951,
          "date": "2013-10-25T00:00:00",
          "position": 762
         },
         {
          "action": "HOLD",
          "actual": 1174,
          "date": "2013-10-28T00:00:00",
          "position": 760
         },
         {
          "action": "HOLD",
          "actual": 1176,
          "date": "2013-10-29T00:00:00",
          "position": 768
         },
         {
          "action": "HOLD",
          "actual": 1184,
          "date": "2013-10-30T00:00:00",
          "position": 768
         },
         {
          "action": "SELL",
          "actual": 1187.099976,
          "date": "2013-10-31T00:00:00",
          "position": 754
         },
         {
          "action": "HOLD",
          "actual": 1187.099976,
          "date": "2013-11-01T00:00:00",
          "position": 763
         },
         {
          "action": "HOLD",
          "actual": 1215,
          "date": "2013-11-04T00:00:00",
          "position": 777
         },
         {
          "action": "BUY",
          "actual": 1180,
          "date": "2013-11-05T00:00:00",
          "position": 778
         },
         {
          "action": "HOLD",
          "actual": 1200,
          "date": "2013-11-06T00:00:00",
          "position": 780
         },
         {
          "action": "SELL",
          "actual": 1201.300049,
          "date": "2013-11-07T00:00:00",
          "position": 778.5
         },
         {
          "action": "HOLD",
          "actual": 1210,
          "date": "2013-11-08T00:00:00",
          "position": 800
         },
         {
          "action": "HOLD",
          "actual": 1210,
          "date": "2013-11-11T00:00:00",
          "position": 810
         },
         {
          "action": "HOLD",
          "actual": 1200,
          "date": "2013-11-12T00:00:00",
          "position": 812
         },
         {
          "action": "HOLD",
          "actual": 1199.5,
          "date": "2013-11-13T00:00:00",
          "position": 817
         },
         {
          "action": "HOLD",
          "actual": 1208,
          "date": "2013-11-14T00:00:00",
          "position": 816
         },
         {
          "action": "HOLD",
          "actual": 1222,
          "date": "2013-11-15T00:00:00",
          "position": 811
         },
         {
          "action": "BUY",
          "actual": 1255,
          "date": "2013-11-18T00:00:00",
          "position": 804
         },
         {
          "action": "SELL",
          "actual": 1277,
          "date": "2013-11-19T00:00:00",
          "position": 800
         },
         {
          "action": "HOLD",
          "actual": 1324,
          "date": "2013-11-20T00:00:00",
          "position": 800
         },
         {
          "action": "HOLD",
          "actual": 1375,
          "date": "2013-11-21T00:00:00",
          "position": 784
         },
         {
          "action": "HOLD",
          "actual": 1330,
          "date": "2013-11-22T00:00:00",
          "position": 784
         },
         {
          "action": "HOLD",
          "actual": 1290.050049,
          "date": "2013-11-25T00:00:00",
          "position": 784
         },
         {
          "action": "HOLD",
          "actual": 1308.949951,
          "date": "2013-11-26T00:00:00",
          "position": 798
         },
         {
          "action": "HOLD",
          "actual": 1289.949951,
          "date": "2013-11-27T00:00:00",
          "position": 807
         },
         {
          "action": "HOLD",
          "actual": 1320.5,
          "date": "2013-11-29T00:00:00",
          "position": 800
         },
         {
          "action": "HOLD",
          "actual": 1320,
          "date": "2013-12-02T00:00:00",
          "position": 803
         },
         {
          "action": "HOLD",
          "actual": 1307.900024,
          "date": "2013-12-03T00:00:00",
          "position": 807
         },
         {
          "action": "HOLD",
          "actual": 1285,
          "date": "2013-12-04T00:00:00",
          "position": 795
         },
         {
          "action": "HOLD",
          "actual": 1270,
          "date": "2013-12-05T00:00:00",
          "position": 785
         },
         {
          "action": "HOLD",
          "actual": 1270,
          "date": "2013-12-06T00:00:00",
          "position": 800
         },
         {
          "action": "HOLD",
          "actual": 1272,
          "date": "2013-12-09T00:00:00",
          "position": 798
         },
         {
          "action": "HOLD",
          "actual": 1265,
          "date": "2013-12-10T00:00:00",
          "position": 806
         },
         {
          "action": "HOLD",
          "actual": 1271.449951,
          "date": "2013-12-11T00:00:00",
          "position": 805
         },
         {
          "action": "BUY",
          "actual": 1250,
          "date": "2013-12-12T00:00:00",
          "position": 796.5
         },
         {
          "action": "HOLD",
          "actual": 1248.599976,
          "date": "2013-12-13T00:00:00",
          "position": 806.5
         },
         {
          "action": "SELL",
          "actual": 1269.5,
          "date": "2013-12-16T00:00:00",
          "position": 806
         },
         {
          "action": "HOLD",
          "actual": 1222,
          "date": "2013-12-17T00:00:00",
          "position": 804
         },
         {
          "action": "HOLD",
          "actual": 1250,
          "date": "2013-12-18T00:00:00",
          "position": 806
         },
         {
          "action": "BUY",
          "actual": 1264,
          "date": "2013-12-19T00:00:00",
          "position": 815
         },
         {
          "action": "HOLD",
          "actual": 1263,
          "date": "2013-12-20T00:00:00",
          "position": 825
         },
         {
          "action": "HOLD",
          "actual": 1250,
          "date": "2013-12-23T00:00:00",
          "position": 840
         },
         {
          "action": "HOLD",
          "actual": 1250,
          "date": "2013-12-24T00:00:00",
          "position": 845
         },
         {
          "action": "HOLD",
          "actual": 1250,
          "date": "2013-12-26T00:00:00",
          "position": 840
         },
         {
          "action": "SELL",
          "actual": 1240,
          "date": "2013-12-27T00:00:00",
          "position": 835
         },
         {
          "action": "HOLD",
          "actual": 1240,
          "date": "2013-12-30T00:00:00",
          "position": 825
         },
         {
          "action": "HOLD",
          "actual": 1240,
          "date": "2013-12-31T00:00:00",
          "position": 802
         },
         {
          "action": "HOLD",
          "actual": 1225.199951,
          "date": "2014-01-02T00:00:00",
          "position": 807
         },
         {
          "action": "HOLD",
          "actual": 1250,
          "date": "2014-01-03T00:00:00",
          "position": 800
         },
         {
          "action": "BUY",
          "actual": 1250,
          "date": "2014-01-06T00:00:00",
          "position": 800
         },
         {
          "action": "HOLD",
          "actual": 1220,
          "date": "2014-01-07T00:00:00",
          "position": 790.5
         },
         {
          "action": "HOLD",
          "actual": 1177,
          "date": "2014-01-08T00:00:00",
          "position": 780.5
         },
         {
          "action": "HOLD",
          "actual": 1150.050049,
          "date": "2014-01-09T00:00:00",
          "position": 760
         },
         {
          "action": "HOLD",
          "actual": 1121.5,
          "date": "2014-01-10T00:00:00",
          "position": 770
         },
         {
          "action": "HOLD",
          "actual": 1231.800049,
          "date": "2014-01-13T00:00:00",
          "position": 770.5
         },
         {
          "action": "SELL",
          "actual": 1230,
          "date": "2014-01-14T00:00:00",
          "position": 795
         },
         {
          "action": "BUY",
          "actual": 1200.099976,
          "date": "2014-01-15T00:00:00",
          "position": 795
         },
         {
          "action": "SELL",
          "actual": 1224.800049,
          "date": "2014-01-16T00:00:00",
          "position": 800
         },
         {
          "action": "HOLD",
          "actual": 1215,
          "date": "2014-01-17T00:00:00",
          "position": 790
         },
         {
          "action": "HOLD",
          "actual": 1235.699951,
          "date": "2014-01-21T00:00:00",
          "position": 790
         },
         {
          "action": "HOLD",
          "actual": 1240,
          "date": "2014-01-22T00:00:00",
          "position": 787.5
         },
         {
          "action": "HOLD",
          "actual": 1252,
          "date": "2014-01-23T00:00:00",
          "position": 799
         },
         {
          "action": "HOLD",
          "actual": 1235,
          "date": "2014-01-24T00:00:00",
          "position": 805
         },
         {
          "action": "BUY",
          "actual": 1245,
          "date": "2014-01-27T00:00:00",
          "position": 807.5
         },
         {
          "action": "SELL",
          "actual": 1245,
          "date": "2014-01-28T00:00:00",
          "position": 811.5
         },
         {
          "action": "HOLD",
          "actual": 1258.949951,
          "date": "2014-01-29T00:00:00",
          "position": 815
         },
         {
          "action": "HOLD",
          "actual": 1254.650024,
          "date": "2014-01-30T00:00:00",
          "position": 804
         },
         {
          "action": "HOLD",
          "actual": 1279.949951,
          "date": "2014-01-31T00:00:00",
          "position": 804
         },
         {
          "action": "HOLD",
          "actual": 1320,
          "date": "2014-02-03T00:00:00",
          "position": 819.799988
         },
         {
          "action": "HOLD",
          "actual": 1281,
          "date": "2014-02-04T00:00:00",
          "position": 805
         },
         {
          "action": "HOLD",
          "actual": 1246,
          "date": "2014-02-05T00:00:00",
          "position": 799
         },
         {
          "action": "BUY",
          "actual": 1269,
          "date": "2014-02-06T00:00:00",
          "position": 800
         },
         {
          "action": "HOLD",
          "actual": 1255,
          "date": "2014-02-07T00:00:00",
          "position": 800
         },
         {
          "action": "HOLD",
          "actual": 1308.949951,
          "date": "2014-02-10T00:00:00",
          "position": 801
         },
         {
          "action": "HOLD",
          "actual": 1336,
          "date": "2014-02-11T00:00:00",
          "position": 795
         },
         {
          "action": "SELL",
          "actual": 1335,
          "date": "2014-02-12T00:00:00",
          "position": 802
         },
         {
          "action": "HOLD",
          "actual": 1340,
          "date": "2014-02-13T00:00:00",
          "position": 801
         },
         {
          "action": "HOLD",
          "actual": 1344.599976,
          "date": "2014-02-14T00:00:00",
          "position": 813
         },
         {
          "action": "HOLD",
          "actual": 1384.050049,
          "date": "2014-02-18T00:00:00",
          "position": 801
         },
         {
          "action": "HOLD",
          "actual": 1418,
          "date": "2014-02-19T00:00:00",
          "position": 813
         },
         {
          "action": "HOLD",
          "actual": 1418.5,
          "date": "2014-02-20T00:00:00",
          "position": 813
         },
         {
          "action": "HOLD",
          "actual": 1436.949951,
          "date": "2014-02-21T00:00:00",
          "position": 811.849976
         },
         {
          "action": "HOLD",
          "actual": 1449,
          "date": "2014-02-24T00:00:00",
          "position": 811.849976
         },
         {
          "action": "HOLD",
          "actual": 1459,
          "date": "2014-02-25T00:00:00",
          "position": 810
         },
         {
          "action": "HOLD",
          "actual": 1362,
          "date": "2014-02-26T00:00:00",
          "position": 800.299988
         },
         {
          "action": "HOLD",
          "actual": 1374,
          "date": "2014-02-27T00:00:00",
          "position": 810
         },
         {
          "action": "HOLD",
          "actual": 1392.199951,
          "date": "2014-02-28T00:00:00",
          "position": 808
         },
         {
          "action": "HOLD",
          "actual": 1345.5,
          "date": "2014-03-03T00:00:00",
          "position": 807.950012
         },
         {
          "action": "BUY",
          "actual": 1374,
          "date": "2014-03-04T00:00:00",
          "position": 809.950012
         },
         {
          "action": "HOLD",
          "actual": 1359.050049,
          "date": "2014-03-05T00:00:00",
          "position": 808.950012
         },
         {
          "action": "HOLD",
          "actual": 1376,
          "date": "2014-03-06T00:00:00",
          "position": 810
         },
         {
          "action": "HOLD",
          "actual": 1390,
          "date": "2014-03-07T00:00:00",
          "position": 814
         },
         {
          "action": "HOLD",
          "actual": 1385,
          "date": "2014-03-10T00:00:00",
          "position": 821
         },
         {
          "action": "HOLD",
          "actual": 1381,
          "date": "2014-03-11T00:00:00",
          "position": 821.950012
         },
         {
          "action": "HOLD",
          "actual": 1360,
          "date": "2014-03-12T00:00:00",
          "position": 809
         },
         {
          "action": "HOLD",
          "actual": 1337.050049,
          "date": "2014-03-13T00:00:00",
          "position": 811.049988
         },
         {
          "action": "HOLD",
          "actual": 1310,
          "date": "2014-03-14T00:00:00",
          "position": 820
         },
         {
          "action": "HOLD",
          "actual": 1378,
          "date": "2014-03-17T00:00:00",
          "position": 821.900024
         },
         {
          "action": "HOLD",
          "actual": 1375,
          "date": "2014-03-18T00:00:00",
          "position": 821.900024
         },
         {
          "action": "HOLD",
          "actual": 1350,
          "date": "2014-03-19T00:00:00",
          "position": 824
         },
         {
          "action": "HOLD",
          "actual": 1350,
          "date": "2014-03-20T00:00:00",
          "position": 819
         },
         {
          "action": "SELL",
          "actual": 1349.949951,
          "date": "2014-03-21T00:00:00",
          "position": 820
         },
         {
          "action": "HOLD",
          "actual": 1350,
          "date": "2014-03-24T00:00:00",
          "position": 818.5
         },
         {
          "action": "HOLD",
          "actual": 1343.5,
          "date": "2014-03-25T00:00:00",
          "position": 816.400024
         },
         {
          "action": "BUY",
          "actual": 1342.5,
          "date": "2014-03-26T00:00:00",
          "position": 814
         },
         {
          "action": "HOLD",
          "actual": 1339,
          "date": "2014-03-27T00:00:00",
          "position": 805
         },
         {
          "action": "HOLD",
          "actual": 1300,
          "date": "2014-03-28T00:00:00",
          "position": 806
         },
         {
          "action": "HOLD",
          "actual": 1365,
          "date": "2014-03-31T00:00:00",
          "position": 799
         },
         {
          "action": "HOLD",
          "actual": 1359.949951,
          "date": "2014-04-01T00:00:00",
          "position": 799
         },
         {
          "action": "HOLD",
          "actual": 1360,
          "date": "2014-04-02T00:00:00",
          "position": 797
         },
         {
          "action": "HOLD",
          "actual": 1358,
          "date": "2014-04-03T00:00:00",
          "position": 797
         },
         {
          "action": "HOLD",
          "actual": 1365,
          "date": "2014-04-04T00:00:00",
          "position": 791.599976
         },
         {
          "action": "HOLD",
          "actual": 1362.949951,
          "date": "2014-04-07T00:00:00",
          "position": 792.099976
         },
         {
          "action": "SELL",
          "actual": 1345,
          "date": "2014-04-08T00:00:00",
          "position": 789
         },
         {
          "action": "BUY",
          "actual": 1351,
          "date": "2014-04-09T00:00:00",
          "position": 784.900024
         },
         {
          "action": "HOLD",
          "actual": 1349.150024,
          "date": "2014-04-10T00:00:00",
          "position": 775
         },
         {
          "action": "SELL",
          "actual": 1345,
          "date": "2014-04-11T00:00:00",
          "position": 780
         },
         {
          "action": "HOLD",
          "actual": 1284,
          "date": "2014-04-14T00:00:00",
          "position": 779
         },
         {
          "action": "HOLD",
          "actual": 1284,
          "date": "2014-04-15T00:00:00",
          "position": 778.799988
         },
         {
          "action": "HOLD",
          "actual": 1200,
          "date": "2014-04-16T00:00:00",
          "position": 780
         },
         {
          "action": "BUY",
          "actual": 1250,
          "date": "2014-04-17T00:00:00",
          "position": 777.099976
         },
         {
          "action": "HOLD",
          "actual": 1250,
          "date": "2014-04-21T00:00:00",
          "position": 783.599976
         },
         {
          "action": "HOLD",
          "actual": 1226,
          "date": "2014-04-22T00:00:00",
          "position": 792
         },
         {
          "action": "HOLD",
          "actual": 1185.949951,
          "date": "2014-04-23T00:00:00",
          "position": 843
         },
         {
          "action": "HOLD",
          "actual": 1197.5,
          "date": "2014-04-24T00:00:00",
          "position": 850
         },
         {
          "action": "SELL",
          "actual": 1216,
          "date": "2014-04-25T00:00:00",
          "position": 842.7999880000001
         },
         {
          "action": "HOLD",
          "actual": 1248,
          "date": "2014-04-28T00:00:00",
          "position": 830
         },
         {
          "action": "HOLD",
          "actual": 1283,
          "date": "2014-04-29T00:00:00",
          "position": 875
         },
         {
          "action": "BUY",
          "actual": 1299,
          "date": "2014-04-30T00:00:00",
          "position": 861
         },
         {
          "action": "HOLD",
          "actual": 1299,
          "date": "2014-05-01T00:00:00",
          "position": 860
         },
         {
          "action": "SELL",
          "actual": 1309.449951,
          "date": "2014-05-02T00:00:00",
          "position": 870
         },
         {
          "action": "HOLD",
          "actual": 1290,
          "date": "2014-05-05T00:00:00",
          "position": 900
         },
         {
          "action": "HOLD",
          "actual": 1250,
          "date": "2014-05-06T00:00:00",
          "position": 898
         },
         {
          "action": "HOLD",
          "actual": 1229.949951,
          "date": "2014-05-07T00:00:00",
          "position": 945
         },
         {
          "action": "HOLD",
          "actual": 1235,
          "date": "2014-05-08T00:00:00",
          "position": 945
         },
         {
          "action": "HOLD",
          "actual": 1140,
          "date": "2014-05-09T00:00:00",
          "position": 954
         },
         {
          "action": "HOLD",
          "actual": 1108,
          "date": "2014-05-12T00:00:00",
          "position": 969
         },
         {
          "action": "HOLD",
          "actual": 1114,
          "date": "2014-05-13T00:00:00",
          "position": 963.2999880000001
         },
         {
          "action": "HOLD",
          "actual": 1143,
          "date": "2014-05-14T00:00:00",
          "position": 967
         },
         {
          "action": "HOLD",
          "actual": 1145,
          "date": "2014-05-15T00:00:00",
          "position": 963
         },
         {
          "action": "HOLD",
          "actual": 1100,
          "date": "2014-05-16T00:00:00",
          "position": 972.849976
         },
         {
          "action": "HOLD",
          "actual": 1116,
          "date": "2014-05-19T00:00:00",
          "position": 980
         },
         {
          "action": "BUY",
          "actual": 1130,
          "date": "2014-05-20T00:00:00",
          "position": 967
         },
         {
          "action": "SELL",
          "actual": 1139,
          "date": "2014-05-21T00:00:00",
          "position": 966.9500119999999
         },
         {
          "action": "BUY",
          "actual": 1198.949951,
          "date": "2014-05-22T00:00:00",
          "position": 968.4500119999999
         },
         {
          "action": "HOLD",
          "actual": 1188,
          "date": "2014-05-23T00:00:00",
          "position": 962.5
         },
         {
          "action": "SELL",
          "actual": 1182.050049,
          "date": "2014-05-27T00:00:00",
          "position": 974.9500119999999
         },
         {
          "action": "HOLD",
          "actual": 1198,
          "date": "2014-05-28T00:00:00",
          "position": 970
         },
         {
          "action": "HOLD",
          "actual": 1189.5,
          "date": "2014-05-29T00:00:00",
          "position": 975
         },
         {
          "action": "BUY",
          "actual": 1180,
          "date": "2014-05-30T00:00:00",
          "position": 980
         },
         {
          "action": "HOLD",
          "actual": 1180,
          "date": "2014-06-02T00:00:00",
          "position": 1004.5
         },
         {
          "action": "SELL",
          "actual": 1184.900024,
          "date": "2014-06-03T00:00:00",
          "position": 1020
         },
         {
          "action": "HOLD",
          "actual": 1172,
          "date": "2014-06-04T00:00:00",
          "position": 1020
         },
         {
          "action": "HOLD",
          "actual": 1135,
          "date": "2014-06-05T00:00:00",
          "position": 986
         },
         {
          "action": "HOLD",
          "actual": 1094.849976,
          "date": "2014-06-06T00:00:00",
          "position": 1020
         },
         {
          "action": "HOLD",
          "actual": 1070,
          "date": "2014-06-09T00:00:00",
          "position": 1000
         },
         {
          "action": "BUY",
          "actual": 1099.449951,
          "date": "2014-06-10T00:00:00",
          "position": 993.7999880000001
         },
         {
          "action": "HOLD",
          "actual": 1095,
          "date": "2014-06-11T00:00:00",
          "position": 1016.900024
         },
         {
          "action": "HOLD",
          "actual": 1055,
          "date": "2014-06-12T00:00:00",
          "position": 1020
         },
         {
          "action": "SELL",
          "actual": 1050,
          "date": "2014-06-13T00:00:00",
          "position": 1055
         },
         {
          "action": "HOLD",
          "actual": 1018,
          "date": "2014-06-16T00:00:00",
          "position": 1033
         },
         {
          "action": "HOLD",
          "actual": 997,
          "date": "2014-06-17T00:00:00",
          "position": 1015
         },
         {
          "action": "HOLD",
          "actual": 1014.7000119999999,
          "date": "2014-06-18T00:00:00",
          "position": 1016
         },
         {
          "action": "HOLD",
          "actual": 1014.7000119999999,
          "date": "2014-06-19T00:00:00",
          "position": 999.900024
         },
         {
          "action": "HOLD",
          "actual": 1058,
          "date": "2014-06-20T00:00:00",
          "position": 1023.849976
         },
         {
          "action": "HOLD",
          "actual": 1058.5,
          "date": "2014-06-23T00:00:00",
          "position": 1001.9500119999999
         },
         {
          "action": "HOLD",
          "actual": 1053,
          "date": "2014-06-24T00:00:00",
          "position": 985
         },
         {
          "action": "HOLD",
          "actual": 1011.099976,
          "date": "2014-06-25T00:00:00",
          "position": 1000
         },
         {
          "action": "HOLD",
          "actual": 1029.25,
          "date": "2014-06-26T00:00:00",
          "position": 1032
         },
         {
          "action": "BUY",
          "actual": 1041,
          "date": "2014-06-27T00:00:00",
          "position": 1027.099976
         },
         {
          "action": "HOLD",
          "actual": 1005,
          "date": "2014-06-30T00:00:00",
          "position": 1031
         },
         {
          "action": "HOLD",
          "actual": 999,
          "date": "2014-07-01T00:00:00",
          "position": 1049.5
         },
         {
          "action": "HOLD",
          "actual": 976,
          "date": "2014-07-02T00:00:00",
          "position": 1055
         },
         {
          "action": "HOLD",
          "actual": 951,
          "date": "2014-07-03T00:00:00",
          "position": 1040
         },
         {
          "action": "HOLD",
          "actual": 944,
          "date": "2014-07-07T00:00:00",
          "position": 1042
         },
         {
          "action": "HOLD",
          "actual": 921,
          "date": "2014-07-08T00:00:00",
          "position": 1045
         },
         {
          "action": "HOLD",
          "actual": 937.400024,
          "date": "2014-07-09T00:00:00",
          "position": 1051
         },
         {
          "action": "HOLD",
          "actual": 931,
          "date": "2014-07-10T00:00:00",
          "position": 1102
         },
         {
          "action": "HOLD",
          "actual": 958,
          "date": "2014-07-11T00:00:00",
          "position": 1100
         },
         {
          "action": "HOLD",
          "actual": 950,
          "date": "2014-07-14T00:00:00",
          "position": 1050
         },
         {
          "action": "SELL",
          "actual": 950,
          "date": "2014-07-15T00:00:00",
          "position": 1040
         },
         {
          "action": "HOLD",
          "actual": 950.150024,
          "date": "2014-07-16T00:00:00",
          "position": 1030
         },
         {
          "action": "HOLD",
          "actual": 950,
          "date": "2014-07-17T00:00:00",
          "position": 1000
         },
         {
          "action": "BUY",
          "actual": 959,
          "date": "2014-07-18T00:00:00",
          "position": 1019
         },
         {
          "action": "HOLD",
          "actual": 950,
          "date": "2014-07-21T00:00:00",
          "position": 1027
         },
         {
          "action": "SELL",
          "actual": 950.900024,
          "date": "2014-07-22T00:00:00",
          "position": 1037
         },
         {
          "action": "BUY",
          "actual": 964.9500119999999,
          "date": "2014-07-23T00:00:00",
          "position": 1035
         },
         {
          "action": "SELL",
          "actual": 969.900024,
          "date": "2014-07-24T00:00:00",
          "position": 1031.699951
         },
         {
          "action": "HOLD",
          "actual": 951.0499880000001,
          "date": "2014-07-25T00:00:00",
          "position": 1040
         },
         {
          "action": "BUY",
          "actual": 968.4500119999999,
          "date": "2014-07-28T00:00:00",
          "position": 1044
         },
         {
          "action": "HOLD",
          "actual": 951.5499880000001,
          "date": "2014-07-29T00:00:00",
          "position": 1046.900024
         },
         {
          "action": "HOLD",
          "actual": 950,
          "date": "2014-07-30T00:00:00",
          "position": 1055.300049
         },
         {
          "action": "HOLD",
          "actual": 951,
          "date": "2014-07-31T00:00:00",
          "position": 1080
         },
         {
          "action": "HOLD",
          "actual": 950,
          "date": "2014-08-01T00:00:00",
          "position": 1071.400024
         },
         {
          "action": "HOLD",
          "actual": 949,
          "date": "2014-08-04T00:00:00",
          "position": 1094.900024
         },
         {
          "action": "HOLD",
          "actual": 923,
          "date": "2014-08-05T00:00:00",
          "position": 1068.5
         },
         {
          "action": "HOLD",
          "actual": 936,
          "date": "2014-08-06T00:00:00",
          "position": 1095
         },
         {
          "action": "SELL",
          "actual": 940,
          "date": "2014-08-07T00:00:00",
          "position": 1195
         },
         {
          "action": "HOLD",
          "actual": 938,
          "date": "2014-08-08T00:00:00",
          "position": 1163
         },
         {
          "action": "HOLD",
          "actual": 966,
          "date": "2014-08-11T00:00:00",
          "position": 1160
         },
         {
          "action": "BUY",
          "actual": 965.75,
          "date": "2014-08-12T00:00:00",
          "position": 1136
         },
         {
          "action": "SELL",
          "actual": 957,
          "date": "2014-08-13T00:00:00",
          "position": 1136
         },
         {
          "action": "HOLD",
          "actual": 956.9500119999999,
          "date": "2014-08-14T00:00:00",
          "position": 1170.699951
         },
         {
          "action": "BUY",
          "actual": 956.9500119999999,
          "date": "2014-08-15T00:00:00",
          "position": 1174
         },
         {
          "action": "SELL",
          "actual": 932,
          "date": "2014-08-18T00:00:00",
          "position": 1176
         },
         {
          "action": "BUY",
          "actual": 927,
          "date": "2014-08-19T00:00:00",
          "position": 1184
         },
         {
          "action": "HOLD",
          "actual": 930,
          "date": "2014-08-20T00:00:00",
          "position": 1187.099976
         },
         {
          "action": "HOLD",
          "actual": 933.0499880000001,
          "date": "2014-08-21T00:00:00",
          "position": 1187.099976
         },
         {
          "action": "SELL",
          "actual": 925,
          "date": "2014-08-22T00:00:00",
          "position": 1215
         },
         {
          "action": "BUY",
          "actual": 945,
          "date": "2014-08-25T00:00:00",
          "position": 1180
         },
         {
          "action": "HOLD",
          "actual": 955.5,
          "date": "2014-08-26T00:00:00",
          "position": 1200
         },
         {
          "action": "SELL",
          "actual": 954,
          "date": "2014-08-27T00:00:00",
          "position": 1201.300049
         },
         {
          "action": "HOLD",
          "actual": 944,
          "date": "2014-08-28T00:00:00",
          "position": 1210
         },
         {
          "action": "HOLD",
          "actual": 989.9500119999999,
          "date": "2014-08-29T00:00:00",
          "position": 1210
         },
         {
          "action": "HOLD",
          "actual": 971,
          "date": "2014-09-02T00:00:00",
          "position": 1200
         },
         {
          "action": "BUY",
          "actual": 960,
          "date": "2014-09-03T00:00:00",
          "position": 1199.5
         },
         {
          "action": "HOLD",
          "actual": 998.400024,
          "date": "2014-09-04T00:00:00",
          "position": 1208
         },
         {
          "action": "HOLD",
          "actual": 1015,
          "date": "2014-09-05T00:00:00",
          "position": 1222
         },
         {
          "action": "HOLD",
          "actual": 1011,
          "date": "2014-09-08T00:00:00",
          "position": 1255
         },
         {
          "action": "HOLD",
          "actual": 1006.099976,
          "date": "2014-09-09T00:00:00",
          "position": 1277
         },
         {
          "action": "HOLD",
          "actual": 1000,
          "date": "2014-09-10T00:00:00",
          "position": 1324
         },
         {
          "action": "HOLD",
          "actual": 1001.2000119999999,
          "date": "2014-09-11T00:00:00",
          "position": 1375
         },
         {
          "action": "HOLD",
          "actual": 1010.0499880000001,
          "date": "2014-09-12T00:00:00",
          "position": 1330
         },
         {
          "action": "HOLD",
          "actual": 1014,
          "date": "2014-09-15T00:00:00",
          "position": 1290.050049
         },
         {
          "action": "HOLD",
          "actual": 1008,
          "date": "2014-09-16T00:00:00",
          "position": 1308.949951
         },
         {
          "action": "SELL",
          "actual": 1016.7999880000001,
          "date": "2014-09-17T00:00:00",
          "position": 1289.949951
         },
         {
          "action": "HOLD",
          "actual": 1015.900024,
          "date": "2014-09-18T00:00:00",
          "position": 1320.5
         },
         {
          "action": "HOLD",
          "actual": 997,
          "date": "2014-09-19T00:00:00",
          "position": 1320
         },
         {
          "action": "HOLD",
          "actual": 1013.9500119999999,
          "date": "2014-09-22T00:00:00",
          "position": 1307.900024
         },
         {
          "action": "HOLD",
          "actual": 1008,
          "date": "2014-09-23T00:00:00",
          "position": 1285
         },
         {
          "action": "HOLD",
          "actual": 952,
          "date": "2014-09-24T00:00:00",
          "position": 1270
         },
         {
          "action": "HOLD",
          "actual": 970,
          "date": "2014-09-25T00:00:00",
          "position": 1270
         },
         {
          "action": "HOLD",
          "actual": 985,
          "date": "2014-09-26T00:00:00",
          "position": 1272
         },
         {
          "action": "HOLD",
          "actual": 998.400024,
          "date": "2014-09-29T00:00:00",
          "position": 1265
         },
         {
          "action": "HOLD",
          "actual": 998,
          "date": "2014-09-30T00:00:00",
          "position": 1271.449951
         },
         {
          "action": "BUY",
          "actual": 989.5,
          "date": "2014-10-01T00:00:00",
          "position": 1250
         },
         {
          "action": "HOLD",
          "actual": 979.400024,
          "date": "2014-10-02T00:00:00",
          "position": 1248.599976
         },
         {
          "action": "HOLD",
          "actual": 970,
          "date": "2014-10-03T00:00:00",
          "position": 1269.5
         },
         {
          "action": "HOLD",
          "actual": 978.9500119999999,
          "date": "2014-10-06T00:00:00",
          "position": 1222
         },
         {
          "action": "HOLD",
          "actual": 970,
          "date": "2014-10-07T00:00:00",
          "position": 1250
         },
         {
          "action": "HOLD",
          "actual": 965,
          "date": "2014-10-08T00:00:00",
          "position": 1264
         },
         {
          "action": "HOLD",
          "actual": 966,
          "date": "2014-10-09T00:00:00",
          "position": 1263
         },
         {
          "action": "HOLD",
          "actual": 950,
          "date": "2014-10-10T00:00:00",
          "position": 1250
         },
         {
          "action": "HOLD",
          "actual": 940,
          "date": "2014-10-13T00:00:00",
          "position": 1250
         },
         {
          "action": "HOLD",
          "actual": 940,
          "date": "2014-10-14T00:00:00",
          "position": 1250
         },
         {
          "action": "HOLD",
          "actual": 930,
          "date": "2014-10-15T00:00:00",
          "position": 1240
         },
         {
          "action": "SELL",
          "actual": 914.599976,
          "date": "2014-10-16T00:00:00",
          "position": 1240
         },
         {
          "action": "BUY",
          "actual": 919.9500119999999,
          "date": "2014-10-17T00:00:00",
          "position": 1240
         },
         {
          "action": "SELL",
          "actual": 920,
          "date": "2014-10-20T00:00:00",
          "position": 1225.199951
         },
         {
          "action": "HOLD",
          "actual": 930,
          "date": "2014-10-21T00:00:00",
          "position": 1250
         },
         {
          "action": "HOLD",
          "actual": 929.900024,
          "date": "2014-10-22T00:00:00",
          "position": 1250
         },
         {
          "action": "HOLD",
          "actual": 919.0499880000001,
          "date": "2014-10-23T00:00:00",
          "position": 1220
         },
         {
          "action": "HOLD",
          "actual": 920.599976,
          "date": "2014-10-24T00:00:00",
          "position": 1177
         },
         {
          "action": "HOLD",
          "actual": 920,
          "date": "2014-10-27T00:00:00",
          "position": 1150.050049
         },
         {
          "action": "HOLD",
          "actual": 920,
          "date": "2014-10-28T00:00:00",
          "position": 1121.5
         },
         {
          "action": "HOLD",
          "actual": 930,
          "date": "2014-10-29T00:00:00",
          "position": 1231.800049
         },
         {
          "action": "HOLD",
          "actual": 923,
          "date": "2014-10-30T00:00:00",
          "position": 1230
         },
         {
          "action": "HOLD",
          "actual": 921,
          "date": "2014-10-31T00:00:00",
          "position": 1200.099976
         },
         {
          "action": "HOLD",
          "actual": 934,
          "date": "2014-11-03T00:00:00",
          "position": 1224.800049
         },
         {
          "action": "HOLD",
          "actual": 940,
          "date": "2014-11-04T00:00:00",
          "position": 1215
         },
         {
          "action": "HOLD",
          "actual": 941,
          "date": "2014-11-05T00:00:00",
          "position": 1235.699951
         },
         {
          "action": "HOLD",
          "actual": 955.7999880000001,
          "date": "2014-11-06T00:00:00",
          "position": 1240
         },
         {
          "action": "HOLD",
          "actual": 975.5499880000001,
          "date": "2014-11-07T00:00:00",
          "position": 1252
         },
         {
          "action": "HOLD",
          "actual": 950,
          "date": "2014-11-10T00:00:00",
          "position": 1235
         },
         {
          "action": "HOLD",
          "actual": 950,
          "date": "2014-11-11T00:00:00",
          "position": 1245
         },
         {
          "action": "HOLD",
          "actual": 950,
          "date": "2014-11-12T00:00:00",
          "position": 1245
         },
         {
          "action": "BUY",
          "actual": 941.2999880000001,
          "date": "2014-11-13T00:00:00",
          "position": 1258.949951
         },
         {
          "action": "HOLD",
          "actual": 942.849976,
          "date": "2014-11-14T00:00:00",
          "position": 1254.650024
         },
         {
          "action": "HOLD",
          "actual": 942.4500119999999,
          "date": "2014-11-17T00:00:00",
          "position": 1279.949951
         },
         {
          "action": "HOLD",
          "actual": 950,
          "date": "2014-11-18T00:00:00",
          "position": 1320
         },
         {
          "action": "HOLD",
          "actual": 944.099976,
          "date": "2014-11-19T00:00:00",
          "position": 1281
         },
         {
          "action": "HOLD",
          "actual": 969,
          "date": "2014-11-20T00:00:00",
          "position": 1246
         },
         {
          "action": "HOLD",
          "actual": 986,
          "date": "2014-11-21T00:00:00",
          "position": 1269
         },
         {
          "action": "HOLD",
          "actual": 1000,
          "date": "2014-11-24T00:00:00",
          "position": 1255
         },
         {
          "action": "HOLD",
          "actual": 986.25,
          "date": "2014-11-25T00:00:00",
          "position": 1308.949951
         },
         {
          "action": "HOLD",
          "actual": 1004,
          "date": "2014-11-26T00:00:00",
          "position": 1336
         },
         {
          "action": "HOLD",
          "actual": 998.5,
          "date": "2014-11-28T00:00:00",
          "position": 1335
         },
         {
          "action": "HOLD",
          "actual": 996,
          "date": "2014-12-01T00:00:00",
          "position": 1340
         },
         {
          "action": "HOLD",
          "actual": 990,
          "date": "2014-12-02T00:00:00",
          "position": 1344.599976
         },
         {
          "action": "HOLD",
          "actual": 986,
          "date": "2014-12-03T00:00:00",
          "position": 1384.050049
         },
         {
          "action": "SELL",
          "actual": 986,
          "date": "2014-12-04T00:00:00",
          "position": 1418
         },
         {
          "action": "HOLD",
          "actual": 1000,
          "date": "2014-12-05T00:00:00",
          "position": 1418.5
         },
         {
          "action": "HOLD",
          "actual": 985,
          "date": "2014-12-08T00:00:00",
          "position": 1436.949951
         },
         {
          "action": "HOLD",
          "actual": 966,
          "date": "2014-12-09T00:00:00",
          "position": 1449
         },
         {
          "action": "HOLD",
          "actual": 957,
          "date": "2014-12-10T00:00:00",
          "position": 1459
         },
         {
          "action": "BUY",
          "actual": 957,
          "date": "2014-12-11T00:00:00",
          "position": 1362
         },
         {
          "action": "SELL",
          "actual": 960,
          "date": "2014-12-12T00:00:00",
          "position": 1374
         },
         {
          "action": "HOLD",
          "actual": 979.5,
          "date": "2014-12-15T00:00:00",
          "position": 1392.199951
         },
         {
          "action": "HOLD",
          "actual": 945,
          "date": "2014-12-16T00:00:00",
          "position": 1345.5
         },
         {
          "action": "HOLD",
          "actual": 975,
          "date": "2014-12-17T00:00:00",
          "position": 1374
         },
         {
          "action": "HOLD",
          "actual": 979,
          "date": "2014-12-18T00:00:00",
          "position": 1359.050049
         },
         {
          "action": "BUY",
          "actual": 970,
          "date": "2014-12-19T00:00:00",
          "position": 1376
         },
         {
          "action": "HOLD",
          "actual": 957.9500119999999,
          "date": "2014-12-22T00:00:00",
          "position": 1390
         },
         {
          "action": "HOLD",
          "actual": 980,
          "date": "2014-12-23T00:00:00",
          "position": 1385
         },
         {
          "action": "SELL",
          "actual": 980,
          "date": "2014-12-24T00:00:00",
          "position": 1381
         },
         {
          "action": "HOLD",
          "actual": 980,
          "date": "2014-12-26T00:00:00",
          "position": 1360
         },
         {
          "action": "HOLD",
          "actual": 1004.5,
          "date": "2014-12-29T00:00:00",
          "position": 1337.050049
         },
         {
          "action": "HOLD",
          "actual": 1029.599976,
          "date": "2014-12-30T00:00:00",
          "position": 1310
         },
         {
          "action": "HOLD",
          "actual": 1029.599976,
          "date": "2014-12-31T00:00:00",
          "position": 1378
         },
         {
          "action": "BUY",
          "actual": 1023,
          "date": "2015-01-02T00:00:00",
          "position": 1375
         },
         {
          "action": "HOLD",
          "actual": 1006.0499880000001,
          "date": "2015-01-05T00:00:00",
          "position": 1350
         },
         {
          "action": "SELL",
          "actual": 1006.0499880000001,
          "date": "2015-01-06T00:00:00",
          "position": 1350
         },
         {
          "action": "HOLD",
          "actual": 1000,
          "date": "2015-01-07T00:00:00",
          "position": 1349.949951
         },
         {
          "action": "HOLD",
          "actual": 996.5499880000001,
          "date": "2015-01-08T00:00:00",
          "position": 1350
         },
         {
          "action": "HOLD",
          "actual": 1009.900024,
          "date": "2015-01-09T00:00:00",
          "position": 1343.5
         },
         {
          "action": "HOLD",
          "actual": 1006.9500119999999,
          "date": "2015-01-12T00:00:00",
          "position": 1342.5
         },
         {
          "action": "HOLD",
          "actual": 1006.0499880000001,
          "date": "2015-01-13T00:00:00",
          "position": 1339
         },
         {
          "action": "HOLD",
          "actual": 984.0499880000001,
          "date": "2015-01-14T00:00:00",
          "position": 1300
         },
         {
          "action": "HOLD",
          "actual": 977,
          "date": "2015-01-15T00:00:00",
          "position": 1365
         },
         {
          "action": "HOLD",
          "actual": 960,
          "date": "2015-01-16T00:00:00",
          "position": 1359.949951
         },
         {
          "action": "HOLD",
          "actual": 952.349976,
          "date": "2015-01-20T00:00:00",
          "position": 1360
         },
         {
          "action": "HOLD",
          "actual": 955,
          "date": "2015-01-21T00:00:00",
          "position": 1358
         },
         {
          "action": "HOLD",
          "actual": 965,
          "date": "2015-01-22T00:00:00",
          "position": 1365
         },
         {
          "action": "BUY",
          "actual": 982.0499880000001,
          "date": "2015-01-23T00:00:00",
          "position": 1362.949951
         },
         {
          "action": "HOLD",
          "actual": 979.9500119999999,
          "date": "2015-01-26T00:00:00",
          "position": 1345
         },
         {
          "action": "HOLD",
          "actual": 985,
          "date": "2015-01-27T00:00:00",
          "position": 1351
         },
         {
          "action": "HOLD",
          "actual": 990,
          "date": "2015-01-28T00:00:00",
          "position": 1349.150024
         },
         {
          "action": "HOLD",
          "actual": 990,
          "date": "2015-01-29T00:00:00",
          "position": 1345
         },
         {
          "action": "HOLD",
          "actual": 981,
          "date": "2015-01-30T00:00:00",
          "position": 1284
         },
         {
          "action": "HOLD",
          "actual": 995,
          "date": "2015-02-02T00:00:00",
          "position": 1284
         },
         {
          "action": "HOLD",
          "actual": 990,
          "date": "2015-02-03T00:00:00",
          "position": 1200
         },
         {
          "action": "HOLD",
          "actual": 993,
          "date": "2015-02-04T00:00:00",
          "position": 1250
         },
         {
          "action": "HOLD",
          "actual": 978.5,
          "date": "2015-02-05T00:00:00",
          "position": 1250
         },
         {
          "action": "HOLD",
          "actual": 971.2999880000001,
          "date": "2015-02-06T00:00:00",
          "position": 1226
         },
         {
          "action": "HOLD",
          "actual": 997,
          "date": "2015-02-09T00:00:00",
          "position": 1185.949951
         },
         {
          "action": "SELL",
          "actual": 995,
          "date": "2015-02-10T00:00:00",
          "position": 1197.5
         },
         {
          "action": "HOLD",
          "actual": 985.5,
          "date": "2015-02-11T00:00:00",
          "position": 1216
         },
         {
          "action": "HOLD",
          "actual": 980.0499880000001,
          "date": "2015-02-12T00:00:00",
          "position": 1248
         },
         {
          "action": "HOLD",
          "actual": 989.9500119999999,
          "date": "2015-02-13T00:00:00",
          "position": 1283
         },
         {
          "action": "HOLD",
          "actual": 994,
          "date": "2015-02-17T00:00:00",
          "position": 1299
         },
         {
          "action": "HOLD",
          "actual": 988.0499880000001,
          "date": "2015-02-18T00:00:00",
          "position": 1299
         },
         {
          "action": "HOLD",
          "actual": 1000,
          "date": "2015-02-19T00:00:00",
          "position": 1309.449951
         },
         {
          "action": "HOLD",
          "actual": 1006,
          "date": "2015-02-20T00:00:00",
          "position": 1290
         },
         {
          "action": "HOLD",
          "actual": 1020,
          "date": "2015-02-23T00:00:00",
          "position": 1250
         },
         {
          "action": "HOLD",
          "actual": 1045,
          "date": "2015-02-24T00:00:00",
          "position": 1229.949951
         },
         {
          "action": "HOLD",
          "actual": 1060,
          "date": "2015-02-25T00:00:00",
          "position": 1235
         },
         {
          "action": "HOLD",
          "actual": 1062,
          "date": "2015-02-26T00:00:00",
          "position": 1140
         },
         {
          "action": "HOLD",
          "actual": 1060,
          "date": "2015-02-27T00:00:00",
          "position": 1108
         },
         {
          "action": "HOLD",
          "actual": 1089.900024,
          "date": "2015-03-02T00:00:00",
          "position": 1114
         },
         {
          "action": "HOLD",
          "actual": 1065,
          "date": "2015-03-03T00:00:00",
          "position": 1143
         },
         {
          "action": "HOLD",
          "actual": 1083.900024,
          "date": "2015-03-04T00:00:00",
          "position": 1145
         },
         {
          "action": "HOLD",
          "actual": 1084,
          "date": "2015-03-05T00:00:00",
          "position": 1100
         },
         {
          "action": "BUY",
          "actual": 1090,
          "date": "2015-03-06T00:00:00",
          "position": 1116
         },
         {
          "action": "HOLD",
          "actual": 1100,
          "date": "2015-03-09T00:00:00",
          "position": 1130
         },
         {
          "action": "SELL",
          "actual": 1102,
          "date": "2015-03-10T00:00:00",
          "position": 1139
         },
         {
          "action": "HOLD",
          "actual": 1135,
          "date": "2015-03-11T00:00:00",
          "position": 1198.949951
         },
         {
          "action": "HOLD",
          "actual": 1139,
          "date": "2015-03-12T00:00:00",
          "position": 1188
         },
         {
          "action": "HOLD",
          "actual": 1136.900024,
          "date": "2015-03-13T00:00:00",
          "position": 1182.050049
         },
         {
          "action": "HOLD",
          "actual": 1130,
          "date": "2015-03-16T00:00:00",
          "position": 1198
         },
         {
          "action": "HOLD",
          "actual": 1131,
          "date": "2015-03-17T00:00:00",
          "position": 1189.5
         },
         {
          "action": "HOLD",
          "actual": 1169.949951,
          "date": "2015-03-18T00:00:00",
          "position": 1180
         },
         {
          "action": "HOLD",
          "actual": 1166,
          "date": "2015-03-19T00:00:00",
          "position": 1180
         },
         {
          "action": "BUY",
          "actual": 1199,
          "date": "2015-03-20T00:00:00",
          "position": 1184.900024
         },
         {
          "action": "HOLD",
          "actual": 1245,
          "date": "2015-03-23T00:00:00",
          "position": 1172
         },
         {
          "action": "HOLD",
          "actual": 1261,
          "date": "2015-03-24T00:00:00",
          "position": 1135
         },
         {
          "action": "HOLD",
          "actual": 1255,
          "date": "2015-03-25T00:00:00",
          "position": 1094.849976
         },
         {
          "action": "HOLD",
          "actual": 1207.099976,
          "date": "2015-03-26T00:00:00",
          "position": 1070
         },
         {
          "action": "SELL",
          "actual": 1205.050049,
          "date": "2015-03-27T00:00:00",
          "position": 1099.449951
         },
         {
          "action": "HOLD",
          "actual": 1239.900024,
          "date": "2015-03-30T00:00:00",
          "position": 1095
         },
         {
          "action": "HOLD",
          "actual": 1235.099976,
          "date": "2015-03-31T00:00:00",
          "position": 1055
         },
         {
          "action": "HOLD",
          "actual": 1268,
          "date": "2015-04-01T00:00:00",
          "position": 1050
         },
         {
          "action": "HOLD",
          "actual": 1260,
          "date": "2015-04-02T00:00:00",
          "position": 1018
         },
         {
          "action": "HOLD",
          "actual": 1260,
          "date": "2015-04-06T00:00:00",
          "position": 997
         },
         {
          "action": "HOLD",
          "actual": 1280.050049,
          "date": "2015-04-07T00:00:00",
          "position": 1014.7000119999999
         },
         {
          "action": "HOLD",
          "actual": 1330,
          "date": "2015-04-08T00:00:00",
          "position": 1014.7000119999999
         },
         {
          "action": "HOLD",
          "actual": 1341,
          "date": "2015-04-09T00:00:00",
          "position": 1058
         },
         {
          "action": "HOLD",
          "actual": 1320,
          "date": "2015-04-10T00:00:00",
          "position": 1058.5
         },
         {
          "action": "HOLD",
          "actual": 1320,
          "date": "2015-04-13T00:00:00",
          "position": 1053
         },
         {
          "action": "HOLD",
          "actual": 1340,
          "date": "2015-04-14T00:00:00",
          "position": 1011.099976
         },
         {
          "action": "HOLD",
          "actual": 1348.900024,
          "date": "2015-04-15T00:00:00",
          "position": 1029.25
         },
         {
          "action": "HOLD",
          "actual": 1342.199951,
          "date": "2015-04-16T00:00:00",
          "position": 1041
         },
         {
          "action": "HOLD",
          "actual": 1325,
          "date": "2015-04-17T00:00:00",
          "position": 1005
         },
         {
          "action": "HOLD",
          "actual": 1353.949951,
          "date": "2015-04-20T00:00:00",
          "position": 999
         },
         {
          "action": "HOLD",
          "actual": 1380,
          "date": "2015-04-21T00:00:00",
          "position": 976
         },
         {
          "action": "HOLD",
          "actual": 1354,
          "date": "2015-04-22T00:00:00",
          "position": 951
         },
         {
          "action": "HOLD",
          "actual": 1332,
          "date": "2015-04-23T00:00:00",
          "position": 944
         },
         {
          "action": "BUY",
          "actual": 1300,
          "date": "2015-04-24T00:00:00",
          "position": 921
         },
         {
          "action": "HOLD",
          "actual": 1250,
          "date": "2015-04-27T00:00:00",
          "position": 937.400024
         },
         {
          "action": "HOLD",
          "actual": 1240,
          "date": "2015-04-28T00:00:00",
          "position": 931
         },
         {
          "action": "HOLD",
          "actual": 1237.300049,
          "date": "2015-04-29T00:00:00",
          "position": 958
         },
         {
          "action": "HOLD",
          "actual": 1330,
          "date": "2015-04-30T00:00:00",
          "position": 950
         },
         {
          "action": "HOLD",
          "actual": 1330,
          "date": "2015-05-01T00:00:00",
          "position": 950
         },
         {
          "action": "HOLD",
          "actual": 1313,
          "date": "2015-05-04T00:00:00",
          "position": 950.150024
         },
         {
          "action": "HOLD",
          "actual": 1346.699951,
          "date": "2015-05-05T00:00:00",
          "position": 950
         },
         {
          "action": "HOLD",
          "actual": 1377,
          "date": "2015-05-06T00:00:00",
          "position": 959
         },
         {
          "action": "HOLD",
          "actual": 1373,
          "date": "2015-05-07T00:00:00",
          "position": 950
         },
         {
          "action": "HOLD",
          "actual": 1365,
          "date": "2015-05-08T00:00:00",
          "position": 950.900024
         },
         {
          "action": "HOLD",
          "actual": 1378,
          "date": "2015-05-11T00:00:00",
          "position": 964.9500119999999
         },
         {
          "action": "HOLD",
          "actual": 1376,
          "date": "2015-05-12T00:00:00",
          "position": 969.900024
         },
         {
          "action": "HOLD",
          "actual": 1356,
          "date": "2015-05-13T00:00:00",
          "position": 951.0499880000001
         },
         {
          "action": "HOLD",
          "actual": 1350,
          "date": "2015-05-14T00:00:00",
          "position": 968.4500119999999
         },
         {
          "action": "HOLD",
          "actual": 1350,
          "date": "2015-05-15T00:00:00",
          "position": 951.5499880000001
         },
         {
          "action": "SELL",
          "actual": 1352,
          "date": "2015-05-18T00:00:00",
          "position": 950
         },
         {
          "action": "HOLD",
          "actual": 1350,
          "date": "2015-05-19T00:00:00",
          "position": 951
         },
         {
          "action": "HOLD",
          "actual": 1349.949951,
          "date": "2015-05-20T00:00:00",
          "position": 950
         },
         {
          "action": "HOLD",
          "actual": 1328,
          "date": "2015-05-21T00:00:00",
          "position": 949
         },
         {
          "action": "HOLD",
          "actual": 1314,
          "date": "2015-05-22T00:00:00",
          "position": 923
         },
         {
          "action": "HOLD",
          "actual": 1275,
          "date": "2015-05-26T00:00:00",
          "position": 936
         },
         {
          "action": "HOLD",
          "actual": 1310,
          "date": "2015-05-27T00:00:00",
          "position": 940
         },
         {
          "action": "HOLD",
          "actual": 1347.900024,
          "date": "2015-05-28T00:00:00",
          "position": 938
         },
         {
          "action": "BUY",
          "actual": 1350.5,
          "date": "2015-05-29T00:00:00",
          "position": 966
         },
         {
          "action": "HOLD",
          "actual": 1382.949951,
          "date": "2015-06-01T00:00:00",
          "position": 965.75
         },
         {
          "action": "SELL",
          "actual": 1380,
          "date": "2015-06-02T00:00:00",
          "position": 957
         },
         {
          "action": "HOLD",
          "actual": 1380,
          "date": "2015-06-03T00:00:00",
          "position": 956.9500119999999
         },
         {
          "action": "HOLD",
          "actual": 1380,
          "date": "2015-06-04T00:00:00",
          "position": 956.9500119999999
         },
         {
          "action": "BUY",
          "actual": 1374,
          "date": "2015-06-05T00:00:00",
          "position": 932
         },
         {
          "action": "HOLD",
          "actual": 1370,
          "date": "2015-06-08T00:00:00",
          "position": 927
         },
         {
          "action": "HOLD",
          "actual": 1360,
          "date": "2015-06-09T00:00:00",
          "position": 930
         },
         {
          "action": "HOLD",
          "actual": 1345,
          "date": "2015-06-10T00:00:00",
          "position": 933.0499880000001
         },
         {
          "action": "HOLD",
          "actual": 1321,
          "date": "2015-06-11T00:00:00",
          "position": 925
         },
         {
          "action": "HOLD",
          "actual": 1322,
          "date": "2015-06-12T00:00:00",
          "position": 945
         },
         {
          "action": "HOLD",
          "actual": 1318,
          "date": "2015-06-15T00:00:00",
          "position": 955.5
         },
         {
          "action": "SELL",
          "actual": 1305,
          "date": "2015-06-16T00:00:00",
          "position": 954
         },
         {
          "action": "HOLD",
          "actual": 1315,
          "date": "2015-06-17T00:00:00",
          "position": 944
         },
         {
          "action": "HOLD",
          "actual": 1326.800049,
          "date": "2015-06-18T00:00:00",
          "position": 989.9500119999999
         },
         {
          "action": "HOLD",
          "actual": 1300.300049,
          "date": "2015-06-19T00:00:00",
          "position": 971
         },
         {
          "action": "HOLD",
          "actual": 1319.900024,
          "date": "2015-06-22T00:00:00",
          "position": 960
         },
         {
          "action": "HOLD",
          "actual": 1326.800049,
          "date": "2015-06-23T00:00:00",
          "position": 998.400024
         },
         {
          "action": "HOLD",
          "actual": 1329,
          "date": "2015-06-24T00:00:00",
          "position": 1015
         },
         {
          "action": "HOLD",
          "actual": 1329,
          "date": "2015-06-25T00:00:00",
          "position": 1011
         },
         {
          "action": "HOLD",
          "actual": 1326,
          "date": "2015-06-26T00:00:00",
          "position": 1006.099976
         },
         {
          "action": "HOLD",
          "actual": 1296,
          "date": "2015-06-29T00:00:00",
          "position": 1000
         },
         {
          "action": "HOLD",
          "actual": 1250,
          "date": "2015-06-30T00:00:00",
          "position": 1001.2000119999999
         },
         {
          "action": "HOLD",
          "actual": 1237,
          "date": "2015-07-01T00:00:00",
          "position": 1010.0499880000001
         },
         {
          "action": "HOLD",
          "actual": 1252,
          "date": "2015-07-02T00:00:00",
          "position": 1014
         },
         {
          "action": "HOLD",
          "actual": 1280,
          "date": "2015-07-06T00:00:00",
          "position": 1008
         },
         {
          "action": "HOLD",
          "actual": 1285.5,
          "date": "2015-07-07T00:00:00",
          "position": 1016.7999880000001
         },
         {
          "action": "HOLD",
          "actual": 1241.349976,
          "date": "2015-07-08T00:00:00",
          "position": 1015.900024
         },
         {
          "action": "HOLD",
          "actual": 1212,
          "date": "2015-07-09T00:00:00",
          "position": 997
         },
         {
          "action": "HOLD",
          "actual": 1235,
          "date": "2015-07-10T00:00:00",
          "position": 1013.9500119999999
         },
         {
          "action": "HOLD",
          "actual": 1260,
          "date": "2015-07-13T00:00:00",
          "position": 1008
         },
         {
          "action": "HOLD",
          "actual": 1259.300049,
          "date": "2015-07-14T00:00:00",
          "position": 952
         },
         {
          "action": "HOLD",
          "actual": 1255,
          "date": "2015-07-15T00:00:00",
          "position": 970
         },
         {
          "action": "HOLD",
          "actual": 1268,
          "date": "2015-07-16T00:00:00",
          "position": 985
         },
         {
          "action": "BUY",
          "actual": 1280,
          "date": "2015-07-17T00:00:00",
          "position": 998.400024
         },
         {
          "action": "HOLD",
          "actual": 1265.949951,
          "date": "2015-07-20T00:00:00",
          "position": 998
         },
         {
          "action": "HOLD",
          "actual": 1230.5,
          "date": "2015-07-21T00:00:00",
          "position": 989.5
         },
         {
          "action": "HOLD",
          "actual": 1157,
          "date": "2015-07-22T00:00:00",
          "position": 979.400024
         },
         {
          "action": "HOLD",
          "actual": 1220,
          "date": "2015-07-23T00:00:00",
          "position": 970
         },
         {
          "action": "HOLD",
          "actual": 1230,
          "date": "2015-07-24T00:00:00",
          "position": 978.9500119999999
         },
         {
          "action": "HOLD",
          "actual": 1240,
          "date": "2015-07-27T00:00:00",
          "position": 970
         },
         {
          "action": "HOLD",
          "actual": 1249.900024,
          "date": "2015-07-28T00:00:00",
          "position": 965
         },
         {
          "action": "SELL",
          "actual": 1250.949951,
          "date": "2015-07-29T00:00:00",
          "position": 966
         },
         {
          "action": "HOLD",
          "actual": 1235,
          "date": "2015-07-30T00:00:00",
          "position": 950
         },
         {
          "action": "HOLD",
          "actual": 1255,
          "date": "2015-07-31T00:00:00",
          "position": 940
         },
         {
          "action": "HOLD",
          "actual": 1319,
          "date": "2015-08-12T00:00:00",
          "position": 940
         },
         {
          "action": "HOLD",
          "actual": 1354.800049,
          "date": "2015-08-13T00:00:00",
          "position": 930
         },
         {
          "action": "BUY",
          "actual": 1370,
          "date": "2015-08-14T00:00:00",
          "position": 914.599976
         },
         {
          "action": "HOLD",
          "actual": 1395,
          "date": "2015-08-17T00:00:00",
          "position": 919.9500119999999
         },
         {
          "action": "HOLD",
          "actual": 1404.949951,
          "date": "2015-08-18T00:00:00",
          "position": 920
         },
         {
          "action": "HOLD",
          "actual": 1421.349976,
          "date": "2015-08-19T00:00:00",
          "position": 930
         },
         {
          "action": "HOLD",
          "actual": 1419.800049,
          "date": "2015-08-20T00:00:00",
          "position": 929.900024
         },
         {
          "action": "SELL",
          "actual": 1395,
          "date": "2015-08-21T00:00:00",
          "position": 919.0499880000001
         },
         {
          "action": "HOLD",
          "actual": 1300.550049,
          "date": "2015-08-24T00:00:00",
          "position": 920.599976
         },
         {
          "action": "HOLD",
          "actual": 1327.25,
          "date": "2015-08-25T00:00:00",
          "position": 920
         },
         {
          "action": "HOLD",
          "actual": 1315,
          "date": "2015-08-26T00:00:00",
          "position": 920
         },
         {
          "action": "BUY",
          "actual": 1331,
          "date": "2015-08-27T00:00:00",
          "position": 930
         },
         {
          "action": "HOLD",
          "actual": 1300.099976,
          "date": "2015-08-28T00:00:00",
          "position": 923
         },
         {
          "action": "HOLD",
          "actual": 1322,
          "date": "2015-08-31T00:00:00",
          "position": 921
         },
         {
          "action": "HOLD",
          "actual": 1322,
          "date": "2015-09-01T00:00:00",
          "position": 934
         },
         {
          "action": "SELL",
          "actual": 1305.050049,
          "date": "2015-09-02T00:00:00",
          "position": 940
         },
         {
          "action": "HOLD",
          "actual": 1330,
          "date": "2015-09-03T00:00:00",
          "position": 941
         },
         {
          "action": "HOLD",
          "actual": 1310,
          "date": "2015-09-04T00:00:00",
          "position": 955.7999880000001
         },
         {
          "action": "HOLD",
          "actual": 1315,
          "date": "2015-09-08T00:00:00",
          "position": 975.5499880000001
         },
         {
          "action": "HOLD",
          "actual": 1315,
          "date": "2015-09-09T00:00:00",
          "position": 950
         },
         {
          "action": "BUY",
          "actual": 1315,
          "date": "2015-09-10T00:00:00",
          "position": 950
         },
         {
          "action": "HOLD",
          "actual": 1299.949951,
          "date": "2015-09-11T00:00:00",
          "position": 950
         },
         {
          "action": "HOLD",
          "actual": 1285.199951,
          "date": "2015-09-14T00:00:00",
          "position": 941.2999880000001
         },
         {
          "action": "HOLD",
          "actual": 1255.050049,
          "date": "2015-09-15T00:00:00",
          "position": 942.849976
         },
         {
          "action": "HOLD",
          "actual": 1228,
          "date": "2015-09-16T00:00:00",
          "position": 942.4500119999999
         },
         {
          "action": "HOLD",
          "actual": 1221,
          "date": "2015-09-17T00:00:00",
          "position": 950
         },
         {
          "action": "HOLD",
          "actual": 1217,
          "date": "2015-09-18T00:00:00",
          "position": 944.099976
         },
         {
          "action": "HOLD",
          "actual": 1238,
          "date": "2015-09-21T00:00:00",
          "position": 969
         },
         {
          "action": "HOLD",
          "actual": 1238,
          "date": "2015-09-22T00:00:00",
          "position": 986
         },
         {
          "action": "HOLD",
          "actual": 1239,
          "date": "2015-09-23T00:00:00",
          "position": 1000
         },
         {
          "action": "HOLD",
          "actual": 1240,
          "date": "2015-09-24T00:00:00",
          "position": 986.25
         },
         {
          "action": "HOLD",
          "actual": 1250,
          "date": "2015-09-25T00:00:00",
          "position": 1004
         },
         {
          "action": "HOLD",
          "actual": 1250,
          "date": "2015-09-28T00:00:00",
          "position": 998.5
         },
         {
          "action": "HOLD",
          "actual": 1273.5,
          "date": "2015-09-29T00:00:00",
          "position": 996
         },
         {
          "action": "HOLD",
          "actual": 1273.900024,
          "date": "2015-09-30T00:00:00",
          "position": 990
         },
         {
          "action": "HOLD",
          "actual": 1269.900024,
          "date": "2015-10-01T00:00:00",
          "position": 986
         },
         {
          "action": "HOLD",
          "actual": 1260,
          "date": "2015-10-02T00:00:00",
          "position": 986
         },
         {
          "action": "HOLD",
          "actual": 1260,
          "date": "2015-10-05T00:00:00",
          "position": 1000
         },
         {
          "action": "HOLD",
          "actual": 1289.5,
          "date": "2015-10-06T00:00:00",
          "position": 985
         },
         {
          "action": "HOLD",
          "actual": 1313,
          "date": "2015-10-07T00:00:00",
          "position": 966
         },
         {
          "action": "HOLD",
          "actual": 1316,
          "date": "2015-10-08T00:00:00",
          "position": 957
         },
         {
          "action": "SELL",
          "actual": 1300,
          "date": "2015-10-09T00:00:00",
          "position": 957
         },
         {
          "action": "HOLD",
          "actual": 1320,
          "date": "2015-10-12T00:00:00",
          "position": 960
         },
         {
          "action": "HOLD",
          "actual": 1300,
          "date": "2015-10-13T00:00:00",
          "position": 979.5
         },
         {
          "action": "HOLD",
          "actual": 1306.150024,
          "date": "2015-10-14T00:00:00",
          "position": 945
         },
         {
          "action": "HOLD",
          "actual": 1306.150024,
          "date": "2015-10-15T00:00:00",
          "position": 975
         },
         {
          "action": "HOLD",
          "actual": 1297.900024,
          "date": "2015-10-16T00:00:00",
          "position": 979
         },
         {
          "action": "HOLD",
          "actual": 1260.050049,
          "date": "2015-10-19T00:00:00",
          "position": 970
         },
         {
          "action": "HOLD",
          "actual": 1260,
          "date": "2015-10-20T00:00:00",
          "position": 957.9500119999999
         },
         {
          "action": "HOLD",
          "actual": 1269,
          "date": "2015-10-21T00:00:00",
          "position": 980
         },
         {
          "action": "HOLD",
          "actual": 1256,
          "date": "2015-10-22T00:00:00",
          "position": 980
         },
         {
          "action": "HOLD",
          "actual": 1265.050049,
          "date": "2015-10-23T00:00:00",
          "position": 980
         },
         {
          "action": "HOLD",
          "actual": 1270,
          "date": "2015-10-26T00:00:00",
          "position": 1004.5
         },
         {
          "action": "HOLD",
          "actual": 1263,
          "date": "2015-10-27T00:00:00",
          "position": 1029.599976
         },
         {
          "action": "HOLD",
          "actual": 1240,
          "date": "2015-10-28T00:00:00",
          "position": 1029.599976
         },
         {
          "action": "HOLD",
          "actual": 1126,
          "date": "2015-10-29T00:00:00",
          "position": 1023
         },
         {
          "action": "HOLD",
          "actual": 1086,
          "date": "2015-10-30T00:00:00",
          "position": 1006.0499880000001
         },
         {
          "action": "HOLD",
          "actual": 1057,
          "date": "2015-11-02T00:00:00",
          "position": 1006.0499880000001
         },
         {
          "action": "HOLD",
          "actual": 1095,
          "date": "2015-11-03T00:00:00",
          "position": 1000
         },
         {
          "action": "HOLD",
          "actual": 1110,
          "date": "2015-11-04T00:00:00",
          "position": 996.5499880000001
         },
         {
          "action": "HOLD",
          "actual": 1117,
          "date": "2015-11-05T00:00:00",
          "position": 1009.900024
         },
         {
          "action": "HOLD",
          "actual": 1060,
          "date": "2015-11-06T00:00:00",
          "position": 1006.9500119999999
         },
         {
          "action": "HOLD",
          "actual": 1110,
          "date": "2015-11-09T00:00:00",
          "position": 1006.0499880000001
         },
         {
          "action": "HOLD",
          "actual": 1081,
          "date": "2015-11-10T00:00:00",
          "position": 984.0499880000001
         },
         {
          "action": "BUY",
          "actual": 1081,
          "date": "2015-11-11T00:00:00",
          "position": 977
         },
         {
          "action": "SELL",
          "actual": 1082.5,
          "date": "2015-11-12T00:00:00",
          "position": 960
         },
         {
          "action": "HOLD",
          "actual": 1068,
          "date": "2015-11-13T00:00:00",
          "position": 952.349976
         },
         {
          "action": "HOLD",
          "actual": 1046,
          "date": "2015-11-16T00:00:00",
          "position": 955
         },
         {
          "action": "HOLD",
          "actual": 1050,
          "date": "2015-11-17T00:00:00",
          "position": 965
         },
         {
          "action": "BUY",
          "actual": 1050,
          "date": "2015-11-18T00:00:00",
          "position": 982.0499880000001
         },
         {
          "action": "HOLD",
          "actual": 1071,
          "date": "2015-11-19T00:00:00",
          "position": 979.9500119999999
         },
         {
          "action": "HOLD",
          "actual": 1078.949951,
          "date": "2015-11-20T00:00:00",
          "position": 985
         },
         {
          "action": "SELL",
          "actual": 1079.949951,
          "date": "2015-11-23T00:00:00",
          "position": 990
         },
         {
          "action": "HOLD",
          "actual": 1055.099976,
          "date": "2015-11-24T00:00:00",
          "position": 990
         },
         {
          "action": "HOLD",
          "actual": 1051.050049,
          "date": "2015-11-25T00:00:00",
          "position": 981
         },
         {
          "action": "HOLD",
          "actual": 1060,
          "date": "2015-11-27T00:00:00",
          "position": 995
         },
         {
          "action": "HOLD",
          "actual": 1051,
          "date": "2015-11-30T00:00:00",
          "position": 990
         },
         {
          "action": "HOLD",
          "actual": 1041,
          "date": "2015-12-01T00:00:00",
          "position": 993
         },
         {
          "action": "HOLD",
          "actual": 1040,
          "date": "2015-12-02T00:00:00",
          "position": 978.5
         },
         {
          "action": "HOLD",
          "actual": 1030,
          "date": "2015-12-03T00:00:00",
          "position": 971.2999880000001
         },
         {
          "action": "HOLD",
          "actual": 1017,
          "date": "2015-12-04T00:00:00",
          "position": 997
         },
         {
          "action": "HOLD",
          "actual": 1012,
          "date": "2015-12-07T00:00:00",
          "position": 995
         },
         {
          "action": "HOLD",
          "actual": 1025,
          "date": "2015-12-08T00:00:00",
          "position": 985.5
         },
         {
          "action": "HOLD",
          "actual": 1034.400024,
          "date": "2015-12-09T00:00:00",
          "position": 980.0499880000001
         },
         {
          "action": "HOLD",
          "actual": 981.0499880000001,
          "date": "2015-12-10T00:00:00",
          "position": 989.9500119999999
         },
         {
          "action": "HOLD",
          "actual": 942,
          "date": "2015-12-11T00:00:00",
          "position": 994
         },
         {
          "action": "HOLD",
          "actual": 944,
          "date": "2015-12-14T00:00:00",
          "position": 988.0499880000001
         },
         {
          "action": "HOLD",
          "actual": 1013,
          "date": "2015-12-15T00:00:00",
          "position": 1000
         },
         {
          "action": "HOLD",
          "actual": 1040,
          "date": "2015-12-16T00:00:00",
          "position": 1006
         },
         {
          "action": "HOLD",
          "actual": 1020,
          "date": "2015-12-17T00:00:00",
          "position": 1020
         },
         {
          "action": "HOLD",
          "actual": 1030,
          "date": "2015-12-18T00:00:00",
          "position": 1045
         },
         {
          "action": "HOLD",
          "actual": 1010,
          "date": "2015-12-21T00:00:00",
          "position": 1060
         },
         {
          "action": "HOLD",
          "actual": 1040,
          "date": "2015-12-22T00:00:00",
          "position": 1062
         },
         {
          "action": "HOLD",
          "actual": 1075,
          "date": "2015-12-23T00:00:00",
          "position": 1060
         },
         {
          "action": "HOLD",
          "actual": 1075,
          "date": "2015-12-24T00:00:00",
          "position": 1089.900024
         },
         {
          "action": "HOLD",
          "actual": 1075,
          "date": "2015-12-28T00:00:00",
          "position": 1065
         },
         {
          "action": "HOLD",
          "actual": 1100,
          "date": "2015-12-29T00:00:00",
          "position": 1083.900024
         },
         {
          "action": "HOLD",
          "actual": 1189,
          "date": "2015-12-30T00:00:00",
          "position": 1084
         },
         {
          "action": "HOLD",
          "actual": 1189,
          "date": "2015-12-31T00:00:00",
          "position": 1090
         },
         {
          "action": "HOLD",
          "actual": 1157,
          "date": "2016-01-04T00:00:00",
          "position": 1100
         },
         {
          "action": "HOLD",
          "actual": 1136,
          "date": "2016-01-05T00:00:00",
          "position": 1102
         },
         {
          "action": "HOLD",
          "actual": 1136,
          "date": "2016-01-06T00:00:00",
          "position": 1135
         },
         {
          "action": "HOLD",
          "actual": 1117,
          "date": "2016-01-07T00:00:00",
          "position": 1139
         },
         {
          "action": "HOLD",
          "actual": 1130,
          "date": "2016-01-08T00:00:00",
          "position": 1136.900024
         },
         {
          "action": "HOLD",
          "actual": 1113,
          "date": "2016-01-11T00:00:00",
          "position": 1130
         },
         {
          "action": "HOLD",
          "actual": 1099,
          "date": "2016-01-12T00:00:00",
          "position": 1131
         },
         {
          "action": "HOLD",
          "actual": 1070,
          "date": "2016-01-13T00:00:00",
          "position": 1169.949951
         },
         {
          "action": "HOLD",
          "actual": 1049,
          "date": "2016-01-14T00:00:00",
          "position": 1166
         },
         {
          "action": "HOLD",
          "actual": 1033.25,
          "date": "2016-01-15T00:00:00",
          "position": 1199
         },
         {
          "action": "HOLD",
          "actual": 1000,
          "date": "2016-01-19T00:00:00",
          "position": 1245
         },
         {
          "action": "HOLD",
          "actual": 1000,
          "date": "2016-01-20T00:00:00",
          "position": 1261
         },
         {
          "action": "HOLD",
          "actual": 990,
          "date": "2016-01-21T00:00:00",
          "position": 1255
         },
         {
          "action": "HOLD",
          "actual": 985,
          "date": "2016-01-22T00:00:00",
          "position": 1207.099976
         },
         {
          "action": "HOLD",
          "actual": 987.099976,
          "date": "2016-01-25T00:00:00",
          "position": 1205.050049
         },
         {
          "action": "HOLD",
          "actual": 985,
          "date": "2016-01-26T00:00:00",
          "position": 1239.900024
         },
         {
          "action": "HOLD",
          "actual": 986.599976,
          "date": "2016-01-27T00:00:00",
          "position": 1235.099976
         },
         {
          "action": "HOLD",
          "actual": 999.9500119999999,
          "date": "2016-01-28T00:00:00",
          "position": 1268
         },
         {
          "action": "HOLD",
          "actual": 1000,
          "date": "2016-01-29T00:00:00",
          "position": 1260
         },
         {
          "action": "HOLD",
          "actual": 1004,
          "date": "2016-02-01T00:00:00",
          "position": 1260
         },
         {
          "action": "HOLD",
          "actual": 1024.949951,
          "date": "2016-02-02T00:00:00",
          "position": 1280.050049
         },
         {
          "action": "HOLD",
          "actual": 1003.0499880000001,
          "date": "2016-02-03T00:00:00",
          "position": 1330
         },
         {
          "action": "HOLD",
          "actual": 1015,
          "date": "2016-02-04T00:00:00",
          "position": 1341
         },
         {
          "action": "HOLD",
          "actual": 1003.099976,
          "date": "2016-02-05T00:00:00",
          "position": 1320
         },
         {
          "action": "HOLD",
          "actual": 1065.650024,
          "date": "2016-02-08T00:00:00",
          "position": 1320
         },
         {
          "action": "HOLD",
          "actual": 1030.099976,
          "date": "2016-02-09T00:00:00",
          "position": 1340
         },
         {
          "action": "HOLD",
          "actual": 1012,
          "date": "2016-02-10T00:00:00",
          "position": 1348.900024
         },
         {
          "action": "BUY",
          "actual": 1014,
          "date": "2016-02-11T00:00:00",
          "position": 1342.199951
         },
         {
          "action": "HOLD",
          "actual": 1006,
          "date": "2016-02-12T00:00:00",
          "position": 1325
         },
         {
          "action": "SELL",
          "actual": 1021.7999880000001,
          "date": "2016-02-16T00:00:00",
          "position": 1353.949951
         },
         {
          "action": "HOLD",
          "actual": 1020,
          "date": "2016-02-17T00:00:00",
          "position": 1380
         },
         {
          "action": "HOLD",
          "actual": 1020,
          "date": "2016-02-18T00:00:00",
          "position": 1354
         },
         {
          "action": "HOLD",
          "actual": 1006.5499880000001,
          "date": "2016-02-19T00:00:00",
          "position": 1332
         },
         {
          "action": "HOLD",
          "actual": 1019,
          "date": "2016-02-22T00:00:00",
          "position": 1300
         },
         {
          "action": "HOLD",
          "actual": 1019,
          "date": "2016-02-23T00:00:00",
          "position": 1250
         },
         {
          "action": "HOLD",
          "actual": 1010,
          "date": "2016-02-24T00:00:00",
          "position": 1240
         },
         {
          "action": "HOLD",
          "actual": 1002,
          "date": "2016-02-25T00:00:00",
          "position": 1237.300049
         },
         {
          "action": "HOLD",
          "actual": 1010,
          "date": "2016-02-26T00:00:00",
          "position": 1330
         },
         {
          "action": "BUY",
          "actual": 1001,
          "date": "2016-02-29T00:00:00",
          "position": 1330
         },
         {
          "action": "HOLD",
          "actual": 1001,
          "date": "2016-03-01T00:00:00",
          "position": 1313
         },
         {
          "action": "HOLD",
          "actual": 1065,
          "date": "2016-03-02T00:00:00",
          "position": 1346.699951
         },
         {
          "action": "HOLD",
          "actual": 1060.900024,
          "date": "2016-03-03T00:00:00",
          "position": 1377
         },
         {
          "action": "HOLD",
          "actual": 1057.949951,
          "date": "2016-03-04T00:00:00",
          "position": 1373
         },
         {
          "action": "HOLD",
          "actual": 1033,
          "date": "2016-03-07T00:00:00",
          "position": 1365
         },
         {
          "action": "HOLD",
          "actual": 1025,
          "date": "2016-03-08T00:00:00",
          "position": 1378
         },
         {
          "action": "HOLD",
          "actual": 1038,
          "date": "2016-03-09T00:00:00",
          "position": 1376
         },
         {
          "action": "HOLD",
          "actual": 1030.099976,
          "date": "2016-03-10T00:00:00",
          "position": 1356
         },
         {
          "action": "HOLD",
          "actual": 1032,
          "date": "2016-03-11T00:00:00",
          "position": 1350
         },
         {
          "action": "HOLD",
          "actual": 1020,
          "date": "2016-03-14T00:00:00",
          "position": 1350
         },
         {
          "action": "HOLD",
          "actual": 1025,
          "date": "2016-03-15T00:00:00",
          "position": 1352
         },
         {
          "action": "HOLD",
          "actual": 1018,
          "date": "2016-03-16T00:00:00",
          "position": 1350
         },
         {
          "action": "HOLD",
          "actual": 1025,
          "date": "2016-03-17T00:00:00",
          "position": 1349.949951
         },
         {
          "action": "HOLD",
          "actual": 1003,
          "date": "2016-03-18T00:00:00",
          "position": 1328
         },
         {
          "action": "HOLD",
          "actual": 1016.849976,
          "date": "2016-03-21T00:00:00",
          "position": 1314
         },
         {
          "action": "HOLD",
          "actual": 1010,
          "date": "2016-03-22T00:00:00",
          "position": 1275
         },
         {
          "action": "HOLD",
          "actual": 997,
          "date": "2016-03-23T00:00:00",
          "position": 1310
         },
         {
          "action": "HOLD",
          "actual": 995,
          "date": "2016-03-24T00:00:00",
          "position": 1347.900024
         },
         {
          "action": "HOLD",
          "actual": 995,
          "date": "2016-03-28T00:00:00",
          "position": 1350.5
         },
         {
          "action": "HOLD",
          "actual": 997.0499880000001,
          "date": "2016-03-29T00:00:00",
          "position": 1382.949951
         },
         {
          "action": "HOLD",
          "actual": 1000,
          "date": "2016-03-30T00:00:00",
          "position": 1380
         },
         {
          "action": "HOLD",
          "actual": 1000,
          "date": "2016-03-31T00:00:00",
          "position": 1380
         },
         {
          "action": "HOLD",
          "actual": 999,
          "date": "2016-04-01T00:00:00",
          "position": 1380
         },
         {
          "action": "HOLD",
          "actual": 999.9500119999999,
          "date": "2016-04-04T00:00:00",
          "position": 1374
         },
         {
          "action": "HOLD",
          "actual": 995,
          "date": "2016-04-05T00:00:00",
          "position": 1370
         },
         {
          "action": "HOLD",
          "actual": 974,
          "date": "2016-04-06T00:00:00",
          "position": 1360
         },
         {
          "action": "HOLD",
          "actual": 985,
          "date": "2016-04-07T00:00:00",
          "position": 1345
         },
         {
          "action": "HOLD",
          "actual": 983,
          "date": "2016-04-08T00:00:00",
          "position": 1321
         },
         {
          "action": "SELL",
          "actual": 985,
          "date": "2016-04-11T00:00:00",
          "position": 1322
         },
         {
          "action": "HOLD",
          "actual": 982,
          "date": "2016-04-12T00:00:00",
          "position": 1318
         },
         {
          "action": "HOLD",
          "actual": 994.5,
          "date": "2016-04-13T00:00:00",
          "position": 1305
         },
         {
          "action": "HOLD",
          "actual": 1003,
          "date": "2016-04-14T00:00:00",
          "position": 1315
         },
         {
          "action": "HOLD",
          "actual": 1016,
          "date": "2016-04-15T00:00:00",
          "position": 1326.800049
         },
         {
          "action": "BUY",
          "actual": 1020,
          "date": "2016-04-18T00:00:00",
          "position": 1300.300049
         },
         {
          "action": "HOLD",
          "actual": 1046.5,
          "date": "2016-04-19T00:00:00",
          "position": 1319.900024
         },
         {
          "action": "HOLD",
          "actual": 1054.5,
          "date": "2016-04-20T00:00:00",
          "position": 1326.800049
         },
         {
          "action": "HOLD",
          "actual": 1082,
          "date": "2016-04-21T00:00:00",
          "position": 1329
         },
         {
          "action": "HOLD",
          "actual": 1116,
          "date": "2016-04-22T00:00:00",
          "position": 1329
         },
         {
          "action": "HOLD",
          "actual": 1120,
          "date": "2016-04-25T00:00:00",
          "position": 1326
         },
         {
          "action": "HOLD",
          "actual": 1124,
          "date": "2016-04-26T00:00:00",
          "position": 1296
         },
         {
          "action": "HOLD",
          "actual": 1110,
          "date": "2016-04-27T00:00:00",
          "position": 1250
         },
         {
          "action": "HOLD",
          "actual": 1110,
          "date": "2016-04-28T00:00:00",
          "position": 1237
         },
         {
          "action": "HOLD",
          "actual": 1109.900024,
          "date": "2016-04-29T00:00:00",
          "position": 1252
         },
         {
          "action": "HOLD",
          "actual": 1100,
          "date": "2016-05-02T00:00:00",
          "position": 1280
         },
         {
          "action": "HOLD",
          "actual": 1100,
          "date": "2016-05-03T00:00:00",
          "position": 1285.5
         },
         {
          "action": "HOLD",
          "actual": 1086,
          "date": "2016-05-04T00:00:00",
          "position": 1241.349976
         },
         {
          "action": "HOLD",
          "actual": 1072.050049,
          "date": "2016-05-05T00:00:00",
          "position": 1212
         },
         {
          "action": "HOLD",
          "actual": 1084.900024,
          "date": "2016-05-06T00:00:00",
          "position": 1235
         },
         {
          "action": "HOLD",
          "actual": 1075,
          "date": "2016-05-09T00:00:00",
          "position": 1260
         },
         {
          "action": "HOLD",
          "actual": 1060,
          "date": "2016-05-10T00:00:00",
          "position": 1259.300049
         },
         {
          "action": "HOLD",
          "actual": 1051,
          "date": "2016-05-11T00:00:00",
          "position": 1255
         },
         {
          "action": "HOLD",
          "actual": 1052,
          "date": "2016-05-12T00:00:00",
          "position": 1268
         },
         {
          "action": "HOLD",
          "actual": 1045,
          "date": "2016-05-13T00:00:00",
          "position": 1280
         },
         {
          "action": "HOLD",
          "actual": 1060,
          "date": "2016-05-16T00:00:00",
          "position": 1265.949951
         },
         {
          "action": "HOLD",
          "actual": 1074,
          "date": "2016-05-17T00:00:00",
          "position": 1230.5
         },
         {
          "action": "HOLD",
          "actual": 1070,
          "date": "2016-05-18T00:00:00",
          "position": 1157
         },
         {
          "action": "HOLD",
          "actual": 1070,
          "date": "2016-05-19T00:00:00",
          "position": 1220
         },
         {
          "action": "HOLD",
          "actual": 1042,
          "date": "2016-05-20T00:00:00",
          "position": 1230
         },
         {
          "action": "HOLD",
          "actual": 1042,
          "date": "2016-05-23T00:00:00",
          "position": 1240
         },
         {
          "action": "HOLD",
          "actual": 1045,
          "date": "2016-05-24T00:00:00",
          "position": 1249.900024
         },
         {
          "action": "HOLD",
          "actual": 1051.050049,
          "date": "2016-05-25T00:00:00",
          "position": 1250.949951
         },
         {
          "action": "HOLD",
          "actual": 1051.050049,
          "date": "2016-05-26T00:00:00",
          "position": 1235
         },
         {
          "action": "HOLD",
          "actual": 1075,
          "date": "2016-05-27T00:00:00",
          "position": 1255
         },
         {
          "action": "HOLD",
          "actual": 1020,
          "date": "2016-05-31T00:00:00",
          "position": 1319
         },
         {
          "action": "HOLD",
          "actual": 1002.150024,
          "date": "2016-06-01T00:00:00",
          "position": 1354.800049
         },
         {
          "action": "SELL",
          "actual": 1020,
          "date": "2016-06-02T00:00:00",
          "position": 1370
         },
         {
          "action": "HOLD",
          "actual": 1074,
          "date": "2016-06-03T00:00:00",
          "position": 1395
         },
         {
          "action": "HOLD",
          "actual": 1030,
          "date": "2016-06-06T00:00:00",
          "position": 1404.949951
         },
         {
          "action": "HOLD",
          "actual": 1038,
          "date": "2016-06-07T00:00:00",
          "position": 1421.349976
         },
         {
          "action": "HOLD",
          "actual": 1040,
          "date": "2016-06-08T00:00:00",
          "position": 1419.800049
         },
         {
          "action": "HOLD",
          "actual": 1030.5,
          "date": "2016-06-09T00:00:00",
          "position": 1395
         },
         {
          "action": "HOLD",
          "actual": 1040,
          "date": "2016-06-10T00:00:00",
          "position": 1300.550049
         },
         {
          "action": "HOLD",
          "actual": 1012,
          "date": "2016-06-13T00:00:00",
          "position": 1327.25
         },
         {
          "action": "HOLD",
          "actual": 1009,
          "date": "2016-06-14T00:00:00",
          "position": 1315
         },
         {
          "action": "HOLD",
          "actual": 1005.0499880000001,
          "date": "2016-06-15T00:00:00",
          "position": 1331
         },
         {
          "action": "HOLD",
          "actual": 1004,
          "date": "2016-06-16T00:00:00",
          "position": 1300.099976
         },
         {
          "action": "HOLD",
          "actual": 1002,
          "date": "2016-06-17T00:00:00",
          "position": 1322
         },
         {
          "action": "HOLD",
          "actual": 1025,
          "date": "2016-06-20T00:00:00",
          "position": 1322
         },
         {
          "action": "HOLD",
          "actual": 1019,
          "date": "2016-06-21T00:00:00",
          "position": 1305.050049
         },
         {
          "action": "HOLD",
          "actual": 1020,
          "date": "2016-06-22T00:00:00",
          "position": 1330
         },
         {
          "action": "HOLD",
          "actual": 1025,
          "date": "2016-06-23T00:00:00",
          "position": 1310
         },
         {
          "action": "HOLD",
          "actual": 1014.5,
          "date": "2016-06-24T00:00:00",
          "position": 1315
         },
         {
          "action": "HOLD",
          "actual": 999,
          "date": "2016-06-27T00:00:00",
          "position": 1315
         },
         {
          "action": "HOLD",
          "actual": 993,
          "date": "2016-06-28T00:00:00",
          "position": 1315
         },
         {
          "action": "HOLD",
          "actual": 1000,
          "date": "2016-06-29T00:00:00",
          "position": 1299.949951
         },
         {
          "action": "HOLD",
          "actual": 990,
          "date": "2016-06-30T00:00:00",
          "position": 1285.199951
         },
         {
          "action": "HOLD",
          "actual": 1000,
          "date": "2016-07-01T00:00:00",
          "position": 1255.050049
         },
         {
          "action": "HOLD",
          "actual": 1000,
          "date": "2016-07-05T00:00:00",
          "position": 1228
         },
         {
          "action": "HOLD",
          "actual": 1005,
          "date": "2016-07-06T00:00:00",
          "position": 1221
         },
         {
          "action": "HOLD",
          "actual": 997,
          "date": "2016-07-07T00:00:00",
          "position": 1217
         },
         {
          "action": "HOLD",
          "actual": 990,
          "date": "2016-07-08T00:00:00",
          "position": 1238
         },
         {
          "action": "HOLD",
          "actual": 980,
          "date": "2016-07-11T00:00:00",
          "position": 1238
         },
         {
          "action": "HOLD",
          "actual": 971,
          "date": "2016-07-12T00:00:00",
          "position": 1239
         },
         {
          "action": "HOLD",
          "actual": 975,
          "date": "2016-07-13T00:00:00",
          "position": 1240
         },
         {
          "action": "HOLD",
          "actual": 990,
          "date": "2016-07-14T00:00:00",
          "position": 1250
         },
         {
          "action": "HOLD",
          "actual": 990,
          "date": "2016-07-15T00:00:00",
          "position": 1250
         },
         {
          "action": "HOLD",
          "actual": 983,
          "date": "2016-07-18T00:00:00",
          "position": 1273.5
         },
         {
          "action": "HOLD",
          "actual": 975,
          "date": "2016-07-19T00:00:00",
          "position": 1273.900024
         },
         {
          "action": "HOLD",
          "actual": 973,
          "date": "2016-07-20T00:00:00",
          "position": 1269.900024
         },
         {
          "action": "HOLD",
          "actual": 978,
          "date": "2016-07-21T00:00:00",
          "position": 1260
         },
         {
          "action": "HOLD",
          "actual": 975.099976,
          "date": "2016-07-22T00:00:00",
          "position": 1260
         },
         {
          "action": "HOLD",
          "actual": 976,
          "date": "2016-07-25T00:00:00",
          "position": 1289.5
         },
         {
          "action": "HOLD",
          "actual": 983,
          "date": "2016-07-26T00:00:00",
          "position": 1313
         },
         {
          "action": "HOLD",
          "actual": 969.9500119999999,
          "date": "2016-07-27T00:00:00",
          "position": 1316
         },
         {
          "action": "HOLD",
          "actual": 945.5,
          "date": "2016-07-28T00:00:00",
          "position": 1300
         },
         {
          "action": "HOLD",
          "actual": 930,
          "date": "2016-07-29T00:00:00",
          "position": 1320
         },
         {
          "action": "HOLD",
          "actual": 938,
          "date": "2016-08-01T00:00:00",
          "position": 1300
         },
         {
          "action": "HOLD",
          "actual": 940,
          "date": "2016-08-02T00:00:00",
          "position": 1306.150024
         },
         {
          "action": "HOLD",
          "actual": 945,
          "date": "2016-08-03T00:00:00",
          "position": 1306.150024
         },
         {
          "action": "HOLD",
          "actual": 950,
          "date": "2016-08-04T00:00:00",
          "position": 1297.900024
         },
         {
          "action": "HOLD",
          "actual": 950,
          "date": "2016-08-05T00:00:00",
          "position": 1260.050049
         },
         {
          "action": "HOLD",
          "actual": 954,
          "date": "2016-08-08T00:00:00",
          "position": 1260
         },
         {
          "action": "HOLD",
          "actual": 940,
          "date": "2016-08-09T00:00:00",
          "position": 1269
         },
         {
          "action": "HOLD",
          "actual": 935,
          "date": "2016-08-10T00:00:00",
          "position": 1256
         },
         {
          "action": "HOLD",
          "actual": 930,
          "date": "2016-08-11T00:00:00",
          "position": 1265.050049
         },
         {
          "action": "HOLD",
          "actual": 940,
          "date": "2016-08-12T00:00:00",
          "position": 1270
         },
         {
          "action": "HOLD",
          "actual": 940,
          "date": "2016-08-15T00:00:00",
          "position": 1263
         },
         {
          "action": "HOLD",
          "actual": 950,
          "date": "2016-08-16T00:00:00",
          "position": 1240
         },
         {
          "action": "HOLD",
          "actual": 940,
          "date": "2016-08-17T00:00:00",
          "position": 1126
         },
         {
          "action": "HOLD",
          "actual": 917,
          "date": "2016-08-18T00:00:00",
          "position": 1086
         },
         {
          "action": "HOLD",
          "actual": 913,
          "date": "2016-08-19T00:00:00",
          "position": 1057
         },
         {
          "action": "HOLD",
          "actual": 913,
          "date": "2016-08-22T00:00:00",
          "position": 1095
         },
         {
          "action": "HOLD",
          "actual": 917,
          "date": "2016-08-23T00:00:00",
          "position": 1110
         },
         {
          "action": "HOLD",
          "actual": 920.099976,
          "date": "2016-08-24T00:00:00",
          "position": 1117
         },
         {
          "action": "HOLD",
          "actual": 920.0499880000001,
          "date": "2016-08-25T00:00:00",
          "position": 1060
         },
         {
          "action": "HOLD",
          "actual": 917,
          "date": "2016-08-26T00:00:00",
          "position": 1110
         },
         {
          "action": "HOLD",
          "actual": 921,
          "date": "2016-08-29T00:00:00",
          "position": 1081
         },
         {
          "action": "HOLD",
          "actual": 906.9500119999999,
          "date": "2016-08-30T00:00:00",
          "position": 1081
         },
         {
          "action": "HOLD",
          "actual": 885,
          "date": "2016-08-31T00:00:00",
          "position": 1082.5
         },
         {
          "action": "HOLD",
          "actual": 891,
          "date": "2016-09-01T00:00:00",
          "position": 1068
         },
         {
          "action": "HOLD",
          "actual": 904.25,
          "date": "2016-09-02T00:00:00",
          "position": 1046
         },
         {
          "action": "HOLD",
          "actual": 910,
          "date": "2016-09-06T00:00:00",
          "position": 1050
         },
         {
          "action": "HOLD",
          "actual": 920,
          "date": "2016-09-07T00:00:00",
          "position": 1050
         },
         {
          "action": "HOLD",
          "actual": 924.75,
          "date": "2016-09-08T00:00:00",
          "position": 1071
         },
         {
          "action": "HOLD",
          "actual": 917,
          "date": "2016-09-09T00:00:00",
          "position": 1078.949951
         },
         {
          "action": "HOLD",
          "actual": 891.0499880000001,
          "date": "2016-09-12T00:00:00",
          "position": 1079.949951
         },
         {
          "action": "HOLD",
          "actual": 905,
          "date": "2016-09-13T00:00:00",
          "position": 1055.099976
         },
         {
          "action": "HOLD",
          "actual": 910,
          "date": "2016-09-14T00:00:00",
          "position": 1051.050049
         },
         {
          "action": "HOLD",
          "actual": 910,
          "date": "2016-09-15T00:00:00",
          "position": 1060
         },
         {
          "action": "HOLD",
          "actual": 891,
          "date": "2016-09-16T00:00:00",
          "position": 1051
         },
         {
          "action": "HOLD",
          "actual": 899.400024,
          "date": "2016-09-19T00:00:00",
          "position": 1041
         },
         {
          "action": "HOLD",
          "actual": 910,
          "date": "2016-09-20T00:00:00",
          "position": 1040
         },
         {
          "action": "HOLD",
          "actual": 894,
          "date": "2016-09-21T00:00:00",
          "position": 1030
         },
         {
          "action": "HOLD",
          "actual": 879,
          "date": "2016-09-22T00:00:00",
          "position": 1017
         },
         {
          "action": "HOLD",
          "actual": 870,
          "date": "2016-09-23T00:00:00",
          "position": 1012
         },
         {
          "action": "HOLD",
          "actual": 853.5,
          "date": "2016-09-26T00:00:00",
          "position": 1025
         },
         {
          "action": "HOLD",
          "actual": 863,
          "date": "2016-09-27T00:00:00",
          "position": 1034.400024
         },
         {
          "action": "HOLD",
          "actual": 856,
          "date": "2016-09-28T00:00:00",
          "position": 981.0499880000001
         },
         {
          "action": "HOLD",
          "actual": 850.150024,
          "date": "2016-09-29T00:00:00",
          "position": 942
         },
         {
          "action": "HOLD",
          "actual": 900,
          "date": "2016-09-30T00:00:00",
          "position": 944
         },
         {
          "action": "HOLD",
          "actual": 900,
          "date": "2016-10-03T00:00:00",
          "position": 1013
         },
         {
          "action": "HOLD",
          "actual": 885,
          "date": "2016-10-04T00:00:00",
          "position": 1040
         },
         {
          "action": "HOLD",
          "actual": 893,
          "date": "2016-10-05T00:00:00",
          "position": 1020
         },
         {
          "action": "HOLD",
          "actual": 892.5,
          "date": "2016-10-06T00:00:00",
          "position": 1030
         },
         {
          "action": "HOLD",
          "actual": 870,
          "date": "2016-10-07T00:00:00",
          "position": 1010
         },
         {
          "action": "HOLD",
          "actual": 881.599976,
          "date": "2016-10-10T00:00:00",
          "position": 1040
         },
         {
          "action": "HOLD",
          "actual": 875,
          "date": "2016-10-11T00:00:00",
          "position": 1075
         },
         {
          "action": "HOLD",
          "actual": 860,
          "date": "2016-10-12T00:00:00",
          "position": 1075
         },
         {
          "action": "HOLD",
          "actual": 868.900024,
          "date": "2016-10-13T00:00:00",
          "position": 1075
         },
         {
          "action": "HOLD",
          "actual": 875.9500119999999,
          "date": "2016-10-14T00:00:00",
          "position": 1100
         },
         {
          "action": "HOLD",
          "actual": 882,
          "date": "2016-10-17T00:00:00",
          "position": 1189
         },
         {
          "action": "HOLD",
          "actual": 867,
          "date": "2016-10-18T00:00:00",
          "position": 1189
         },
         {
          "action": "HOLD",
          "actual": 865,
          "date": "2016-10-19T00:00:00",
          "position": 1157
         },
         {
          "action": "HOLD",
          "actual": 865,
          "date": "2016-10-20T00:00:00",
          "position": 1136
         },
         {
          "action": "BUY",
          "actual": 869,
          "date": "2016-10-21T00:00:00",
          "position": 1136
         },
         {
          "action": "HOLD",
          "actual": 870,
          "date": "2016-10-24T00:00:00",
          "position": 1117
         },
         {
          "action": "HOLD",
          "actual": 870,
          "date": "2016-10-25T00:00:00",
          "position": 1130
         },
         {
          "action": "HOLD",
          "actual": 870,
          "date": "2016-10-26T00:00:00",
          "position": 1113
         },
         {
          "action": "HOLD",
          "actual": 870,
          "date": "2016-10-27T00:00:00",
          "position": 1099
         },
         {
          "action": "HOLD",
          "actual": 870,
          "date": "2016-10-28T00:00:00",
          "position": 1070
         },
         {
          "action": "HOLD",
          "actual": 869,
          "date": "2016-10-31T00:00:00",
          "position": 1049
         },
         {
          "action": "HOLD",
          "actual": 869,
          "date": "2016-11-01T00:00:00",
          "position": 1033.25
         },
         {
          "action": "HOLD",
          "actual": 870,
          "date": "2016-11-02T00:00:00",
          "position": 1000
         },
         {
          "action": "HOLD",
          "actual": 870,
          "date": "2016-11-03T00:00:00",
          "position": 1000
         },
         {
          "action": "HOLD",
          "actual": 888,
          "date": "2016-11-04T00:00:00",
          "position": 990
         },
         {
          "action": "HOLD",
          "actual": 978.9500119999999,
          "date": "2016-11-07T00:00:00",
          "position": 985
         },
         {
          "action": "HOLD",
          "actual": 998.5,
          "date": "2016-11-08T00:00:00",
          "position": 987.099976
         },
         {
          "action": "HOLD",
          "actual": 1019.7999880000001,
          "date": "2016-11-09T00:00:00",
          "position": 985
         },
         {
          "action": "HOLD",
          "actual": 1038,
          "date": "2016-11-10T00:00:00",
          "position": 986.599976
         },
         {
          "action": "HOLD",
          "actual": 1038,
          "date": "2016-11-11T00:00:00",
          "position": 999.9500119999999
         },
         {
          "action": "HOLD",
          "actual": 1007.0499880000001,
          "date": "2016-11-14T00:00:00",
          "position": 1000
         },
         {
          "action": "HOLD",
          "actual": 997,
          "date": "2016-11-15T00:00:00",
          "position": 1004
         },
         {
          "action": "HOLD",
          "actual": 997,
          "date": "2016-11-16T00:00:00",
          "position": 1024.949951
         },
         {
          "action": "HOLD",
          "actual": 1011.7999880000001,
          "date": "2016-11-17T00:00:00",
          "position": 1003.0499880000001
         },
         {
          "action": "HOLD",
          "actual": 999.0499880000001,
          "date": "2016-11-18T00:00:00",
          "position": 1015
         },
         {
          "action": "HOLD",
          "actual": 1000.0499880000001,
          "date": "2016-11-21T00:00:00",
          "position": 1003.099976
         },
         {
          "action": "HOLD",
          "actual": 1002.2000119999999,
          "date": "2016-11-22T00:00:00",
          "position": 1065.650024
         },
         {
          "action": "HOLD",
          "actual": 1030,
          "date": "2016-11-23T00:00:00",
          "position": 1030.099976
         },
         {
          "action": "HOLD",
          "actual": 1045,
          "date": "2016-11-25T00:00:00",
          "position": 1012
         },
         {
          "action": "HOLD",
          "actual": 1055,
          "date": "2016-11-28T00:00:00",
          "position": 1014
         },
         {
          "action": "HOLD",
          "actual": 1055.400024,
          "date": "2016-11-29T00:00:00",
          "position": 1006
         },
         {
          "action": "HOLD",
          "actual": 1060,
          "date": "2016-11-30T00:00:00",
          "position": 1021.7999880000001
         },
         {
          "action": "HOLD",
          "actual": 1070,
          "date": "2016-12-01T00:00:00",
          "position": 1020
         },
         {
          "action": "SELL",
          "actual": 1069.800049,
          "date": "2016-12-02T00:00:00",
          "position": 1020
         },
         {
          "action": "HOLD",
          "actual": 1060.25,
          "date": "2016-12-05T00:00:00",
          "position": 1006.5499880000001
         },
         {
          "action": "HOLD",
          "actual": 1070,
          "date": "2016-12-06T00:00:00",
          "position": 1019
         },
         {
          "action": "HOLD",
          "actual": 1063.949951,
          "date": "2016-12-07T00:00:00",
          "position": 1019
         },
         {
          "action": "HOLD",
          "actual": 1095,
          "date": "2016-12-08T00:00:00",
          "position": 1010
         },
         {
          "action": "HOLD",
          "actual": 1084,
          "date": "2016-12-09T00:00:00",
          "position": 1002
         },
         {
          "action": "HOLD",
          "actual": 1084,
          "date": "2016-12-12T00:00:00",
          "position": 1010
         },
         {
          "action": "HOLD",
          "actual": 1083,
          "date": "2016-12-13T00:00:00",
          "position": 1001
         },
         {
          "action": "HOLD",
          "actual": 1089,
          "date": "2016-12-14T00:00:00",
          "position": 1001
         },
         {
          "action": "HOLD",
          "actual": 1077.949951,
          "date": "2016-12-15T00:00:00",
          "position": 1065
         },
         {
          "action": "HOLD",
          "actual": 1090,
          "date": "2016-12-16T00:00:00",
          "position": 1060.900024
         },
         {
          "action": "HOLD",
          "actual": 1070,
          "date": "2016-12-19T00:00:00",
          "position": 1057.949951
         },
         {
          "action": "HOLD",
          "actual": 1088,
          "date": "2016-12-20T00:00:00",
          "position": 1033
         },
         {
          "action": "BUY",
          "actual": 1090,
          "date": "2016-12-21T00:00:00",
          "position": 1025
         },
         {
          "action": "HOLD",
          "actual": 1090,
          "date": "2016-12-22T00:00:00",
          "position": 1038
         },
         {
          "action": "HOLD",
          "actual": 1089.25,
          "date": "2016-12-23T00:00:00",
          "position": 1030.099976
         },
         {
          "action": "HOLD",
          "actual": 1077,
          "date": "2016-12-27T00:00:00",
          "position": 1032
         },
         {
          "action": "HOLD",
          "actual": 1084.75,
          "date": "2016-12-28T00:00:00",
          "position": 1020
         },
         {
          "action": "HOLD",
          "actual": 1090,
          "date": "2016-12-29T00:00:00",
          "position": 1025
         },
         {
          "action": "HOLD",
          "actual": 1100,
          "date": "2016-12-30T00:00:00",
          "position": 1018
         },
         {
          "action": "HOLD",
          "actual": 1035,
          "date": "2017-01-03T00:00:00",
          "position": 1025
         },
         {
          "action": "HOLD",
          "actual": 1025.25,
          "date": "2017-01-04T00:00:00",
          "position": 1003
         },
         {
          "action": "HOLD",
          "actual": 1020,
          "date": "2017-01-05T00:00:00",
          "position": 1016.849976
         },
         {
          "action": "HOLD",
          "actual": 1020,
          "date": "2017-01-06T00:00:00",
          "position": 1010
         },
         {
          "action": "HOLD",
          "actual": 1023.5,
          "date": "2017-01-09T00:00:00",
          "position": 997
         },
         {
          "action": "HOLD",
          "actual": 1030,
          "date": "2017-01-10T00:00:00",
          "position": 995
         },
         {
          "action": "HOLD",
          "actual": 1034.550049,
          "date": "2017-01-11T00:00:00",
          "position": 995
         },
         {
          "action": "HOLD",
          "actual": 1053.5,
          "date": "2017-01-12T00:00:00",
          "position": 997.0499880000001
         },
         {
          "action": "HOLD",
          "actual": 1041.099976,
          "date": "2017-01-13T00:00:00",
          "position": 1000
         },
         {
          "action": "HOLD",
          "actual": 1070,
          "date": "2017-01-17T00:00:00",
          "position": 1000
         },
         {
          "action": "HOLD",
          "actual": 1056.550049,
          "date": "2017-01-18T00:00:00",
          "position": 999
         },
         {
          "action": "HOLD",
          "actual": 1065,
          "date": "2017-01-19T00:00:00",
          "position": 999.9500119999999
         },
         {
          "action": "HOLD",
          "actual": 1083,
          "date": "2017-01-20T00:00:00",
          "position": 995
         },
         {
          "action": "HOLD",
          "actual": 1084.5,
          "date": "2017-01-23T00:00:00",
          "position": 974
         },
         {
          "action": "HOLD",
          "actual": 1102.75,
          "date": "2017-01-24T00:00:00",
          "position": 985
         },
         {
          "action": "HOLD",
          "actual": 1120,
          "date": "2017-01-25T00:00:00",
          "position": 983
         },
         {
          "action": "HOLD",
          "actual": 1110,
          "date": "2017-01-26T00:00:00",
          "position": 985
         },
         {
          "action": "HOLD",
          "actual": 1080,
          "date": "2017-01-27T00:00:00",
          "position": 982
         },
         {
          "action": "HOLD",
          "actual": 1100,
          "date": "2017-01-30T00:00:00",
          "position": 994.5
         },
         {
          "action": "HOLD",
          "actual": 1178.900024,
          "date": "2017-01-31T00:00:00",
          "position": 1003
         },
         {
          "action": "HOLD",
          "actual": 1195,
          "date": "2017-02-01T00:00:00",
          "position": 1016
         },
         {
          "action": "HOLD",
          "actual": 1165,
          "date": "2017-02-02T00:00:00",
          "position": 1020
         },
         {
          "action": "HOLD",
          "actual": 1124,
          "date": "2017-02-03T00:00:00",
          "position": 1046.5
         },
         {
          "action": "HOLD",
          "actual": 1136,
          "date": "2017-02-06T00:00:00",
          "position": 1054.5
         },
         {
          "action": "HOLD",
          "actual": 1128.099976,
          "date": "2017-02-07T00:00:00",
          "position": 1082
         },
         {
          "action": "HOLD",
          "actual": 1140,
          "date": "2017-02-08T00:00:00",
          "position": 1116
         },
         {
          "action": "HOLD",
          "actual": 1155,
          "date": "2017-02-09T00:00:00",
          "position": 1120
         },
         {
          "action": "HOLD",
          "actual": 1155,
          "date": "2017-02-10T00:00:00",
          "position": 1124
         },
         {
          "action": "HOLD",
          "actual": 1150,
          "date": "2017-02-13T00:00:00",
          "position": 1110
         },
         {
          "action": "HOLD",
          "actual": 1121,
          "date": "2017-02-14T00:00:00",
          "position": 1110
         },
         {
          "action": "HOLD",
          "actual": 1119.949951,
          "date": "2017-02-15T00:00:00",
          "position": 1109.900024
         },
         {
          "action": "HOLD",
          "actual": 1120,
          "date": "2017-02-16T00:00:00",
          "position": 1100
         },
         {
          "action": "HOLD",
          "actual": 1123,
          "date": "2017-02-17T00:00:00",
          "position": 1100
         },
         {
          "action": "HOLD",
          "actual": 1135,
          "date": "2017-02-21T00:00:00",
          "position": 1086
         },
         {
          "action": "HOLD",
          "actual": 1150,
          "date": "2017-02-22T00:00:00",
          "position": 1072.050049
         },
         {
          "action": "HOLD",
          "actual": 1160,
          "date": "2017-02-23T00:00:00",
          "position": 1084.900024
         },
         {
          "action": "HOLD",
          "actual": 1190,
          "date": "2017-02-24T00:00:00",
          "position": 1075
         },
         {
          "action": "HOLD",
          "actual": 1175,
          "date": "2017-02-27T00:00:00",
          "position": 1060
         },
         {
          "action": "HOLD",
          "actual": 1175,
          "date": "2017-02-28T00:00:00",
          "position": 1051
         },
         {
          "action": "HOLD",
          "actual": 1169,
          "date": "2017-03-01T00:00:00",
          "position": 1052
         },
         {
          "action": "HOLD",
          "actual": 1140,
          "date": "2017-03-02T00:00:00",
          "position": 1045
         },
         {
          "action": "HOLD",
          "actual": 1140.050049,
          "date": "2017-03-03T00:00:00",
          "position": 1060
         },
         {
          "action": "HOLD",
          "actual": 1146,
          "date": "2017-03-06T00:00:00",
          "position": 1074
         },
         {
          "action": "HOLD",
          "actual": 1174,
          "date": "2017-03-07T00:00:00",
          "position": 1070
         },
         {
          "action": "HOLD",
          "actual": 1161,
          "date": "2017-03-08T00:00:00",
          "position": 1070
         },
         {
          "action": "HOLD",
          "actual": 1160,
          "date": "2017-03-09T00:00:00",
          "position": 1042
         },
         {
          "action": "SELL",
          "actual": 1174.5,
          "date": "2017-03-10T00:00:00",
          "position": 1042
         },
         {
          "action": "HOLD",
          "actual": 1189,
          "date": "2017-03-13T00:00:00",
          "position": 1045
         },
         {
          "action": "HOLD",
          "actual": 1185,
          "date": "2017-03-14T00:00:00",
          "position": 1051.050049
         },
         {
          "action": "HOLD",
          "actual": 1173,
          "date": "2017-03-15T00:00:00",
          "position": 1051.050049
         },
         {
          "action": "HOLD",
          "actual": 1187.900024,
          "date": "2017-03-16T00:00:00",
          "position": 1075
         },
         {
          "action": "HOLD",
          "actual": 1098.900024,
          "date": "2017-03-17T00:00:00",
          "position": 1020
         },
         {
          "action": "HOLD",
          "actual": 1078.900024,
          "date": "2017-03-20T00:00:00",
          "position": 1002.150024
         },
         {
          "action": "HOLD",
          "actual": 1040,
          "date": "2017-03-21T00:00:00",
          "position": 1020
         },
         {
          "action": "HOLD",
          "actual": 1020,
          "date": "2017-03-22T00:00:00",
          "position": 1074
         },
         {
          "action": "HOLD",
          "actual": 1050,
          "date": "2017-03-23T00:00:00",
          "position": 1030
         },
         {
          "action": "HOLD",
          "actual": 1065,
          "date": "2017-03-24T00:00:00",
          "position": 1038
         },
         {
          "action": "HOLD",
          "actual": 1054.800049,
          "date": "2017-03-27T00:00:00",
          "position": 1040
         },
         {
          "action": "HOLD",
          "actual": 1032.800049,
          "date": "2017-03-28T00:00:00",
          "position": 1030.5
         },
         {
          "action": "HOLD",
          "actual": 1042,
          "date": "2017-03-29T00:00:00",
          "position": 1040
         },
         {
          "action": "HOLD",
          "actual": 1010,
          "date": "2017-03-30T00:00:00",
          "position": 1012
         },
         {
          "action": "HOLD",
          "actual": 1030,
          "date": "2017-03-31T00:00:00",
          "position": 1009
         },
         {
          "action": "HOLD",
          "actual": 1029,
          "date": "2017-04-03T00:00:00",
          "position": 1005.0499880000001
         },
         {
          "action": "HOLD",
          "actual": 985,
          "date": "2017-04-04T00:00:00",
          "position": 1004
         },
         {
          "action": "HOLD",
          "actual": 950,
          "date": "2017-04-05T00:00:00",
          "position": 1002
         },
         {
          "action": "HOLD",
          "actual": 952.5,
          "date": "2017-04-06T00:00:00",
          "position": 1025
         },
         {
          "action": "HOLD",
          "actual": 1000,
          "date": "2017-04-07T00:00:00",
          "position": 1019
         },
         {
          "action": "HOLD",
          "actual": 965,
          "date": "2017-04-10T00:00:00",
          "position": 1020
         },
         {
          "action": "HOLD",
          "actual": 970,
          "date": "2017-04-11T00:00:00",
          "position": 1025
         },
         {
          "action": "HOLD",
          "actual": 955,
          "date": "2017-04-12T00:00:00",
          "position": 1014.5
         },
         {
          "action": "HOLD",
          "actual": 965,
          "date": "2017-04-13T00:00:00",
          "position": 999
         },
         {
          "action": "HOLD",
          "actual": 965,
          "date": "2017-04-17T00:00:00",
          "position": 993
         },
         {
          "action": "HOLD",
          "actual": 967,
          "date": "2017-04-18T00:00:00",
          "position": 1000
         },
         {
          "action": "HOLD",
          "actual": 999,
          "date": "2017-04-19T00:00:00",
          "position": 990
         },
         {
          "action": "HOLD",
          "actual": 998,
          "date": "2017-04-20T00:00:00",
          "position": 1000
         },
         {
          "action": "HOLD",
          "actual": 1020,
          "date": "2017-04-21T00:00:00",
          "position": 1000
         },
         {
          "action": "HOLD",
          "actual": 1035,
          "date": "2017-04-24T00:00:00",
          "position": 1005
         },
         {
          "action": "HOLD",
          "actual": 1043,
          "date": "2017-04-25T00:00:00",
          "position": 997
         },
         {
          "action": "HOLD",
          "actual": 1050,
          "date": "2017-04-26T00:00:00",
          "position": 990
         },
         {
          "action": "HOLD",
          "actual": 1095,
          "date": "2017-04-27T00:00:00",
          "position": 980
         },
         {
          "action": "HOLD",
          "actual": 1100,
          "date": "2017-04-28T00:00:00",
          "position": 971
         },
         {
          "action": "HOLD",
          "actual": 1100,
          "date": "2017-05-01T00:00:00",
          "position": 975
         },
         {
          "action": "HOLD",
          "actual": 1118,
          "date": "2017-05-02T00:00:00",
          "position": 990
         },
         {
          "action": "HOLD",
          "actual": 1118,
          "date": "2017-05-03T00:00:00",
          "position": 990
         },
         {
          "action": "HOLD",
          "actual": 1100,
          "date": "2017-05-04T00:00:00",
          "position": 983
         },
         {
          "action": "HOLD",
          "actual": 1095,
          "date": "2017-05-05T00:00:00",
          "position": 975
         },
         {
          "action": "HOLD",
          "actual": 1118,
          "date": "2017-05-08T00:00:00",
          "position": 973
         },
         {
          "action": "HOLD",
          "actual": 1116,
          "date": "2017-05-09T00:00:00",
          "position": 978
         },
         {
          "action": "HOLD",
          "actual": 1115,
          "date": "2017-05-10T00:00:00",
          "position": 975.099976
         },
         {
          "action": "HOLD",
          "actual": 1105,
          "date": "2017-05-11T00:00:00",
          "position": 976
         },
         {
          "action": "HOLD",
          "actual": 1110,
          "date": "2017-05-12T00:00:00",
          "position": 983
         },
         {
          "action": "BUY",
          "actual": 1091.900024,
          "date": "2017-05-15T00:00:00",
          "position": 969.9500119999999
         },
         {
          "action": "HOLD",
          "actual": 1112,
          "date": "2017-05-16T00:00:00",
          "position": 945.5
         },
         {
          "action": "HOLD",
          "actual": 1097.800049,
          "date": "2017-05-17T00:00:00",
          "position": 930
         },
         {
          "action": "HOLD",
          "actual": 1085,
          "date": "2017-05-18T00:00:00",
          "position": 938
         },
         {
          "action": "HOLD",
          "actual": 1097.5,
          "date": "2017-05-19T00:00:00",
          "position": 940
         },
         {
          "action": "HOLD",
          "actual": 1107.900024,
          "date": "2017-05-22T00:00:00",
          "position": 945
         },
         {
          "action": "HOLD",
          "actual": 1112,
          "date": "2017-05-23T00:00:00",
          "position": 950
         },
         {
          "action": "HOLD",
          "actual": 1100,
          "date": "2017-05-24T00:00:00",
          "position": 950
         },
         {
          "action": "SELL",
          "actual": 1125,
          "date": "2017-05-25T00:00:00",
          "position": 954
         },
         {
          "action": "HOLD",
          "actual": 1108,
          "date": "2017-05-26T00:00:00",
          "position": 940
         },
         {
          "action": "HOLD",
          "actual": 1160,
          "date": "2017-05-30T00:00:00",
          "position": 935
         },
         {
          "action": "HOLD",
          "actual": 1194.949951,
          "date": "2017-05-31T00:00:00",
          "position": 930
         },
         {
          "action": "HOLD",
          "actual": 1189,
          "date": "2017-06-01T00:00:00",
          "position": 940
         },
         {
          "action": "HOLD",
          "actual": 1180,
          "date": "2017-06-02T00:00:00",
          "position": 940
         },
         {
          "action": "HOLD",
          "actual": 1174,
          "date": "2017-06-05T00:00:00",
          "position": 950
         },
         {
          "action": "HOLD",
          "actual": 1167,
          "date": "2017-06-06T00:00:00",
          "position": 940
         },
         {
          "action": "HOLD",
          "actual": 1145,
          "date": "2017-06-07T00:00:00",
          "position": 917
         },
         {
          "action": "HOLD",
          "actual": 1140,
          "date": "2017-06-08T00:00:00",
          "position": 913
         },
         {
          "action": "HOLD",
          "actual": 1164,
          "date": "2017-06-09T00:00:00",
          "position": 913
         },
         {
          "action": "HOLD",
          "actual": 1168,
          "date": "2017-06-12T00:00:00",
          "position": 917
         },
         {
          "action": "HOLD",
          "actual": 1175,
          "date": "2017-06-13T00:00:00",
          "position": 920.099976
         },
         {
          "action": "HOLD",
          "actual": 1170,
          "date": "2017-06-14T00:00:00",
          "position": 920.0499880000001
         },
         {
          "action": "HOLD",
          "actual": 1170,
          "date": "2017-06-15T00:00:00",
          "position": 917
         },
         {
          "action": "HOLD",
          "actual": 1180,
          "date": "2017-06-16T00:00:00",
          "position": 921
         },
         {
          "action": "HOLD",
          "actual": 1182.199951,
          "date": "2017-06-19T00:00:00",
          "position": 906.9500119999999
         },
         {
          "action": "HOLD",
          "actual": 1180.150024,
          "date": "2017-06-20T00:00:00",
          "position": 885
         },
         {
          "action": "HOLD",
          "actual": 1191.949951,
          "date": "2017-06-21T00:00:00",
          "position": 891
         },
         {
          "action": "HOLD",
          "actual": 1190,
          "date": "2017-06-22T00:00:00",
          "position": 904.25
         },
         {
          "action": "HOLD",
          "actual": 1194,
          "date": "2017-06-23T00:00:00",
          "position": 910
         },
         {
          "action": "HOLD",
          "actual": 1175,
          "date": "2017-06-26T00:00:00",
          "position": 920
         },
         {
          "action": "HOLD",
          "actual": 1188,
          "date": "2017-06-27T00:00:00",
          "position": 924.75
         },
         {
          "action": "HOLD",
          "actual": 1194,
          "date": "2017-06-28T00:00:00",
          "position": 917
         },
         {
          "action": "HOLD",
          "actual": 1195,
          "date": "2017-06-29T00:00:00",
          "position": 891.0499880000001
         },
         {
          "action": "HOLD",
          "actual": 1180,
          "date": "2017-06-30T00:00:00",
          "position": 905
         },
         {
          "action": "HOLD",
          "actual": 1178,
          "date": "2017-07-03T00:00:00",
          "position": 910
         },
         {
          "action": "HOLD",
          "actual": 1175,
          "date": "2017-07-05T00:00:00",
          "position": 910
         },
         {
          "action": "HOLD",
          "actual": 1188,
          "date": "2017-07-06T00:00:00",
          "position": 891
         },
         {
          "action": "HOLD",
          "actual": 1168,
          "date": "2017-07-07T00:00:00",
          "position": 899.400024
         },
         {
          "action": "HOLD",
          "actual": 1160,
          "date": "2017-07-10T00:00:00",
          "position": 910
         },
         {
          "action": "BUY",
          "actual": 1150,
          "date": "2017-07-11T00:00:00",
          "position": 894
         },
         {
          "action": "HOLD",
          "actual": 1165,
          "date": "2017-07-12T00:00:00",
          "position": 879
         },
         {
          "action": "HOLD",
          "actual": 1160,
          "date": "2017-07-13T00:00:00",
          "position": 870
         },
         {
          "action": "HOLD",
          "actual": 1165,
          "date": "2017-07-14T00:00:00",
          "position": 853.5
         },
         {
          "action": "HOLD",
          "actual": 1170,
          "date": "2017-07-17T00:00:00",
          "position": 863
         },
         {
          "action": "HOLD",
          "actual": 1169.949951,
          "date": "2017-07-18T00:00:00",
          "position": 856
         },
         {
          "action": "HOLD",
          "actual": 1194.900024,
          "date": "2017-07-19T00:00:00",
          "position": 850.150024
         },
         {
          "action": "HOLD",
          "actual": 1172.949951,
          "date": "2017-07-20T00:00:00",
          "position": 900
         },
         {
          "action": "HOLD",
          "actual": 1140,
          "date": "2017-07-21T00:00:00",
          "position": 900
         },
         {
          "action": "HOLD",
          "actual": 1143.900024,
          "date": "2017-07-24T00:00:00",
          "position": 885
         },
         {
          "action": "HOLD",
          "actual": 1194,
          "date": "2017-07-25T00:00:00",
          "position": 893
         },
         {
          "action": "HOLD",
          "actual": 1151.949951,
          "date": "2017-07-26T00:00:00",
          "position": 892.5
         },
         {
          "action": "HOLD",
          "actual": 1153,
          "date": "2017-07-27T00:00:00",
          "position": 870
         },
         {
          "action": "HOLD",
          "actual": 1143,
          "date": "2017-07-28T00:00:00",
          "position": 881.599976
         },
         {
          "action": "HOLD",
          "actual": 1124.449951,
          "date": "2017-07-31T00:00:00",
          "position": 875
         },
         {
          "action": "HOLD",
          "actual": 1133.900024,
          "date": "2017-08-01T00:00:00",
          "position": 860
         },
         {
          "action": "HOLD",
          "actual": 1146,
          "date": "2017-08-02T00:00:00",
          "position": 868.900024
         },
         {
          "action": "HOLD",
          "actual": 1125,
          "date": "2017-08-03T00:00:00",
          "position": 875.9500119999999
         },
         {
          "action": "HOLD",
          "actual": 1137,
          "date": "2017-08-04T00:00:00",
          "position": 882
         },
         {
          "action": "HOLD",
          "actual": 1123,
          "date": "2017-08-07T00:00:00",
          "position": 867
         },
         {
          "action": "HOLD",
          "actual": 1121.900024,
          "date": "2017-08-08T00:00:00",
          "position": 865
         },
         {
          "action": "HOLD",
          "actual": 1118.949951,
          "date": "2017-08-09T00:00:00",
          "position": 865
         },
         {
          "action": "HOLD",
          "actual": 1137,
          "date": "2017-08-10T00:00:00",
          "position": 869
         },
         {
          "action": "HOLD",
          "actual": 1130,
          "date": "2017-08-11T00:00:00",
          "position": 870
         },
         {
          "action": "HOLD",
          "actual": 1105,
          "date": "2017-08-14T00:00:00",
          "position": 870
         },
         {
          "action": "HOLD",
          "actual": 1105,
          "date": "2017-08-15T00:00:00",
          "position": 870
         },
         {
          "action": "HOLD",
          "actual": 1100,
          "date": "2017-08-16T00:00:00",
          "position": 870
         },
         {
          "action": "HOLD",
          "actual": 1090,
          "date": "2017-08-17T00:00:00",
          "position": 870
         },
         {
          "action": "HOLD",
          "actual": 1098,
          "date": "2017-08-18T00:00:00",
          "position": 869
         },
         {
          "action": "HOLD",
          "actual": 1095,
          "date": "2017-08-21T00:00:00",
          "position": 869
         },
         {
          "action": "HOLD",
          "actual": 1030,
          "date": "2017-08-22T00:00:00",
          "position": 870
         },
         {
          "action": "HOLD",
          "actual": 1000,
          "date": "2017-08-23T00:00:00",
          "position": 870
         },
         {
          "action": "HOLD",
          "actual": 990,
          "date": "2017-08-24T00:00:00",
          "position": 888
         },
         {
          "action": "HOLD",
          "actual": 987.5,
          "date": "2017-08-25T00:00:00",
          "position": 978.9500119999999
         },
         {
          "action": "HOLD",
          "actual": 994.900024,
          "date": "2017-08-28T00:00:00",
          "position": 998.5
         },
         {
          "action": "HOLD",
          "actual": 990,
          "date": "2017-08-29T00:00:00",
          "position": 1019.7999880000001
         },
         {
          "action": "HOLD",
          "actual": 984,
          "date": "2017-08-30T00:00:00",
          "position": 1038
         },
         {
          "action": "HOLD",
          "actual": 985,
          "date": "2017-08-31T00:00:00",
          "position": 1038
         },
         {
          "action": "HOLD",
          "actual": 985,
          "date": "2017-09-01T00:00:00",
          "position": 1007.0499880000001
         },
         {
          "action": "HOLD",
          "actual": 990,
          "date": "2017-09-05T00:00:00",
          "position": 997
         },
         {
          "action": "HOLD",
          "actual": 989,
          "date": "2017-09-06T00:00:00",
          "position": 997
         },
         {
          "action": "HOLD",
          "actual": 990,
          "date": "2017-09-07T00:00:00",
          "position": 1011.7999880000001
         },
         {
          "action": "HOLD",
          "actual": 1009,
          "date": "2017-09-08T00:00:00",
          "position": 999.0499880000001
         },
         {
          "action": "HOLD",
          "actual": 1007,
          "date": "2017-09-11T00:00:00",
          "position": 1000.0499880000001
         },
         {
          "action": "HOLD",
          "actual": 1013.5,
          "date": "2017-09-12T00:00:00",
          "position": 1002.2000119999999
         },
         {
          "action": "HOLD",
          "actual": 1002,
          "date": "2017-09-13T00:00:00",
          "position": 1030
         },
         {
          "action": "HOLD",
          "actual": 1002,
          "date": "2017-09-14T00:00:00",
          "position": 1045
         },
         {
          "action": "HOLD",
          "actual": 996,
          "date": "2017-09-15T00:00:00",
          "position": 1055
         },
         {
          "action": "HOLD",
          "actual": 999,
          "date": "2017-09-18T00:00:00",
          "position": 1055.400024
         },
         {
          "action": "HOLD",
          "actual": 993.7000119999999,
          "date": "2017-09-19T00:00:00",
          "position": 1060
         },
         {
          "action": "HOLD",
          "actual": 990.099976,
          "date": "2017-09-20T00:00:00",
          "position": 1070
         },
         {
          "action": "HOLD",
          "actual": 994.9500119999999,
          "date": "2017-09-21T00:00:00",
          "position": 1069.800049
         },
         {
          "action": "HOLD",
          "actual": 999,
          "date": "2017-09-22T00:00:00",
          "position": 1060.25
         },
         {
          "action": "HOLD",
          "actual": 995,
          "date": "2017-09-25T00:00:00",
          "position": 1070
         },
         {
          "action": "HOLD",
          "actual": 995,
          "date": "2017-09-26T00:00:00",
          "position": 1063.949951
         },
         {
          "action": "HOLD",
          "actual": 994.900024,
          "date": "2017-09-27T00:00:00",
          "position": 1095
         },
         {
          "action": "HOLD",
          "actual": 990,
          "date": "2017-09-28T00:00:00",
          "position": 1084
         },
         {
          "action": "HOLD",
          "actual": 990,
          "date": "2017-09-29T00:00:00",
          "position": 1084
         },
         {
          "action": "HOLD",
          "actual": 990,
          "date": "2017-10-02T00:00:00",
          "position": 1083
         },
         {
          "action": "HOLD",
          "actual": 980,
          "date": "2017-10-03T00:00:00",
          "position": 1089
         },
         {
          "action": "HOLD",
          "actual": 984.900024,
          "date": "2017-10-04T00:00:00",
          "position": 1077.949951
         },
         {
          "action": "HOLD",
          "actual": 956.900024,
          "date": "2017-10-05T00:00:00",
          "position": 1090
         },
         {
          "action": "HOLD",
          "actual": 971,
          "date": "2017-10-06T00:00:00",
          "position": 1070
         },
         {
          "action": "HOLD",
          "actual": 979.2999880000001,
          "date": "2017-10-09T00:00:00",
          "position": 1088
         },
         {
          "action": "HOLD",
          "actual": 970,
          "date": "2017-10-10T00:00:00",
          "position": 1090
         },
         {
          "action": "HOLD",
          "actual": 979.5,
          "date": "2017-10-11T00:00:00",
          "position": 1090
         },
         {
          "action": "HOLD",
          "actual": 969,
          "date": "2017-10-12T00:00:00",
          "position": 1089.25
         },
         {
          "action": "HOLD",
          "actual": 958,
          "date": "2017-10-13T00:00:00",
          "position": 1077
         },
         {
          "action": "HOLD",
          "actual": 956.599976,
          "date": "2017-10-16T00:00:00",
          "position": 1084.75
         },
         {
          "action": "HOLD",
          "actual": 960,
          "date": "2017-10-17T00:00:00",
          "position": 1090
         },
         {
          "action": "HOLD",
          "actual": 969,
          "date": "2017-10-18T00:00:00",
          "position": 1100
         },
         {
          "action": "HOLD",
          "actual": 969,
          "date": "2017-10-19T00:00:00",
          "position": 1035
         },
         {
          "action": "HOLD",
          "actual": 969.400024,
          "date": "2017-10-20T00:00:00",
          "position": 1025.25
         },
         {
          "action": "HOLD",
          "actual": 950,
          "date": "2017-10-23T00:00:00",
          "position": 1020
         },
         {
          "action": "HOLD",
          "actual": 945,
          "date": "2017-10-24T00:00:00",
          "position": 1020
         },
         {
          "action": "HOLD",
          "actual": 954.9500119999999,
          "date": "2017-10-25T00:00:00",
          "position": 1023.5
         },
         {
          "action": "HOLD",
          "actual": 954,
          "date": "2017-10-26T00:00:00",
          "position": 1030
         },
         {
          "action": "HOLD",
          "actual": 972,
          "date": "2017-10-27T00:00:00",
          "position": 1034.550049
         },
         {
          "action": "HOLD",
          "actual": 978.7999880000001,
          "date": "2017-10-30T00:00:00",
          "position": 1053.5
         },
         {
          "action": "HOLD",
          "actual": 965.349976,
          "date": "2017-10-31T00:00:00",
          "position": 1041.099976
         },
         {
          "action": "HOLD",
          "actual": 965.349976,
          "date": "2017-11-01T00:00:00",
          "position": 1070
         },
         {
          "action": "HOLD",
          "actual": 970,
          "date": "2017-11-02T00:00:00",
          "position": 1056.550049
         },
         {
          "action": "HOLD",
          "actual": 970,
          "date": "2017-11-03T00:00:00",
          "position": 1065
         },
         {
          "action": "HOLD",
          "actual": 967.900024,
          "date": "2017-11-06T00:00:00",
          "position": 1083
         },
         {
          "action": "HOLD",
          "actual": 961,
          "date": "2017-11-07T00:00:00",
          "position": 1084.5
         },
         {
          "action": "HOLD",
          "actual": 970.650024,
          "date": "2017-11-08T00:00:00",
          "position": 1102.75
         },
         {
          "action": "HOLD",
          "actual": 965,
          "date": "2017-11-09T00:00:00",
          "position": 1120
         },
         {
          "action": "HOLD",
          "actual": 970,
          "date": "2017-11-10T00:00:00",
          "position": 1110
         },
         {
          "action": "HOLD",
          "actual": 970,
          "date": "2017-11-13T00:00:00",
          "position": 1080
         },
         {
          "action": "HOLD",
          "actual": 969.9500119999999,
          "date": "2017-11-14T00:00:00",
          "position": 1100
         },
         {
          "action": "HOLD",
          "actual": 969.5499880000001,
          "date": "2017-11-15T00:00:00",
          "position": 1178.900024
         },
         {
          "action": "HOLD",
          "actual": 972,
          "date": "2017-11-16T00:00:00",
          "position": 1195
         },
         {
          "action": "HOLD",
          "actual": 965,
          "date": "2017-11-17T00:00:00",
          "position": 1165
         },
         {
          "action": "HOLD",
          "actual": 972.9500119999999,
          "date": "2017-11-20T00:00:00",
          "position": 1124
         },
         {
          "action": "HOLD",
          "actual": 974,
          "date": "2017-11-21T00:00:00",
          "position": 1136
         },
         {
          "action": "HOLD",
          "actual": 975,
          "date": "2017-11-22T00:00:00",
          "position": 1128.099976
         },
         {
          "action": "HOLD",
          "actual": 971.9500119999999,
          "date": "2017-11-24T00:00:00",
          "position": 1140
         },
         {
          "action": "HOLD",
          "actual": 970,
          "date": "2017-11-27T00:00:00",
          "position": 1155
         },
         {
          "action": "HOLD",
          "actual": 969.099976,
          "date": "2017-11-28T00:00:00",
          "position": 1155
         },
         {
          "action": "HOLD",
          "actual": 969.099976,
          "date": "2017-11-29T00:00:00",
          "position": 1150
         },
         {
          "action": "HOLD",
          "actual": 966,
          "date": "2017-11-30T00:00:00",
          "position": 1121
         },
         {
          "action": "HOLD",
          "actual": 962,
          "date": "2017-12-01T00:00:00",
          "position": 1119.949951
         },
         {
          "action": "HOLD",
          "actual": 965,
          "date": "2017-12-04T00:00:00",
          "position": 1120
         },
         {
          "action": "HOLD",
          "actual": 962,
          "date": "2017-12-05T00:00:00",
          "position": 1123
         },
         {
          "action": "HOLD",
          "actual": 974,
          "date": "2017-12-06T00:00:00",
          "position": 1135
         },
         {
          "action": "HOLD",
          "actual": 969.400024,
          "date": "2017-12-07T00:00:00",
          "position": 1150
         },
         {
          "action": "HOLD",
          "actual": 966.0499880000001,
          "date": "2017-12-08T00:00:00",
          "position": 1160
         },
         {
          "action": "HOLD",
          "actual": 950,
          "date": "2017-12-11T00:00:00",
          "position": 1190
         },
         {
          "action": "HOLD",
          "actual": 945,
          "date": "2017-12-12T00:00:00",
          "position": 1175
         },
         {
          "action": "HOLD",
          "actual": 955,
          "date": "2017-12-13T00:00:00",
          "position": 1175
         },
         {
          "action": "HOLD",
          "actual": 950.5,
          "date": "2017-12-14T00:00:00",
          "position": 1169
         },
         {
          "action": "HOLD",
          "actual": 954.900024,
          "date": "2017-12-15T00:00:00",
          "position": 1140
         },
         {
          "action": "SELL",
          "actual": 958,
          "date": "2017-12-18T00:00:00",
          "position": 1140.050049
         },
         {
          "action": "HOLD",
          "actual": 973.0499880000001,
          "date": "2017-12-19T00:00:00",
          "position": 1146
         },
         {
          "action": "HOLD",
          "actual": 1015.099976,
          "date": "2017-12-20T00:00:00",
          "position": 1174
         },
         {
          "action": "HOLD",
          "actual": 1039.900024,
          "date": "2017-12-21T00:00:00",
          "position": 1161
         },
         {
          "action": "HOLD",
          "actual": 1030,
          "date": "2017-12-22T00:00:00",
          "position": 1160
         },
         {
          "action": "BUY",
          "actual": 1030,
          "date": "2017-12-26T00:00:00",
          "position": 1174.5
         },
         {
          "action": "HOLD",
          "actual": 1005.25,
          "date": "2017-12-27T00:00:00",
          "position": 1189
         },
         {
          "action": "SELL",
          "actual": 1029,
          "date": "2017-12-28T00:00:00",
          "position": 1185
         },
         {
          "action": "HOLD",
          "actual": 1030.75,
          "date": "2017-12-29T00:00:00",
          "position": 1173
         },
         {
          "action": "HOLD",
          "actual": 1030.75,
          "date": "2018-01-02T00:00:00",
          "position": 1187.900024
         },
         {
          "action": "HOLD",
          "actual": 1030,
          "date": "2018-01-03T00:00:00",
          "position": 1098.900024
         },
         {
          "action": "HOLD",
          "actual": 1060,
          "date": "2018-01-04T00:00:00",
          "position": 1078.900024
         },
         {
          "action": "HOLD",
          "actual": 1100,
          "date": "2018-01-05T00:00:00",
          "position": 1040
         },
         {
          "action": "HOLD",
          "actual": 1100,
          "date": "2018-01-08T00:00:00",
          "position": 1020
         },
         {
          "action": "HOLD",
          "actual": 1115,
          "date": "2018-01-09T00:00:00",
          "position": 1050
         },
         {
          "action": "HOLD",
          "actual": 1085,
          "date": "2018-01-10T00:00:00",
          "position": 1065
         },
         {
          "action": "HOLD",
          "actual": 1095,
          "date": "2018-01-11T00:00:00",
          "position": 1054.800049
         },
         {
          "action": "HOLD",
          "actual": 1100,
          "date": "2018-01-12T00:00:00",
          "position": 1032.800049
         },
         {
          "action": "HOLD",
          "actual": 1090,
          "date": "2018-01-16T00:00:00",
          "position": 1042
         },
         {
          "action": "HOLD",
          "actual": 1125,
          "date": "2018-01-17T00:00:00",
          "position": 1010
         },
         {
          "action": "HOLD",
          "actual": 1110,
          "date": "2018-01-18T00:00:00",
          "position": 1030
         },
         {
          "action": "HOLD",
          "actual": 1095,
          "date": "2018-01-19T00:00:00",
          "position": 1029
         },
         {
          "action": "BUY",
          "actual": 1125,
          "date": "2018-01-22T00:00:00",
          "position": 985
         },
         {
          "action": "HOLD",
          "actual": 1150,
          "date": "2018-01-23T00:00:00",
          "position": 950
         },
         {
          "action": "HOLD",
          "actual": 1140,
          "date": "2018-01-24T00:00:00",
          "position": 952.5
         },
         {
          "action": "HOLD",
          "actual": 1140,
          "date": "2018-01-25T00:00:00",
          "position": 1000
         },
         {
          "action": "HOLD",
          "actual": 1145,
          "date": "2018-01-26T00:00:00",
          "position": 965
         },
         {
          "action": "HOLD",
          "actual": 1130,
          "date": "2018-01-29T00:00:00",
          "position": 970
         },
         {
          "action": "HOLD",
          "actual": 1140,
          "date": "2018-01-30T00:00:00",
          "position": 955
         }
        ]
       },
       "height": 300,
       "layer": [
        {
         "data": {
          "name": "data-9c1bc1ebbbe9126d8252552eecfd7d8c"
         },
         "encoding": {
          "x": {
           "field": "date",
           "type": "temporal"
          },
          "y": {
           "axis": {
            "format": "$.2f",
            "title": "Price"
           },
           "field": "position",
           "scale": {
            "clamp": true,
            "domain": [
             455,
             1509
            ]
           },
           "type": "quantitative"
          }
         },
         "mark": {
          "color": "black",
          "opacity": 0.2,
          "type": "line"
         },
         "selection": {
          "selector011": {
           "bind": "scales",
           "encodings": [
            "x"
           ],
           "mark": {
            "fill": "#333",
            "fillOpacity": 0.125,
            "stroke": "white"
           },
           "on": "[mousedown, window:mouseup] > window:mousemove!",
           "resolve": "global",
           "translate": "[mousedown, window:mouseup] > window:mousemove!",
           "type": "interval",
           "zoom": "wheel!"
          }
         }
        },
        {
         "data": {
          "name": "data-9c1bc1ebbbe9126d8252552eecfd7d8c"
         },
         "encoding": {
          "color": {
           "field": "action",
           "type": "nominal"
          },
          "x": {
           "axis": {
            "title": "Date"
           },
           "field": "date",
           "type": "temporal"
          },
          "y": {
           "axis": {
            "format": "$.2f",
            "title": "Price"
           },
           "field": "position",
           "scale": {
            "clamp": true,
            "domain": [
             455,
             1509
            ]
           },
           "type": "quantitative"
          }
         },
         "mark": {
          "filled": true,
          "type": "point"
         },
         "selection": {
          "selector012": {
           "bind": "scales",
           "encodings": [
            "x"
           ],
           "mark": {
            "fill": "#333",
            "fillOpacity": 0.125,
            "stroke": "white"
           },
           "on": "[mousedown, window:mouseup] > window:mousemove!",
           "resolve": "global",
           "translate": "[mousedown, window:mouseup] > window:mousemove!",
           "type": "interval",
           "zoom": "wheel!"
          }
         },
         "transform": [
          {
           "filter": "(datum.action !== 'HOLD')"
          }
         ]
        }
       ],
       "title": "Portfolio Actions",
       "width": 1000
      },
      "image/png": "[encoded data removed]",
      "text/plain": [
       "<VegaLite 2 object>\n",
       "\n",
       "If you see this message, it means the renderer has not been properly enabled\n",
       "for the frontend that you are using. For more information, see\n",
       "https://altair-viz.github.io/user_guide/troubleshooting.html\n"
      ]
     },
     "execution_count": 80,
     "metadata": {},
     "output_type": "execute_result"
    }
   ],
   "source": [
    "chart = visualize(test_prices_plot, history)\n",
    "chart"
   ]
  },
  {
   "cell_type": "code",
   "execution_count": 81,
   "metadata": {},
   "outputs": [],
   "source": [
    "def visualize2(df, history, portfolio_history, portfolio_history_rand, portfolio_history_bh):\n",
    "    # add history to dataframe\n",
    "    position = [history[0][0]] + [x[0] for x in history]\n",
    "    portfolio_history =  [portfolio_history[0][0]] + [x[0] for x in portfolio_history]\n",
    "    portfolio_history_rand =  [portfolio_history_rand[0][0]] + [x[0] for x in portfolio_history_rand]\n",
    "    portfolio_history_bh =  [portfolio_history_bh[0][0]] + [x[0] for x in portfolio_history_bh]\n",
    "    actions = ['HOLD'] + [x[1] for x in history]\n",
    "    df['position'] = position\n",
    "    df['action'] = actions\n",
    "    df['portfolio_history'] = portfolio_history\n",
    "    df['portfolio_history_rand'] = portfolio_history_rand\n",
    "    df['portfolio_history_bh'] = portfolio_history_bh\n",
    "    \n",
    "    \n",
    "    # specify y-axis scale for stock prices\n",
    "    scale = alt.Scale(domain=(min(min(df['portfolio_history_bh']), min(df['portfolio_history'])) - 50, max(max(df['portfolio_history_bh']), max(df['portfolio_history'])) + 50), clamp=True)\n",
    "    \n",
    "    \n",
    "    # plot a line chart for stock positions\n",
    "    actual = alt.Chart(df).mark_line(\n",
    "        color='green',\n",
    "        opacity=0.5\n",
    "    ).encode(\n",
    "        y=alt.Y('portfolio_history', axis=alt.Axis(format='$.2f', title='Portfolio Value'), scale=scale),\n",
    "        x=alt.X('date:T', axis=alt.Axis(title='Date'))\n",
    "    ).interactive(\n",
    "        bind_y=False\n",
    "    )\n",
    "    \n",
    "      # plot a line chart for stock positions\n",
    "    actual_rand = alt.Chart(df).mark_line(\n",
    "        color='blue',\n",
    "        opacity=0.5\n",
    "    ).encode(\n",
    "        x='date:T',\n",
    "        y=alt.Y('portfolio_history_rand', axis=alt.Axis(format='$.2f', title='Portfolio Value'))\n",
    "    ).interactive(\n",
    "        bind_y=False\n",
    "    )\n",
    "    \n",
    "    \n",
    "      # plot a line chart for stock positions\n",
    "    actual_bh = alt.Chart(df).mark_line(\n",
    "        color='red',\n",
    "        opacity=0.5\n",
    "    ).encode(\n",
    "        x='date:T',\n",
    "        y=alt.Y('portfolio_history_bh', axis=alt.Axis(format='$.2f', title='Portfolio Value'))\n",
    "    ).interactive(\n",
    "        bind_y=False\n",
    "    )\n",
    "    \n",
    "    # merge the two charts\n",
    "    chart = alt.layer(actual,actual_rand,actual_bh, title=\"Portfolio Value\").properties(height=300, width=1000)\n",
    "    \n",
    "    return chart"
   ]
  },
  {
   "cell_type": "code",
   "execution_count": 82,
   "metadata": {},
   "outputs": [
    {
     "data": {
      "application/vnd.vegalite.v2+json": {
       "$schema": "https://vega.github.io/schema/vega-lite/v2.6.0.json",
       "config": {
        "view": {
         "height": 300,
         "width": 400
        }
       },
       "datasets": {
        "data-02d7c715796255212a65cc4041b68e54": [
         {
          "action": "HOLD",
          "actual": 709.5,
          "date": "2012-11-07T00:00:00",
          "portfolio_history": 1000,
          "portfolio_history_bh": 1000,
          "portfolio_history_rand": 1000,
          "position": 505
         },
         {
          "action": "HOLD",
          "actual": 709.5,
          "date": "2012-11-08T00:00:00",
          "portfolio_history": 1000,
          "portfolio_history_bh": 1000,
          "portfolio_history_rand": 1000,
          "position": 505
         },
         {
          "action": "HOLD",
          "actual": 708.5,
          "date": "2012-11-09T00:00:00",
          "portfolio_history": 1000,
          "portfolio_history_bh": 1000,
          "portfolio_history_rand": 1000,
          "position": 505
         },
         {
          "action": "HOLD",
          "actual": 712,
          "date": "2012-11-12T00:00:00",
          "portfolio_history": 1000,
          "portfolio_history_bh": 1000,
          "portfolio_history_rand": 1000,
          "position": 510
         },
         {
          "action": "BUY",
          "actual": 708.5,
          "date": "2012-11-13T00:00:00",
          "portfolio_history": 1000,
          "portfolio_history_bh": 1000,
          "portfolio_history_rand": 999,
          "position": 512
         },
         {
          "action": "HOLD",
          "actual": 710,
          "date": "2012-11-14T00:00:00",
          "portfolio_history": 1000,
          "portfolio_history_bh": 1000,
          "portfolio_history_rand": 999,
          "position": 510
         },
         {
          "action": "HOLD",
          "actual": 710,
          "date": "2012-11-15T00:00:00",
          "portfolio_history": 996.5,
          "portfolio_history_bh": 1000,
          "portfolio_history_rand": 995.5,
          "position": 515
         },
         {
          "action": "HOLD",
          "actual": 715,
          "date": "2012-11-16T00:00:00",
          "portfolio_history": 998,
          "portfolio_history_bh": 1000,
          "portfolio_history_rand": 997,
          "position": 518
         },
         {
          "action": "HOLD",
          "actual": 724,
          "date": "2012-11-19T00:00:00",
          "portfolio_history": 998,
          "portfolio_history_bh": 1000,
          "portfolio_history_rand": 997,
          "position": 520
         },
         {
          "action": "SELL",
          "actual": 724,
          "date": "2012-11-20T00:00:00",
          "portfolio_history": 1003,
          "portfolio_history_bh": 1000,
          "portfolio_history_rand": 1002,
          "position": 525
         },
         {
          "action": "HOLD",
          "actual": 724,
          "date": "2012-11-21T00:00:00",
          "portfolio_history": 1012,
          "portfolio_history_bh": 1000,
          "portfolio_history_rand": 1011,
          "position": 525
         },
         {
          "action": "HOLD",
          "actual": 726,
          "date": "2012-11-23T00:00:00",
          "portfolio_history": 1012,
          "portfolio_history_bh": 1000,
          "portfolio_history_rand": 1011,
          "position": 530.5
         },
         {
          "action": "BUY",
          "actual": 736,
          "date": "2012-11-26T00:00:00",
          "portfolio_history": 1012,
          "portfolio_history_bh": 1000,
          "portfolio_history_rand": 1011,
          "position": 545
         },
         {
          "action": "HOLD",
          "actual": 739,
          "date": "2012-11-27T00:00:00",
          "portfolio_history": 1012,
          "portfolio_history_bh": 1000,
          "portfolio_history_rand": 1013,
          "position": 547
         },
         {
          "action": "HOLD",
          "actual": 740,
          "date": "2012-11-28T00:00:00",
          "portfolio_history": 1022,
          "portfolio_history_bh": 1000,
          "portfolio_history_rand": 1013,
          "position": 555
         },
         {
          "action": "HOLD",
          "actual": 754,
          "date": "2012-11-29T00:00:00",
          "portfolio_history": 1025,
          "portfolio_history_bh": 1003,
          "portfolio_history_rand": 1013,
          "position": 571
         },
         {
          "action": "SELL",
          "actual": 753,
          "date": "2012-11-30T00:00:00",
          "portfolio_history": 1026,
          "portfolio_history_bh": 1004,
          "portfolio_history_rand": 1013,
          "position": 594.5
         },
         {
          "action": "BUY",
          "actual": 768,
          "date": "2012-12-03T00:00:00",
          "portfolio_history": 1040,
          "portfolio_history_bh": 1018,
          "portfolio_history_rand": 1013,
          "position": 580.5
         },
         {
          "action": "SELL",
          "actual": 757,
          "date": "2012-12-04T00:00:00",
          "portfolio_history": 1040,
          "portfolio_history_bh": 1017,
          "portfolio_history_rand": 1013,
          "position": 580
         },
         {
          "action": "HOLD",
          "actual": 760,
          "date": "2012-12-05T00:00:00",
          "portfolio_history": 1055,
          "portfolio_history_bh": 1032,
          "portfolio_history_rand": 1028,
          "position": 579.5
         },
         {
          "action": "HOLD",
          "actual": 759.5,
          "date": "2012-12-06T00:00:00",
          "portfolio_history": 1055,
          "portfolio_history_bh": 1021,
          "portfolio_history_rand": 1017,
          "position": 590
         },
         {
          "action": "HOLD",
          "actual": 755.5,
          "date": "2012-12-07T00:00:00",
          "portfolio_history": 1055,
          "portfolio_history_bh": 1024,
          "portfolio_history_rand": 1020,
          "position": 587
         },
         {
          "action": "BUY",
          "actual": 753,
          "date": "2012-12-10T00:00:00",
          "portfolio_history": 1055,
          "portfolio_history_bh": 1023.5,
          "portfolio_history_rand": 1019.5,
          "position": 580
         },
         {
          "action": "SELL",
          "actual": 753,
          "date": "2012-12-11T00:00:00",
          "portfolio_history": 1055,
          "portfolio_history_bh": 1019.5,
          "portfolio_history_rand": 1015.5,
          "position": 586
         },
         {
          "action": "HOLD",
          "actual": 767.5,
          "date": "2012-12-12T00:00:00",
          "portfolio_history": 1052.5,
          "portfolio_history_bh": 1017,
          "portfolio_history_rand": 1013,
          "position": 586
         },
         {
          "action": "HOLD",
          "actual": 767.5,
          "date": "2012-12-13T00:00:00",
          "portfolio_history": 1052.5,
          "portfolio_history_bh": 1017,
          "portfolio_history_rand": 1013,
          "position": 578.5
         },
         {
          "action": "HOLD",
          "actual": 788,
          "date": "2012-12-14T00:00:00",
          "portfolio_history": 1052.5,
          "portfolio_history_bh": 1031.5,
          "portfolio_history_rand": 1027.5,
          "position": 580
         },
         {
          "action": "HOLD",
          "actual": 788,
          "date": "2012-12-17T00:00:00",
          "portfolio_history": 1052.5,
          "portfolio_history_bh": 1031.5,
          "portfolio_history_rand": 1027.5,
          "position": 580
         },
         {
          "action": "BUY",
          "actual": 779,
          "date": "2012-12-18T00:00:00",
          "portfolio_history": 1052.5,
          "portfolio_history_bh": 1052,
          "portfolio_history_rand": 1048,
          "position": 579.5
         },
         {
          "action": "HOLD",
          "actual": 798,
          "date": "2012-12-19T00:00:00",
          "portfolio_history": 1052.5,
          "portfolio_history_bh": 1052,
          "portfolio_history_rand": 1048,
          "position": 574
         },
         {
          "action": "HOLD",
          "actual": 794,
          "date": "2012-12-20T00:00:00",
          "portfolio_history": 1043.5,
          "portfolio_history_bh": 1043,
          "portfolio_history_rand": 1039,
          "position": 581.5
         },
         {
          "action": "HOLD",
          "actual": 794,
          "date": "2012-12-21T00:00:00",
          "portfolio_history": 1062.5,
          "portfolio_history_bh": 1062,
          "portfolio_history_rand": 1058,
          "position": 583
         },
         {
          "action": "HOLD",
          "actual": 794,
          "date": "2012-12-24T00:00:00",
          "portfolio_history": 1058.5,
          "portfolio_history_bh": 1058,
          "portfolio_history_rand": 1054,
          "position": 574
         },
         {
          "action": "SELL",
          "actual": 794,
          "date": "2012-12-26T00:00:00",
          "portfolio_history": 1058.5,
          "portfolio_history_bh": 1058,
          "portfolio_history_rand": 1054,
          "position": 584
         },
         {
          "action": "HOLD",
          "actual": 786,
          "date": "2012-12-27T00:00:00",
          "portfolio_history": 1058.5,
          "portfolio_history_bh": 1058,
          "portfolio_history_rand": 1054,
          "position": 584
         },
         {
          "action": "HOLD",
          "actual": 798,
          "date": "2012-12-28T00:00:00",
          "portfolio_history": 1058.5,
          "portfolio_history_bh": 1058,
          "portfolio_history_rand": 1054,
          "position": 595.5
         },
         {
          "action": "BUY",
          "actual": 798,
          "date": "2012-12-31T00:00:00",
          "portfolio_history": 1058.5,
          "portfolio_history_bh": 1050,
          "portfolio_history_rand": 1054,
          "position": 595
         },
         {
          "action": "HOLD",
          "actual": 796.5,
          "date": "2013-01-02T00:00:00",
          "portfolio_history": 1058.5,
          "portfolio_history_bh": 1062,
          "portfolio_history_rand": 1054,
          "position": 589.5
         },
         {
          "action": "SELL",
          "actual": 789.5,
          "date": "2013-01-03T00:00:00",
          "portfolio_history": 1058.5,
          "portfolio_history_bh": 1062,
          "portfolio_history_rand": 1054,
          "position": 585
         },
         {
          "action": "BUY",
          "actual": 772,
          "date": "2013-01-04T00:00:00",
          "portfolio_history": 1057,
          "portfolio_history_bh": 1060.5,
          "portfolio_history_rand": 1052.5,
          "position": 583
         },
         {
          "action": "HOLD",
          "actual": 768.5,
          "date": "2013-01-07T00:00:00",
          "portfolio_history": 1057,
          "portfolio_history_bh": 1053.5,
          "portfolio_history_rand": 1045.5,
          "position": 580
         },
         {
          "action": "SELL",
          "actual": 768,
          "date": "2013-01-08T00:00:00",
          "portfolio_history": 1039.5,
          "portfolio_history_bh": 1036,
          "portfolio_history_rand": 1045.5,
          "position": 574
         },
         {
          "action": "BUY",
          "actual": 762,
          "date": "2013-01-09T00:00:00",
          "portfolio_history": 1036,
          "portfolio_history_bh": 1032.5,
          "portfolio_history_rand": 1045.5,
          "position": 567
         },
         {
          "action": "HOLD",
          "actual": 760,
          "date": "2013-01-10T00:00:00",
          "portfolio_history": 1036,
          "portfolio_history_bh": 1032,
          "portfolio_history_rand": 1045,
          "position": 564
         },
         {
          "action": "HOLD",
          "actual": 768,
          "date": "2013-01-11T00:00:00",
          "portfolio_history": 1030,
          "portfolio_history_bh": 1026,
          "portfolio_history_rand": 1039,
          "position": 560
         },
         {
          "action": "SELL",
          "actual": 768,
          "date": "2013-01-14T00:00:00",
          "portfolio_history": 1028,
          "portfolio_history_bh": 1024,
          "portfolio_history_rand": 1037,
          "position": 557
         },
         {
          "action": "HOLD",
          "actual": 754,
          "date": "2013-01-15T00:00:00",
          "portfolio_history": 1036,
          "portfolio_history_bh": 1032,
          "portfolio_history_rand": 1045,
          "position": 547
         },
         {
          "action": "HOLD",
          "actual": 763,
          "date": "2013-01-16T00:00:00",
          "portfolio_history": 1036,
          "portfolio_history_bh": 1032,
          "portfolio_history_rand": 1045,
          "position": 547
         },
         {
          "action": "BUY",
          "actual": 777,
          "date": "2013-01-17T00:00:00",
          "portfolio_history": 1036,
          "portfolio_history_bh": 1018,
          "portfolio_history_rand": 1045,
          "position": 540
         },
         {
          "action": "HOLD",
          "actual": 778,
          "date": "2013-01-18T00:00:00",
          "portfolio_history": 1036,
          "portfolio_history_bh": 1027,
          "portfolio_history_rand": 1054,
          "position": 548
         },
         {
          "action": "SELL",
          "actual": 780,
          "date": "2013-01-22T00:00:00",
          "portfolio_history": 1050,
          "portfolio_history_bh": 1041,
          "portfolio_history_rand": 1068,
          "position": 550
         },
         {
          "action": "HOLD",
          "actual": 778.5,
          "date": "2013-01-23T00:00:00",
          "portfolio_history": 1051,
          "portfolio_history_bh": 1042,
          "portfolio_history_rand": 1068,
          "position": 550
         },
         {
          "action": "HOLD",
          "actual": 800,
          "date": "2013-01-24T00:00:00",
          "portfolio_history": 1051,
          "portfolio_history_bh": 1044,
          "portfolio_history_rand": 1068,
          "position": 555
         },
         {
          "action": "BUY",
          "actual": 810,
          "date": "2013-01-25T00:00:00",
          "portfolio_history": 1051,
          "portfolio_history_bh": 1042.5,
          "portfolio_history_rand": 1068,
          "position": 550
         },
         {
          "action": "SELL",
          "actual": 812,
          "date": "2013-01-28T00:00:00",
          "portfolio_history": 1051,
          "portfolio_history_bh": 1064,
          "portfolio_history_rand": 1089.5,
          "position": 550
         },
         {
          "action": "HOLD",
          "actual": 817,
          "date": "2013-01-29T00:00:00",
          "portfolio_history": 1061,
          "portfolio_history_bh": 1074,
          "portfolio_history_rand": 1089.5,
          "position": 550
         },
         {
          "action": "BUY",
          "actual": 816,
          "date": "2013-01-30T00:00:00",
          "portfolio_history": 1061,
          "portfolio_history_bh": 1076,
          "portfolio_history_rand": 1091.5,
          "position": 550
         },
         {
          "action": "HOLD",
          "actual": 811,
          "date": "2013-01-31T00:00:00",
          "portfolio_history": 1061,
          "portfolio_history_bh": 1081,
          "portfolio_history_rand": 1096.5,
          "position": 549.5
         },
         {
          "action": "SELL",
          "actual": 804,
          "date": "2013-02-01T00:00:00",
          "portfolio_history": 1060,
          "portfolio_history_bh": 1080,
          "portfolio_history_rand": 1096.5,
          "position": 540
         },
         {
          "action": "BUY",
          "actual": 800,
          "date": "2013-02-04T00:00:00",
          "portfolio_history": 1055,
          "portfolio_history_bh": 1075,
          "portfolio_history_rand": 1096.5,
          "position": 548.5
         },
         {
          "action": "HOLD",
          "actual": 800,
          "date": "2013-02-05T00:00:00",
          "portfolio_history": 1055,
          "portfolio_history_bh": 1068,
          "portfolio_history_rand": 1096.5,
          "position": 547
         },
         {
          "action": "SELL",
          "actual": 784,
          "date": "2013-02-06T00:00:00",
          "portfolio_history": 1051,
          "portfolio_history_bh": 1064,
          "portfolio_history_rand": 1096.5,
          "position": 547
         },
         {
          "action": "BUY",
          "actual": 784,
          "date": "2013-02-07T00:00:00",
          "portfolio_history": 1051,
          "portfolio_history_bh": 1064,
          "portfolio_history_rand": 1096.5,
          "position": 547
         },
         {
          "action": "HOLD",
          "actual": 784,
          "date": "2013-02-08T00:00:00",
          "portfolio_history": 1051,
          "portfolio_history_bh": 1048,
          "portfolio_history_rand": 1096.5,
          "position": 575
         },
         {
          "action": "HOLD",
          "actual": 798,
          "date": "2013-02-11T00:00:00",
          "portfolio_history": 1051,
          "portfolio_history_bh": 1048,
          "portfolio_history_rand": 1096.5,
          "position": 533.5
         },
         {
          "action": "HOLD",
          "actual": 807,
          "date": "2013-02-12T00:00:00",
          "portfolio_history": 1051,
          "portfolio_history_bh": 1048,
          "portfolio_history_rand": 1096.5,
          "position": 550
         },
         {
          "action": "HOLD",
          "actual": 800,
          "date": "2013-02-13T00:00:00",
          "portfolio_history": 1065,
          "portfolio_history_bh": 1062,
          "portfolio_history_rand": 1110.5,
          "position": 570
         },
         {
          "action": "HOLD",
          "actual": 803,
          "date": "2013-02-14T00:00:00",
          "portfolio_history": 1074,
          "portfolio_history_bh": 1071,
          "portfolio_history_rand": 1110.5,
          "position": 580
         },
         {
          "action": "HOLD",
          "actual": 807,
          "date": "2013-02-15T00:00:00",
          "portfolio_history": 1067,
          "portfolio_history_bh": 1064,
          "portfolio_history_rand": 1110.5,
          "position": 563
         },
         {
          "action": "SELL",
          "actual": 795,
          "date": "2013-02-19T00:00:00",
          "portfolio_history": 1070,
          "portfolio_history_bh": 1067,
          "portfolio_history_rand": 1113.5,
          "position": 563
         },
         {
          "action": "BUY",
          "actual": 785,
          "date": "2013-02-20T00:00:00",
          "portfolio_history": 1074,
          "portfolio_history_bh": 1071,
          "portfolio_history_rand": 1117.5,
          "position": 563
         },
         {
          "action": "SELL",
          "actual": 800,
          "date": "2013-02-21T00:00:00",
          "portfolio_history": 1074,
          "portfolio_history_bh": 1059,
          "portfolio_history_rand": 1105.5,
          "position": 563
         },
         {
          "action": "HOLD",
          "actual": 798,
          "date": "2013-02-22T00:00:00",
          "portfolio_history": 1064,
          "portfolio_history_bh": 1049,
          "portfolio_history_rand": 1095.5,
          "position": 563
         },
         {
          "action": "BUY",
          "actual": 806,
          "date": "2013-02-25T00:00:00",
          "portfolio_history": 1064,
          "portfolio_history_bh": 1064,
          "portfolio_history_rand": 1110.5,
          "position": 563
         },
         {
          "action": "HOLD",
          "actual": 805,
          "date": "2013-02-26T00:00:00",
          "portfolio_history": 1064,
          "portfolio_history_bh": 1062,
          "portfolio_history_rand": 1108.5,
          "position": 546.5
         },
         {
          "action": "HOLD",
          "actual": 796.5,
          "date": "2013-02-27T00:00:00",
          "portfolio_history": 1072,
          "portfolio_history_bh": 1070,
          "portfolio_history_rand": 1116.5,
          "position": 550
         },
         {
          "action": "SELL",
          "actual": 806.5,
          "date": "2013-02-28T00:00:00",
          "portfolio_history": 1071,
          "portfolio_history_bh": 1069,
          "portfolio_history_rand": 1115.5,
          "position": 550
         },
         {
          "action": "BUY",
          "actual": 806,
          "date": "2013-03-01T00:00:00",
          "portfolio_history": 1062.5,
          "portfolio_history_bh": 1060.5,
          "portfolio_history_rand": 1107,
          "position": 550
         },
         {
          "action": "SELL",
          "actual": 804,
          "date": "2013-03-04T00:00:00",
          "portfolio_history": 1062.5,
          "portfolio_history_bh": 1070.5,
          "portfolio_history_rand": 1107,
          "position": 564.5
         },
         {
          "action": "HOLD",
          "actual": 806,
          "date": "2013-03-05T00:00:00",
          "portfolio_history": 1062,
          "portfolio_history_bh": 1070,
          "portfolio_history_rand": 1106.5,
          "position": 555
         },
         {
          "action": "BUY",
          "actual": 815,
          "date": "2013-03-06T00:00:00",
          "portfolio_history": 1062,
          "portfolio_history_bh": 1068,
          "portfolio_history_rand": 1104.5,
          "position": 561
         },
         {
          "action": "HOLD",
          "actual": 825,
          "date": "2013-03-07T00:00:00",
          "portfolio_history": 1062,
          "portfolio_history_bh": 1070,
          "portfolio_history_rand": 1104.5,
          "position": 550
         },
         {
          "action": "HOLD",
          "actual": 840,
          "date": "2013-03-08T00:00:00",
          "portfolio_history": 1071,
          "portfolio_history_bh": 1079,
          "portfolio_history_rand": 1113.5,
          "position": 549.5
         },
         {
          "action": "HOLD",
          "actual": 845,
          "date": "2013-03-11T00:00:00",
          "portfolio_history": 1081,
          "portfolio_history_bh": 1089,
          "portfolio_history_rand": 1123.5,
          "position": 537
         },
         {
          "action": "HOLD",
          "actual": 840,
          "date": "2013-03-12T00:00:00",
          "portfolio_history": 1096,
          "portfolio_history_bh": 1104,
          "portfolio_history_rand": 1138.5,
          "position": 532
         },
         {
          "action": "HOLD",
          "actual": 835,
          "date": "2013-03-13T00:00:00",
          "portfolio_history": 1101,
          "portfolio_history_bh": 1109,
          "portfolio_history_rand": 1143.5,
          "position": 536
         },
         {
          "action": "SELL",
          "actual": 825,
          "date": "2013-03-14T00:00:00",
          "portfolio_history": 1096,
          "portfolio_history_bh": 1104,
          "portfolio_history_rand": 1138.5,
          "position": 531
         },
         {
          "action": "BUY",
          "actual": 802,
          "date": "2013-03-15T00:00:00",
          "portfolio_history": 1091,
          "portfolio_history_bh": 1099,
          "portfolio_history_rand": 1138.5,
          "position": 530
         },
         {
          "action": "SELL",
          "actual": 807,
          "date": "2013-03-18T00:00:00",
          "portfolio_history": 1091,
          "portfolio_history_bh": 1089,
          "portfolio_history_rand": 1128.5,
          "position": 530
         },
         {
          "action": "HOLD",
          "actual": 800,
          "date": "2013-03-19T00:00:00",
          "portfolio_history": 1068,
          "portfolio_history_bh": 1066,
          "portfolio_history_rand": 1128.5,
          "position": 544
         },
         {
          "action": "BUY",
          "actual": 800,
          "date": "2013-03-20T00:00:00",
          "portfolio_history": 1068,
          "portfolio_history_bh": 1071,
          "portfolio_history_rand": 1128.5,
          "position": 540
         },
         {
          "action": "SELL",
          "actual": 790.5,
          "date": "2013-03-21T00:00:00",
          "portfolio_history": 1068,
          "portfolio_history_bh": 1064,
          "portfolio_history_rand": 1128.5,
          "position": 556
         },
         {
          "action": "HOLD",
          "actual": 780.5,
          "date": "2013-03-22T00:00:00",
          "portfolio_history": 1068,
          "portfolio_history_bh": 1064,
          "portfolio_history_rand": 1128.5,
          "position": 556
         },
         {
          "action": "HOLD",
          "actual": 760,
          "date": "2013-03-25T00:00:00",
          "portfolio_history": 1068,
          "portfolio_history_bh": 1054.5,
          "portfolio_history_rand": 1128.5,
          "position": 536
         },
         {
          "action": "BUY",
          "actual": 770,
          "date": "2013-03-26T00:00:00",
          "portfolio_history": 1068,
          "portfolio_history_bh": 1044.5,
          "portfolio_history_rand": 1118.5,
          "position": 536
         },
         {
          "action": "HOLD",
          "actual": 770.5,
          "date": "2013-03-27T00:00:00",
          "portfolio_history": 1068,
          "portfolio_history_bh": 1024,
          "portfolio_history_rand": 1118.5,
          "position": 555
         },
         {
          "action": "SELL",
          "actual": 795,
          "date": "2013-03-28T00:00:00",
          "portfolio_history": 1078,
          "portfolio_history_bh": 1034,
          "portfolio_history_rand": 1118.5,
          "position": 555
         },
         {
          "action": "BUY",
          "actual": 795,
          "date": "2013-04-01T00:00:00",
          "portfolio_history": 1078.5,
          "portfolio_history_bh": 1034.5,
          "portfolio_history_rand": 1119,
          "position": 555
         },
         {
          "action": "HOLD",
          "actual": 800,
          "date": "2013-04-02T00:00:00",
          "portfolio_history": 1078.5,
          "portfolio_history_bh": 1059,
          "portfolio_history_rand": 1143.5,
          "position": 560
         },
         {
          "action": "HOLD",
          "actual": 790,
          "date": "2013-04-03T00:00:00",
          "portfolio_history": 1078.5,
          "portfolio_history_bh": 1059,
          "portfolio_history_rand": 1143.5,
          "position": 559.5
         },
         {
          "action": "SELL",
          "actual": 790,
          "date": "2013-04-04T00:00:00",
          "portfolio_history": 1083.5,
          "portfolio_history_bh": 1064,
          "portfolio_history_rand": 1148.5,
          "position": 557.5
         },
         {
          "action": "BUY",
          "actual": 787.5,
          "date": "2013-04-05T00:00:00",
          "portfolio_history": 1073.5,
          "portfolio_history_bh": 1054,
          "portfolio_history_rand": 1138.5,
          "position": 550
         },
         {
          "action": "HOLD",
          "actual": 799,
          "date": "2013-04-08T00:00:00",
          "portfolio_history": 1073.5,
          "portfolio_history_bh": 1054,
          "portfolio_history_rand": 1138.5,
          "position": 547
         },
         {
          "action": "HOLD",
          "actual": 805,
          "date": "2013-04-09T00:00:00",
          "portfolio_history": 1071,
          "portfolio_history_bh": 1051.5,
          "portfolio_history_rand": 1136,
          "position": 563.5
         },
         {
          "action": "HOLD",
          "actual": 807.5,
          "date": "2013-04-10T00:00:00",
          "portfolio_history": 1082.5,
          "portfolio_history_bh": 1063,
          "portfolio_history_rand": 1147.5,
          "position": 563
         },
         {
          "action": "HOLD",
          "actual": 811.5,
          "date": "2013-04-11T00:00:00",
          "portfolio_history": 1088.5,
          "portfolio_history_bh": 1069,
          "portfolio_history_rand": 1147.5,
          "position": 563
         },
         {
          "action": "SELL",
          "actual": 815,
          "date": "2013-04-12T00:00:00",
          "portfolio_history": 1091,
          "portfolio_history_bh": 1071.5,
          "portfolio_history_rand": 1147.5,
          "position": 560
         },
         {
          "action": "HOLD",
          "actual": 804,
          "date": "2013-04-15T00:00:00",
          "portfolio_history": 1095,
          "portfolio_history_bh": 1075.5,
          "portfolio_history_rand": 1147.5,
          "position": 555
         },
         {
          "action": "HOLD",
          "actual": 804,
          "date": "2013-04-16T00:00:00",
          "portfolio_history": 1095,
          "portfolio_history_bh": 1079,
          "portfolio_history_rand": 1151,
          "position": 557
         },
         {
          "action": "HOLD",
          "actual": 819.799988,
          "date": "2013-04-17T00:00:00",
          "portfolio_history": 1095,
          "portfolio_history_bh": 1068,
          "portfolio_history_rand": 1151,
          "position": 557.5
         },
         {
          "action": "HOLD",
          "actual": 805,
          "date": "2013-04-18T00:00:00",
          "portfolio_history": 1095,
          "portfolio_history_bh": 1068,
          "portfolio_history_rand": 1151,
          "position": 556.5
         },
         {
          "action": "HOLD",
          "actual": 799,
          "date": "2013-04-19T00:00:00",
          "portfolio_history": 1095,
          "portfolio_history_bh": 1083.799988,
          "portfolio_history_rand": 1166.799988,
          "position": 559
         },
         {
          "action": "BUY",
          "actual": 800,
          "date": "2013-04-22T00:00:00",
          "portfolio_history": 1095,
          "portfolio_history_bh": 1069,
          "portfolio_history_rand": 1166.799988,
          "position": 560
         },
         {
          "action": "HOLD",
          "actual": 800,
          "date": "2013-04-23T00:00:00",
          "portfolio_history": 1095,
          "portfolio_history_bh": 1063,
          "portfolio_history_rand": 1166.799988,
          "position": 560
         },
         {
          "action": "SELL",
          "actual": 801,
          "date": "2013-04-24T00:00:00",
          "portfolio_history": 1096,
          "portfolio_history_bh": 1064,
          "portfolio_history_rand": 1166.799988,
          "position": 560
         },
         {
          "action": "HOLD",
          "actual": 795,
          "date": "2013-04-25T00:00:00",
          "portfolio_history": 1096,
          "portfolio_history_bh": 1064,
          "portfolio_history_rand": 1166.799988,
          "position": 553
         },
         {
          "action": "HOLD",
          "actual": 802,
          "date": "2013-04-26T00:00:00",
          "portfolio_history": 1096,
          "portfolio_history_bh": 1065,
          "portfolio_history_rand": 1166.799988,
          "position": 560
         },
         {
          "action": "BUY",
          "actual": 801,
          "date": "2013-04-29T00:00:00",
          "portfolio_history": 1096,
          "portfolio_history_bh": 1059,
          "portfolio_history_rand": 1160.799988,
          "position": 563
         },
         {
          "action": "HOLD",
          "actual": 813,
          "date": "2013-04-30T00:00:00",
          "portfolio_history": 1096,
          "portfolio_history_bh": 1066,
          "portfolio_history_rand": 1160.799988,
          "position": 565
         },
         {
          "action": "HOLD",
          "actual": 801,
          "date": "2013-05-01T00:00:00",
          "portfolio_history": 1095,
          "portfolio_history_bh": 1065,
          "portfolio_history_rand": 1160.799988,
          "position": 598
         },
         {
          "action": "HOLD",
          "actual": 813,
          "date": "2013-05-02T00:00:00",
          "portfolio_history": 1107,
          "portfolio_history_bh": 1077,
          "portfolio_history_rand": 1160.799988,
          "position": 575
         },
         {
          "action": "SELL",
          "actual": 813,
          "date": "2013-05-03T00:00:00",
          "portfolio_history": 1095,
          "portfolio_history_bh": 1065,
          "portfolio_history_rand": 1160.799988,
          "position": 585
         },
         {
          "action": "HOLD",
          "actual": 811.849976,
          "date": "2013-05-06T00:00:00",
          "portfolio_history": 1107,
          "portfolio_history_bh": 1077,
          "portfolio_history_rand": 1160.799988,
          "position": 588
         },
         {
          "action": "HOLD",
          "actual": 811.849976,
          "date": "2013-05-07T00:00:00",
          "portfolio_history": 1107,
          "portfolio_history_bh": 1077,
          "portfolio_history_rand": 1160.799988,
          "position": 606.5
         },
         {
          "action": "HOLD",
          "actual": 810,
          "date": "2013-05-08T00:00:00",
          "portfolio_history": 1107,
          "portfolio_history_bh": 1075.849976,
          "portfolio_history_rand": 1159.649964,
          "position": 607.5
         },
         {
          "action": "HOLD",
          "actual": 800.299988,
          "date": "2013-05-09T00:00:00",
          "portfolio_history": 1107,
          "portfolio_history_bh": 1075.849976,
          "portfolio_history_rand": 1159.649964,
          "position": 628
         },
         {
          "action": "HOLD",
          "actual": 810,
          "date": "2013-05-10T00:00:00",
          "portfolio_history": 1107,
          "portfolio_history_bh": 1074,
          "portfolio_history_rand": 1157.799988,
          "position": 620
         },
         {
          "action": "HOLD",
          "actual": 808,
          "date": "2013-05-13T00:00:00",
          "portfolio_history": 1107,
          "portfolio_history_bh": 1064.299988,
          "portfolio_history_rand": 1148.099976,
          "position": 610
         },
         {
          "action": "HOLD",
          "actual": 807.950012,
          "date": "2013-05-14T00:00:00",
          "portfolio_history": 1107,
          "portfolio_history_bh": 1074,
          "portfolio_history_rand": 1157.799988,
          "position": 614
         },
         {
          "action": "HOLD",
          "actual": 809.950012,
          "date": "2013-05-15T00:00:00",
          "portfolio_history": 1107,
          "portfolio_history_bh": 1072,
          "portfolio_history_rand": 1155.799988,
          "position": 617
         },
         {
          "action": "HOLD",
          "actual": 808.950012,
          "date": "2013-05-16T00:00:00",
          "portfolio_history": 1107,
          "portfolio_history_bh": 1071.950012,
          "portfolio_history_rand": 1155.75,
          "position": 617
         },
         {
          "action": "BUY",
          "actual": 810,
          "date": "2013-05-17T00:00:00",
          "portfolio_history": 1107,
          "portfolio_history_bh": 1073.950012,
          "portfolio_history_rand": 1155.75,
          "position": 617
         },
         {
          "action": "HOLD",
          "actual": 814,
          "date": "2013-05-20T00:00:00",
          "portfolio_history": 1107,
          "portfolio_history_bh": 1072.950012,
          "portfolio_history_rand": 1155.75,
          "position": 626
         },
         {
          "action": "HOLD",
          "actual": 821,
          "date": "2013-05-21T00:00:00",
          "portfolio_history": 1108.049988,
          "portfolio_history_bh": 1074,
          "portfolio_history_rand": 1155.75,
          "position": 626
         },
         {
          "action": "HOLD",
          "actual": 821.950012,
          "date": "2013-05-22T00:00:00",
          "portfolio_history": 1112.049988,
          "portfolio_history_bh": 1078,
          "portfolio_history_rand": 1155.75,
          "position": 621
         },
         {
          "action": "HOLD",
          "actual": 809,
          "date": "2013-05-23T00:00:00",
          "portfolio_history": 1119.049988,
          "portfolio_history_bh": 1085,
          "portfolio_history_rand": 1162.75,
          "position": 620
         },
         {
          "action": "SELL",
          "actual": 811.049988,
          "date": "2013-05-24T00:00:00",
          "portfolio_history": 1120,
          "portfolio_history_bh": 1085.950012,
          "portfolio_history_rand": 1162.75,
          "position": 625.5
         },
         {
          "action": "BUY",
          "actual": 820,
          "date": "2013-05-28T00:00:00",
          "portfolio_history": 1107.049988,
          "portfolio_history_bh": 1073,
          "portfolio_history_rand": 1162.75,
          "position": 619.5
         },
         {
          "action": "HOLD",
          "actual": 821.900024,
          "date": "2013-05-29T00:00:00",
          "portfolio_history": 1107.049988,
          "portfolio_history_bh": 1075.049988,
          "portfolio_history_rand": 1164.799988,
          "position": 611
         },
         {
          "action": "HOLD",
          "actual": 821.900024,
          "date": "2013-05-30T00:00:00",
          "portfolio_history": 1116,
          "portfolio_history_bh": 1084,
          "portfolio_history_rand": 1173.75,
          "position": 607.5
         },
         {
          "action": "HOLD",
          "actual": 824,
          "date": "2013-05-31T00:00:00",
          "portfolio_history": 1117.900024,
          "portfolio_history_bh": 1085.900024,
          "portfolio_history_rand": 1175.650024,
          "position": 608
         },
         {
          "action": "HOLD",
          "actual": 819,
          "date": "2013-06-03T00:00:00",
          "portfolio_history": 1117.900024,
          "portfolio_history_bh": 1085.900024,
          "portfolio_history_rand": 1175.650024,
          "position": 609.5
         },
         {
          "action": "HOLD",
          "actual": 820,
          "date": "2013-06-04T00:00:00",
          "portfolio_history": 1120,
          "portfolio_history_bh": 1088,
          "portfolio_history_rand": 1175.650024,
          "position": 610
         },
         {
          "action": "SELL",
          "actual": 818.5,
          "date": "2013-06-05T00:00:00",
          "portfolio_history": 1115,
          "portfolio_history_bh": 1083,
          "portfolio_history_rand": 1170.650024,
          "position": 618
         },
         {
          "action": "BUY",
          "actual": 816.400024,
          "date": "2013-06-06T00:00:00",
          "portfolio_history": 1116,
          "portfolio_history_bh": 1084,
          "portfolio_history_rand": 1171.650024,
          "position": 618
         },
         {
          "action": "HOLD",
          "actual": 814,
          "date": "2013-06-07T00:00:00",
          "portfolio_history": 1116,
          "portfolio_history_bh": 1082.5,
          "portfolio_history_rand": 1170.150024,
          "position": 620
         },
         {
          "action": "SELL",
          "actual": 805,
          "date": "2013-06-10T00:00:00",
          "portfolio_history": 1113.900024,
          "portfolio_history_bh": 1080.400024,
          "portfolio_history_rand": 1168.050048,
          "position": 630
         },
         {
          "action": "HOLD",
          "actual": 806,
          "date": "2013-06-11T00:00:00",
          "portfolio_history": 1111.5,
          "portfolio_history_bh": 1078,
          "portfolio_history_rand": 1168.050048,
          "position": 655
         },
         {
          "action": "HOLD",
          "actual": 799,
          "date": "2013-06-12T00:00:00",
          "portfolio_history": 1111.5,
          "portfolio_history_bh": 1069,
          "portfolio_history_rand": 1159.050048,
          "position": 666
         },
         {
          "action": "HOLD",
          "actual": 799,
          "date": "2013-06-13T00:00:00",
          "portfolio_history": 1111.5,
          "portfolio_history_bh": 1070,
          "portfolio_history_rand": 1160.050048,
          "position": 679
         },
         {
          "action": "BUY",
          "actual": 797,
          "date": "2013-06-14T00:00:00",
          "portfolio_history": 1111.5,
          "portfolio_history_bh": 1063,
          "portfolio_history_rand": 1160.050048,
          "position": 670
         },
         {
          "action": "HOLD",
          "actual": 797,
          "date": "2013-06-17T00:00:00",
          "portfolio_history": 1111.5,
          "portfolio_history_bh": 1063,
          "portfolio_history_rand": 1160.050048,
          "position": 670
         },
         {
          "action": "SELL",
          "actual": 791.599976,
          "date": "2013-06-18T00:00:00",
          "portfolio_history": 1109.5,
          "portfolio_history_bh": 1061,
          "portfolio_history_rand": 1160.050048,
          "position": 650.5
         },
         {
          "action": "BUY",
          "actual": 792.099976,
          "date": "2013-06-19T00:00:00",
          "portfolio_history": 1109.5,
          "portfolio_history_bh": 1061,
          "portfolio_history_rand": 1160.050048,
          "position": 669.5
         },
         {
          "action": "HOLD",
          "actual": 789,
          "date": "2013-06-20T00:00:00",
          "portfolio_history": 1109.5,
          "portfolio_history_bh": 1055.599976,
          "portfolio_history_rand": 1160.050048,
          "position": 667.5
         },
         {
          "action": "HOLD",
          "actual": 784.900024,
          "date": "2013-06-21T00:00:00",
          "portfolio_history": 1110,
          "portfolio_history_bh": 1056.099976,
          "portfolio_history_rand": 1160.050048,
          "position": 640.5
         },
         {
          "action": "HOLD",
          "actual": 775,
          "date": "2013-06-24T00:00:00",
          "portfolio_history": 1106.900024,
          "portfolio_history_bh": 1053,
          "portfolio_history_rand": 1156.950072,
          "position": 654.5
         },
         {
          "action": "HOLD",
          "actual": 780,
          "date": "2013-06-25T00:00:00",
          "portfolio_history": 1102.800048,
          "portfolio_history_bh": 1048.900024,
          "portfolio_history_rand": 1152.8500960000001,
          "position": 642
         },
         {
          "action": "HOLD",
          "actual": 779,
          "date": "2013-06-26T00:00:00",
          "portfolio_history": 1092.900024,
          "portfolio_history_bh": 1039,
          "portfolio_history_rand": 1152.8500960000001,
          "position": 639.5
         },
         {
          "action": "SELL",
          "actual": 778.799988,
          "date": "2013-06-27T00:00:00",
          "portfolio_history": 1097.900024,
          "portfolio_history_bh": 1044,
          "portfolio_history_rand": 1152.8500960000001,
          "position": 645
         },
         {
          "action": "BUY",
          "actual": 780,
          "date": "2013-06-28T00:00:00",
          "portfolio_history": 1096.900024,
          "portfolio_history_bh": 1043,
          "portfolio_history_rand": 1152.8500960000001,
          "position": 649
         },
         {
          "action": "SELL",
          "actual": 777.099976,
          "date": "2013-07-01T00:00:00",
          "portfolio_history": 1096.900024,
          "portfolio_history_bh": 1042.799988,
          "portfolio_history_rand": 1152.8500960000001,
          "position": 649.5
         },
         {
          "action": "HOLD",
          "actual": 783.599976,
          "date": "2013-07-02T00:00:00",
          "portfolio_history": 1098.100036,
          "portfolio_history_bh": 1044,
          "portfolio_history_rand": 1152.8500960000001,
          "position": 649.5
         },
         {
          "action": "HOLD",
          "actual": 792,
          "date": "2013-07-03T00:00:00",
          "portfolio_history": 1098.100036,
          "portfolio_history_bh": 1041.099976,
          "portfolio_history_rand": 1152.8500960000001,
          "position": 648.5
         },
         {
          "action": "BUY",
          "actual": 843,
          "date": "2013-07-05T00:00:00",
          "portfolio_history": 1098.100036,
          "portfolio_history_bh": 1047.599976,
          "portfolio_history_rand": 1159.3500960000001,
          "position": 648.5
         },
         {
          "action": "HOLD",
          "actual": 850,
          "date": "2013-07-08T00:00:00",
          "portfolio_history": 1098.100036,
          "portfolio_history_bh": 1056,
          "portfolio_history_rand": 1167.7501200000002,
          "position": 640
         },
         {
          "action": "HOLD",
          "actual": 842.7999880000001,
          "date": "2013-07-09T00:00:00",
          "portfolio_history": 1149.100036,
          "portfolio_history_bh": 1107,
          "portfolio_history_rand": 1218.7501200000002,
          "position": 656
         },
         {
          "action": "HOLD",
          "actual": 830,
          "date": "2013-07-10T00:00:00",
          "portfolio_history": 1156.100036,
          "portfolio_history_bh": 1114,
          "portfolio_history_rand": 1225.7501200000002,
          "position": 660
         },
         {
          "action": "SELL",
          "actual": 875,
          "date": "2013-07-11T00:00:00",
          "portfolio_history": 1148.900024,
          "portfolio_history_bh": 1106.7999880000002,
          "portfolio_history_rand": 1218.5501080000004,
          "position": 669
         },
         {
          "action": "HOLD",
          "actual": 861,
          "date": "2013-07-12T00:00:00",
          "portfolio_history": 1136.100036,
          "portfolio_history_bh": 1094,
          "portfolio_history_rand": 1218.5501080000004,
          "position": 660
         },
         {
          "action": "HOLD",
          "actual": 860,
          "date": "2013-07-15T00:00:00",
          "portfolio_history": 1136.100036,
          "portfolio_history_bh": 1139,
          "portfolio_history_rand": 1218.5501080000004,
          "position": 658.5
         },
         {
          "action": "HOLD",
          "actual": 870,
          "date": "2013-07-16T00:00:00",
          "portfolio_history": 1136.100036,
          "portfolio_history_bh": 1125,
          "portfolio_history_rand": 1204.5501080000004,
          "position": 652
         },
         {
          "action": "HOLD",
          "actual": 900,
          "date": "2013-07-17T00:00:00",
          "portfolio_history": 1136.100036,
          "portfolio_history_bh": 1124,
          "portfolio_history_rand": 1204.5501080000004,
          "position": 675
         },
         {
          "action": "BUY",
          "actual": 898,
          "date": "2013-07-18T00:00:00",
          "portfolio_history": 1136.100036,
          "portfolio_history_bh": 1134,
          "portfolio_history_rand": 1214.5501080000004,
          "position": 661.5
         },
         {
          "action": "HOLD",
          "actual": 945,
          "date": "2013-07-19T00:00:00",
          "portfolio_history": 1136.100036,
          "portfolio_history_bh": 1164,
          "portfolio_history_rand": 1244.5501080000004,
          "position": 670
         },
         {
          "action": "SELL",
          "actual": 945,
          "date": "2013-07-22T00:00:00",
          "portfolio_history": 1134.100036,
          "portfolio_history_bh": 1162,
          "portfolio_history_rand": 1244.5501080000004,
          "position": 670
         },
         {
          "action": "BUY",
          "actual": 954,
          "date": "2013-07-23T00:00:00",
          "portfolio_history": 1181.100036,
          "portfolio_history_bh": 1209,
          "portfolio_history_rand": 1291.5501080000004,
          "position": 678
         },
         {
          "action": "HOLD",
          "actual": 969,
          "date": "2013-07-24T00:00:00",
          "portfolio_history": 1181.100036,
          "portfolio_history_bh": 1209,
          "portfolio_history_rand": 1291.5501080000004,
          "position": 685
         },
         {
          "action": "SELL",
          "actual": 963.2999880000001,
          "date": "2013-07-25T00:00:00",
          "portfolio_history": 1190.100036,
          "portfolio_history_bh": 1218,
          "portfolio_history_rand": 1300.5501080000004,
          "position": 684
         },
         {
          "action": "HOLD",
          "actual": 967,
          "date": "2013-07-26T00:00:00",
          "portfolio_history": 1205.100036,
          "portfolio_history_bh": 1233,
          "portfolio_history_rand": 1315.5501080000004,
          "position": 685
         },
         {
          "action": "HOLD",
          "actual": 963,
          "date": "2013-07-29T00:00:00",
          "portfolio_history": 1205.100036,
          "portfolio_history_bh": 1227.2999880000002,
          "portfolio_history_rand": 1309.8500960000006,
          "position": 691
         },
         {
          "action": "HOLD",
          "actual": 972.849976,
          "date": "2013-07-30T00:00:00",
          "portfolio_history": 1205.100036,
          "portfolio_history_bh": 1231,
          "portfolio_history_rand": 1309.8500960000006,
          "position": 694.5
         },
         {
          "action": "HOLD",
          "actual": 980,
          "date": "2013-07-31T00:00:00",
          "portfolio_history": 1205.100036,
          "portfolio_history_bh": 1227,
          "portfolio_history_rand": 1309.8500960000006,
          "position": 688
         },
         {
          "action": "HOLD",
          "actual": 967,
          "date": "2013-08-01T00:00:00",
          "portfolio_history": 1205.100036,
          "portfolio_history_bh": 1236.849976,
          "portfolio_history_rand": 1309.8500960000006,
          "position": 685
         },
         {
          "action": "HOLD",
          "actual": 966.9500119999999,
          "date": "2013-08-02T00:00:00",
          "portfolio_history": 1205.100036,
          "portfolio_history_bh": 1244,
          "portfolio_history_rand": 1309.8500960000006,
          "position": 696.5
         },
         {
          "action": "BUY",
          "actual": 968.4500119999999,
          "date": "2013-08-05T00:00:00",
          "portfolio_history": 1205.100036,
          "portfolio_history_bh": 1231,
          "portfolio_history_rand": 1309.8500960000006,
          "position": 706.5
         },
         {
          "action": "HOLD",
          "actual": 962.5,
          "date": "2013-08-06T00:00:00",
          "portfolio_history": 1205.100036,
          "portfolio_history_bh": 1230.9500119999998,
          "portfolio_history_rand": 1309.8500960000006,
          "position": 709
         },
         {
          "action": "HOLD",
          "actual": 974.9500119999999,
          "date": "2013-08-07T00:00:00",
          "portfolio_history": 1206.600036,
          "portfolio_history_bh": 1232.4500119999998,
          "portfolio_history_rand": 1309.8500960000006,
          "position": 708
         },
         {
          "action": "SELL",
          "actual": 970,
          "date": "2013-08-08T00:00:00",
          "portfolio_history": 1200.650024,
          "portfolio_history_bh": 1226.5,
          "portfolio_history_rand": 1309.8500960000006,
          "position": 713
         },
         {
          "action": "BUY",
          "actual": 975,
          "date": "2013-08-09T00:00:00",
          "portfolio_history": 1213.100036,
          "portfolio_history_bh": 1238.9500119999998,
          "portfolio_history_rand": 1322.3001080000004,
          "position": 713
         },
         {
          "action": "HOLD",
          "actual": 980,
          "date": "2013-08-12T00:00:00",
          "portfolio_history": 1213.100036,
          "portfolio_history_bh": 1234,
          "portfolio_history_rand": 1317.3500960000006,
          "position": 726.5
         },
         {
          "action": "HOLD",
          "actual": 1004.5,
          "date": "2013-08-13T00:00:00",
          "portfolio_history": 1218.100036,
          "portfolio_history_bh": 1239,
          "portfolio_history_rand": 1317.3500960000006,
          "position": 719
         },
         {
          "action": "HOLD",
          "actual": 1020,
          "date": "2013-08-14T00:00:00",
          "portfolio_history": 1223.100036,
          "portfolio_history_bh": 1244,
          "portfolio_history_rand": 1317.3500960000006,
          "position": 723
         },
         {
          "action": "HOLD",
          "actual": 1020,
          "date": "2013-08-15T00:00:00",
          "portfolio_history": 1247.600036,
          "portfolio_history_bh": 1268.5,
          "portfolio_history_rand": 1341.8500960000006,
          "position": 722
         },
         {
          "action": "SELL",
          "actual": 986,
          "date": "2013-08-16T00:00:00",
          "portfolio_history": 1263.100036,
          "portfolio_history_bh": 1284,
          "portfolio_history_rand": 1357.3500960000006,
          "position": 722
         },
         {
          "action": "BUY",
          "actual": 1020,
          "date": "2013-08-19T00:00:00",
          "portfolio_history": 1263.100036,
          "portfolio_history_bh": 1284,
          "portfolio_history_rand": 1357.3500960000006,
          "position": 709
         },
         {
          "action": "HOLD",
          "actual": 1000,
          "date": "2013-08-20T00:00:00",
          "portfolio_history": 1263.100036,
          "portfolio_history_bh": 1250,
          "portfolio_history_rand": 1357.3500960000006,
          "position": 720
         },
         {
          "action": "SELL",
          "actual": 993.7999880000001,
          "date": "2013-08-21T00:00:00",
          "portfolio_history": 1297.100036,
          "portfolio_history_bh": 1284,
          "portfolio_history_rand": 1357.3500960000006,
          "position": 720
         },
         {
          "action": "BUY",
          "actual": 1016.900024,
          "date": "2013-08-22T00:00:00",
          "portfolio_history": 1277.100036,
          "portfolio_history_bh": 1264,
          "portfolio_history_rand": 1357.3500960000006,
          "position": 734.5
         },
         {
          "action": "HOLD",
          "actual": 1020,
          "date": "2013-08-23T00:00:00",
          "portfolio_history": 1277.100036,
          "portfolio_history_bh": 1257.7999880000002,
          "portfolio_history_rand": 1351.1500840000008,
          "position": 731
         },
         {
          "action": "HOLD",
          "actual": 1055,
          "date": "2013-08-26T00:00:00",
          "portfolio_history": 1300.200072,
          "portfolio_history_bh": 1280.900024,
          "portfolio_history_rand": 1351.1500840000008,
          "position": 715
         },
         {
          "action": "HOLD",
          "actual": 1033,
          "date": "2013-08-27T00:00:00",
          "portfolio_history": 1303.300048,
          "portfolio_history_bh": 1284,
          "portfolio_history_rand": 1354.2500600000008,
          "position": 709.5
         },
         {
          "action": "HOLD",
          "actual": 1015,
          "date": "2013-08-28T00:00:00",
          "portfolio_history": 1338.300048,
          "portfolio_history_bh": 1319,
          "portfolio_history_rand": 1389.2500600000008,
          "position": 709.5
         },
         {
          "action": "HOLD",
          "actual": 1016,
          "date": "2013-08-29T00:00:00",
          "portfolio_history": 1316.300048,
          "portfolio_history_bh": 1297,
          "portfolio_history_rand": 1367.2500600000008,
          "position": 708.5
         },
         {
          "action": "HOLD",
          "actual": 999.900024,
          "date": "2013-08-30T00:00:00",
          "portfolio_history": 1298.300048,
          "portfolio_history_bh": 1279,
          "portfolio_history_rand": 1349.2500600000008,
          "position": 712
         },
         {
          "action": "SELL",
          "actual": 1023.849976,
          "date": "2013-09-03T00:00:00",
          "portfolio_history": 1299.300048,
          "portfolio_history_bh": 1280,
          "portfolio_history_rand": 1350.2500600000008,
          "position": 708.5
         },
         {
          "action": "HOLD",
          "actual": 1001.9500119999999,
          "date": "2013-09-04T00:00:00",
          "portfolio_history": 1283.200072,
          "portfolio_history_bh": 1263.900024,
          "portfolio_history_rand": 1334.1500840000008,
          "position": 710
         },
         {
          "action": "HOLD",
          "actual": 985,
          "date": "2013-09-05T00:00:00",
          "portfolio_history": 1283.200072,
          "portfolio_history_bh": 1287.849976,
          "portfolio_history_rand": 1334.1500840000008,
          "position": 710
         },
         {
          "action": "HOLD",
          "actual": 1000,
          "date": "2013-09-06T00:00:00",
          "portfolio_history": 1283.200072,
          "portfolio_history_bh": 1265.9500119999998,
          "portfolio_history_rand": 1334.1500840000008,
          "position": 715
         },
         {
          "action": "BUY",
          "actual": 1032,
          "date": "2013-09-09T00:00:00",
          "portfolio_history": 1283.200072,
          "portfolio_history_bh": 1249,
          "portfolio_history_rand": 1334.1500840000008,
          "position": 724
         },
         {
          "action": "HOLD",
          "actual": 1027.099976,
          "date": "2013-09-10T00:00:00",
          "portfolio_history": 1283.200072,
          "portfolio_history_bh": 1264,
          "portfolio_history_rand": 1334.1500840000008,
          "position": 724
         },
         {
          "action": "HOLD",
          "actual": 1031,
          "date": "2013-09-11T00:00:00",
          "portfolio_history": 1315.200072,
          "portfolio_history_bh": 1296,
          "portfolio_history_rand": 1366.1500840000008,
          "position": 724
         },
         {
          "action": "SELL",
          "actual": 1049.5,
          "date": "2013-09-12T00:00:00",
          "portfolio_history": 1310.300048,
          "portfolio_history_bh": 1291.099976,
          "portfolio_history_rand": 1361.2500600000008,
          "position": 726
         },
         {
          "action": "HOLD",
          "actual": 1055,
          "date": "2013-09-13T00:00:00",
          "portfolio_history": 1314.200072,
          "portfolio_history_bh": 1295,
          "portfolio_history_rand": 1361.2500600000008,
          "position": 736
         },
         {
          "action": "HOLD",
          "actual": 1040,
          "date": "2013-09-16T00:00:00",
          "portfolio_history": 1314.200072,
          "portfolio_history_bh": 1313.5,
          "portfolio_history_rand": 1361.2500600000008,
          "position": 739
         },
         {
          "action": "HOLD",
          "actual": 1042,
          "date": "2013-09-17T00:00:00",
          "portfolio_history": 1314.200072,
          "portfolio_history_bh": 1319,
          "portfolio_history_rand": 1361.2500600000008,
          "position": 740
         },
         {
          "action": "HOLD",
          "actual": 1045,
          "date": "2013-09-18T00:00:00",
          "portfolio_history": 1314.200072,
          "portfolio_history_bh": 1304,
          "portfolio_history_rand": 1361.2500600000008,
          "position": 754
         },
         {
          "action": "HOLD",
          "actual": 1051,
          "date": "2013-09-19T00:00:00",
          "portfolio_history": 1314.200072,
          "portfolio_history_bh": 1306,
          "portfolio_history_rand": 1363.2500600000008,
          "position": 753
         },
         {
          "action": "HOLD",
          "actual": 1102,
          "date": "2013-09-20T00:00:00",
          "portfolio_history": 1314.200072,
          "portfolio_history_bh": 1309,
          "portfolio_history_rand": 1366.2500600000008,
          "position": 768
         },
         {
          "action": "BUY",
          "actual": 1100,
          "date": "2013-09-23T00:00:00",
          "portfolio_history": 1314.200072,
          "portfolio_history_bh": 1315,
          "portfolio_history_rand": 1372.2500600000008,
          "position": 757
         },
         {
          "action": "HOLD",
          "actual": 1050,
          "date": "2013-09-24T00:00:00",
          "portfolio_history": 1314.200072,
          "portfolio_history_bh": 1366,
          "portfolio_history_rand": 1372.2500600000008,
          "position": 760
         },
         {
          "action": "SELL",
          "actual": 1040,
          "date": "2013-09-25T00:00:00",
          "portfolio_history": 1312.200072,
          "portfolio_history_bh": 1364,
          "portfolio_history_rand": 1372.2500600000008,
          "position": 759.5
         },
         {
          "action": "HOLD",
          "actual": 1030,
          "date": "2013-09-26T00:00:00",
          "portfolio_history": 1262.200072,
          "portfolio_history_bh": 1314,
          "portfolio_history_rand": 1372.2500600000008,
          "position": 755.5
         },
         {
          "action": "BUY",
          "actual": 1000,
          "date": "2013-09-27T00:00:00",
          "portfolio_history": 1262.200072,
          "portfolio_history_bh": 1304,
          "portfolio_history_rand": 1362.2500600000008,
          "position": 753
         },
         {
          "action": "HOLD",
          "actual": 1019,
          "date": "2013-09-30T00:00:00",
          "portfolio_history": 1262.200072,
          "portfolio_history_bh": 1294,
          "portfolio_history_rand": 1352.2500600000008,
          "position": 753
         },
         {
          "action": "SELL",
          "actual": 1027,
          "date": "2013-10-01T00:00:00",
          "portfolio_history": 1232.200072,
          "portfolio_history_bh": 1264,
          "portfolio_history_rand": 1322.2500600000008,
          "position": 767.5
         },
         {
          "action": "HOLD",
          "actual": 1037,
          "date": "2013-10-02T00:00:00",
          "portfolio_history": 1251.200072,
          "portfolio_history_bh": 1283,
          "portfolio_history_rand": 1322.2500600000008,
          "position": 767.5
         },
         {
          "action": "HOLD",
          "actual": 1035,
          "date": "2013-10-03T00:00:00",
          "portfolio_history": 1251.200072,
          "portfolio_history_bh": 1291,
          "portfolio_history_rand": 1322.2500600000008,
          "position": 788
         },
         {
          "action": "HOLD",
          "actual": 1031.699951,
          "date": "2013-10-04T00:00:00",
          "portfolio_history": 1251.200072,
          "portfolio_history_bh": 1301,
          "portfolio_history_rand": 1332.2500600000008,
          "position": 788
         },
         {
          "action": "BUY",
          "actual": 1040,
          "date": "2013-10-07T00:00:00",
          "portfolio_history": 1251.200072,
          "portfolio_history_bh": 1299,
          "portfolio_history_rand": 1330.2500600000008,
          "position": 779
         },
         {
          "action": "HOLD",
          "actual": 1044,
          "date": "2013-10-08T00:00:00",
          "portfolio_history": 1251.200072,
          "portfolio_history_bh": 1295.699951,
          "portfolio_history_rand": 1326.9500110000008,
          "position": 798
         },
         {
          "action": "HOLD",
          "actual": 1046.900024,
          "date": "2013-10-09T00:00:00",
          "portfolio_history": 1259.500121,
          "portfolio_history_bh": 1304,
          "portfolio_history_rand": 1335.2500600000008,
          "position": 794
         },
         {
          "action": "HOLD",
          "actual": 1055.300049,
          "date": "2013-10-10T00:00:00",
          "portfolio_history": 1263.500121,
          "portfolio_history_bh": 1308,
          "portfolio_history_rand": 1335.2500600000008,
          "position": 794
         },
         {
          "action": "SELL",
          "actual": 1080,
          "date": "2013-10-11T00:00:00",
          "portfolio_history": 1266.400145,
          "portfolio_history_bh": 1310.900024,
          "portfolio_history_rand": 1335.2500600000008,
          "position": 794
         },
         {
          "action": "BUY",
          "actual": 1071.400024,
          "date": "2013-10-14T00:00:00",
          "portfolio_history": 1274.80017,
          "portfolio_history_bh": 1319.300049,
          "portfolio_history_rand": 1335.2500600000008,
          "position": 794
         },
         {
          "action": "HOLD",
          "actual": 1094.900024,
          "date": "2013-10-15T00:00:00",
          "portfolio_history": 1274.80017,
          "portfolio_history_bh": 1344,
          "portfolio_history_rand": 1335.2500600000008,
          "position": 786
         },
         {
          "action": "HOLD",
          "actual": 1068.5,
          "date": "2013-10-16T00:00:00",
          "portfolio_history": 1266.200194,
          "portfolio_history_bh": 1335.400024,
          "portfolio_history_rand": 1326.6500840000008,
          "position": 798
         },
         {
          "action": "HOLD",
          "actual": 1095,
          "date": "2013-10-17T00:00:00",
          "portfolio_history": 1289.700194,
          "portfolio_history_bh": 1358.900024,
          "portfolio_history_rand": 1350.1500840000008,
          "position": 798
         },
         {
          "action": "HOLD",
          "actual": 1195,
          "date": "2013-10-18T00:00:00",
          "portfolio_history": 1263.30017,
          "portfolio_history_bh": 1332.5,
          "portfolio_history_rand": 1350.1500840000008,
          "position": 796.5
         },
         {
          "action": "HOLD",
          "actual": 1163,
          "date": "2013-10-21T00:00:00",
          "portfolio_history": 1289.80017,
          "portfolio_history_bh": 1359,
          "portfolio_history_rand": 1350.1500840000008,
          "position": 789.5
         },
         {
          "action": "SELL",
          "actual": 1160,
          "date": "2013-10-22T00:00:00",
          "portfolio_history": 1389.80017,
          "portfolio_history_bh": 1459,
          "portfolio_history_rand": 1350.1500840000008,
          "position": 772
         },
         {
          "action": "HOLD",
          "actual": 1136,
          "date": "2013-10-23T00:00:00",
          "portfolio_history": 1357.80017,
          "portfolio_history_bh": 1427,
          "portfolio_history_rand": 1350.1500840000008,
          "position": 768.5
         },
         {
          "action": "BUY",
          "actual": 1136,
          "date": "2013-10-24T00:00:00",
          "portfolio_history": 1357.80017,
          "portfolio_history_bh": 1424,
          "portfolio_history_rand": 1347.1500840000008,
          "position": 768
         },
         {
          "action": "HOLD",
          "actual": 1170.699951,
          "date": "2013-10-25T00:00:00",
          "portfolio_history": 1357.80017,
          "portfolio_history_bh": 1400,
          "portfolio_history_rand": 1347.1500840000008,
          "position": 762
         },
         {
          "action": "HOLD",
          "actual": 1174,
          "date": "2013-10-28T00:00:00",
          "portfolio_history": 1357.80017,
          "portfolio_history_bh": 1400,
          "portfolio_history_rand": 1347.1500840000008,
          "position": 760
         },
         {
          "action": "HOLD",
          "actual": 1176,
          "date": "2013-10-29T00:00:00",
          "portfolio_history": 1392.500121,
          "portfolio_history_bh": 1434.699951,
          "portfolio_history_rand": 1347.1500840000008,
          "position": 768
         },
         {
          "action": "HOLD",
          "actual": 1184,
          "date": "2013-10-30T00:00:00",
          "portfolio_history": 1395.80017,
          "portfolio_history_bh": 1438,
          "portfolio_history_rand": 1347.1500840000008,
          "position": 768
         },
         {
          "action": "SELL",
          "actual": 1187.099976,
          "date": "2013-10-31T00:00:00",
          "portfolio_history": 1397.80017,
          "portfolio_history_bh": 1440,
          "portfolio_history_rand": 1349.1500840000008,
          "position": 754
         },
         {
          "action": "HOLD",
          "actual": 1187.099976,
          "date": "2013-11-01T00:00:00",
          "portfolio_history": 1405.80017,
          "portfolio_history_bh": 1448,
          "portfolio_history_rand": 1357.1500840000008,
          "position": 763
         },
         {
          "action": "HOLD",
          "actual": 1215,
          "date": "2013-11-04T00:00:00",
          "portfolio_history": 1405.80017,
          "portfolio_history_bh": 1451.099976,
          "portfolio_history_rand": 1360.2500600000008,
          "position": 777
         },
         {
          "action": "BUY",
          "actual": 1180,
          "date": "2013-11-05T00:00:00",
          "portfolio_history": 1405.80017,
          "portfolio_history_bh": 1451.099976,
          "portfolio_history_rand": 1360.2500600000008,
          "position": 778
         },
         {
          "action": "HOLD",
          "actual": 1200,
          "date": "2013-11-06T00:00:00",
          "portfolio_history": 1405.80017,
          "portfolio_history_bh": 1479,
          "portfolio_history_rand": 1360.2500600000008,
          "position": 780
         },
         {
          "action": "SELL",
          "actual": 1201.300049,
          "date": "2013-11-07T00:00:00",
          "portfolio_history": 1370.80017,
          "portfolio_history_bh": 1444,
          "portfolio_history_rand": 1325.2500600000008,
          "position": 778.5
         },
         {
          "action": "HOLD",
          "actual": 1210,
          "date": "2013-11-08T00:00:00",
          "portfolio_history": 1390.80017,
          "portfolio_history_bh": 1464,
          "portfolio_history_rand": 1345.2500600000008,
          "position": 800
         },
         {
          "action": "HOLD",
          "actual": 1210,
          "date": "2013-11-11T00:00:00",
          "portfolio_history": 1390.80017,
          "portfolio_history_bh": 1465.300049,
          "portfolio_history_rand": 1345.2500600000008,
          "position": 810
         },
         {
          "action": "HOLD",
          "actual": 1200,
          "date": "2013-11-12T00:00:00",
          "portfolio_history": 1390.80017,
          "portfolio_history_bh": 1474,
          "portfolio_history_rand": 1353.9500110000008,
          "position": 812
         },
         {
          "action": "HOLD",
          "actual": 1199.5,
          "date": "2013-11-13T00:00:00",
          "portfolio_history": 1390.80017,
          "portfolio_history_bh": 1474,
          "portfolio_history_rand": 1353.9500110000008,
          "position": 817
         },
         {
          "action": "HOLD",
          "actual": 1208,
          "date": "2013-11-14T00:00:00",
          "portfolio_history": 1390.80017,
          "portfolio_history_bh": 1464,
          "portfolio_history_rand": 1343.9500110000008,
          "position": 816
         },
         {
          "action": "HOLD",
          "actual": 1222,
          "date": "2013-11-15T00:00:00",
          "portfolio_history": 1390.80017,
          "portfolio_history_bh": 1463.5,
          "portfolio_history_rand": 1343.9500110000008,
          "position": 811
         },
         {
          "action": "BUY",
          "actual": 1255,
          "date": "2013-11-18T00:00:00",
          "portfolio_history": 1390.80017,
          "portfolio_history_bh": 1472,
          "portfolio_history_rand": 1343.9500110000008,
          "position": 804
         },
         {
          "action": "SELL",
          "actual": 1277,
          "date": "2013-11-19T00:00:00",
          "portfolio_history": 1390.80017,
          "portfolio_history_bh": 1486,
          "portfolio_history_rand": 1343.9500110000008,
          "position": 800
         },
         {
          "action": "HOLD",
          "actual": 1324,
          "date": "2013-11-20T00:00:00",
          "portfolio_history": 1423.80017,
          "portfolio_history_bh": 1519,
          "portfolio_history_rand": 1343.9500110000008,
          "position": 800
         },
         {
          "action": "HOLD",
          "actual": 1375,
          "date": "2013-11-21T00:00:00",
          "portfolio_history": 1423.80017,
          "portfolio_history_bh": 1541,
          "portfolio_history_rand": 1343.9500110000008,
          "position": 784
         },
         {
          "action": "HOLD",
          "actual": 1330,
          "date": "2013-11-22T00:00:00",
          "portfolio_history": 1423.80017,
          "portfolio_history_bh": 1588,
          "portfolio_history_rand": 1390.9500110000008,
          "position": 784
         },
         {
          "action": "HOLD",
          "actual": 1290.050049,
          "date": "2013-11-25T00:00:00",
          "portfolio_history": 1423.80017,
          "portfolio_history_bh": 1639,
          "portfolio_history_rand": 1390.9500110000008,
          "position": 784
         },
         {
          "action": "HOLD",
          "actual": 1308.949951,
          "date": "2013-11-26T00:00:00",
          "portfolio_history": 1423.80017,
          "portfolio_history_bh": 1594,
          "portfolio_history_rand": 1390.9500110000008,
          "position": 798
         },
         {
          "action": "HOLD",
          "actual": 1289.949951,
          "date": "2013-11-27T00:00:00",
          "portfolio_history": 1423.80017,
          "portfolio_history_bh": 1554.050049,
          "portfolio_history_rand": 1390.9500110000008,
          "position": 807
         },
         {
          "action": "HOLD",
          "actual": 1320.5,
          "date": "2013-11-29T00:00:00",
          "portfolio_history": 1423.80017,
          "portfolio_history_bh": 1572.949951,
          "portfolio_history_rand": 1409.849913000001,
          "position": 800
         },
         {
          "action": "HOLD",
          "actual": 1320,
          "date": "2013-12-02T00:00:00",
          "portfolio_history": 1423.80017,
          "portfolio_history_bh": 1553.949951,
          "portfolio_history_rand": 1390.849913000001,
          "position": 803
         },
         {
          "action": "HOLD",
          "actual": 1307.900024,
          "date": "2013-12-03T00:00:00",
          "portfolio_history": 1423.80017,
          "portfolio_history_bh": 1584.5,
          "portfolio_history_rand": 1421.3999620000009,
          "position": 807
         },
         {
          "action": "HOLD",
          "actual": 1285,
          "date": "2013-12-04T00:00:00",
          "portfolio_history": 1423.80017,
          "portfolio_history_bh": 1584,
          "portfolio_history_rand": 1420.8999620000009,
          "position": 795
         },
         {
          "action": "HOLD",
          "actual": 1270,
          "date": "2013-12-05T00:00:00",
          "portfolio_history": 1423.80017,
          "portfolio_history_bh": 1571.900024,
          "portfolio_history_rand": 1408.799986000001,
          "position": 785
         },
         {
          "action": "HOLD",
          "actual": 1270,
          "date": "2013-12-06T00:00:00",
          "portfolio_history": 1423.80017,
          "portfolio_history_bh": 1549,
          "portfolio_history_rand": 1385.8999620000009,
          "position": 800
         },
         {
          "action": "HOLD",
          "actual": 1272,
          "date": "2013-12-09T00:00:00",
          "portfolio_history": 1423.80017,
          "portfolio_history_bh": 1534,
          "portfolio_history_rand": 1370.8999620000009,
          "position": 798
         },
         {
          "action": "HOLD",
          "actual": 1265,
          "date": "2013-12-10T00:00:00",
          "portfolio_history": 1423.80017,
          "portfolio_history_bh": 1534,
          "portfolio_history_rand": 1370.8999620000009,
          "position": 806
         },
         {
          "action": "HOLD",
          "actual": 1271.449951,
          "date": "2013-12-11T00:00:00",
          "portfolio_history": 1423.80017,
          "portfolio_history_bh": 1536,
          "portfolio_history_rand": 1370.8999620000009,
          "position": 805
         },
         {
          "action": "BUY",
          "actual": 1250,
          "date": "2013-12-12T00:00:00",
          "portfolio_history": 1423.80017,
          "portfolio_history_bh": 1529,
          "portfolio_history_rand": 1363.8999620000009,
          "position": 796.5
         },
         {
          "action": "HOLD",
          "actual": 1248.599976,
          "date": "2013-12-13T00:00:00",
          "portfolio_history": 1423.80017,
          "portfolio_history_bh": 1535.449951,
          "portfolio_history_rand": 1370.349913000001,
          "position": 806.5
         },
         {
          "action": "SELL",
          "actual": 1269.5,
          "date": "2013-12-16T00:00:00",
          "portfolio_history": 1402.350219,
          "portfolio_history_bh": 1514,
          "portfolio_history_rand": 1348.8999620000009,
          "position": 806
         },
         {
          "action": "HOLD",
          "actual": 1222,
          "date": "2013-12-17T00:00:00",
          "portfolio_history": 1400.950195,
          "portfolio_history_bh": 1512.599976,
          "portfolio_history_rand": 1348.8999620000009,
          "position": 804
         },
         {
          "action": "HOLD",
          "actual": 1250,
          "date": "2013-12-18T00:00:00",
          "portfolio_history": 1400.950195,
          "portfolio_history_bh": 1533.5,
          "portfolio_history_rand": 1369.799986000001,
          "position": 806
         },
         {
          "action": "BUY",
          "actual": 1264,
          "date": "2013-12-19T00:00:00",
          "portfolio_history": 1400.950195,
          "portfolio_history_bh": 1486,
          "portfolio_history_rand": 1322.299986000001,
          "position": 815
         },
         {
          "action": "HOLD",
          "actual": 1263,
          "date": "2013-12-20T00:00:00",
          "portfolio_history": 1400.950195,
          "portfolio_history_bh": 1514,
          "portfolio_history_rand": 1350.299986000001,
          "position": 825
         },
         {
          "action": "HOLD",
          "actual": 1250,
          "date": "2013-12-23T00:00:00",
          "portfolio_history": 1414.950195,
          "portfolio_history_bh": 1528,
          "portfolio_history_rand": 1364.299986000001,
          "position": 840
         },
         {
          "action": "HOLD",
          "actual": 1250,
          "date": "2013-12-24T00:00:00",
          "portfolio_history": 1413.950195,
          "portfolio_history_bh": 1527,
          "portfolio_history_rand": 1363.299986000001,
          "position": 845
         },
         {
          "action": "HOLD",
          "actual": 1250,
          "date": "2013-12-26T00:00:00",
          "portfolio_history": 1400.950195,
          "portfolio_history_bh": 1514,
          "portfolio_history_rand": 1350.299986000001,
          "position": 840
         },
         {
          "action": "SELL",
          "actual": 1240,
          "date": "2013-12-27T00:00:00",
          "portfolio_history": 1400.950195,
          "portfolio_history_bh": 1514,
          "portfolio_history_rand": 1350.299986000001,
          "position": 835
         },
         {
          "action": "HOLD",
          "actual": 1240,
          "date": "2013-12-30T00:00:00",
          "portfolio_history": 1400.950195,
          "portfolio_history_bh": 1514,
          "portfolio_history_rand": 1350.299986000001,
          "position": 825
         },
         {
          "action": "HOLD",
          "actual": 1240,
          "date": "2013-12-31T00:00:00",
          "portfolio_history": 1400.950195,
          "portfolio_history_bh": 1504,
          "portfolio_history_rand": 1340.299986000001,
          "position": 802
         },
         {
          "action": "HOLD",
          "actual": 1225.199951,
          "date": "2014-01-02T00:00:00",
          "portfolio_history": 1400.950195,
          "portfolio_history_bh": 1504,
          "portfolio_history_rand": 1340.299986000001,
          "position": 807
         },
         {
          "action": "HOLD",
          "actual": 1250,
          "date": "2014-01-03T00:00:00",
          "portfolio_history": 1400.950195,
          "portfolio_history_bh": 1504,
          "portfolio_history_rand": 1340.299986000001,
          "position": 800
         },
         {
          "action": "BUY",
          "actual": 1250,
          "date": "2014-01-06T00:00:00",
          "portfolio_history": 1400.950195,
          "portfolio_history_bh": 1489.199951,
          "portfolio_history_rand": 1325.499937000001,
          "position": 800
         },
         {
          "action": "HOLD",
          "actual": 1220,
          "date": "2014-01-07T00:00:00",
          "portfolio_history": 1400.950195,
          "portfolio_history_bh": 1514,
          "portfolio_history_rand": 1350.299986000001,
          "position": 790.5
         },
         {
          "action": "HOLD",
          "actual": 1177,
          "date": "2014-01-08T00:00:00",
          "portfolio_history": 1400.950195,
          "portfolio_history_bh": 1514,
          "portfolio_history_rand": 1350.299986000001,
          "position": 780.5
         },
         {
          "action": "HOLD",
          "actual": 1150.050049,
          "date": "2014-01-09T00:00:00",
          "portfolio_history": 1370.950195,
          "portfolio_history_bh": 1484,
          "portfolio_history_rand": 1320.299986000001,
          "position": 760
         },
         {
          "action": "HOLD",
          "actual": 1121.5,
          "date": "2014-01-10T00:00:00",
          "portfolio_history": 1327.950195,
          "portfolio_history_bh": 1441,
          "portfolio_history_rand": 1277.299986000001,
          "position": 770
         },
         {
          "action": "HOLD",
          "actual": 1231.800049,
          "date": "2014-01-13T00:00:00",
          "portfolio_history": 1301.0002439999998,
          "portfolio_history_bh": 1414.050049,
          "portfolio_history_rand": 1250.3500350000008,
          "position": 770.5
         },
         {
          "action": "SELL",
          "actual": 1230,
          "date": "2014-01-14T00:00:00",
          "portfolio_history": 1272.450195,
          "portfolio_history_bh": 1385.5,
          "portfolio_history_rand": 1221.799986000001,
          "position": 795
         },
         {
          "action": "BUY",
          "actual": 1200.099976,
          "date": "2014-01-15T00:00:00",
          "portfolio_history": 1382.7502439999998,
          "portfolio_history_bh": 1495.800049,
          "portfolio_history_rand": 1221.799986000001,
          "position": 795
         },
         {
          "action": "SELL",
          "actual": 1224.800049,
          "date": "2014-01-16T00:00:00",
          "portfolio_history": 1382.7502439999998,
          "portfolio_history_bh": 1494,
          "portfolio_history_rand": 1221.799986000001,
          "position": 800
         },
         {
          "action": "HOLD",
          "actual": 1215,
          "date": "2014-01-17T00:00:00",
          "portfolio_history": 1352.8502199999998,
          "portfolio_history_bh": 1464.099976,
          "portfolio_history_rand": 1221.799986000001,
          "position": 790
         },
         {
          "action": "HOLD",
          "actual": 1235.699951,
          "date": "2014-01-21T00:00:00",
          "portfolio_history": 1352.8502199999998,
          "portfolio_history_bh": 1488.800049,
          "portfolio_history_rand": 1221.799986000001,
          "position": 790
         },
         {
          "action": "HOLD",
          "actual": 1240,
          "date": "2014-01-22T00:00:00",
          "portfolio_history": 1352.8502199999998,
          "portfolio_history_bh": 1479,
          "portfolio_history_rand": 1221.799986000001,
          "position": 787.5
         },
         {
          "action": "HOLD",
          "actual": 1252,
          "date": "2014-01-23T00:00:00",
          "portfolio_history": 1352.8502199999998,
          "portfolio_history_bh": 1499.699951,
          "portfolio_history_rand": 1242.499937000001,
          "position": 799
         },
         {
          "action": "HOLD",
          "actual": 1235,
          "date": "2014-01-24T00:00:00",
          "portfolio_history": 1352.8502199999998,
          "portfolio_history_bh": 1504,
          "portfolio_history_rand": 1246.799986000001,
          "position": 805
         },
         {
          "action": "BUY",
          "actual": 1245,
          "date": "2014-01-27T00:00:00",
          "portfolio_history": 1352.8502199999998,
          "portfolio_history_bh": 1516,
          "portfolio_history_rand": 1258.799986000001,
          "position": 807.5
         },
         {
          "action": "SELL",
          "actual": 1245,
          "date": "2014-01-28T00:00:00",
          "portfolio_history": 1352.8502199999998,
          "portfolio_history_bh": 1499,
          "portfolio_history_rand": 1241.799986000001,
          "position": 811.5
         },
         {
          "action": "HOLD",
          "actual": 1258.949951,
          "date": "2014-01-29T00:00:00",
          "portfolio_history": 1362.8502199999998,
          "portfolio_history_bh": 1509,
          "portfolio_history_rand": 1251.799986000001,
          "position": 815
         },
         {
          "action": "HOLD",
          "actual": 1254.650024,
          "date": "2014-01-30T00:00:00",
          "portfolio_history": 1362.8502199999998,
          "portfolio_history_bh": 1509,
          "portfolio_history_rand": 1251.799986000001,
          "position": 804
         },
         {
          "action": "HOLD",
          "actual": 1279.949951,
          "date": "2014-01-31T00:00:00",
          "portfolio_history": 1362.8502199999998,
          "portfolio_history_bh": 1522.949951,
          "portfolio_history_rand": 1251.799986000001,
          "position": 804
         },
         {
          "action": "HOLD",
          "actual": 1320,
          "date": "2014-02-03T00:00:00",
          "portfolio_history": 1362.8502199999998,
          "portfolio_history_bh": 1518.650024,
          "portfolio_history_rand": 1251.799986000001,
          "position": 819.799988
         },
         {
          "action": "HOLD",
          "actual": 1281,
          "date": "2014-02-04T00:00:00",
          "portfolio_history": 1362.8502199999998,
          "portfolio_history_bh": 1543.949951,
          "portfolio_history_rand": 1251.799986000001,
          "position": 805
         },
         {
          "action": "HOLD",
          "actual": 1246,
          "date": "2014-02-05T00:00:00",
          "portfolio_history": 1362.8502199999998,
          "portfolio_history_bh": 1584,
          "portfolio_history_rand": 1251.799986000001,
          "position": 799
         },
         {
          "action": "BUY",
          "actual": 1269,
          "date": "2014-02-06T00:00:00",
          "portfolio_history": 1362.8502199999998,
          "portfolio_history_bh": 1545,
          "portfolio_history_rand": 1251.799986000001,
          "position": 800
         },
         {
          "action": "HOLD",
          "actual": 1255,
          "date": "2014-02-07T00:00:00",
          "portfolio_history": 1362.8502199999998,
          "portfolio_history_bh": 1510,
          "portfolio_history_rand": 1251.799986000001,
          "position": 800
         },
         {
          "action": "HOLD",
          "actual": 1308.949951,
          "date": "2014-02-10T00:00:00",
          "portfolio_history": 1385.8502199999998,
          "portfolio_history_bh": 1533,
          "portfolio_history_rand": 1274.799986000001,
          "position": 801
         },
         {
          "action": "HOLD",
          "actual": 1336,
          "date": "2014-02-11T00:00:00",
          "portfolio_history": 1371.8502199999998,
          "portfolio_history_bh": 1519,
          "portfolio_history_rand": 1274.799986000001,
          "position": 795
         },
         {
          "action": "SELL",
          "actual": 1335,
          "date": "2014-02-12T00:00:00",
          "portfolio_history": 1425.8001709999999,
          "portfolio_history_bh": 1572.949951,
          "portfolio_history_rand": 1274.799986000001,
          "position": 802
         },
         {
          "action": "HOLD",
          "actual": 1340,
          "date": "2014-02-13T00:00:00",
          "portfolio_history": 1452.8502199999998,
          "portfolio_history_bh": 1600,
          "portfolio_history_rand": 1274.799986000001,
          "position": 801
         },
         {
          "action": "HOLD",
          "actual": 1344.599976,
          "date": "2014-02-14T00:00:00",
          "portfolio_history": 1452.8502199999998,
          "portfolio_history_bh": 1599,
          "portfolio_history_rand": 1274.799986000001,
          "position": 813
         },
         {
          "action": "HOLD",
          "actual": 1384.050049,
          "date": "2014-02-18T00:00:00",
          "portfolio_history": 1452.8502199999998,
          "portfolio_history_bh": 1604,
          "portfolio_history_rand": 1274.799986000001,
          "position": 801
         },
         {
          "action": "HOLD",
          "actual": 1418,
          "date": "2014-02-19T00:00:00",
          "portfolio_history": 1452.8502199999998,
          "portfolio_history_bh": 1608.599976,
          "portfolio_history_rand": 1274.799986000001,
          "position": 813
         },
         {
          "action": "HOLD",
          "actual": 1418.5,
          "date": "2014-02-20T00:00:00",
          "portfolio_history": 1452.8502199999998,
          "portfolio_history_bh": 1648.050049,
          "portfolio_history_rand": 1274.799986000001,
          "position": 813
         },
         {
          "action": "HOLD",
          "actual": 1436.949951,
          "date": "2014-02-21T00:00:00",
          "portfolio_history": 1452.8502199999998,
          "portfolio_history_bh": 1682,
          "portfolio_history_rand": 1274.799986000001,
          "position": 811.849976
         },
         {
          "action": "HOLD",
          "actual": 1449,
          "date": "2014-02-24T00:00:00",
          "portfolio_history": 1452.8502199999998,
          "portfolio_history_bh": 1682.5,
          "portfolio_history_rand": 1274.799986000001,
          "position": 811.849976
         },
         {
          "action": "HOLD",
          "actual": 1459,
          "date": "2014-02-25T00:00:00",
          "portfolio_history": 1452.8502199999998,
          "portfolio_history_bh": 1700.949951,
          "portfolio_history_rand": 1274.799986000001,
          "position": 810
         },
         {
          "action": "HOLD",
          "actual": 1362,
          "date": "2014-02-26T00:00:00",
          "portfolio_history": 1452.8502199999998,
          "portfolio_history_bh": 1713,
          "portfolio_history_rand": 1274.799986000001,
          "position": 800.299988
         },
         {
          "action": "HOLD",
          "actual": 1374,
          "date": "2014-02-27T00:00:00",
          "portfolio_history": 1452.8502199999998,
          "portfolio_history_bh": 1723,
          "portfolio_history_rand": 1274.799986000001,
          "position": 810
         },
         {
          "action": "HOLD",
          "actual": 1392.199951,
          "date": "2014-02-28T00:00:00",
          "portfolio_history": 1452.8502199999998,
          "portfolio_history_bh": 1626,
          "portfolio_history_rand": 1274.799986000001,
          "position": 808
         },
         {
          "action": "HOLD",
          "actual": 1345.5,
          "date": "2014-03-03T00:00:00",
          "portfolio_history": 1452.8502199999998,
          "portfolio_history_bh": 1638,
          "portfolio_history_rand": 1274.799986000001,
          "position": 807.950012
         },
         {
          "action": "BUY",
          "actual": 1374,
          "date": "2014-03-04T00:00:00",
          "portfolio_history": 1452.8502199999998,
          "portfolio_history_bh": 1656.199951,
          "portfolio_history_rand": 1274.799986000001,
          "position": 809.950012
         },
         {
          "action": "HOLD",
          "actual": 1359.050049,
          "date": "2014-03-05T00:00:00",
          "portfolio_history": 1452.8502199999998,
          "portfolio_history_bh": 1609.5,
          "portfolio_history_rand": 1274.799986000001,
          "position": 808.950012
         },
         {
          "action": "HOLD",
          "actual": 1376,
          "date": "2014-03-06T00:00:00",
          "portfolio_history": 1481.3502199999998,
          "portfolio_history_bh": 1638,
          "portfolio_history_rand": 1274.799986000001,
          "position": 810
         },
         {
          "action": "HOLD",
          "actual": 1390,
          "date": "2014-03-07T00:00:00",
          "portfolio_history": 1466.4002689999998,
          "portfolio_history_bh": 1623.050049,
          "portfolio_history_rand": 1274.799986000001,
          "position": 814
         },
         {
          "action": "HOLD",
          "actual": 1385,
          "date": "2014-03-10T00:00:00",
          "portfolio_history": 1483.3502199999998,
          "portfolio_history_bh": 1640,
          "portfolio_history_rand": 1274.799986000001,
          "position": 821
         },
         {
          "action": "HOLD",
          "actual": 1381,
          "date": "2014-03-11T00:00:00",
          "portfolio_history": 1497.3502199999998,
          "portfolio_history_bh": 1654,
          "portfolio_history_rand": 1274.799986000001,
          "position": 821.950012
         },
         {
          "action": "HOLD",
          "actual": 1360,
          "date": "2014-03-12T00:00:00",
          "portfolio_history": 1492.3502199999998,
          "portfolio_history_bh": 1649,
          "portfolio_history_rand": 1274.799986000001,
          "position": 809
         },
         {
          "action": "HOLD",
          "actual": 1337.050049,
          "date": "2014-03-13T00:00:00",
          "portfolio_history": 1488.3502199999998,
          "portfolio_history_bh": 1645,
          "portfolio_history_rand": 1274.799986000001,
          "position": 811.049988
         },
         {
          "action": "HOLD",
          "actual": 1310,
          "date": "2014-03-14T00:00:00",
          "portfolio_history": 1467.3502199999998,
          "portfolio_history_bh": 1624,
          "portfolio_history_rand": 1274.799986000001,
          "position": 820
         },
         {
          "action": "HOLD",
          "actual": 1378,
          "date": "2014-03-17T00:00:00",
          "portfolio_history": 1444.4002689999998,
          "portfolio_history_bh": 1601.050049,
          "portfolio_history_rand": 1274.799986000001,
          "position": 821.900024
         },
         {
          "action": "HOLD",
          "actual": 1375,
          "date": "2014-03-18T00:00:00",
          "portfolio_history": 1417.3502199999998,
          "portfolio_history_bh": 1574,
          "portfolio_history_rand": 1274.799986000001,
          "position": 821.900024
         },
         {
          "action": "HOLD",
          "actual": 1350,
          "date": "2014-03-19T00:00:00",
          "portfolio_history": 1485.3502199999998,
          "portfolio_history_bh": 1642,
          "portfolio_history_rand": 1274.799986000001,
          "position": 824
         },
         {
          "action": "HOLD",
          "actual": 1350,
          "date": "2014-03-20T00:00:00",
          "portfolio_history": 1482.3502199999998,
          "portfolio_history_bh": 1639,
          "portfolio_history_rand": 1274.799986000001,
          "position": 819
         },
         {
          "action": "SELL",
          "actual": 1349.949951,
          "date": "2014-03-21T00:00:00",
          "portfolio_history": 1457.3502199999998,
          "portfolio_history_bh": 1614,
          "portfolio_history_rand": 1274.799986000001,
          "position": 820
         },
         {
          "action": "HOLD",
          "actual": 1350,
          "date": "2014-03-24T00:00:00",
          "portfolio_history": 1457.3502199999998,
          "portfolio_history_bh": 1614,
          "portfolio_history_rand": 1274.799986000001,
          "position": 818.5
         },
         {
          "action": "HOLD",
          "actual": 1343.5,
          "date": "2014-03-25T00:00:00",
          "portfolio_history": 1457.3502199999998,
          "portfolio_history_bh": 1613.949951,
          "portfolio_history_rand": 1274.799986000001,
          "position": 816.400024
         },
         {
          "action": "BUY",
          "actual": 1342.5,
          "date": "2014-03-26T00:00:00",
          "portfolio_history": 1457.3502199999998,
          "portfolio_history_bh": 1614,
          "portfolio_history_rand": 1274.799986000001,
          "position": 814
         },
         {
          "action": "HOLD",
          "actual": 1339,
          "date": "2014-03-27T00:00:00",
          "portfolio_history": 1457.3502199999998,
          "portfolio_history_bh": 1607.5,
          "portfolio_history_rand": 1274.799986000001,
          "position": 805
         },
         {
          "action": "HOLD",
          "actual": 1300,
          "date": "2014-03-28T00:00:00",
          "portfolio_history": 1456.3502199999998,
          "portfolio_history_bh": 1606.5,
          "portfolio_history_rand": 1274.799986000001,
          "position": 806
         },
         {
          "action": "HOLD",
          "actual": 1365,
          "date": "2014-03-31T00:00:00",
          "portfolio_history": 1452.8502199999998,
          "portfolio_history_bh": 1603,
          "portfolio_history_rand": 1274.799986000001,
          "position": 799
         },
         {
          "action": "HOLD",
          "actual": 1359.949951,
          "date": "2014-04-01T00:00:00",
          "portfolio_history": 1413.8502199999998,
          "portfolio_history_bh": 1564,
          "portfolio_history_rand": 1274.799986000001,
          "position": 799
         },
         {
          "action": "HOLD",
          "actual": 1360,
          "date": "2014-04-02T00:00:00",
          "portfolio_history": 1478.8502199999998,
          "portfolio_history_bh": 1629,
          "portfolio_history_rand": 1274.799986000001,
          "position": 797
         },
         {
          "action": "HOLD",
          "actual": 1358,
          "date": "2014-04-03T00:00:00",
          "portfolio_history": 1473.8001709999999,
          "portfolio_history_bh": 1623.949951,
          "portfolio_history_rand": 1274.799986000001,
          "position": 797
         },
         {
          "action": "HOLD",
          "actual": 1365,
          "date": "2014-04-04T00:00:00",
          "portfolio_history": 1473.8502199999998,
          "portfolio_history_bh": 1624,
          "portfolio_history_rand": 1274.799986000001,
          "position": 791.599976
         },
         {
          "action": "HOLD",
          "actual": 1362.949951,
          "date": "2014-04-07T00:00:00",
          "portfolio_history": 1471.8502199999998,
          "portfolio_history_bh": 1622,
          "portfolio_history_rand": 1274.799986000001,
          "position": 792.099976
         },
         {
          "action": "SELL",
          "actual": 1345,
          "date": "2014-04-08T00:00:00",
          "portfolio_history": 1478.8502199999998,
          "portfolio_history_bh": 1629,
          "portfolio_history_rand": 1274.799986000001,
          "position": 789
         },
         {
          "action": "BUY",
          "actual": 1351,
          "date": "2014-04-09T00:00:00",
          "portfolio_history": 1476.8001709999999,
          "portfolio_history_bh": 1626.949951,
          "portfolio_history_rand": 1274.799986000001,
          "position": 784.900024
         },
         {
          "action": "HOLD",
          "actual": 1349.150024,
          "date": "2014-04-10T00:00:00",
          "portfolio_history": 1476.8001709999999,
          "portfolio_history_bh": 1609,
          "portfolio_history_rand": 1274.799986000001,
          "position": 775
         },
         {
          "action": "SELL",
          "actual": 1345,
          "date": "2014-04-11T00:00:00",
          "portfolio_history": 1482.8001709999999,
          "portfolio_history_bh": 1615,
          "portfolio_history_rand": 1274.799986000001,
          "position": 780
         },
         {
          "action": "HOLD",
          "actual": 1284,
          "date": "2014-04-14T00:00:00",
          "portfolio_history": 1480.950195,
          "portfolio_history_bh": 1613.150024,
          "portfolio_history_rand": 1274.799986000001,
          "position": 779
         },
         {
          "action": "HOLD",
          "actual": 1284,
          "date": "2014-04-15T00:00:00",
          "portfolio_history": 1480.950195,
          "portfolio_history_bh": 1609,
          "portfolio_history_rand": 1274.799986000001,
          "position": 778.799988
         },
         {
          "action": "HOLD",
          "actual": 1200,
          "date": "2014-04-16T00:00:00",
          "portfolio_history": 1480.950195,
          "portfolio_history_bh": 1548,
          "portfolio_history_rand": 1274.799986000001,
          "position": 780
         },
         {
          "action": "BUY",
          "actual": 1250,
          "date": "2014-04-17T00:00:00",
          "portfolio_history": 1480.950195,
          "portfolio_history_bh": 1548,
          "portfolio_history_rand": 1274.799986000001,
          "position": 777.099976
         },
         {
          "action": "HOLD",
          "actual": 1250,
          "date": "2014-04-21T00:00:00",
          "portfolio_history": 1480.950195,
          "portfolio_history_bh": 1464,
          "portfolio_history_rand": 1274.799986000001,
          "position": 783.599976
         },
         {
          "action": "HOLD",
          "actual": 1226,
          "date": "2014-04-22T00:00:00",
          "portfolio_history": 1530.950195,
          "portfolio_history_bh": 1514,
          "portfolio_history_rand": 1274.799986000001,
          "position": 792
         },
         {
          "action": "HOLD",
          "actual": 1185.949951,
          "date": "2014-04-23T00:00:00",
          "portfolio_history": 1530.950195,
          "portfolio_history_bh": 1514,
          "portfolio_history_rand": 1274.799986000001,
          "position": 843
         },
         {
          "action": "HOLD",
          "actual": 1197.5,
          "date": "2014-04-24T00:00:00",
          "portfolio_history": 1506.950195,
          "portfolio_history_bh": 1490,
          "portfolio_history_rand": 1250.799986000001,
          "position": 850
         },
         {
          "action": "SELL",
          "actual": 1216,
          "date": "2014-04-25T00:00:00",
          "portfolio_history": 1466.900146,
          "portfolio_history_bh": 1449.949951,
          "portfolio_history_rand": 1210.749937000001,
          "position": 842.7999880000001
         },
         {
          "action": "HOLD",
          "actual": 1248,
          "date": "2014-04-28T00:00:00",
          "portfolio_history": 1478.450195,
          "portfolio_history_bh": 1461.5,
          "portfolio_history_rand": 1222.299986000001,
          "position": 830
         },
         {
          "action": "HOLD",
          "actual": 1283,
          "date": "2014-04-29T00:00:00",
          "portfolio_history": 1478.450195,
          "portfolio_history_bh": 1480,
          "portfolio_history_rand": 1240.799986000001,
          "position": 875
         },
         {
          "action": "BUY",
          "actual": 1299,
          "date": "2014-04-30T00:00:00",
          "portfolio_history": 1478.450195,
          "portfolio_history_bh": 1512,
          "portfolio_history_rand": 1272.799986000001,
          "position": 861
         },
         {
          "action": "HOLD",
          "actual": 1299,
          "date": "2014-05-01T00:00:00",
          "portfolio_history": 1478.450195,
          "portfolio_history_bh": 1547,
          "portfolio_history_rand": 1307.799986000001,
          "position": 860
         },
         {
          "action": "SELL",
          "actual": 1309.449951,
          "date": "2014-05-02T00:00:00",
          "portfolio_history": 1494.450195,
          "portfolio_history_bh": 1563,
          "portfolio_history_rand": 1323.799986000001,
          "position": 870
         },
         {
          "action": "HOLD",
          "actual": 1290,
          "date": "2014-05-05T00:00:00",
          "portfolio_history": 1494.450195,
          "portfolio_history_bh": 1563,
          "portfolio_history_rand": 1323.799986000001,
          "position": 900
         },
         {
          "action": "HOLD",
          "actual": 1250,
          "date": "2014-05-06T00:00:00",
          "portfolio_history": 1494.450195,
          "portfolio_history_bh": 1573.449951,
          "portfolio_history_rand": 1334.249937000001,
          "position": 898
         },
         {
          "action": "HOLD",
          "actual": 1229.949951,
          "date": "2014-05-07T00:00:00",
          "portfolio_history": 1494.450195,
          "portfolio_history_bh": 1554,
          "portfolio_history_rand": 1314.799986000001,
          "position": 945
         },
         {
          "action": "HOLD",
          "actual": 1235,
          "date": "2014-05-08T00:00:00",
          "portfolio_history": 1494.450195,
          "portfolio_history_bh": 1514,
          "portfolio_history_rand": 1314.799986000001,
          "position": 945
         },
         {
          "action": "HOLD",
          "actual": 1140,
          "date": "2014-05-09T00:00:00",
          "portfolio_history": 1494.450195,
          "portfolio_history_bh": 1493.949951,
          "portfolio_history_rand": 1314.799986000001,
          "position": 954
         },
         {
          "action": "HOLD",
          "actual": 1108,
          "date": "2014-05-12T00:00:00",
          "portfolio_history": 1494.450195,
          "portfolio_history_bh": 1499,
          "portfolio_history_rand": 1314.799986000001,
          "position": 969
         },
         {
          "action": "HOLD",
          "actual": 1114,
          "date": "2014-05-13T00:00:00",
          "portfolio_history": 1494.450195,
          "portfolio_history_bh": 1404,
          "portfolio_history_rand": 1314.799986000001,
          "position": 963.2999880000001
         },
         {
          "action": "HOLD",
          "actual": 1143,
          "date": "2014-05-14T00:00:00",
          "portfolio_history": 1494.450195,
          "portfolio_history_bh": 1372,
          "portfolio_history_rand": 1282.799986000001,
          "position": 967
         },
         {
          "action": "HOLD",
          "actual": 1145,
          "date": "2014-05-15T00:00:00",
          "portfolio_history": 1494.450195,
          "portfolio_history_bh": 1378,
          "portfolio_history_rand": 1282.799986000001,
          "position": 963
         },
         {
          "action": "HOLD",
          "actual": 1100,
          "date": "2014-05-16T00:00:00",
          "portfolio_history": 1494.450195,
          "portfolio_history_bh": 1407,
          "portfolio_history_rand": 1282.799986000001,
          "position": 972.849976
         },
         {
          "action": "HOLD",
          "actual": 1116,
          "date": "2014-05-19T00:00:00",
          "portfolio_history": 1494.450195,
          "portfolio_history_bh": 1409,
          "portfolio_history_rand": 1284.799986000001,
          "position": 980
         },
         {
          "action": "BUY",
          "actual": 1130,
          "date": "2014-05-20T00:00:00",
          "portfolio_history": 1494.450195,
          "portfolio_history_bh": 1364,
          "portfolio_history_rand": 1239.799986000001,
          "position": 967
         },
         {
          "action": "SELL",
          "actual": 1139,
          "date": "2014-05-21T00:00:00",
          "portfolio_history": 1494.450195,
          "portfolio_history_bh": 1380,
          "portfolio_history_rand": 1255.799986000001,
          "position": 966.9500119999999
         },
         {
          "action": "BUY",
          "actual": 1198.949951,
          "date": "2014-05-22T00:00:00",
          "portfolio_history": 1508.450195,
          "portfolio_history_bh": 1394,
          "portfolio_history_rand": 1269.799986000001,
          "position": 968.4500119999999
         },
         {
          "action": "HOLD",
          "actual": 1188,
          "date": "2014-05-23T00:00:00",
          "portfolio_history": 1508.450195,
          "portfolio_history_bh": 1403,
          "portfolio_history_rand": 1278.799986000001,
          "position": 962.5
         },
         {
          "action": "SELL",
          "actual": 1182.050049,
          "date": "2014-05-27T00:00:00",
          "portfolio_history": 1568.400146,
          "portfolio_history_bh": 1462.949951,
          "portfolio_history_rand": 1338.749937000001,
          "position": 974.9500119999999
         },
         {
          "action": "HOLD",
          "actual": 1198,
          "date": "2014-05-28T00:00:00",
          "portfolio_history": 1557.450195,
          "portfolio_history_bh": 1452,
          "portfolio_history_rand": 1338.749937000001,
          "position": 970
         },
         {
          "action": "HOLD",
          "actual": 1189.5,
          "date": "2014-05-29T00:00:00",
          "portfolio_history": 1557.450195,
          "portfolio_history_bh": 1446.050049,
          "portfolio_history_rand": 1338.749937000001,
          "position": 975
         },
         {
          "action": "BUY",
          "actual": 1180,
          "date": "2014-05-30T00:00:00",
          "portfolio_history": 1557.450195,
          "portfolio_history_bh": 1462,
          "portfolio_history_rand": 1338.749937000001,
          "position": 980
         },
         {
          "action": "HOLD",
          "actual": 1180,
          "date": "2014-06-02T00:00:00",
          "portfolio_history": 1557.450195,
          "portfolio_history_bh": 1453.5,
          "portfolio_history_rand": 1338.749937000001,
          "position": 1004.5
         },
         {
          "action": "SELL",
          "actual": 1184.900024,
          "date": "2014-06-03T00:00:00",
          "portfolio_history": 1547.950195,
          "portfolio_history_bh": 1444,
          "portfolio_history_rand": 1338.749937000001,
          "position": 1020
         },
         {
          "action": "HOLD",
          "actual": 1172,
          "date": "2014-06-04T00:00:00",
          "portfolio_history": 1547.950195,
          "portfolio_history_bh": 1444,
          "portfolio_history_rand": 1338.749937000001,
          "position": 1020
         },
         {
          "action": "HOLD",
          "actual": 1135,
          "date": "2014-06-05T00:00:00",
          "portfolio_history": 1547.950195,
          "portfolio_history_bh": 1448.900024,
          "portfolio_history_rand": 1338.749937000001,
          "position": 986
         },
         {
          "action": "HOLD",
          "actual": 1094.849976,
          "date": "2014-06-06T00:00:00",
          "portfolio_history": 1547.950195,
          "portfolio_history_bh": 1436,
          "portfolio_history_rand": 1338.749937000001,
          "position": 1020
         },
         {
          "action": "HOLD",
          "actual": 1070,
          "date": "2014-06-09T00:00:00",
          "portfolio_history": 1547.950195,
          "portfolio_history_bh": 1399,
          "portfolio_history_rand": 1338.749937000001,
          "position": 1000
         },
         {
          "action": "BUY",
          "actual": 1099.449951,
          "date": "2014-06-10T00:00:00",
          "portfolio_history": 1547.950195,
          "portfolio_history_bh": 1358.849976,
          "portfolio_history_rand": 1338.749937000001,
          "position": 993.7999880000001
         },
         {
          "action": "HOLD",
          "actual": 1095,
          "date": "2014-06-11T00:00:00",
          "portfolio_history": 1547.950195,
          "portfolio_history_bh": 1334,
          "portfolio_history_rand": 1338.749937000001,
          "position": 1016.900024
         },
         {
          "action": "HOLD",
          "actual": 1055,
          "date": "2014-06-12T00:00:00",
          "portfolio_history": 1577.400146,
          "portfolio_history_bh": 1363.449951,
          "portfolio_history_rand": 1338.749937000001,
          "position": 1020
         },
         {
          "action": "SELL",
          "actual": 1050,
          "date": "2014-06-13T00:00:00",
          "portfolio_history": 1572.950195,
          "portfolio_history_bh": 1359,
          "portfolio_history_rand": 1338.749937000001,
          "position": 1055
         },
         {
          "action": "HOLD",
          "actual": 1018,
          "date": "2014-06-16T00:00:00",
          "portfolio_history": 1532.950195,
          "portfolio_history_bh": 1319,
          "portfolio_history_rand": 1298.749937000001,
          "position": 1033
         },
         {
          "action": "HOLD",
          "actual": 997,
          "date": "2014-06-17T00:00:00",
          "portfolio_history": 1532.950195,
          "portfolio_history_bh": 1314,
          "portfolio_history_rand": 1293.749937000001,
          "position": 1015
         },
         {
          "action": "HOLD",
          "actual": 1014.7000119999999,
          "date": "2014-06-18T00:00:00",
          "portfolio_history": 1532.950195,
          "portfolio_history_bh": 1282,
          "portfolio_history_rand": 1261.749937000001,
          "position": 1016
         },
         {
          "action": "HOLD",
          "actual": 1014.7000119999999,
          "date": "2014-06-19T00:00:00",
          "portfolio_history": 1532.950195,
          "portfolio_history_bh": 1261,
          "portfolio_history_rand": 1240.749937000001,
          "position": 999.900024
         },
         {
          "action": "HOLD",
          "actual": 1058,
          "date": "2014-06-20T00:00:00",
          "portfolio_history": 1532.950195,
          "portfolio_history_bh": 1278.7000119999998,
          "portfolio_history_rand": 1240.749937000001,
          "position": 1023.849976
         },
         {
          "action": "HOLD",
          "actual": 1058.5,
          "date": "2014-06-23T00:00:00",
          "portfolio_history": 1532.950195,
          "portfolio_history_bh": 1278.7000119999998,
          "portfolio_history_rand": 1240.749937000001,
          "position": 1001.9500119999999
         },
         {
          "action": "HOLD",
          "actual": 1053,
          "date": "2014-06-24T00:00:00",
          "portfolio_history": 1532.950195,
          "portfolio_history_bh": 1322,
          "portfolio_history_rand": 1284.0499250000012,
          "position": 985
         },
         {
          "action": "HOLD",
          "actual": 1011.099976,
          "date": "2014-06-25T00:00:00",
          "portfolio_history": 1532.950195,
          "portfolio_history_bh": 1322.5,
          "portfolio_history_rand": 1284.5499250000012,
          "position": 1000
         },
         {
          "action": "HOLD",
          "actual": 1029.25,
          "date": "2014-06-26T00:00:00",
          "portfolio_history": 1532.950195,
          "portfolio_history_bh": 1317,
          "portfolio_history_rand": 1284.5499250000012,
          "position": 1032
         },
         {
          "action": "BUY",
          "actual": 1041,
          "date": "2014-06-27T00:00:00",
          "portfolio_history": 1532.950195,
          "portfolio_history_bh": 1275.099976,
          "portfolio_history_rand": 1284.5499250000012,
          "position": 1027.099976
         },
         {
          "action": "HOLD",
          "actual": 1005,
          "date": "2014-06-30T00:00:00",
          "portfolio_history": 1532.950195,
          "portfolio_history_bh": 1293.25,
          "portfolio_history_rand": 1284.5499250000012,
          "position": 1031
         },
         {
          "action": "HOLD",
          "actual": 999,
          "date": "2014-07-01T00:00:00",
          "portfolio_history": 1544.700195,
          "portfolio_history_bh": 1305,
          "portfolio_history_rand": 1284.5499250000012,
          "position": 1049.5
         },
         {
          "action": "HOLD",
          "actual": 976,
          "date": "2014-07-02T00:00:00",
          "portfolio_history": 1508.700195,
          "portfolio_history_bh": 1269,
          "portfolio_history_rand": 1248.5499250000012,
          "position": 1055
         },
         {
          "action": "HOLD",
          "actual": 951,
          "date": "2014-07-03T00:00:00",
          "portfolio_history": 1502.700195,
          "portfolio_history_bh": 1263,
          "portfolio_history_rand": 1248.5499250000012,
          "position": 1040
         },
         {
          "action": "HOLD",
          "actual": 944,
          "date": "2014-07-07T00:00:00",
          "portfolio_history": 1479.700195,
          "portfolio_history_bh": 1240,
          "portfolio_history_rand": 1225.5499250000012,
          "position": 1042
         },
         {
          "action": "HOLD",
          "actual": 921,
          "date": "2014-07-08T00:00:00",
          "portfolio_history": 1454.700195,
          "portfolio_history_bh": 1215,
          "portfolio_history_rand": 1225.5499250000012,
          "position": 1045
         },
         {
          "action": "HOLD",
          "actual": 937.400024,
          "date": "2014-07-09T00:00:00",
          "portfolio_history": 1447.700195,
          "portfolio_history_bh": 1208,
          "portfolio_history_rand": 1225.5499250000012,
          "position": 1051
         },
         {
          "action": "HOLD",
          "actual": 931,
          "date": "2014-07-10T00:00:00",
          "portfolio_history": 1424.700195,
          "portfolio_history_bh": 1185,
          "portfolio_history_rand": 1225.5499250000012,
          "position": 1102
         },
         {
          "action": "HOLD",
          "actual": 958,
          "date": "2014-07-11T00:00:00",
          "portfolio_history": 1441.100219,
          "portfolio_history_bh": 1201.400024,
          "portfolio_history_rand": 1225.5499250000012,
          "position": 1100
         },
         {
          "action": "HOLD",
          "actual": 950,
          "date": "2014-07-14T00:00:00",
          "portfolio_history": 1434.700195,
          "portfolio_history_bh": 1195,
          "portfolio_history_rand": 1225.5499250000012,
          "position": 1050
         },
         {
          "action": "SELL",
          "actual": 950,
          "date": "2014-07-15T00:00:00",
          "portfolio_history": 1461.700195,
          "portfolio_history_bh": 1222,
          "portfolio_history_rand": 1225.5499250000012,
          "position": 1040
         },
         {
          "action": "HOLD",
          "actual": 950.150024,
          "date": "2014-07-16T00:00:00",
          "portfolio_history": 1453.700195,
          "portfolio_history_bh": 1214,
          "portfolio_history_rand": 1225.5499250000012,
          "position": 1030
         },
         {
          "action": "HOLD",
          "actual": 950,
          "date": "2014-07-17T00:00:00",
          "portfolio_history": 1453.700195,
          "portfolio_history_bh": 1214,
          "portfolio_history_rand": 1225.5499250000012,
          "position": 1000
         },
         {
          "action": "BUY",
          "actual": 959,
          "date": "2014-07-18T00:00:00",
          "portfolio_history": 1453.700195,
          "portfolio_history_bh": 1214.150024,
          "portfolio_history_rand": 1225.5499250000012,
          "position": 1019
         },
         {
          "action": "HOLD",
          "actual": 950,
          "date": "2014-07-21T00:00:00",
          "portfolio_history": 1453.700195,
          "portfolio_history_bh": 1214,
          "portfolio_history_rand": 1225.5499250000012,
          "position": 1027
         },
         {
          "action": "SELL",
          "actual": 950.900024,
          "date": "2014-07-22T00:00:00",
          "portfolio_history": 1462.700195,
          "portfolio_history_bh": 1223,
          "portfolio_history_rand": 1225.5499250000012,
          "position": 1037
         },
         {
          "action": "BUY",
          "actual": 964.9500119999999,
          "date": "2014-07-23T00:00:00",
          "portfolio_history": 1453.700195,
          "portfolio_history_bh": 1214,
          "portfolio_history_rand": 1225.5499250000012,
          "position": 1035
         },
         {
          "action": "SELL",
          "actual": 969.900024,
          "date": "2014-07-24T00:00:00",
          "portfolio_history": 1453.700195,
          "portfolio_history_bh": 1214.900024,
          "portfolio_history_rand": 1226.4499490000012,
          "position": 1031.699951
         },
         {
          "action": "HOLD",
          "actual": 951.0499880000001,
          "date": "2014-07-25T00:00:00",
          "portfolio_history": 1467.7501829999997,
          "portfolio_history_bh": 1228.9500119999998,
          "portfolio_history_rand": 1240.499937000001,
          "position": 1040
         },
         {
          "action": "BUY",
          "actual": 968.4500119999999,
          "date": "2014-07-28T00:00:00",
          "portfolio_history": 1467.7501829999997,
          "portfolio_history_bh": 1233.900024,
          "portfolio_history_rand": 1240.499937000001,
          "position": 1044
         },
         {
          "action": "HOLD",
          "actual": 951.5499880000001,
          "date": "2014-07-29T00:00:00",
          "portfolio_history": 1467.7501829999997,
          "portfolio_history_bh": 1215.0499880000002,
          "portfolio_history_rand": 1240.499937000001,
          "position": 1046.900024
         },
         {
          "action": "HOLD",
          "actual": 950,
          "date": "2014-07-30T00:00:00",
          "portfolio_history": 1485.1502069999995,
          "portfolio_history_bh": 1232.4500119999998,
          "portfolio_history_rand": 1240.499937000001,
          "position": 1055.300049
         },
         {
          "action": "HOLD",
          "actual": 951,
          "date": "2014-07-31T00:00:00",
          "portfolio_history": 1468.2501829999997,
          "portfolio_history_bh": 1215.5499880000002,
          "portfolio_history_rand": 1240.499937000001,
          "position": 1080
         },
         {
          "action": "HOLD",
          "actual": 950,
          "date": "2014-08-01T00:00:00",
          "portfolio_history": 1466.7001949999994,
          "portfolio_history_bh": 1214,
          "portfolio_history_rand": 1240.499937000001,
          "position": 1071.400024
         },
         {
          "action": "HOLD",
          "actual": 949,
          "date": "2014-08-04T00:00:00",
          "portfolio_history": 1467.7001949999994,
          "portfolio_history_bh": 1215,
          "portfolio_history_rand": 1240.499937000001,
          "position": 1094.900024
         },
         {
          "action": "HOLD",
          "actual": 923,
          "date": "2014-08-05T00:00:00",
          "portfolio_history": 1466.7001949999994,
          "portfolio_history_bh": 1214,
          "portfolio_history_rand": 1240.499937000001,
          "position": 1068.5
         },
         {
          "action": "HOLD",
          "actual": 936,
          "date": "2014-08-06T00:00:00",
          "portfolio_history": 1465.7001949999994,
          "portfolio_history_bh": 1213,
          "portfolio_history_rand": 1240.499937000001,
          "position": 1095
         },
         {
          "action": "SELL",
          "actual": 940,
          "date": "2014-08-07T00:00:00",
          "portfolio_history": 1439.7001949999994,
          "portfolio_history_bh": 1187,
          "portfolio_history_rand": 1240.499937000001,
          "position": 1195
         },
         {
          "action": "HOLD",
          "actual": 938,
          "date": "2014-08-08T00:00:00",
          "portfolio_history": 1452.7001949999994,
          "portfolio_history_bh": 1200,
          "portfolio_history_rand": 1253.499937000001,
          "position": 1163
         },
         {
          "action": "HOLD",
          "actual": 966,
          "date": "2014-08-11T00:00:00",
          "portfolio_history": 1452.7001949999994,
          "portfolio_history_bh": 1204,
          "portfolio_history_rand": 1257.499937000001,
          "position": 1160
         },
         {
          "action": "BUY",
          "actual": 965.75,
          "date": "2014-08-12T00:00:00",
          "portfolio_history": 1452.7001949999994,
          "portfolio_history_bh": 1202,
          "portfolio_history_rand": 1255.499937000001,
          "position": 1136
         },
         {
          "action": "SELL",
          "actual": 957,
          "date": "2014-08-13T00:00:00",
          "portfolio_history": 1452.7001949999994,
          "portfolio_history_bh": 1230,
          "portfolio_history_rand": 1283.499937000001,
          "position": 1136
         },
         {
          "action": "HOLD",
          "actual": 956.9500119999999,
          "date": "2014-08-14T00:00:00",
          "portfolio_history": 1452.4501949999994,
          "portfolio_history_bh": 1229.75,
          "portfolio_history_rand": 1283.499937000001,
          "position": 1170.699951
         },
         {
          "action": "BUY",
          "actual": 956.9500119999999,
          "date": "2014-08-15T00:00:00",
          "portfolio_history": 1452.4501949999994,
          "portfolio_history_bh": 1221,
          "portfolio_history_rand": 1283.499937000001,
          "position": 1174
         },
         {
          "action": "SELL",
          "actual": 932,
          "date": "2014-08-18T00:00:00",
          "portfolio_history": 1452.4501949999994,
          "portfolio_history_bh": 1220.9500119999998,
          "portfolio_history_rand": 1283.499937000001,
          "position": 1176
         },
         {
          "action": "BUY",
          "actual": 927,
          "date": "2014-08-19T00:00:00",
          "portfolio_history": 1452.4501949999994,
          "portfolio_history_bh": 1220.9500119999998,
          "portfolio_history_rand": 1283.499937000001,
          "position": 1184
         },
         {
          "action": "HOLD",
          "actual": 930,
          "date": "2014-08-20T00:00:00",
          "portfolio_history": 1452.4501949999994,
          "portfolio_history_bh": 1196,
          "portfolio_history_rand": 1283.499937000001,
          "position": 1187.099976
         },
         {
          "action": "HOLD",
          "actual": 933.0499880000001,
          "date": "2014-08-21T00:00:00",
          "portfolio_history": 1447.4501949999994,
          "portfolio_history_bh": 1191,
          "portfolio_history_rand": 1283.499937000001,
          "position": 1187.099976
         },
         {
          "action": "SELL",
          "actual": 925,
          "date": "2014-08-22T00:00:00",
          "portfolio_history": 1450.4501949999994,
          "portfolio_history_bh": 1194,
          "portfolio_history_rand": 1283.499937000001,
          "position": 1215
         },
         {
          "action": "BUY",
          "actual": 945,
          "date": "2014-08-25T00:00:00",
          "portfolio_history": 1453.5001829999997,
          "portfolio_history_bh": 1197.0499880000002,
          "portfolio_history_rand": 1283.499937000001,
          "position": 1180
         },
         {
          "action": "HOLD",
          "actual": 955.5,
          "date": "2014-08-26T00:00:00",
          "portfolio_history": 1453.5001829999997,
          "portfolio_history_bh": 1189,
          "portfolio_history_rand": 1275.4499490000007,
          "position": 1200
         },
         {
          "action": "SELL",
          "actual": 954,
          "date": "2014-08-27T00:00:00",
          "portfolio_history": 1473.5001829999997,
          "portfolio_history_bh": 1209,
          "portfolio_history_rand": 1275.4499490000007,
          "position": 1201.300049
         },
         {
          "action": "HOLD",
          "actual": 944,
          "date": "2014-08-28T00:00:00",
          "portfolio_history": 1484.0001829999997,
          "portfolio_history_bh": 1219.5,
          "portfolio_history_rand": 1275.4499490000007,
          "position": 1210
         },
         {
          "action": "HOLD",
          "actual": 989.9500119999999,
          "date": "2014-08-29T00:00:00",
          "portfolio_history": 1484.0001829999997,
          "portfolio_history_bh": 1218,
          "portfolio_history_rand": 1275.4499490000007,
          "position": 1210
         },
         {
          "action": "HOLD",
          "actual": 971,
          "date": "2014-09-02T00:00:00",
          "portfolio_history": 1484.0001829999997,
          "portfolio_history_bh": 1208,
          "portfolio_history_rand": 1275.4499490000007,
          "position": 1200
         },
         {
          "action": "BUY",
          "actual": 960,
          "date": "2014-09-03T00:00:00",
          "portfolio_history": 1484.0001829999997,
          "portfolio_history_bh": 1253.9500119999998,
          "portfolio_history_rand": 1275.4499490000007,
          "position": 1199.5
         },
         {
          "action": "HOLD",
          "actual": 998.400024,
          "date": "2014-09-04T00:00:00",
          "portfolio_history": 1484.0001829999997,
          "portfolio_history_bh": 1235,
          "portfolio_history_rand": 1275.4499490000007,
          "position": 1208
         },
         {
          "action": "HOLD",
          "actual": 1015,
          "date": "2014-09-05T00:00:00",
          "portfolio_history": 1473.0001829999997,
          "portfolio_history_bh": 1224,
          "portfolio_history_rand": 1264.4499490000007,
          "position": 1222
         },
         {
          "action": "HOLD",
          "actual": 1011,
          "date": "2014-09-08T00:00:00",
          "portfolio_history": 1511.4002069999997,
          "portfolio_history_bh": 1262.400024,
          "portfolio_history_rand": 1302.8499730000008,
          "position": 1255
         },
         {
          "action": "HOLD",
          "actual": 1006.099976,
          "date": "2014-09-09T00:00:00",
          "portfolio_history": 1528.0001829999997,
          "portfolio_history_bh": 1279,
          "portfolio_history_rand": 1319.4499490000007,
          "position": 1277
         },
         {
          "action": "HOLD",
          "actual": 1000,
          "date": "2014-09-10T00:00:00",
          "portfolio_history": 1524.0001829999997,
          "portfolio_history_bh": 1275,
          "portfolio_history_rand": 1315.4499490000007,
          "position": 1324
         },
         {
          "action": "HOLD",
          "actual": 1001.2000119999999,
          "date": "2014-09-11T00:00:00",
          "portfolio_history": 1519.1001589999996,
          "portfolio_history_bh": 1270.099976,
          "portfolio_history_rand": 1315.4499490000007,
          "position": 1375
         },
         {
          "action": "HOLD",
          "actual": 1010.0499880000001,
          "date": "2014-09-12T00:00:00",
          "portfolio_history": 1513.0001829999997,
          "portfolio_history_bh": 1264,
          "portfolio_history_rand": 1315.4499490000007,
          "position": 1330
         },
         {
          "action": "HOLD",
          "actual": 1014,
          "date": "2014-09-15T00:00:00",
          "portfolio_history": 1514.2001949999994,
          "portfolio_history_bh": 1265.2000119999998,
          "portfolio_history_rand": 1316.6499610000005,
          "position": 1290.050049
         },
         {
          "action": "HOLD",
          "actual": 1008,
          "date": "2014-09-16T00:00:00",
          "portfolio_history": 1523.0501709999999,
          "portfolio_history_bh": 1274.0499880000002,
          "portfolio_history_rand": 1325.499937000001,
          "position": 1308.949951
         },
         {
          "action": "SELL",
          "actual": 1016.7999880000001,
          "date": "2014-09-17T00:00:00",
          "portfolio_history": 1527.0001829999997,
          "portfolio_history_bh": 1278,
          "portfolio_history_rand": 1325.499937000001,
          "position": 1289.949951
         },
         {
          "action": "HOLD",
          "actual": 1015.900024,
          "date": "2014-09-18T00:00:00",
          "portfolio_history": 1521.0001829999997,
          "portfolio_history_bh": 1272,
          "portfolio_history_rand": 1325.499937000001,
          "position": 1320.5
         },
         {
          "action": "HOLD",
          "actual": 997,
          "date": "2014-09-19T00:00:00",
          "portfolio_history": 1521.0001829999997,
          "portfolio_history_bh": 1280.7999880000002,
          "portfolio_history_rand": 1325.499937000001,
          "position": 1320
         },
         {
          "action": "HOLD",
          "actual": 1013.9500119999999,
          "date": "2014-09-22T00:00:00",
          "portfolio_history": 1521.0001829999997,
          "portfolio_history_bh": 1279.900024,
          "portfolio_history_rand": 1325.499937000001,
          "position": 1307.900024
         },
         {
          "action": "HOLD",
          "actual": 1008,
          "date": "2014-09-23T00:00:00",
          "portfolio_history": 1521.0001829999997,
          "portfolio_history_bh": 1261,
          "portfolio_history_rand": 1325.499937000001,
          "position": 1285
         },
         {
          "action": "HOLD",
          "actual": 952,
          "date": "2014-09-24T00:00:00",
          "portfolio_history": 1521.0001829999997,
          "portfolio_history_bh": 1277.9500119999998,
          "portfolio_history_rand": 1325.499937000001,
          "position": 1270
         },
         {
          "action": "HOLD",
          "actual": 970,
          "date": "2014-09-25T00:00:00",
          "portfolio_history": 1521.0001829999997,
          "portfolio_history_bh": 1272,
          "portfolio_history_rand": 1319.5499250000012,
          "position": 1270
         },
         {
          "action": "HOLD",
          "actual": 985,
          "date": "2014-09-26T00:00:00",
          "portfolio_history": 1521.0001829999997,
          "portfolio_history_bh": 1216,
          "portfolio_history_rand": 1319.5499250000012,
          "position": 1272
         },
         {
          "action": "HOLD",
          "actual": 998.400024,
          "date": "2014-09-29T00:00:00",
          "portfolio_history": 1521.0001829999997,
          "portfolio_history_bh": 1234,
          "portfolio_history_rand": 1337.5499250000012,
          "position": 1265
         },
         {
          "action": "HOLD",
          "actual": 998,
          "date": "2014-09-30T00:00:00",
          "portfolio_history": 1521.0001829999997,
          "portfolio_history_bh": 1249,
          "portfolio_history_rand": 1352.5499250000012,
          "position": 1271.449951
         },
         {
          "action": "BUY",
          "actual": 989.5,
          "date": "2014-10-01T00:00:00",
          "portfolio_history": 1521.0001829999997,
          "portfolio_history_bh": 1262.400024,
          "portfolio_history_rand": 1365.9499490000012,
          "position": 1250
         },
         {
          "action": "HOLD",
          "actual": 979.400024,
          "date": "2014-10-02T00:00:00",
          "portfolio_history": 1521.0001829999997,
          "portfolio_history_bh": 1262,
          "portfolio_history_rand": 1365.9499490000012,
          "position": 1248.599976
         },
         {
          "action": "HOLD",
          "actual": 970,
          "date": "2014-10-03T00:00:00",
          "portfolio_history": 1512.5001829999997,
          "portfolio_history_bh": 1253.5,
          "portfolio_history_rand": 1365.9499490000012,
          "position": 1269.5
         },
         {
          "action": "HOLD",
          "actual": 978.9500119999999,
          "date": "2014-10-06T00:00:00",
          "portfolio_history": 1502.4002069999997,
          "portfolio_history_bh": 1243.400024,
          "portfolio_history_rand": 1365.9499490000012,
          "position": 1222
         },
         {
          "action": "HOLD",
          "actual": 970,
          "date": "2014-10-07T00:00:00",
          "portfolio_history": 1493.0001829999997,
          "portfolio_history_bh": 1234,
          "portfolio_history_rand": 1356.5499250000012,
          "position": 1250
         },
         {
          "action": "HOLD",
          "actual": 965,
          "date": "2014-10-08T00:00:00",
          "portfolio_history": 1501.9501949999994,
          "portfolio_history_bh": 1242.9500119999998,
          "portfolio_history_rand": 1365.499937000001,
          "position": 1264
         },
         {
          "action": "HOLD",
          "actual": 966,
          "date": "2014-10-09T00:00:00",
          "portfolio_history": 1493.0001829999997,
          "portfolio_history_bh": 1234,
          "portfolio_history_rand": 1356.5499250000012,
          "position": 1263
         },
         {
          "action": "HOLD",
          "actual": 950,
          "date": "2014-10-10T00:00:00",
          "portfolio_history": 1488.0001829999997,
          "portfolio_history_bh": 1229,
          "portfolio_history_rand": 1356.5499250000012,
          "position": 1250
         },
         {
          "action": "HOLD",
          "actual": 940,
          "date": "2014-10-13T00:00:00",
          "portfolio_history": 1489.0001829999997,
          "portfolio_history_bh": 1230,
          "portfolio_history_rand": 1356.5499250000012,
          "position": 1250
         },
         {
          "action": "HOLD",
          "actual": 940,
          "date": "2014-10-14T00:00:00",
          "portfolio_history": 1473.0001829999997,
          "portfolio_history_bh": 1214,
          "portfolio_history_rand": 1356.5499250000012,
          "position": 1250
         },
         {
          "action": "HOLD",
          "actual": 930,
          "date": "2014-10-15T00:00:00",
          "portfolio_history": 1463.0001829999997,
          "portfolio_history_bh": 1204,
          "portfolio_history_rand": 1346.5499250000012,
          "position": 1240
         },
         {
          "action": "SELL",
          "actual": 914.599976,
          "date": "2014-10-16T00:00:00",
          "portfolio_history": 1463.0001829999997,
          "portfolio_history_bh": 1204,
          "portfolio_history_rand": 1346.5499250000012,
          "position": 1240
         },
         {
          "action": "BUY",
          "actual": 919.9500119999999,
          "date": "2014-10-17T00:00:00",
          "portfolio_history": 1453.0001829999997,
          "portfolio_history_bh": 1194,
          "portfolio_history_rand": 1336.5499250000012,
          "position": 1240
         },
         {
          "action": "SELL",
          "actual": 920,
          "date": "2014-10-20T00:00:00",
          "portfolio_history": 1453.0001829999997,
          "portfolio_history_bh": 1178.599976,
          "portfolio_history_rand": 1321.1499010000011,
          "position": 1225.199951
         },
         {
          "action": "HOLD",
          "actual": 930,
          "date": "2014-10-21T00:00:00",
          "portfolio_history": 1458.3502189999995,
          "portfolio_history_bh": 1183.9500119999998,
          "portfolio_history_rand": 1326.499937000001,
          "position": 1250
         },
         {
          "action": "HOLD",
          "actual": 929.900024,
          "date": "2014-10-22T00:00:00",
          "portfolio_history": 1458.3502189999995,
          "portfolio_history_bh": 1184,
          "portfolio_history_rand": 1326.5499250000012,
          "position": 1250
         },
         {
          "action": "HOLD",
          "actual": 919.0499880000001,
          "date": "2014-10-23T00:00:00",
          "portfolio_history": 1458.3502189999995,
          "portfolio_history_bh": 1194,
          "portfolio_history_rand": 1326.5499250000012,
          "position": 1220
         },
         {
          "action": "HOLD",
          "actual": 920.599976,
          "date": "2014-10-24T00:00:00",
          "portfolio_history": 1458.3502189999995,
          "portfolio_history_bh": 1193.900024,
          "portfolio_history_rand": 1326.4499490000012,
          "position": 1177
         },
         {
          "action": "HOLD",
          "actual": 920,
          "date": "2014-10-27T00:00:00",
          "portfolio_history": 1458.3502189999995,
          "portfolio_history_bh": 1183.0499880000002,
          "portfolio_history_rand": 1326.4499490000012,
          "position": 1150.050049
         },
         {
          "action": "HOLD",
          "actual": 920,
          "date": "2014-10-28T00:00:00",
          "portfolio_history": 1458.3502189999995,
          "portfolio_history_bh": 1184.599976,
          "portfolio_history_rand": 1326.4499490000012,
          "position": 1121.5
         },
         {
          "action": "HOLD",
          "actual": 930,
          "date": "2014-10-29T00:00:00",
          "portfolio_history": 1458.3502189999995,
          "portfolio_history_bh": 1184,
          "portfolio_history_rand": 1326.4499490000012,
          "position": 1231.800049
         },
         {
          "action": "HOLD",
          "actual": 923,
          "date": "2014-10-30T00:00:00",
          "portfolio_history": 1458.3502189999995,
          "portfolio_history_bh": 1184,
          "portfolio_history_rand": 1326.4499490000012,
          "position": 1230
         },
         {
          "action": "HOLD",
          "actual": 921,
          "date": "2014-10-31T00:00:00",
          "portfolio_history": 1458.3502189999995,
          "portfolio_history_bh": 1194,
          "portfolio_history_rand": 1336.4499490000012,
          "position": 1200.099976
         },
         {
          "action": "HOLD",
          "actual": 934,
          "date": "2014-11-03T00:00:00",
          "portfolio_history": 1458.3502189999995,
          "portfolio_history_bh": 1187,
          "portfolio_history_rand": 1329.4499490000012,
          "position": 1224.800049
         },
         {
          "action": "HOLD",
          "actual": 940,
          "date": "2014-11-04T00:00:00",
          "portfolio_history": 1458.3502189999995,
          "portfolio_history_bh": 1185,
          "portfolio_history_rand": 1329.4499490000012,
          "position": 1215
         },
         {
          "action": "HOLD",
          "actual": 941,
          "date": "2014-11-05T00:00:00",
          "portfolio_history": 1458.3502189999995,
          "portfolio_history_bh": 1198,
          "portfolio_history_rand": 1329.4499490000012,
          "position": 1235.699951
         },
         {
          "action": "HOLD",
          "actual": 955.7999880000001,
          "date": "2014-11-06T00:00:00",
          "portfolio_history": 1458.3502189999995,
          "portfolio_history_bh": 1204,
          "portfolio_history_rand": 1335.4499490000012,
          "position": 1240
         },
         {
          "action": "HOLD",
          "actual": 975.5499880000001,
          "date": "2014-11-07T00:00:00",
          "portfolio_history": 1458.3502189999995,
          "portfolio_history_bh": 1205,
          "portfolio_history_rand": 1336.4499490000012,
          "position": 1252
         },
         {
          "action": "HOLD",
          "actual": 950,
          "date": "2014-11-10T00:00:00",
          "portfolio_history": 1458.3502189999995,
          "portfolio_history_bh": 1219.7999880000002,
          "portfolio_history_rand": 1336.4499490000012,
          "position": 1235
         },
         {
          "action": "HOLD",
          "actual": 950,
          "date": "2014-11-11T00:00:00",
          "portfolio_history": 1458.3502189999995,
          "portfolio_history_bh": 1239.5499880000002,
          "portfolio_history_rand": 1336.4499490000012,
          "position": 1245
         },
         {
          "action": "HOLD",
          "actual": 950,
          "date": "2014-11-12T00:00:00",
          "portfolio_history": 1458.3502189999995,
          "portfolio_history_bh": 1214,
          "portfolio_history_rand": 1310.899961000001,
          "position": 1245
         },
         {
          "action": "BUY",
          "actual": 941.2999880000001,
          "date": "2014-11-13T00:00:00",
          "portfolio_history": 1458.3502189999995,
          "portfolio_history_bh": 1214,
          "portfolio_history_rand": 1310.899961000001,
          "position": 1258.949951
         },
         {
          "action": "HOLD",
          "actual": 942.849976,
          "date": "2014-11-14T00:00:00",
          "portfolio_history": 1458.3502189999995,
          "portfolio_history_bh": 1214,
          "portfolio_history_rand": 1310.899961000001,
          "position": 1254.650024
         },
         {
          "action": "HOLD",
          "actual": 942.4500119999999,
          "date": "2014-11-17T00:00:00",
          "portfolio_history": 1449.6502069999997,
          "portfolio_history_bh": 1205.2999880000002,
          "portfolio_history_rand": 1310.899961000001,
          "position": 1279.949951
         },
         {
          "action": "HOLD",
          "actual": 950,
          "date": "2014-11-18T00:00:00",
          "portfolio_history": 1451.2001949999994,
          "portfolio_history_bh": 1206.849976,
          "portfolio_history_rand": 1310.899961000001,
          "position": 1320
         },
         {
          "action": "HOLD",
          "actual": 944.099976,
          "date": "2014-11-19T00:00:00",
          "portfolio_history": 1450.8002309999993,
          "portfolio_history_bh": 1206.4500119999998,
          "portfolio_history_rand": 1310.899961000001,
          "position": 1281
         },
         {
          "action": "HOLD",
          "actual": 969,
          "date": "2014-11-20T00:00:00",
          "portfolio_history": 1458.3502189999995,
          "portfolio_history_bh": 1214,
          "portfolio_history_rand": 1310.899961000001,
          "position": 1246
         },
         {
          "action": "HOLD",
          "actual": 986,
          "date": "2014-11-21T00:00:00",
          "portfolio_history": 1452.4501949999994,
          "portfolio_history_bh": 1208.099976,
          "portfolio_history_rand": 1310.899961000001,
          "position": 1269
         },
         {
          "action": "HOLD",
          "actual": 1000,
          "date": "2014-11-24T00:00:00",
          "portfolio_history": 1477.3502189999995,
          "portfolio_history_bh": 1233,
          "portfolio_history_rand": 1310.899961000001,
          "position": 1255
         },
         {
          "action": "HOLD",
          "actual": 986.25,
          "date": "2014-11-25T00:00:00",
          "portfolio_history": 1494.3502189999995,
          "portfolio_history_bh": 1250,
          "portfolio_history_rand": 1310.899961000001,
          "position": 1308.949951
         },
         {
          "action": "HOLD",
          "actual": 1004,
          "date": "2014-11-26T00:00:00",
          "portfolio_history": 1508.3502189999995,
          "portfolio_history_bh": 1264,
          "portfolio_history_rand": 1310.899961000001,
          "position": 1336
         },
         {
          "action": "HOLD",
          "actual": 998.5,
          "date": "2014-11-28T00:00:00",
          "portfolio_history": 1494.6002189999995,
          "portfolio_history_bh": 1250.25,
          "portfolio_history_rand": 1297.149961000001,
          "position": 1335
         },
         {
          "action": "HOLD",
          "actual": 996,
          "date": "2014-12-01T00:00:00",
          "portfolio_history": 1512.3502189999995,
          "portfolio_history_bh": 1268,
          "portfolio_history_rand": 1297.149961000001,
          "position": 1340
         },
         {
          "action": "HOLD",
          "actual": 990,
          "date": "2014-12-02T00:00:00",
          "portfolio_history": 1506.8502189999995,
          "portfolio_history_bh": 1262.5,
          "portfolio_history_rand": 1297.149961000001,
          "position": 1344.599976
         },
         {
          "action": "HOLD",
          "actual": 986,
          "date": "2014-12-03T00:00:00",
          "portfolio_history": 1504.3502189999995,
          "portfolio_history_bh": 1260,
          "portfolio_history_rand": 1297.149961000001,
          "position": 1384.050049
         },
         {
          "action": "SELL",
          "actual": 986,
          "date": "2014-12-04T00:00:00",
          "portfolio_history": 1498.3502189999995,
          "portfolio_history_bh": 1254,
          "portfolio_history_rand": 1291.149961000001,
          "position": 1418
         },
         {
          "action": "HOLD",
          "actual": 1000,
          "date": "2014-12-05T00:00:00",
          "portfolio_history": 1494.3502189999995,
          "portfolio_history_bh": 1250,
          "portfolio_history_rand": 1287.149961000001,
          "position": 1418.5
         },
         {
          "action": "HOLD",
          "actual": 985,
          "date": "2014-12-08T00:00:00",
          "portfolio_history": 1494.3502189999995,
          "portfolio_history_bh": 1250,
          "portfolio_history_rand": 1287.149961000001,
          "position": 1436.949951
         },
         {
          "action": "HOLD",
          "actual": 966,
          "date": "2014-12-09T00:00:00",
          "portfolio_history": 1494.3502189999995,
          "portfolio_history_bh": 1264,
          "portfolio_history_rand": 1287.149961000001,
          "position": 1449
         },
         {
          "action": "HOLD",
          "actual": 957,
          "date": "2014-12-10T00:00:00",
          "portfolio_history": 1494.3502189999995,
          "portfolio_history_bh": 1249,
          "portfolio_history_rand": 1272.149961000001,
          "position": 1459
         },
         {
          "action": "BUY",
          "actual": 957,
          "date": "2014-12-11T00:00:00",
          "portfolio_history": 1494.3502189999995,
          "portfolio_history_bh": 1230,
          "portfolio_history_rand": 1253.149961000001,
          "position": 1362
         },
         {
          "action": "SELL",
          "actual": 960,
          "date": "2014-12-12T00:00:00",
          "portfolio_history": 1494.3502189999995,
          "portfolio_history_bh": 1221,
          "portfolio_history_rand": 1244.149961000001,
          "position": 1374
         },
         {
          "action": "HOLD",
          "actual": 979.5,
          "date": "2014-12-15T00:00:00",
          "portfolio_history": 1494.3502189999995,
          "portfolio_history_bh": 1221,
          "portfolio_history_rand": 1244.149961000001,
          "position": 1392.199951
         },
         {
          "action": "HOLD",
          "actual": 945,
          "date": "2014-12-16T00:00:00",
          "portfolio_history": 1494.3502189999995,
          "portfolio_history_bh": 1224,
          "portfolio_history_rand": 1247.149961000001,
          "position": 1345.5
         },
         {
          "action": "HOLD",
          "actual": 975,
          "date": "2014-12-17T00:00:00",
          "portfolio_history": 1494.3502189999995,
          "portfolio_history_bh": 1243.5,
          "portfolio_history_rand": 1266.649961000001,
          "position": 1374
         },
         {
          "action": "HOLD",
          "actual": 979,
          "date": "2014-12-18T00:00:00",
          "portfolio_history": 1494.3502189999995,
          "portfolio_history_bh": 1209,
          "portfolio_history_rand": 1266.649961000001,
          "position": 1359.050049
         },
         {
          "action": "BUY",
          "actual": 970,
          "date": "2014-12-19T00:00:00",
          "portfolio_history": 1494.3502189999995,
          "portfolio_history_bh": 1239,
          "portfolio_history_rand": 1266.649961000001,
          "position": 1376
         },
         {
          "action": "HOLD",
          "actual": 957.9500119999999,
          "date": "2014-12-22T00:00:00",
          "portfolio_history": 1494.3502189999995,
          "portfolio_history_bh": 1243,
          "portfolio_history_rand": 1266.649961000001,
          "position": 1390
         },
         {
          "action": "HOLD",
          "actual": 980,
          "date": "2014-12-23T00:00:00",
          "portfolio_history": 1485.3502189999995,
          "portfolio_history_bh": 1234,
          "portfolio_history_rand": 1266.649961000001,
          "position": 1385
         },
         {
          "action": "SELL",
          "actual": 980,
          "date": "2014-12-24T00:00:00",
          "portfolio_history": 1473.3002309999993,
          "portfolio_history_bh": 1221.9500119999998,
          "portfolio_history_rand": 1266.649961000001,
          "position": 1381
         },
         {
          "action": "HOLD",
          "actual": 980,
          "date": "2014-12-26T00:00:00",
          "portfolio_history": 1495.3502189999995,
          "portfolio_history_bh": 1244,
          "portfolio_history_rand": 1266.649961000001,
          "position": 1360
         },
         {
          "action": "HOLD",
          "actual": 1004.5,
          "date": "2014-12-29T00:00:00",
          "portfolio_history": 1495.3502189999995,
          "portfolio_history_bh": 1244,
          "portfolio_history_rand": 1266.649961000001,
          "position": 1337.050049
         },
         {
          "action": "HOLD",
          "actual": 1029.599976,
          "date": "2014-12-30T00:00:00",
          "portfolio_history": 1495.3502189999995,
          "portfolio_history_bh": 1244,
          "portfolio_history_rand": 1266.649961000001,
          "position": 1310
         },
         {
          "action": "HOLD",
          "actual": 1029.599976,
          "date": "2014-12-31T00:00:00",
          "portfolio_history": 1495.3502189999995,
          "portfolio_history_bh": 1268.5,
          "portfolio_history_rand": 1266.649961000001,
          "position": 1378
         },
         {
          "action": "BUY",
          "actual": 1023,
          "date": "2015-01-02T00:00:00",
          "portfolio_history": 1495.3502189999995,
          "portfolio_history_bh": 1293.599976,
          "portfolio_history_rand": 1291.749937000001,
          "position": 1375
         },
         {
          "action": "HOLD",
          "actual": 1006.0499880000001,
          "date": "2015-01-05T00:00:00",
          "portfolio_history": 1495.3502189999995,
          "portfolio_history_bh": 1293.599976,
          "portfolio_history_rand": 1291.749937000001,
          "position": 1350
         },
         {
          "action": "SELL",
          "actual": 1006.0499880000001,
          "date": "2015-01-06T00:00:00",
          "portfolio_history": 1488.7502429999995,
          "portfolio_history_bh": 1287,
          "portfolio_history_rand": 1291.749937000001,
          "position": 1350
         },
         {
          "action": "HOLD",
          "actual": 1000,
          "date": "2015-01-07T00:00:00",
          "portfolio_history": 1471.8002309999997,
          "portfolio_history_bh": 1270.0499880000002,
          "portfolio_history_rand": 1274.7999250000012,
          "position": 1349.949951
         },
         {
          "action": "HOLD",
          "actual": 996.5499880000001,
          "date": "2015-01-08T00:00:00",
          "portfolio_history": 1471.8002309999997,
          "portfolio_history_bh": 1270.0499880000002,
          "portfolio_history_rand": 1274.7999250000012,
          "position": 1350
         },
         {
          "action": "HOLD",
          "actual": 1009.900024,
          "date": "2015-01-09T00:00:00",
          "portfolio_history": 1471.8002309999997,
          "portfolio_history_bh": 1264,
          "portfolio_history_rand": 1268.749937000001,
          "position": 1343.5
         },
         {
          "action": "HOLD",
          "actual": 1006.9500119999999,
          "date": "2015-01-12T00:00:00",
          "portfolio_history": 1471.8002309999997,
          "portfolio_history_bh": 1260.5499880000002,
          "portfolio_history_rand": 1265.2999250000012,
          "position": 1342.5
         },
         {
          "action": "HOLD",
          "actual": 1006.0499880000001,
          "date": "2015-01-13T00:00:00",
          "portfolio_history": 1471.8002309999997,
          "portfolio_history_bh": 1273.900024,
          "portfolio_history_rand": 1278.649961000001,
          "position": 1339
         },
         {
          "action": "HOLD",
          "actual": 984.0499880000001,
          "date": "2015-01-14T00:00:00",
          "portfolio_history": 1471.8002309999997,
          "portfolio_history_bh": 1270.9500119999998,
          "portfolio_history_rand": 1275.6999490000007,
          "position": 1300
         },
         {
          "action": "HOLD",
          "actual": 977,
          "date": "2015-01-15T00:00:00",
          "portfolio_history": 1471.8002309999997,
          "portfolio_history_bh": 1270.0499880000002,
          "portfolio_history_rand": 1274.7999250000012,
          "position": 1365
         },
         {
          "action": "HOLD",
          "actual": 960,
          "date": "2015-01-16T00:00:00",
          "portfolio_history": 1471.8002309999997,
          "portfolio_history_bh": 1248.0499880000002,
          "portfolio_history_rand": 1274.7999250000012,
          "position": 1359.949951
         },
         {
          "action": "HOLD",
          "actual": 952.349976,
          "date": "2015-01-20T00:00:00",
          "portfolio_history": 1471.8002309999997,
          "portfolio_history_bh": 1241,
          "portfolio_history_rand": 1267.749937000001,
          "position": 1360
         },
         {
          "action": "HOLD",
          "actual": 955,
          "date": "2015-01-21T00:00:00",
          "portfolio_history": 1471.8002309999997,
          "portfolio_history_bh": 1224,
          "portfolio_history_rand": 1250.749937000001,
          "position": 1358
         },
         {
          "action": "HOLD",
          "actual": 965,
          "date": "2015-01-22T00:00:00",
          "portfolio_history": 1471.8002309999997,
          "portfolio_history_bh": 1216.349976,
          "portfolio_history_rand": 1250.749937000001,
          "position": 1365
         },
         {
          "action": "BUY",
          "actual": 982.0499880000001,
          "date": "2015-01-23T00:00:00",
          "portfolio_history": 1471.8002309999997,
          "portfolio_history_bh": 1219,
          "portfolio_history_rand": 1253.399961000001,
          "position": 1362.949951
         },
         {
          "action": "HOLD",
          "actual": 979.9500119999999,
          "date": "2015-01-26T00:00:00",
          "portfolio_history": 1471.8002309999997,
          "portfolio_history_bh": 1229,
          "portfolio_history_rand": 1253.399961000001,
          "position": 1345
         },
         {
          "action": "HOLD",
          "actual": 985,
          "date": "2015-01-27T00:00:00",
          "portfolio_history": 1488.850219,
          "portfolio_history_bh": 1246.0499880000002,
          "portfolio_history_rand": 1270.4499490000012,
          "position": 1351
         },
         {
          "action": "HOLD",
          "actual": 990,
          "date": "2015-01-28T00:00:00",
          "portfolio_history": 1486.7502429999995,
          "portfolio_history_bh": 1243.9500119999998,
          "portfolio_history_rand": 1270.4499490000012,
          "position": 1349.150024
         },
         {
          "action": "HOLD",
          "actual": 990,
          "date": "2015-01-29T00:00:00",
          "portfolio_history": 1491.8002309999997,
          "portfolio_history_bh": 1249,
          "portfolio_history_rand": 1275.4999370000014,
          "position": 1345
         },
         {
          "action": "HOLD",
          "actual": 981,
          "date": "2015-01-30T00:00:00",
          "portfolio_history": 1496.8002309999997,
          "portfolio_history_bh": 1254,
          "portfolio_history_rand": 1280.4999370000014,
          "position": 1284
         },
         {
          "action": "HOLD",
          "actual": 995,
          "date": "2015-02-02T00:00:00",
          "portfolio_history": 1496.8002309999997,
          "portfolio_history_bh": 1254,
          "portfolio_history_rand": 1280.4999370000014,
          "position": 1284
         },
         {
          "action": "HOLD",
          "actual": 990,
          "date": "2015-02-03T00:00:00",
          "portfolio_history": 1487.8002309999997,
          "portfolio_history_bh": 1245,
          "portfolio_history_rand": 1271.4999370000014,
          "position": 1200
         },
         {
          "action": "HOLD",
          "actual": 993,
          "date": "2015-02-04T00:00:00",
          "portfolio_history": 1501.8002309999997,
          "portfolio_history_bh": 1259,
          "portfolio_history_rand": 1285.4999370000014,
          "position": 1250
         },
         {
          "action": "HOLD",
          "actual": 978.5,
          "date": "2015-02-05T00:00:00",
          "portfolio_history": 1496.8002309999997,
          "portfolio_history_bh": 1254,
          "portfolio_history_rand": 1280.4999370000014,
          "position": 1250
         },
         {
          "action": "HOLD",
          "actual": 971.2999880000001,
          "date": "2015-02-06T00:00:00",
          "portfolio_history": 1499.8002309999997,
          "portfolio_history_bh": 1257,
          "portfolio_history_rand": 1280.4999370000014,
          "position": 1226
         },
         {
          "action": "HOLD",
          "actual": 997,
          "date": "2015-02-09T00:00:00",
          "portfolio_history": 1485.3002309999997,
          "portfolio_history_bh": 1242.5,
          "portfolio_history_rand": 1280.4999370000014,
          "position": 1185.949951
         },
         {
          "action": "SELL",
          "actual": 995,
          "date": "2015-02-10T00:00:00",
          "portfolio_history": 1478.100219,
          "portfolio_history_bh": 1235.2999880000002,
          "portfolio_history_rand": 1280.4999370000014,
          "position": 1197.5
         },
         {
          "action": "HOLD",
          "actual": 985.5,
          "date": "2015-02-11T00:00:00",
          "portfolio_history": 1503.8002309999997,
          "portfolio_history_bh": 1261,
          "portfolio_history_rand": 1280.4999370000014,
          "position": 1216
         },
         {
          "action": "HOLD",
          "actual": 980.0499880000001,
          "date": "2015-02-12T00:00:00",
          "portfolio_history": 1503.8002309999997,
          "portfolio_history_bh": 1259,
          "portfolio_history_rand": 1280.4999370000014,
          "position": 1248
         },
         {
          "action": "HOLD",
          "actual": 989.9500119999999,
          "date": "2015-02-13T00:00:00",
          "portfolio_history": 1503.8002309999997,
          "portfolio_history_bh": 1249.5,
          "portfolio_history_rand": 1280.4999370000014,
          "position": 1283
         },
         {
          "action": "HOLD",
          "actual": 994,
          "date": "2015-02-17T00:00:00",
          "portfolio_history": 1503.8002309999997,
          "portfolio_history_bh": 1244.0499880000002,
          "portfolio_history_rand": 1280.4999370000014,
          "position": 1299
         },
         {
          "action": "HOLD",
          "actual": 988.0499880000001,
          "date": "2015-02-18T00:00:00",
          "portfolio_history": 1503.8002309999997,
          "portfolio_history_bh": 1253.9500119999998,
          "portfolio_history_rand": 1290.3999610000012,
          "position": 1299
         },
         {
          "action": "HOLD",
          "actual": 1000,
          "date": "2015-02-19T00:00:00",
          "portfolio_history": 1503.8002309999997,
          "portfolio_history_bh": 1258,
          "portfolio_history_rand": 1294.4499490000012,
          "position": 1309.449951
         },
         {
          "action": "HOLD",
          "actual": 1006,
          "date": "2015-02-20T00:00:00",
          "portfolio_history": 1503.8002309999997,
          "portfolio_history_bh": 1252.0499880000002,
          "portfolio_history_rand": 1288.4999370000014,
          "position": 1290
         },
         {
          "action": "HOLD",
          "actual": 1020,
          "date": "2015-02-23T00:00:00",
          "portfolio_history": 1503.8002309999997,
          "portfolio_history_bh": 1264,
          "portfolio_history_rand": 1288.4999370000014,
          "position": 1250
         },
         {
          "action": "HOLD",
          "actual": 1045,
          "date": "2015-02-24T00:00:00",
          "portfolio_history": 1503.8002309999997,
          "portfolio_history_bh": 1270,
          "portfolio_history_rand": 1294.4999370000014,
          "position": 1229.949951
         },
         {
          "action": "HOLD",
          "actual": 1060,
          "date": "2015-02-25T00:00:00",
          "portfolio_history": 1503.8002309999997,
          "portfolio_history_bh": 1284,
          "portfolio_history_rand": 1308.4999370000014,
          "position": 1235
         },
         {
          "action": "HOLD",
          "actual": 1062,
          "date": "2015-02-26T00:00:00",
          "portfolio_history": 1503.8002309999997,
          "portfolio_history_bh": 1309,
          "portfolio_history_rand": 1308.4999370000014,
          "position": 1140
         },
         {
          "action": "HOLD",
          "actual": 1060,
          "date": "2015-02-27T00:00:00",
          "portfolio_history": 1503.8002309999997,
          "portfolio_history_bh": 1324,
          "portfolio_history_rand": 1308.4999370000014,
          "position": 1108
         },
         {
          "action": "HOLD",
          "actual": 1089.900024,
          "date": "2015-03-02T00:00:00",
          "portfolio_history": 1503.8002309999997,
          "portfolio_history_bh": 1326,
          "portfolio_history_rand": 1308.4999370000014,
          "position": 1114
         },
         {
          "action": "HOLD",
          "actual": 1065,
          "date": "2015-03-03T00:00:00",
          "portfolio_history": 1503.8002309999997,
          "portfolio_history_bh": 1324,
          "portfolio_history_rand": 1308.4999370000014,
          "position": 1143
         },
         {
          "action": "HOLD",
          "actual": 1083.900024,
          "date": "2015-03-04T00:00:00",
          "portfolio_history": 1503.8002309999997,
          "portfolio_history_bh": 1353.900024,
          "portfolio_history_rand": 1308.4999370000014,
          "position": 1145
         },
         {
          "action": "HOLD",
          "actual": 1084,
          "date": "2015-03-05T00:00:00",
          "portfolio_history": 1503.8002309999997,
          "portfolio_history_bh": 1329,
          "portfolio_history_rand": 1308.4999370000014,
          "position": 1100
         },
         {
          "action": "BUY",
          "actual": 1090,
          "date": "2015-03-06T00:00:00",
          "portfolio_history": 1503.8002309999997,
          "portfolio_history_bh": 1347.900024,
          "portfolio_history_rand": 1308.4999370000014,
          "position": 1116
         },
         {
          "action": "HOLD",
          "actual": 1100,
          "date": "2015-03-09T00:00:00",
          "portfolio_history": 1503.8002309999997,
          "portfolio_history_bh": 1348,
          "portfolio_history_rand": 1308.4999370000014,
          "position": 1130
         },
         {
          "action": "SELL",
          "actual": 1102,
          "date": "2015-03-10T00:00:00",
          "portfolio_history": 1509.8002309999997,
          "portfolio_history_bh": 1354,
          "portfolio_history_rand": 1308.4999370000014,
          "position": 1139
         },
         {
          "action": "HOLD",
          "actual": 1135,
          "date": "2015-03-11T00:00:00",
          "portfolio_history": 1519.8002309999997,
          "portfolio_history_bh": 1364,
          "portfolio_history_rand": 1318.4999370000014,
          "position": 1198.949951
         },
         {
          "action": "HOLD",
          "actual": 1139,
          "date": "2015-03-12T00:00:00",
          "portfolio_history": 1519.8002309999997,
          "portfolio_history_bh": 1366,
          "portfolio_history_rand": 1318.4999370000014,
          "position": 1188
         },
         {
          "action": "HOLD",
          "actual": 1136.900024,
          "date": "2015-03-13T00:00:00",
          "portfolio_history": 1519.8002309999997,
          "portfolio_history_bh": 1399,
          "portfolio_history_rand": 1318.4999370000014,
          "position": 1182.050049
         },
         {
          "action": "HOLD",
          "actual": 1130,
          "date": "2015-03-16T00:00:00",
          "portfolio_history": 1519.8002309999997,
          "portfolio_history_bh": 1403,
          "portfolio_history_rand": 1318.4999370000014,
          "position": 1198
         },
         {
          "action": "HOLD",
          "actual": 1131,
          "date": "2015-03-17T00:00:00",
          "portfolio_history": 1519.8002309999997,
          "portfolio_history_bh": 1400.900024,
          "portfolio_history_rand": 1316.3999610000014,
          "position": 1189.5
         },
         {
          "action": "HOLD",
          "actual": 1169.949951,
          "date": "2015-03-18T00:00:00",
          "portfolio_history": 1519.8002309999997,
          "portfolio_history_bh": 1394,
          "portfolio_history_rand": 1309.4999370000014,
          "position": 1180
         },
         {
          "action": "HOLD",
          "actual": 1166,
          "date": "2015-03-19T00:00:00",
          "portfolio_history": 1519.8002309999997,
          "portfolio_history_bh": 1395,
          "portfolio_history_rand": 1309.4999370000014,
          "position": 1180
         },
         {
          "action": "BUY",
          "actual": 1199,
          "date": "2015-03-20T00:00:00",
          "portfolio_history": 1519.8002309999997,
          "portfolio_history_bh": 1433.949951,
          "portfolio_history_rand": 1348.4498880000015,
          "position": 1184.900024
         },
         {
          "action": "HOLD",
          "actual": 1245,
          "date": "2015-03-23T00:00:00",
          "portfolio_history": 1519.8002309999997,
          "portfolio_history_bh": 1430,
          "portfolio_history_rand": 1344.4999370000014,
          "position": 1172
         },
         {
          "action": "HOLD",
          "actual": 1261,
          "date": "2015-03-24T00:00:00",
          "portfolio_history": 1552.8002309999997,
          "portfolio_history_bh": 1463,
          "portfolio_history_rand": 1377.4999370000014,
          "position": 1135
         },
         {
          "action": "HOLD",
          "actual": 1255,
          "date": "2015-03-25T00:00:00",
          "portfolio_history": 1598.8002309999997,
          "portfolio_history_bh": 1509,
          "portfolio_history_rand": 1377.4999370000014,
          "position": 1094.849976
         },
         {
          "action": "HOLD",
          "actual": 1207.099976,
          "date": "2015-03-26T00:00:00",
          "portfolio_history": 1614.8002309999997,
          "portfolio_history_bh": 1525,
          "portfolio_history_rand": 1377.4999370000014,
          "position": 1070
         },
         {
          "action": "SELL",
          "actual": 1205.050049,
          "date": "2015-03-27T00:00:00",
          "portfolio_history": 1608.8002309999997,
          "portfolio_history_bh": 1519,
          "portfolio_history_rand": 1371.4999370000014,
          "position": 1099.449951
         },
         {
          "action": "HOLD",
          "actual": 1239.900024,
          "date": "2015-03-30T00:00:00",
          "portfolio_history": 1560.9002069999997,
          "portfolio_history_bh": 1471.099976,
          "portfolio_history_rand": 1371.4999370000014,
          "position": 1095
         },
         {
          "action": "HOLD",
          "actual": 1235.099976,
          "date": "2015-03-31T00:00:00",
          "portfolio_history": 1560.9002069999997,
          "portfolio_history_bh": 1469.050049,
          "portfolio_history_rand": 1369.4500100000014,
          "position": 1055
         },
         {
          "action": "HOLD",
          "actual": 1268,
          "date": "2015-04-01T00:00:00",
          "portfolio_history": 1560.9002069999997,
          "portfolio_history_bh": 1503.900024,
          "portfolio_history_rand": 1404.2999850000015,
          "position": 1050
         },
         {
          "action": "HOLD",
          "actual": 1260,
          "date": "2015-04-02T00:00:00",
          "portfolio_history": 1560.9002069999997,
          "portfolio_history_bh": 1499.099976,
          "portfolio_history_rand": 1399.4999370000014,
          "position": 1018
         },
         {
          "action": "HOLD",
          "actual": 1260,
          "date": "2015-04-06T00:00:00",
          "portfolio_history": 1560.9002069999997,
          "portfolio_history_bh": 1532,
          "portfolio_history_rand": 1432.3999610000014,
          "position": 997
         },
         {
          "action": "HOLD",
          "actual": 1280.050049,
          "date": "2015-04-07T00:00:00",
          "portfolio_history": 1560.9002069999997,
          "portfolio_history_bh": 1524,
          "portfolio_history_rand": 1424.3999610000014,
          "position": 1014.7000119999999
         },
         {
          "action": "HOLD",
          "actual": 1330,
          "date": "2015-04-08T00:00:00",
          "portfolio_history": 1560.9002069999997,
          "portfolio_history_bh": 1524,
          "portfolio_history_rand": 1424.3999610000014,
          "position": 1014.7000119999999
         },
         {
          "action": "HOLD",
          "actual": 1341,
          "date": "2015-04-09T00:00:00",
          "portfolio_history": 1560.9002069999997,
          "portfolio_history_bh": 1544.050049,
          "portfolio_history_rand": 1424.3999610000014,
          "position": 1058
         },
         {
          "action": "HOLD",
          "actual": 1320,
          "date": "2015-04-10T00:00:00",
          "portfolio_history": 1560.9002069999997,
          "portfolio_history_bh": 1594,
          "portfolio_history_rand": 1424.3999610000014,
          "position": 1058.5
         },
         {
          "action": "HOLD",
          "actual": 1320,
          "date": "2015-04-13T00:00:00",
          "portfolio_history": 1560.9002069999997,
          "portfolio_history_bh": 1605,
          "portfolio_history_rand": 1424.3999610000014,
          "position": 1053
         },
         {
          "action": "HOLD",
          "actual": 1340,
          "date": "2015-04-14T00:00:00",
          "portfolio_history": 1560.9002069999997,
          "portfolio_history_bh": 1584,
          "portfolio_history_rand": 1403.3999610000014,
          "position": 1011.099976
         },
         {
          "action": "HOLD",
          "actual": 1348.900024,
          "date": "2015-04-15T00:00:00",
          "portfolio_history": 1560.9002069999997,
          "portfolio_history_bh": 1584,
          "portfolio_history_rand": 1403.3999610000014,
          "position": 1029.25
         },
         {
          "action": "HOLD",
          "actual": 1342.199951,
          "date": "2015-04-16T00:00:00",
          "portfolio_history": 1560.9002069999997,
          "portfolio_history_bh": 1604,
          "portfolio_history_rand": 1403.3999610000014,
          "position": 1041
         },
         {
          "action": "HOLD",
          "actual": 1325,
          "date": "2015-04-17T00:00:00",
          "portfolio_history": 1560.9002069999997,
          "portfolio_history_bh": 1612.900024,
          "portfolio_history_rand": 1412.2999850000015,
          "position": 1005
         },
         {
          "action": "HOLD",
          "actual": 1353.949951,
          "date": "2015-04-20T00:00:00",
          "portfolio_history": 1560.9002069999997,
          "portfolio_history_bh": 1606.199951,
          "portfolio_history_rand": 1405.5999120000015,
          "position": 999
         },
         {
          "action": "HOLD",
          "actual": 1380,
          "date": "2015-04-21T00:00:00",
          "portfolio_history": 1560.9002069999997,
          "portfolio_history_bh": 1589,
          "portfolio_history_rand": 1388.3999610000014,
          "position": 976
         },
         {
          "action": "HOLD",
          "actual": 1354,
          "date": "2015-04-22T00:00:00",
          "portfolio_history": 1560.9002069999997,
          "portfolio_history_bh": 1617.949951,
          "portfolio_history_rand": 1388.3999610000014,
          "position": 951
         },
         {
          "action": "HOLD",
          "actual": 1332,
          "date": "2015-04-23T00:00:00",
          "portfolio_history": 1560.9002069999997,
          "portfolio_history_bh": 1644,
          "portfolio_history_rand": 1414.4500100000014,
          "position": 944
         },
         {
          "action": "BUY",
          "actual": 1300,
          "date": "2015-04-24T00:00:00",
          "portfolio_history": 1560.9002069999997,
          "portfolio_history_bh": 1618,
          "portfolio_history_rand": 1414.4500100000014,
          "position": 921
         },
         {
          "action": "HOLD",
          "actual": 1250,
          "date": "2015-04-27T00:00:00",
          "portfolio_history": 1560.9002069999997,
          "portfolio_history_bh": 1596,
          "portfolio_history_rand": 1414.4500100000014,
          "position": 937.400024
         },
         {
          "action": "HOLD",
          "actual": 1240,
          "date": "2015-04-28T00:00:00",
          "portfolio_history": 1528.9002069999997,
          "portfolio_history_bh": 1564,
          "portfolio_history_rand": 1382.4500100000014,
          "position": 931
         },
         {
          "action": "HOLD",
          "actual": 1237.300049,
          "date": "2015-04-29T00:00:00",
          "portfolio_history": 1478.9002069999997,
          "portfolio_history_bh": 1514,
          "portfolio_history_rand": 1382.4500100000014,
          "position": 958
         },
         {
          "action": "HOLD",
          "actual": 1330,
          "date": "2015-04-30T00:00:00",
          "portfolio_history": 1468.9002069999997,
          "portfolio_history_bh": 1504,
          "portfolio_history_rand": 1382.4500100000014,
          "position": 950
         },
         {
          "action": "HOLD",
          "actual": 1330,
          "date": "2015-05-01T00:00:00",
          "portfolio_history": 1466.2002559999996,
          "portfolio_history_bh": 1501.300049,
          "portfolio_history_rand": 1382.4500100000014,
          "position": 950
         },
         {
          "action": "HOLD",
          "actual": 1313,
          "date": "2015-05-04T00:00:00",
          "portfolio_history": 1558.9002069999997,
          "portfolio_history_bh": 1594,
          "portfolio_history_rand": 1382.4500100000014,
          "position": 950.150024
         },
         {
          "action": "HOLD",
          "actual": 1346.699951,
          "date": "2015-05-05T00:00:00",
          "portfolio_history": 1558.9002069999997,
          "portfolio_history_bh": 1594,
          "portfolio_history_rand": 1382.4500100000014,
          "position": 950
         },
         {
          "action": "HOLD",
          "actual": 1377,
          "date": "2015-05-06T00:00:00",
          "portfolio_history": 1541.9002069999997,
          "portfolio_history_bh": 1577,
          "portfolio_history_rand": 1382.4500100000014,
          "position": 959
         },
         {
          "action": "HOLD",
          "actual": 1373,
          "date": "2015-05-07T00:00:00",
          "portfolio_history": 1575.6001579999997,
          "portfolio_history_bh": 1610.699951,
          "portfolio_history_rand": 1382.4500100000014,
          "position": 950
         },
         {
          "action": "HOLD",
          "actual": 1365,
          "date": "2015-05-08T00:00:00",
          "portfolio_history": 1605.9002069999997,
          "portfolio_history_bh": 1641,
          "portfolio_history_rand": 1382.4500100000014,
          "position": 950.900024
         },
         {
          "action": "HOLD",
          "actual": 1378,
          "date": "2015-05-11T00:00:00",
          "portfolio_history": 1601.9002069999997,
          "portfolio_history_bh": 1637,
          "portfolio_history_rand": 1382.4500100000014,
          "position": 964.9500119999999
         },
         {
          "action": "HOLD",
          "actual": 1376,
          "date": "2015-05-12T00:00:00",
          "portfolio_history": 1593.9002069999997,
          "portfolio_history_bh": 1629,
          "portfolio_history_rand": 1374.4500100000014,
          "position": 969.900024
         },
         {
          "action": "HOLD",
          "actual": 1356,
          "date": "2015-05-13T00:00:00",
          "portfolio_history": 1606.9002069999997,
          "portfolio_history_bh": 1642,
          "portfolio_history_rand": 1387.4500100000014,
          "position": 951.0499880000001
         },
         {
          "action": "HOLD",
          "actual": 1350,
          "date": "2015-05-14T00:00:00",
          "portfolio_history": 1604.9002069999997,
          "portfolio_history_bh": 1640,
          "portfolio_history_rand": 1385.4500100000014,
          "position": 968.4500119999999
         },
         {
          "action": "HOLD",
          "actual": 1350,
          "date": "2015-05-15T00:00:00",
          "portfolio_history": 1584.9002069999997,
          "portfolio_history_bh": 1620,
          "portfolio_history_rand": 1365.4500100000014,
          "position": 951.5499880000001
         },
         {
          "action": "SELL",
          "actual": 1352,
          "date": "2015-05-18T00:00:00",
          "portfolio_history": 1578.9002069999997,
          "portfolio_history_bh": 1614,
          "portfolio_history_rand": 1359.4500100000014,
          "position": 950
         },
         {
          "action": "HOLD",
          "actual": 1350,
          "date": "2015-05-19T00:00:00",
          "portfolio_history": 1578.9002069999997,
          "portfolio_history_bh": 1614,
          "portfolio_history_rand": 1359.4500100000014,
          "position": 951
         },
         {
          "action": "HOLD",
          "actual": 1349.949951,
          "date": "2015-05-20T00:00:00",
          "portfolio_history": 1578.9002069999997,
          "portfolio_history_bh": 1616,
          "portfolio_history_rand": 1359.4500100000014,
          "position": 950
         },
         {
          "action": "HOLD",
          "actual": 1328,
          "date": "2015-05-21T00:00:00",
          "portfolio_history": 1578.9002069999997,
          "portfolio_history_bh": 1614,
          "portfolio_history_rand": 1359.4500100000014,
          "position": 949
         },
         {
          "action": "HOLD",
          "actual": 1314,
          "date": "2015-05-22T00:00:00",
          "portfolio_history": 1578.9002069999997,
          "portfolio_history_bh": 1613.949951,
          "portfolio_history_rand": 1359.4500100000014,
          "position": 923
         },
         {
          "action": "HOLD",
          "actual": 1275,
          "date": "2015-05-26T00:00:00",
          "portfolio_history": 1578.9002069999997,
          "portfolio_history_bh": 1592,
          "portfolio_history_rand": 1359.4500100000014,
          "position": 936
         },
         {
          "action": "HOLD",
          "actual": 1310,
          "date": "2015-05-27T00:00:00",
          "portfolio_history": 1578.9002069999997,
          "portfolio_history_bh": 1578,
          "portfolio_history_rand": 1359.4500100000014,
          "position": 940
         },
         {
          "action": "HOLD",
          "actual": 1347.900024,
          "date": "2015-05-28T00:00:00",
          "portfolio_history": 1578.9002069999997,
          "portfolio_history_bh": 1539,
          "portfolio_history_rand": 1359.4500100000014,
          "position": 938
         },
         {
          "action": "BUY",
          "actual": 1350.5,
          "date": "2015-05-29T00:00:00",
          "portfolio_history": 1578.9002069999997,
          "portfolio_history_bh": 1574,
          "portfolio_history_rand": 1394.4500100000014,
          "position": 966
         },
         {
          "action": "HOLD",
          "actual": 1382.949951,
          "date": "2015-06-01T00:00:00",
          "portfolio_history": 1578.9002069999997,
          "portfolio_history_bh": 1611.900024,
          "portfolio_history_rand": 1432.3500340000014,
          "position": 965.75
         },
         {
          "action": "SELL",
          "actual": 1380,
          "date": "2015-06-02T00:00:00",
          "portfolio_history": 1581.5001829999997,
          "portfolio_history_bh": 1614.5,
          "portfolio_history_rand": 1432.3500340000014,
          "position": 957
         },
         {
          "action": "HOLD",
          "actual": 1380,
          "date": "2015-06-03T00:00:00",
          "portfolio_history": 1613.9501339999997,
          "portfolio_history_bh": 1646.949951,
          "portfolio_history_rand": 1432.3500340000014,
          "position": 956.9500119999999
         },
         {
          "action": "HOLD",
          "actual": 1380,
          "date": "2015-06-04T00:00:00",
          "portfolio_history": 1613.9501339999997,
          "portfolio_history_bh": 1644,
          "portfolio_history_rand": 1432.3500340000014,
          "position": 956.9500119999999
         },
         {
          "action": "BUY",
          "actual": 1374,
          "date": "2015-06-05T00:00:00",
          "portfolio_history": 1613.9501339999997,
          "portfolio_history_bh": 1644,
          "portfolio_history_rand": 1432.3500340000014,
          "position": 932
         },
         {
          "action": "HOLD",
          "actual": 1370,
          "date": "2015-06-08T00:00:00",
          "portfolio_history": 1613.9501339999997,
          "portfolio_history_bh": 1644,
          "portfolio_history_rand": 1432.3500340000014,
          "position": 927
         },
         {
          "action": "HOLD",
          "actual": 1360,
          "date": "2015-06-09T00:00:00",
          "portfolio_history": 1607.9501339999997,
          "portfolio_history_bh": 1638,
          "portfolio_history_rand": 1426.3500340000014,
          "position": 930
         },
         {
          "action": "HOLD",
          "actual": 1345,
          "date": "2015-06-10T00:00:00",
          "portfolio_history": 1603.9501339999997,
          "portfolio_history_bh": 1634,
          "portfolio_history_rand": 1422.3500340000014,
          "position": 933.0499880000001
         },
         {
          "action": "HOLD",
          "actual": 1321,
          "date": "2015-06-11T00:00:00",
          "portfolio_history": 1593.9501339999997,
          "portfolio_history_bh": 1624,
          "portfolio_history_rand": 1412.3500340000014,
          "position": 925
         },
         {
          "action": "HOLD",
          "actual": 1322,
          "date": "2015-06-12T00:00:00",
          "portfolio_history": 1578.9501339999997,
          "portfolio_history_bh": 1609,
          "portfolio_history_rand": 1412.3500340000014,
          "position": 945
         },
         {
          "action": "HOLD",
          "actual": 1318,
          "date": "2015-06-15T00:00:00",
          "portfolio_history": 1554.9501339999997,
          "portfolio_history_bh": 1585,
          "portfolio_history_rand": 1412.3500340000014,
          "position": 955.5
         },
         {
          "action": "SELL",
          "actual": 1305,
          "date": "2015-06-16T00:00:00",
          "portfolio_history": 1555.9501339999997,
          "portfolio_history_bh": 1586,
          "portfolio_history_rand": 1412.3500340000014,
          "position": 954
         },
         {
          "action": "HOLD",
          "actual": 1315,
          "date": "2015-06-17T00:00:00",
          "portfolio_history": 1551.9501339999997,
          "portfolio_history_bh": 1582,
          "portfolio_history_rand": 1408.3500340000014,
          "position": 944
         },
         {
          "action": "HOLD",
          "actual": 1326.800049,
          "date": "2015-06-18T00:00:00",
          "portfolio_history": 1551.9501339999997,
          "portfolio_history_bh": 1569,
          "portfolio_history_rand": 1408.3500340000014,
          "position": 989.9500119999999
         },
         {
          "action": "HOLD",
          "actual": 1300.300049,
          "date": "2015-06-19T00:00:00",
          "portfolio_history": 1551.9501339999997,
          "portfolio_history_bh": 1579,
          "portfolio_history_rand": 1408.3500340000014,
          "position": 971
         },
         {
          "action": "HOLD",
          "actual": 1319.900024,
          "date": "2015-06-22T00:00:00",
          "portfolio_history": 1551.9501339999997,
          "portfolio_history_bh": 1590.800049,
          "portfolio_history_rand": 1408.3500340000014,
          "position": 960
         },
         {
          "action": "HOLD",
          "actual": 1326.800049,
          "date": "2015-06-23T00:00:00",
          "portfolio_history": 1551.9501339999997,
          "portfolio_history_bh": 1564.300049,
          "portfolio_history_rand": 1408.3500340000014,
          "position": 998.400024
         },
         {
          "action": "HOLD",
          "actual": 1329,
          "date": "2015-06-24T00:00:00",
          "portfolio_history": 1551.9501339999997,
          "portfolio_history_bh": 1583.900024,
          "portfolio_history_rand": 1427.9500090000015,
          "position": 1015
         },
         {
          "action": "HOLD",
          "actual": 1329,
          "date": "2015-06-25T00:00:00",
          "portfolio_history": 1551.9501339999997,
          "portfolio_history_bh": 1590.800049,
          "portfolio_history_rand": 1427.9500090000015,
          "position": 1011
         },
         {
          "action": "HOLD",
          "actual": 1326,
          "date": "2015-06-26T00:00:00",
          "portfolio_history": 1551.9501339999997,
          "portfolio_history_bh": 1593,
          "portfolio_history_rand": 1427.9500090000015,
          "position": 1006.099976
         },
         {
          "action": "HOLD",
          "actual": 1296,
          "date": "2015-06-29T00:00:00",
          "portfolio_history": 1551.9501339999997,
          "portfolio_history_bh": 1593,
          "portfolio_history_rand": 1427.9500090000015,
          "position": 1000
         },
         {
          "action": "HOLD",
          "actual": 1250,
          "date": "2015-06-30T00:00:00",
          "portfolio_history": 1551.9501339999997,
          "portfolio_history_bh": 1590,
          "portfolio_history_rand": 1424.9500090000015,
          "position": 1001.2000119999999
         },
         {
          "action": "HOLD",
          "actual": 1237,
          "date": "2015-07-01T00:00:00",
          "portfolio_history": 1551.9501339999997,
          "portfolio_history_bh": 1560,
          "portfolio_history_rand": 1424.9500090000015,
          "position": 1010.0499880000001
         },
         {
          "action": "HOLD",
          "actual": 1252,
          "date": "2015-07-02T00:00:00",
          "portfolio_history": 1551.9501339999997,
          "portfolio_history_bh": 1514,
          "portfolio_history_rand": 1424.9500090000015,
          "position": 1014
         },
         {
          "action": "HOLD",
          "actual": 1280,
          "date": "2015-07-06T00:00:00",
          "portfolio_history": 1551.9501339999997,
          "portfolio_history_bh": 1501,
          "portfolio_history_rand": 1411.9500090000015,
          "position": 1008
         },
         {
          "action": "HOLD",
          "actual": 1285.5,
          "date": "2015-07-07T00:00:00",
          "portfolio_history": 1551.9501339999997,
          "portfolio_history_bh": 1516,
          "portfolio_history_rand": 1426.9500090000015,
          "position": 1016.7999880000001
         },
         {
          "action": "HOLD",
          "actual": 1241.349976,
          "date": "2015-07-08T00:00:00",
          "portfolio_history": 1551.9501339999997,
          "portfolio_history_bh": 1544,
          "portfolio_history_rand": 1454.9500090000015,
          "position": 1015.900024
         },
         {
          "action": "HOLD",
          "actual": 1212,
          "date": "2015-07-09T00:00:00",
          "portfolio_history": 1551.9501339999997,
          "portfolio_history_bh": 1549.5,
          "portfolio_history_rand": 1460.4500090000015,
          "position": 997
         },
         {
          "action": "HOLD",
          "actual": 1235,
          "date": "2015-07-10T00:00:00",
          "portfolio_history": 1551.9501339999997,
          "portfolio_history_bh": 1505.349976,
          "portfolio_history_rand": 1460.4500090000015,
          "position": 1013.9500119999999
         },
         {
          "action": "HOLD",
          "actual": 1260,
          "date": "2015-07-13T00:00:00",
          "portfolio_history": 1551.9501339999997,
          "portfolio_history_bh": 1476,
          "portfolio_history_rand": 1431.1000330000015,
          "position": 1008
         },
         {
          "action": "HOLD",
          "actual": 1259.300049,
          "date": "2015-07-14T00:00:00",
          "portfolio_history": 1551.9501339999997,
          "portfolio_history_bh": 1499,
          "portfolio_history_rand": 1454.1000330000015,
          "position": 952
         },
         {
          "action": "HOLD",
          "actual": 1255,
          "date": "2015-07-15T00:00:00",
          "portfolio_history": 1551.9501339999997,
          "portfolio_history_bh": 1524,
          "portfolio_history_rand": 1454.1000330000015,
          "position": 970
         },
         {
          "action": "HOLD",
          "actual": 1268,
          "date": "2015-07-16T00:00:00",
          "portfolio_history": 1551.9501339999997,
          "portfolio_history_bh": 1523.300049,
          "portfolio_history_rand": 1453.4000820000015,
          "position": 985
         },
         {
          "action": "BUY",
          "actual": 1280,
          "date": "2015-07-17T00:00:00",
          "portfolio_history": 1551.9501339999997,
          "portfolio_history_bh": 1519,
          "portfolio_history_rand": 1449.1000330000015,
          "position": 998.400024
         },
         {
          "action": "HOLD",
          "actual": 1265.949951,
          "date": "2015-07-20T00:00:00",
          "portfolio_history": 1551.9501339999997,
          "portfolio_history_bh": 1532,
          "portfolio_history_rand": 1462.1000330000015,
          "position": 998
         },
         {
          "action": "HOLD",
          "actual": 1230.5,
          "date": "2015-07-21T00:00:00",
          "portfolio_history": 1563.9501339999997,
          "portfolio_history_bh": 1544,
          "portfolio_history_rand": 1474.1000330000015,
          "position": 989.5
         },
         {
          "action": "HOLD",
          "actual": 1157,
          "date": "2015-07-22T00:00:00",
          "portfolio_history": 1549.9000849999998,
          "portfolio_history_bh": 1529.949951,
          "portfolio_history_rand": 1460.0499840000016,
          "position": 979.400024
         },
         {
          "action": "HOLD",
          "actual": 1220,
          "date": "2015-07-23T00:00:00",
          "portfolio_history": 1514.4501339999997,
          "portfolio_history_bh": 1494.5,
          "portfolio_history_rand": 1424.6000330000015,
          "position": 970
         },
         {
          "action": "HOLD",
          "actual": 1230,
          "date": "2015-07-24T00:00:00",
          "portfolio_history": 1440.9501339999997,
          "portfolio_history_bh": 1421,
          "portfolio_history_rand": 1351.1000330000015,
          "position": 978.9500119999999
         },
         {
          "action": "HOLD",
          "actual": 1240,
          "date": "2015-07-27T00:00:00",
          "portfolio_history": 1503.9501339999997,
          "portfolio_history_bh": 1484,
          "portfolio_history_rand": 1414.1000330000015,
          "position": 970
         },
         {
          "action": "HOLD",
          "actual": 1249.900024,
          "date": "2015-07-28T00:00:00",
          "portfolio_history": 1513.9501339999997,
          "portfolio_history_bh": 1494,
          "portfolio_history_rand": 1414.1000330000015,
          "position": 965
         },
         {
          "action": "SELL",
          "actual": 1250.949951,
          "date": "2015-07-29T00:00:00",
          "portfolio_history": 1523.9501339999997,
          "portfolio_history_bh": 1504,
          "portfolio_history_rand": 1414.1000330000015,
          "position": 966
         },
         {
          "action": "HOLD",
          "actual": 1235,
          "date": "2015-07-30T00:00:00",
          "portfolio_history": 1533.8501579999997,
          "portfolio_history_bh": 1513.900024,
          "portfolio_history_rand": 1414.1000330000015,
          "position": 950
         },
         {
          "action": "HOLD",
          "actual": 1255,
          "date": "2015-07-31T00:00:00",
          "portfolio_history": 1533.8501579999997,
          "portfolio_history_bh": 1514.949951,
          "portfolio_history_rand": 1414.1000330000015,
          "position": 940
         },
         {
          "action": "HOLD",
          "actual": 1319,
          "date": "2015-08-12T00:00:00",
          "portfolio_history": 1533.8501579999997,
          "portfolio_history_bh": 1499,
          "portfolio_history_rand": 1414.1000330000015,
          "position": 940
         },
         {
          "action": "HOLD",
          "actual": 1354.800049,
          "date": "2015-08-13T00:00:00",
          "portfolio_history": 1533.8501579999997,
          "portfolio_history_bh": 1519,
          "portfolio_history_rand": 1414.1000330000015,
          "position": 930
         },
         {
          "action": "BUY",
          "actual": 1370,
          "date": "2015-08-14T00:00:00",
          "portfolio_history": 1533.8501579999997,
          "portfolio_history_bh": 1583,
          "portfolio_history_rand": 1414.1000330000015,
          "position": 914.599976
         },
         {
          "action": "HOLD",
          "actual": 1395,
          "date": "2015-08-17T00:00:00",
          "portfolio_history": 1533.8501579999997,
          "portfolio_history_bh": 1618.800049,
          "portfolio_history_rand": 1414.1000330000015,
          "position": 919.9500119999999
         },
         {
          "action": "HOLD",
          "actual": 1404.949951,
          "date": "2015-08-18T00:00:00",
          "portfolio_history": 1549.0501089999998,
          "portfolio_history_bh": 1634,
          "portfolio_history_rand": 1414.1000330000015,
          "position": 920
         },
         {
          "action": "HOLD",
          "actual": 1421.349976,
          "date": "2015-08-19T00:00:00",
          "portfolio_history": 1574.0501089999998,
          "portfolio_history_bh": 1659,
          "portfolio_history_rand": 1439.1000330000015,
          "position": 930
         },
         {
          "action": "HOLD",
          "actual": 1419.800049,
          "date": "2015-08-20T00:00:00",
          "portfolio_history": 1584.0000599999998,
          "portfolio_history_bh": 1668.949951,
          "portfolio_history_rand": 1449.0499840000016,
          "position": 929.900024
         },
         {
          "action": "SELL",
          "actual": 1395,
          "date": "2015-08-21T00:00:00",
          "portfolio_history": 1600.4000849999998,
          "portfolio_history_bh": 1685.349976,
          "portfolio_history_rand": 1465.4500090000015,
          "position": 919.0499880000001
         },
         {
          "action": "HOLD",
          "actual": 1300.550049,
          "date": "2015-08-24T00:00:00",
          "portfolio_history": 1598.8501579999997,
          "portfolio_history_bh": 1683.800049,
          "portfolio_history_rand": 1463.9000820000015,
          "position": 920.599976
         },
         {
          "action": "HOLD",
          "actual": 1327.25,
          "date": "2015-08-25T00:00:00",
          "portfolio_history": 1598.8501579999997,
          "portfolio_history_bh": 1659,
          "portfolio_history_rand": 1439.1000330000015,
          "position": 920
         },
         {
          "action": "HOLD",
          "actual": 1315,
          "date": "2015-08-26T00:00:00",
          "portfolio_history": 1598.8501579999997,
          "portfolio_history_bh": 1564.550049,
          "portfolio_history_rand": 1344.6500820000015,
          "position": 920
         },
         {
          "action": "BUY",
          "actual": 1331,
          "date": "2015-08-27T00:00:00",
          "portfolio_history": 1598.8501579999997,
          "portfolio_history_bh": 1591.25,
          "portfolio_history_rand": 1371.3500330000015,
          "position": 930
         },
         {
          "action": "HOLD",
          "actual": 1300.099976,
          "date": "2015-08-28T00:00:00",
          "portfolio_history": 1598.8501579999997,
          "portfolio_history_bh": 1579,
          "portfolio_history_rand": 1359.1000330000015,
          "position": 923
         },
         {
          "action": "HOLD",
          "actual": 1322,
          "date": "2015-08-31T00:00:00",
          "portfolio_history": 1614.8501579999997,
          "portfolio_history_bh": 1595,
          "portfolio_history_rand": 1375.1000330000015,
          "position": 921
         },
         {
          "action": "HOLD",
          "actual": 1322,
          "date": "2015-09-01T00:00:00",
          "portfolio_history": 1583.9501339999997,
          "portfolio_history_bh": 1564.099976,
          "portfolio_history_rand": 1375.1000330000015,
          "position": 934
         },
         {
          "action": "SELL",
          "actual": 1305.050049,
          "date": "2015-09-02T00:00:00",
          "portfolio_history": 1605.8501579999997,
          "portfolio_history_bh": 1586,
          "portfolio_history_rand": 1375.1000330000015,
          "position": 940
         },
         {
          "action": "HOLD",
          "actual": 1330,
          "date": "2015-09-03T00:00:00",
          "portfolio_history": 1605.8501579999997,
          "portfolio_history_bh": 1586,
          "portfolio_history_rand": 1375.1000330000015,
          "position": 941
         },
         {
          "action": "HOLD",
          "actual": 1310,
          "date": "2015-09-04T00:00:00",
          "portfolio_history": 1605.8501579999997,
          "portfolio_history_bh": 1569.050049,
          "portfolio_history_rand": 1358.1500820000015,
          "position": 955.7999880000001
         },
         {
          "action": "HOLD",
          "actual": 1315,
          "date": "2015-09-08T00:00:00",
          "portfolio_history": 1605.8501579999997,
          "portfolio_history_bh": 1594,
          "portfolio_history_rand": 1383.1000330000015,
          "position": 975.5499880000001
         },
         {
          "action": "HOLD",
          "actual": 1315,
          "date": "2015-09-09T00:00:00",
          "portfolio_history": 1605.8501579999997,
          "portfolio_history_bh": 1574,
          "portfolio_history_rand": 1363.1000330000015,
          "position": 950
         },
         {
          "action": "BUY",
          "actual": 1315,
          "date": "2015-09-10T00:00:00",
          "portfolio_history": 1605.8501579999997,
          "portfolio_history_bh": 1579,
          "portfolio_history_rand": 1363.1000330000015,
          "position": 950
         },
         {
          "action": "HOLD",
          "actual": 1299.949951,
          "date": "2015-09-11T00:00:00",
          "portfolio_history": 1605.8501579999997,
          "portfolio_history_bh": 1579,
          "portfolio_history_rand": 1363.1000330000015,
          "position": 950
         },
         {
          "action": "HOLD",
          "actual": 1285.199951,
          "date": "2015-09-14T00:00:00",
          "portfolio_history": 1605.8501579999997,
          "portfolio_history_bh": 1579,
          "portfolio_history_rand": 1363.1000330000015,
          "position": 941.2999880000001
         },
         {
          "action": "HOLD",
          "actual": 1255.050049,
          "date": "2015-09-15T00:00:00",
          "portfolio_history": 1590.8001089999998,
          "portfolio_history_bh": 1563.949951,
          "portfolio_history_rand": 1363.1000330000015,
          "position": 942.849976
         },
         {
          "action": "HOLD",
          "actual": 1228,
          "date": "2015-09-16T00:00:00",
          "portfolio_history": 1576.0501089999998,
          "portfolio_history_bh": 1549.199951,
          "portfolio_history_rand": 1363.1000330000015,
          "position": 942.4500119999999
         },
         {
          "action": "HOLD",
          "actual": 1221,
          "date": "2015-09-17T00:00:00",
          "portfolio_history": 1545.9002069999997,
          "portfolio_history_bh": 1519.050049,
          "portfolio_history_rand": 1332.9501310000014,
          "position": 950
         },
         {
          "action": "HOLD",
          "actual": 1217,
          "date": "2015-09-18T00:00:00",
          "portfolio_history": 1518.8501579999997,
          "portfolio_history_bh": 1492,
          "portfolio_history_rand": 1332.9501310000014,
          "position": 944.099976
         },
         {
          "action": "HOLD",
          "actual": 1238,
          "date": "2015-09-21T00:00:00",
          "portfolio_history": 1511.8501579999997,
          "portfolio_history_bh": 1485,
          "portfolio_history_rand": 1332.9501310000014,
          "position": 969
         },
         {
          "action": "HOLD",
          "actual": 1238,
          "date": "2015-09-22T00:00:00",
          "portfolio_history": 1507.8501579999997,
          "portfolio_history_bh": 1481,
          "portfolio_history_rand": 1328.9501310000014,
          "position": 986
         },
         {
          "action": "HOLD",
          "actual": 1239,
          "date": "2015-09-23T00:00:00",
          "portfolio_history": 1528.8501579999997,
          "portfolio_history_bh": 1502,
          "portfolio_history_rand": 1349.9501310000014,
          "position": 1000
         },
         {
          "action": "HOLD",
          "actual": 1240,
          "date": "2015-09-24T00:00:00",
          "portfolio_history": 1528.8501579999997,
          "portfolio_history_bh": 1502,
          "portfolio_history_rand": 1349.9501310000014,
          "position": 986.25
         },
         {
          "action": "HOLD",
          "actual": 1250,
          "date": "2015-09-25T00:00:00",
          "portfolio_history": 1529.8501579999997,
          "portfolio_history_bh": 1503,
          "portfolio_history_rand": 1349.9501310000014,
          "position": 1004
         },
         {
          "action": "HOLD",
          "actual": 1250,
          "date": "2015-09-28T00:00:00",
          "portfolio_history": 1530.8501579999997,
          "portfolio_history_bh": 1504,
          "portfolio_history_rand": 1349.9501310000014,
          "position": 998.5
         },
         {
          "action": "HOLD",
          "actual": 1273.5,
          "date": "2015-09-29T00:00:00",
          "portfolio_history": 1540.8501579999997,
          "portfolio_history_bh": 1514,
          "portfolio_history_rand": 1349.9501310000014,
          "position": 996
         },
         {
          "action": "HOLD",
          "actual": 1273.900024,
          "date": "2015-09-30T00:00:00",
          "portfolio_history": 1540.8501579999997,
          "portfolio_history_bh": 1514,
          "portfolio_history_rand": 1349.9501310000014,
          "position": 990
         },
         {
          "action": "HOLD",
          "actual": 1269.900024,
          "date": "2015-10-01T00:00:00",
          "portfolio_history": 1564.3501579999997,
          "portfolio_history_bh": 1537.5,
          "portfolio_history_rand": 1349.9501310000014,
          "position": 986
         },
         {
          "action": "HOLD",
          "actual": 1260,
          "date": "2015-10-02T00:00:00",
          "portfolio_history": 1564.7501819999998,
          "portfolio_history_bh": 1537.900024,
          "portfolio_history_rand": 1349.9501310000014,
          "position": 986
         },
         {
          "action": "HOLD",
          "actual": 1260,
          "date": "2015-10-05T00:00:00",
          "portfolio_history": 1560.7501819999998,
          "portfolio_history_bh": 1533.900024,
          "portfolio_history_rand": 1345.9501310000014,
          "position": 1000
         },
         {
          "action": "HOLD",
          "actual": 1289.5,
          "date": "2015-10-06T00:00:00",
          "portfolio_history": 1550.8501579999997,
          "portfolio_history_bh": 1524,
          "portfolio_history_rand": 1345.9501310000014,
          "position": 985
         },
         {
          "action": "HOLD",
          "actual": 1313,
          "date": "2015-10-07T00:00:00",
          "portfolio_history": 1550.8501579999997,
          "portfolio_history_bh": 1524,
          "portfolio_history_rand": 1345.9501310000014,
          "position": 966
         },
         {
          "action": "HOLD",
          "actual": 1316,
          "date": "2015-10-08T00:00:00",
          "portfolio_history": 1580.3501579999997,
          "portfolio_history_bh": 1553.5,
          "portfolio_history_rand": 1375.4501310000014,
          "position": 957
         },
         {
          "action": "SELL",
          "actual": 1300,
          "date": "2015-10-09T00:00:00",
          "portfolio_history": 1603.8501579999997,
          "portfolio_history_bh": 1577,
          "portfolio_history_rand": 1398.9501310000014,
          "position": 957
         },
         {
          "action": "HOLD",
          "actual": 1320,
          "date": "2015-10-12T00:00:00",
          "portfolio_history": 1606.8501579999997,
          "portfolio_history_bh": 1580,
          "portfolio_history_rand": 1398.9501310000014,
          "position": 960
         },
         {
          "action": "HOLD",
          "actual": 1300,
          "date": "2015-10-13T00:00:00",
          "portfolio_history": 1606.8501579999997,
          "portfolio_history_bh": 1564,
          "portfolio_history_rand": 1398.9501310000014,
          "position": 979.5
         },
         {
          "action": "HOLD",
          "actual": 1306.150024,
          "date": "2015-10-14T00:00:00",
          "portfolio_history": 1606.8501579999997,
          "portfolio_history_bh": 1584,
          "portfolio_history_rand": 1418.9501310000014,
          "position": 945
         },
         {
          "action": "HOLD",
          "actual": 1306.150024,
          "date": "2015-10-15T00:00:00",
          "portfolio_history": 1606.8501579999997,
          "portfolio_history_bh": 1564,
          "portfolio_history_rand": 1418.9501310000014,
          "position": 975
         },
         {
          "action": "HOLD",
          "actual": 1297.900024,
          "date": "2015-10-16T00:00:00",
          "portfolio_history": 1606.8501579999997,
          "portfolio_history_bh": 1570.150024,
          "portfolio_history_rand": 1418.9501310000014,
          "position": 979
         },
         {
          "action": "HOLD",
          "actual": 1260.050049,
          "date": "2015-10-19T00:00:00",
          "portfolio_history": 1606.8501579999997,
          "portfolio_history_bh": 1570.150024,
          "portfolio_history_rand": 1418.9501310000014,
          "position": 970
         },
         {
          "action": "HOLD",
          "actual": 1260,
          "date": "2015-10-20T00:00:00",
          "portfolio_history": 1606.8501579999997,
          "portfolio_history_bh": 1561.900024,
          "portfolio_history_rand": 1410.7001310000014,
          "position": 957.9500119999999
         },
         {
          "action": "HOLD",
          "actual": 1269,
          "date": "2015-10-21T00:00:00",
          "portfolio_history": 1606.8501579999997,
          "portfolio_history_bh": 1524.050049,
          "portfolio_history_rand": 1410.7001310000014,
          "position": 980
         },
         {
          "action": "HOLD",
          "actual": 1256,
          "date": "2015-10-22T00:00:00",
          "portfolio_history": 1606.8501579999997,
          "portfolio_history_bh": 1524,
          "portfolio_history_rand": 1410.7001310000014,
          "position": 980
         },
         {
          "action": "HOLD",
          "actual": 1265.050049,
          "date": "2015-10-23T00:00:00",
          "portfolio_history": 1606.8501579999997,
          "portfolio_history_bh": 1533,
          "portfolio_history_rand": 1410.7001310000014,
          "position": 980
         },
         {
          "action": "HOLD",
          "actual": 1270,
          "date": "2015-10-26T00:00:00",
          "portfolio_history": 1606.8501579999997,
          "portfolio_history_bh": 1520,
          "portfolio_history_rand": 1397.7001310000014,
          "position": 1004.5
         },
         {
          "action": "HOLD",
          "actual": 1263,
          "date": "2015-10-27T00:00:00",
          "portfolio_history": 1606.8501579999997,
          "portfolio_history_bh": 1529.050049,
          "portfolio_history_rand": 1406.7501800000014,
          "position": 1029.599976
         },
         {
          "action": "HOLD",
          "actual": 1240,
          "date": "2015-10-28T00:00:00",
          "portfolio_history": 1606.8501579999997,
          "portfolio_history_bh": 1534,
          "portfolio_history_rand": 1411.7001310000014,
          "position": 1029.599976
         },
         {
          "action": "HOLD",
          "actual": 1126,
          "date": "2015-10-29T00:00:00",
          "portfolio_history": 1606.8501579999997,
          "portfolio_history_bh": 1527,
          "portfolio_history_rand": 1411.7001310000014,
          "position": 1023
         },
         {
          "action": "HOLD",
          "actual": 1086,
          "date": "2015-10-30T00:00:00",
          "portfolio_history": 1606.8501579999997,
          "portfolio_history_bh": 1504,
          "portfolio_history_rand": 1411.7001310000014,
          "position": 1006.0499880000001
         },
         {
          "action": "HOLD",
          "actual": 1057,
          "date": "2015-11-02T00:00:00",
          "portfolio_history": 1606.8501579999997,
          "portfolio_history_bh": 1390,
          "portfolio_history_rand": 1411.7001310000014,
          "position": 1006.0499880000001
         },
         {
          "action": "HOLD",
          "actual": 1095,
          "date": "2015-11-03T00:00:00",
          "portfolio_history": 1606.8501579999997,
          "portfolio_history_bh": 1350,
          "portfolio_history_rand": 1411.7001310000014,
          "position": 1000
         },
         {
          "action": "HOLD",
          "actual": 1110,
          "date": "2015-11-04T00:00:00",
          "portfolio_history": 1606.8501579999997,
          "portfolio_history_bh": 1321,
          "portfolio_history_rand": 1411.7001310000014,
          "position": 996.5499880000001
         },
         {
          "action": "HOLD",
          "actual": 1117,
          "date": "2015-11-05T00:00:00",
          "portfolio_history": 1606.8501579999997,
          "portfolio_history_bh": 1359,
          "portfolio_history_rand": 1449.7001310000014,
          "position": 1009.900024
         },
         {
          "action": "HOLD",
          "actual": 1060,
          "date": "2015-11-06T00:00:00",
          "portfolio_history": 1606.8501579999997,
          "portfolio_history_bh": 1374,
          "portfolio_history_rand": 1464.7001310000014,
          "position": 1006.9500119999999
         },
         {
          "action": "HOLD",
          "actual": 1110,
          "date": "2015-11-09T00:00:00",
          "portfolio_history": 1606.8501579999997,
          "portfolio_history_bh": 1381,
          "portfolio_history_rand": 1464.7001310000014,
          "position": 1006.0499880000001
         },
         {
          "action": "HOLD",
          "actual": 1081,
          "date": "2015-11-10T00:00:00",
          "portfolio_history": 1606.8501579999997,
          "portfolio_history_bh": 1324,
          "portfolio_history_rand": 1464.7001310000014,
          "position": 984.0499880000001
         },
         {
          "action": "BUY",
          "actual": 1081,
          "date": "2015-11-11T00:00:00",
          "portfolio_history": 1606.8501579999997,
          "portfolio_history_bh": 1374,
          "portfolio_history_rand": 1514.7001310000014,
          "position": 977
         },
         {
          "action": "SELL",
          "actual": 1082.5,
          "date": "2015-11-12T00:00:00",
          "portfolio_history": 1606.8501579999997,
          "portfolio_history_bh": 1345,
          "portfolio_history_rand": 1514.7001310000014,
          "position": 960
         },
         {
          "action": "HOLD",
          "actual": 1068,
          "date": "2015-11-13T00:00:00",
          "portfolio_history": 1606.8501579999997,
          "portfolio_history_bh": 1345,
          "portfolio_history_rand": 1514.7001310000014,
          "position": 952.349976
         },
         {
          "action": "HOLD",
          "actual": 1046,
          "date": "2015-11-16T00:00:00",
          "portfolio_history": 1606.8501579999997,
          "portfolio_history_bh": 1346.5,
          "portfolio_history_rand": 1514.7001310000014,
          "position": 955
         },
         {
          "action": "HOLD",
          "actual": 1050,
          "date": "2015-11-17T00:00:00",
          "portfolio_history": 1606.8501579999997,
          "portfolio_history_bh": 1332,
          "portfolio_history_rand": 1514.7001310000014,
          "position": 965
         },
         {
          "action": "BUY",
          "actual": 1050,
          "date": "2015-11-18T00:00:00",
          "portfolio_history": 1606.8501579999997,
          "portfolio_history_bh": 1310,
          "portfolio_history_rand": 1492.7001310000014,
          "position": 982.0499880000001
         },
         {
          "action": "HOLD",
          "actual": 1071,
          "date": "2015-11-19T00:00:00",
          "portfolio_history": 1606.8501579999997,
          "portfolio_history_bh": 1314,
          "portfolio_history_rand": 1496.7001310000014,
          "position": 979.9500119999999
         },
         {
          "action": "HOLD",
          "actual": 1078.949951,
          "date": "2015-11-20T00:00:00",
          "portfolio_history": 1606.8501579999997,
          "portfolio_history_bh": 1314,
          "portfolio_history_rand": 1496.7001310000014,
          "position": 985
         },
         {
          "action": "SELL",
          "actual": 1079.949951,
          "date": "2015-11-23T00:00:00",
          "portfolio_history": 1627.8501579999997,
          "portfolio_history_bh": 1335,
          "portfolio_history_rand": 1517.7001310000014,
          "position": 990
         },
         {
          "action": "HOLD",
          "actual": 1055.099976,
          "date": "2015-11-24T00:00:00",
          "portfolio_history": 1635.8001089999998,
          "portfolio_history_bh": 1342.949951,
          "portfolio_history_rand": 1525.6500820000015,
          "position": 990
         },
         {
          "action": "HOLD",
          "actual": 1051.050049,
          "date": "2015-11-25T00:00:00",
          "portfolio_history": 1635.8001089999998,
          "portfolio_history_bh": 1343.949951,
          "portfolio_history_rand": 1526.6500820000015,
          "position": 981
         },
         {
          "action": "HOLD",
          "actual": 1060,
          "date": "2015-11-27T00:00:00",
          "portfolio_history": 1635.8001089999998,
          "portfolio_history_bh": 1319.099976,
          "portfolio_history_rand": 1501.8001070000014,
          "position": 995
         },
         {
          "action": "HOLD",
          "actual": 1051,
          "date": "2015-11-30T00:00:00",
          "portfolio_history": 1635.8001089999998,
          "portfolio_history_bh": 1315.050049,
          "portfolio_history_rand": 1501.8001070000014,
          "position": 990
         },
         {
          "action": "HOLD",
          "actual": 1041,
          "date": "2015-12-01T00:00:00",
          "portfolio_history": 1635.8001089999998,
          "portfolio_history_bh": 1324,
          "portfolio_history_rand": 1501.8001070000014,
          "position": 993
         },
         {
          "action": "HOLD",
          "actual": 1040,
          "date": "2015-12-02T00:00:00",
          "portfolio_history": 1635.8001089999998,
          "portfolio_history_bh": 1315,
          "portfolio_history_rand": 1492.8001070000014,
          "position": 978.5
         },
         {
          "action": "HOLD",
          "actual": 1030,
          "date": "2015-12-03T00:00:00",
          "portfolio_history": 1635.8001089999998,
          "portfolio_history_bh": 1305,
          "portfolio_history_rand": 1492.8001070000014,
          "position": 971.2999880000001
         },
         {
          "action": "HOLD",
          "actual": 1017,
          "date": "2015-12-04T00:00:00",
          "portfolio_history": 1635.8001089999998,
          "portfolio_history_bh": 1304,
          "portfolio_history_rand": 1491.8001070000014,
          "position": 997
         },
         {
          "action": "HOLD",
          "actual": 1012,
          "date": "2015-12-07T00:00:00",
          "portfolio_history": 1635.8001089999998,
          "portfolio_history_bh": 1294,
          "portfolio_history_rand": 1481.8001070000014,
          "position": 995
         },
         {
          "action": "HOLD",
          "actual": 1025,
          "date": "2015-12-08T00:00:00",
          "portfolio_history": 1635.8001089999998,
          "portfolio_history_bh": 1281,
          "portfolio_history_rand": 1468.8001070000014,
          "position": 985.5
         },
         {
          "action": "HOLD",
          "actual": 1034.400024,
          "date": "2015-12-09T00:00:00",
          "portfolio_history": 1635.8001089999998,
          "portfolio_history_bh": 1276,
          "portfolio_history_rand": 1463.8001070000014,
          "position": 980.0499880000001
         },
         {
          "action": "HOLD",
          "actual": 981.0499880000001,
          "date": "2015-12-10T00:00:00",
          "portfolio_history": 1635.8001089999998,
          "portfolio_history_bh": 1289,
          "portfolio_history_rand": 1463.8001070000014,
          "position": 989.9500119999999
         },
         {
          "action": "HOLD",
          "actual": 942,
          "date": "2015-12-11T00:00:00",
          "portfolio_history": 1635.8001089999998,
          "portfolio_history_bh": 1298.400024,
          "portfolio_history_rand": 1473.2001310000014,
          "position": 994
         },
         {
          "action": "HOLD",
          "actual": 944,
          "date": "2015-12-14T00:00:00",
          "portfolio_history": 1635.8001089999998,
          "portfolio_history_bh": 1245.0499880000002,
          "portfolio_history_rand": 1473.2001310000014,
          "position": 988.0499880000001
         },
         {
          "action": "HOLD",
          "actual": 1013,
          "date": "2015-12-15T00:00:00",
          "portfolio_history": 1635.8001089999998,
          "portfolio_history_bh": 1206,
          "portfolio_history_rand": 1473.2001310000014,
          "position": 1000
         },
         {
          "action": "HOLD",
          "actual": 1040,
          "date": "2015-12-16T00:00:00",
          "portfolio_history": 1635.8001089999998,
          "portfolio_history_bh": 1208,
          "portfolio_history_rand": 1475.2001310000014,
          "position": 1006
         },
         {
          "action": "HOLD",
          "actual": 1020,
          "date": "2015-12-17T00:00:00",
          "portfolio_history": 1635.8001089999998,
          "portfolio_history_bh": 1277,
          "portfolio_history_rand": 1475.2001310000014,
          "position": 1020
         },
         {
          "action": "HOLD",
          "actual": 1030,
          "date": "2015-12-18T00:00:00",
          "portfolio_history": 1635.8001089999998,
          "portfolio_history_bh": 1304,
          "portfolio_history_rand": 1475.2001310000014,
          "position": 1045
         },
         {
          "action": "HOLD",
          "actual": 1010,
          "date": "2015-12-21T00:00:00",
          "portfolio_history": 1635.8001089999998,
          "portfolio_history_bh": 1284,
          "portfolio_history_rand": 1475.2001310000014,
          "position": 1060
         },
         {
          "action": "HOLD",
          "actual": 1040,
          "date": "2015-12-22T00:00:00",
          "portfolio_history": 1635.8001089999998,
          "portfolio_history_bh": 1294,
          "portfolio_history_rand": 1475.2001310000014,
          "position": 1062
         },
         {
          "action": "HOLD",
          "actual": 1075,
          "date": "2015-12-23T00:00:00",
          "portfolio_history": 1635.8001089999998,
          "portfolio_history_bh": 1274,
          "portfolio_history_rand": 1475.2001310000014,
          "position": 1060
         },
         {
          "action": "HOLD",
          "actual": 1075,
          "date": "2015-12-24T00:00:00",
          "portfolio_history": 1635.8001089999998,
          "portfolio_history_bh": 1304,
          "portfolio_history_rand": 1505.2001310000014,
          "position": 1089.900024
         },
         {
          "action": "HOLD",
          "actual": 1075,
          "date": "2015-12-28T00:00:00",
          "portfolio_history": 1635.8001089999998,
          "portfolio_history_bh": 1339,
          "portfolio_history_rand": 1540.2001310000014,
          "position": 1065
         },
         {
          "action": "HOLD",
          "actual": 1100,
          "date": "2015-12-29T00:00:00",
          "portfolio_history": 1635.8001089999998,
          "portfolio_history_bh": 1339,
          "portfolio_history_rand": 1540.2001310000014,
          "position": 1083.900024
         },
         {
          "action": "HOLD",
          "actual": 1189,
          "date": "2015-12-30T00:00:00",
          "portfolio_history": 1635.8001089999998,
          "portfolio_history_bh": 1339,
          "portfolio_history_rand": 1540.2001310000014,
          "position": 1084
         },
         {
          "action": "HOLD",
          "actual": 1189,
          "date": "2015-12-31T00:00:00",
          "portfolio_history": 1635.8001089999998,
          "portfolio_history_bh": 1364,
          "portfolio_history_rand": 1540.2001310000014,
          "position": 1090
         },
         {
          "action": "HOLD",
          "actual": 1157,
          "date": "2016-01-04T00:00:00",
          "portfolio_history": 1635.8001089999998,
          "portfolio_history_bh": 1453,
          "portfolio_history_rand": 1540.2001310000014,
          "position": 1100
         },
         {
          "action": "HOLD",
          "actual": 1136,
          "date": "2016-01-05T00:00:00",
          "portfolio_history": 1635.8001089999998,
          "portfolio_history_bh": 1453,
          "portfolio_history_rand": 1540.2001310000014,
          "position": 1102
         },
         {
          "action": "HOLD",
          "actual": 1136,
          "date": "2016-01-06T00:00:00",
          "portfolio_history": 1635.8001089999998,
          "portfolio_history_bh": 1421,
          "portfolio_history_rand": 1508.2001310000014,
          "position": 1135
         },
         {
          "action": "HOLD",
          "actual": 1117,
          "date": "2016-01-07T00:00:00",
          "portfolio_history": 1635.8001089999998,
          "portfolio_history_bh": 1400,
          "portfolio_history_rand": 1487.2001310000014,
          "position": 1139
         },
         {
          "action": "HOLD",
          "actual": 1130,
          "date": "2016-01-08T00:00:00",
          "portfolio_history": 1635.8001089999998,
          "portfolio_history_bh": 1400,
          "portfolio_history_rand": 1487.2001310000014,
          "position": 1136.900024
         },
         {
          "action": "HOLD",
          "actual": 1113,
          "date": "2016-01-11T00:00:00",
          "portfolio_history": 1635.8001089999998,
          "portfolio_history_bh": 1381,
          "portfolio_history_rand": 1468.2001310000014,
          "position": 1130
         },
         {
          "action": "HOLD",
          "actual": 1099,
          "date": "2016-01-12T00:00:00",
          "portfolio_history": 1635.8001089999998,
          "portfolio_history_bh": 1394,
          "portfolio_history_rand": 1481.2001310000014,
          "position": 1131
         },
         {
          "action": "HOLD",
          "actual": 1070,
          "date": "2016-01-13T00:00:00",
          "portfolio_history": 1635.8001089999998,
          "portfolio_history_bh": 1377,
          "portfolio_history_rand": 1464.2001310000014,
          "position": 1169.949951
         },
         {
          "action": "HOLD",
          "actual": 1049,
          "date": "2016-01-14T00:00:00",
          "portfolio_history": 1635.8001089999998,
          "portfolio_history_bh": 1363,
          "portfolio_history_rand": 1464.2001310000014,
          "position": 1166
         },
         {
          "action": "HOLD",
          "actual": 1033.25,
          "date": "2016-01-15T00:00:00",
          "portfolio_history": 1635.8001089999998,
          "portfolio_history_bh": 1334,
          "portfolio_history_rand": 1435.2001310000014,
          "position": 1199
         },
         {
          "action": "HOLD",
          "actual": 1000,
          "date": "2016-01-19T00:00:00",
          "portfolio_history": 1635.8001089999998,
          "portfolio_history_bh": 1313,
          "portfolio_history_rand": 1414.2001310000014,
          "position": 1245
         },
         {
          "action": "HOLD",
          "actual": 1000,
          "date": "2016-01-20T00:00:00",
          "portfolio_history": 1635.8001089999998,
          "portfolio_history_bh": 1297.25,
          "portfolio_history_rand": 1398.4501310000014,
          "position": 1261
         },
         {
          "action": "HOLD",
          "actual": 990,
          "date": "2016-01-21T00:00:00",
          "portfolio_history": 1635.8001089999998,
          "portfolio_history_bh": 1264,
          "portfolio_history_rand": 1365.2001310000014,
          "position": 1255
         },
         {
          "action": "HOLD",
          "actual": 985,
          "date": "2016-01-22T00:00:00",
          "portfolio_history": 1635.8001089999998,
          "portfolio_history_bh": 1264,
          "portfolio_history_rand": 1365.2001310000014,
          "position": 1207.099976
         },
         {
          "action": "HOLD",
          "actual": 987.099976,
          "date": "2016-01-25T00:00:00",
          "portfolio_history": 1635.8001089999998,
          "portfolio_history_bh": 1254,
          "portfolio_history_rand": 1355.2001310000014,
          "position": 1205.050049
         },
         {
          "action": "HOLD",
          "actual": 985,
          "date": "2016-01-26T00:00:00",
          "portfolio_history": 1635.8001089999998,
          "portfolio_history_bh": 1249,
          "portfolio_history_rand": 1350.2001310000014,
          "position": 1239.900024
         },
         {
          "action": "HOLD",
          "actual": 986.599976,
          "date": "2016-01-27T00:00:00",
          "portfolio_history": 1635.8001089999998,
          "portfolio_history_bh": 1251.099976,
          "portfolio_history_rand": 1352.3001070000014,
          "position": 1235.099976
         },
         {
          "action": "HOLD",
          "actual": 999.9500119999999,
          "date": "2016-01-28T00:00:00",
          "portfolio_history": 1635.8001089999998,
          "portfolio_history_bh": 1249,
          "portfolio_history_rand": 1352.3001070000014,
          "position": 1268
         },
         {
          "action": "HOLD",
          "actual": 1000,
          "date": "2016-01-29T00:00:00",
          "portfolio_history": 1635.8001089999998,
          "portfolio_history_bh": 1250.599976,
          "portfolio_history_rand": 1352.3001070000014,
          "position": 1260
         },
         {
          "action": "HOLD",
          "actual": 1004,
          "date": "2016-02-01T00:00:00",
          "portfolio_history": 1635.8001089999998,
          "portfolio_history_bh": 1263.9500119999998,
          "portfolio_history_rand": 1352.3001070000014,
          "position": 1260
         },
         {
          "action": "HOLD",
          "actual": 1024.949951,
          "date": "2016-02-02T00:00:00",
          "portfolio_history": 1635.8001089999998,
          "portfolio_history_bh": 1264,
          "portfolio_history_rand": 1352.3500950000016,
          "position": 1280.050049
         },
         {
          "action": "HOLD",
          "actual": 1003.0499880000001,
          "date": "2016-02-03T00:00:00",
          "portfolio_history": 1635.8001089999998,
          "portfolio_history_bh": 1268,
          "portfolio_history_rand": 1352.3500950000016,
          "position": 1330
         },
         {
          "action": "HOLD",
          "actual": 1015,
          "date": "2016-02-04T00:00:00",
          "portfolio_history": 1635.8001089999998,
          "portfolio_history_bh": 1288.949951,
          "portfolio_history_rand": 1373.3000460000017,
          "position": 1341
         },
         {
          "action": "HOLD",
          "actual": 1003.099976,
          "date": "2016-02-05T00:00:00",
          "portfolio_history": 1635.8001089999998,
          "portfolio_history_bh": 1267.0499880000002,
          "portfolio_history_rand": 1351.4000830000018,
          "position": 1320
         },
         {
          "action": "HOLD",
          "actual": 1065.650024,
          "date": "2016-02-08T00:00:00",
          "portfolio_history": 1635.8001089999998,
          "portfolio_history_bh": 1279,
          "portfolio_history_rand": 1351.4000830000018,
          "position": 1320
         },
         {
          "action": "HOLD",
          "actual": 1030.099976,
          "date": "2016-02-09T00:00:00",
          "portfolio_history": 1635.8001089999998,
          "portfolio_history_bh": 1267.099976,
          "portfolio_history_rand": 1351.4000830000018,
          "position": 1340
         },
         {
          "action": "HOLD",
          "actual": 1012,
          "date": "2016-02-10T00:00:00",
          "portfolio_history": 1635.8001089999998,
          "portfolio_history_bh": 1329.650024,
          "portfolio_history_rand": 1351.4000830000018,
          "position": 1348.900024
         },
         {
          "action": "BUY",
          "actual": 1014,
          "date": "2016-02-11T00:00:00",
          "portfolio_history": 1635.8001089999998,
          "portfolio_history_bh": 1294.099976,
          "portfolio_history_rand": 1315.8500350000018,
          "position": 1342.199951
         },
         {
          "action": "HOLD",
          "actual": 1006,
          "date": "2016-02-12T00:00:00",
          "portfolio_history": 1635.8001089999998,
          "portfolio_history_bh": 1276,
          "portfolio_history_rand": 1297.7500590000018,
          "position": 1325
         },
         {
          "action": "SELL",
          "actual": 1021.7999880000001,
          "date": "2016-02-16T00:00:00",
          "portfolio_history": 1637.8001089999998,
          "portfolio_history_bh": 1278,
          "portfolio_history_rand": 1297.7500590000018,
          "position": 1353.949951
         },
         {
          "action": "HOLD",
          "actual": 1020,
          "date": "2016-02-17T00:00:00",
          "portfolio_history": 1629.8001089999998,
          "portfolio_history_bh": 1270,
          "portfolio_history_rand": 1297.7500590000018,
          "position": 1380
         },
         {
          "action": "HOLD",
          "actual": 1020,
          "date": "2016-02-18T00:00:00",
          "portfolio_history": 1629.8001089999998,
          "portfolio_history_bh": 1285.7999880000002,
          "portfolio_history_rand": 1297.7500590000018,
          "position": 1354
         },
         {
          "action": "HOLD",
          "actual": 1006.5499880000001,
          "date": "2016-02-19T00:00:00",
          "portfolio_history": 1629.8001089999998,
          "portfolio_history_bh": 1284,
          "portfolio_history_rand": 1297.7500590000018,
          "position": 1332
         },
         {
          "action": "HOLD",
          "actual": 1019,
          "date": "2016-02-22T00:00:00",
          "portfolio_history": 1629.8001089999998,
          "portfolio_history_bh": 1284,
          "portfolio_history_rand": 1297.7500590000018,
          "position": 1300
         },
         {
          "action": "HOLD",
          "actual": 1019,
          "date": "2016-02-23T00:00:00",
          "portfolio_history": 1629.8001089999998,
          "portfolio_history_bh": 1270.5499880000002,
          "portfolio_history_rand": 1284.300047000002,
          "position": 1250
         },
         {
          "action": "HOLD",
          "actual": 1010,
          "date": "2016-02-24T00:00:00",
          "portfolio_history": 1629.8001089999998,
          "portfolio_history_bh": 1283,
          "portfolio_history_rand": 1296.7500590000018,
          "position": 1240
         },
         {
          "action": "HOLD",
          "actual": 1002,
          "date": "2016-02-25T00:00:00",
          "portfolio_history": 1629.8001089999998,
          "portfolio_history_bh": 1283,
          "portfolio_history_rand": 1296.7500590000018,
          "position": 1237.300049
         },
         {
          "action": "HOLD",
          "actual": 1010,
          "date": "2016-02-26T00:00:00",
          "portfolio_history": 1629.8001089999998,
          "portfolio_history_bh": 1274,
          "portfolio_history_rand": 1287.7500590000018,
          "position": 1330
         },
         {
          "action": "BUY",
          "actual": 1001,
          "date": "2016-02-29T00:00:00",
          "portfolio_history": 1629.8001089999998,
          "portfolio_history_bh": 1266,
          "portfolio_history_rand": 1279.7500590000018,
          "position": 1330
         },
         {
          "action": "HOLD",
          "actual": 1001,
          "date": "2016-03-01T00:00:00",
          "portfolio_history": 1629.8001089999998,
          "portfolio_history_bh": 1274,
          "portfolio_history_rand": 1287.7500590000018,
          "position": 1313
         },
         {
          "action": "HOLD",
          "actual": 1065,
          "date": "2016-03-02T00:00:00",
          "portfolio_history": 1620.8001089999998,
          "portfolio_history_bh": 1265,
          "portfolio_history_rand": 1278.7500590000018,
          "position": 1346.699951
         },
         {
          "action": "HOLD",
          "actual": 1060.900024,
          "date": "2016-03-03T00:00:00",
          "portfolio_history": 1620.8001089999998,
          "portfolio_history_bh": 1265,
          "portfolio_history_rand": 1278.7500590000018,
          "position": 1377
         },
         {
          "action": "HOLD",
          "actual": 1057.949951,
          "date": "2016-03-04T00:00:00",
          "portfolio_history": 1684.8001089999998,
          "portfolio_history_bh": 1329,
          "portfolio_history_rand": 1342.7500590000018,
          "position": 1373
         },
         {
          "action": "HOLD",
          "actual": 1033,
          "date": "2016-03-07T00:00:00",
          "portfolio_history": 1680.7001329999998,
          "portfolio_history_bh": 1324.900024,
          "portfolio_history_rand": 1342.7500590000018,
          "position": 1365
         },
         {
          "action": "HOLD",
          "actual": 1025,
          "date": "2016-03-08T00:00:00",
          "portfolio_history": 1677.7500599999998,
          "portfolio_history_bh": 1321.949951,
          "portfolio_history_rand": 1342.7500590000018,
          "position": 1378
         },
         {
          "action": "HOLD",
          "actual": 1038,
          "date": "2016-03-09T00:00:00",
          "portfolio_history": 1652.8001089999998,
          "portfolio_history_bh": 1297,
          "portfolio_history_rand": 1342.7500590000018,
          "position": 1376
         },
         {
          "action": "HOLD",
          "actual": 1030.099976,
          "date": "2016-03-10T00:00:00",
          "portfolio_history": 1644.8001089999998,
          "portfolio_history_bh": 1289,
          "portfolio_history_rand": 1342.7500590000018,
          "position": 1356
         },
         {
          "action": "HOLD",
          "actual": 1032,
          "date": "2016-03-11T00:00:00",
          "portfolio_history": 1657.8001089999998,
          "portfolio_history_bh": 1302,
          "portfolio_history_rand": 1342.7500590000018,
          "position": 1350
         },
         {
          "action": "HOLD",
          "actual": 1020,
          "date": "2016-03-14T00:00:00",
          "portfolio_history": 1649.9000849999998,
          "portfolio_history_bh": 1294.099976,
          "portfolio_history_rand": 1342.7500590000018,
          "position": 1350
         },
         {
          "action": "HOLD",
          "actual": 1025,
          "date": "2016-03-15T00:00:00",
          "portfolio_history": 1651.8001089999998,
          "portfolio_history_bh": 1296,
          "portfolio_history_rand": 1342.7500590000018,
          "position": 1352
         },
         {
          "action": "HOLD",
          "actual": 1018,
          "date": "2016-03-16T00:00:00",
          "portfolio_history": 1639.8001089999998,
          "portfolio_history_bh": 1284,
          "portfolio_history_rand": 1342.7500590000018,
          "position": 1350
         },
         {
          "action": "HOLD",
          "actual": 1025,
          "date": "2016-03-17T00:00:00",
          "portfolio_history": 1644.8001089999998,
          "portfolio_history_bh": 1289,
          "portfolio_history_rand": 1342.7500590000018,
          "position": 1349.949951
         },
         {
          "action": "HOLD",
          "actual": 1003,
          "date": "2016-03-18T00:00:00",
          "portfolio_history": 1637.8001089999998,
          "portfolio_history_bh": 1282,
          "portfolio_history_rand": 1342.7500590000018,
          "position": 1328
         },
         {
          "action": "HOLD",
          "actual": 1016.849976,
          "date": "2016-03-21T00:00:00",
          "portfolio_history": 1644.8001089999998,
          "portfolio_history_bh": 1289,
          "portfolio_history_rand": 1342.7500590000018,
          "position": 1314
         },
         {
          "action": "HOLD",
          "actual": 1010,
          "date": "2016-03-22T00:00:00",
          "portfolio_history": 1622.8001089999998,
          "portfolio_history_bh": 1267,
          "portfolio_history_rand": 1342.7500590000018,
          "position": 1275
         },
         {
          "action": "HOLD",
          "actual": 997,
          "date": "2016-03-23T00:00:00",
          "portfolio_history": 1636.6500849999998,
          "portfolio_history_bh": 1280.849976,
          "portfolio_history_rand": 1356.6000350000018,
          "position": 1310
         },
         {
          "action": "HOLD",
          "actual": 995,
          "date": "2016-03-24T00:00:00",
          "portfolio_history": 1629.8001089999998,
          "portfolio_history_bh": 1274,
          "portfolio_history_rand": 1349.7500590000018,
          "position": 1347.900024
         },
         {
          "action": "HOLD",
          "actual": 995,
          "date": "2016-03-28T00:00:00",
          "portfolio_history": 1616.8001089999998,
          "portfolio_history_bh": 1261,
          "portfolio_history_rand": 1336.7500590000018,
          "position": 1350.5
         },
         {
          "action": "HOLD",
          "actual": 997.0499880000001,
          "date": "2016-03-29T00:00:00",
          "portfolio_history": 1614.8001089999998,
          "portfolio_history_bh": 1259,
          "portfolio_history_rand": 1334.7500590000018,
          "position": 1382.949951
         },
         {
          "action": "HOLD",
          "actual": 1000,
          "date": "2016-03-30T00:00:00",
          "portfolio_history": 1614.8001089999998,
          "portfolio_history_bh": 1259,
          "portfolio_history_rand": 1334.7500590000018,
          "position": 1380
         },
         {
          "action": "HOLD",
          "actual": 1000,
          "date": "2016-03-31T00:00:00",
          "portfolio_history": 1616.850097,
          "portfolio_history_bh": 1261.0499880000002,
          "portfolio_history_rand": 1336.800047000002,
          "position": 1380
         },
         {
          "action": "HOLD",
          "actual": 999,
          "date": "2016-04-01T00:00:00",
          "portfolio_history": 1619.8001089999998,
          "portfolio_history_bh": 1264,
          "portfolio_history_rand": 1336.800047000002,
          "position": 1380
         },
         {
          "action": "HOLD",
          "actual": 999.9500119999999,
          "date": "2016-04-04T00:00:00",
          "portfolio_history": 1619.8001089999998,
          "portfolio_history_bh": 1264,
          "portfolio_history_rand": 1336.800047000002,
          "position": 1374
         },
         {
          "action": "HOLD",
          "actual": 995,
          "date": "2016-04-05T00:00:00",
          "portfolio_history": 1618.8001089999998,
          "portfolio_history_bh": 1263,
          "portfolio_history_rand": 1335.800047000002,
          "position": 1370
         },
         {
          "action": "HOLD",
          "actual": 974,
          "date": "2016-04-06T00:00:00",
          "portfolio_history": 1619.7501209999996,
          "portfolio_history_bh": 1263.9500119999998,
          "portfolio_history_rand": 1336.7500590000018,
          "position": 1360
         },
         {
          "action": "HOLD",
          "actual": 985,
          "date": "2016-04-07T00:00:00",
          "portfolio_history": 1614.8001089999998,
          "portfolio_history_bh": 1259,
          "portfolio_history_rand": 1331.800047000002,
          "position": 1345
         },
         {
          "action": "HOLD",
          "actual": 983,
          "date": "2016-04-08T00:00:00",
          "portfolio_history": 1593.8001089999998,
          "portfolio_history_bh": 1238,
          "portfolio_history_rand": 1310.800047000002,
          "position": 1321
         },
         {
          "action": "SELL",
          "actual": 985,
          "date": "2016-04-11T00:00:00",
          "portfolio_history": 1604.8001089999998,
          "portfolio_history_bh": 1249,
          "portfolio_history_rand": 1321.800047000002,
          "position": 1322
         },
         {
          "action": "HOLD",
          "actual": 982,
          "date": "2016-04-12T00:00:00",
          "portfolio_history": 1602.8001089999998,
          "portfolio_history_bh": 1247,
          "portfolio_history_rand": 1319.800047000002,
          "position": 1318
         },
         {
          "action": "HOLD",
          "actual": 994.5,
          "date": "2016-04-13T00:00:00",
          "portfolio_history": 1602.8001089999998,
          "portfolio_history_bh": 1249,
          "portfolio_history_rand": 1321.800047000002,
          "position": 1305
         },
         {
          "action": "HOLD",
          "actual": 1003,
          "date": "2016-04-14T00:00:00",
          "portfolio_history": 1602.8001089999998,
          "portfolio_history_bh": 1246,
          "portfolio_history_rand": 1318.800047000002,
          "position": 1315
         },
         {
          "action": "HOLD",
          "actual": 1016,
          "date": "2016-04-15T00:00:00",
          "portfolio_history": 1602.8001089999998,
          "portfolio_history_bh": 1258.5,
          "portfolio_history_rand": 1318.800047000002,
          "position": 1326.800049
         },
         {
          "action": "BUY",
          "actual": 1020,
          "date": "2016-04-18T00:00:00",
          "portfolio_history": 1602.8001089999998,
          "portfolio_history_bh": 1267,
          "portfolio_history_rand": 1318.800047000002,
          "position": 1300.300049
         },
         {
          "action": "HOLD",
          "actual": 1046.5,
          "date": "2016-04-19T00:00:00",
          "portfolio_history": 1602.8001089999998,
          "portfolio_history_bh": 1280,
          "portfolio_history_rand": 1318.800047000002,
          "position": 1319.900024
         },
         {
          "action": "HOLD",
          "actual": 1054.5,
          "date": "2016-04-20T00:00:00",
          "portfolio_history": 1606.8001089999998,
          "portfolio_history_bh": 1284,
          "portfolio_history_rand": 1318.800047000002,
          "position": 1326.800049
         },
         {
          "action": "HOLD",
          "actual": 1082,
          "date": "2016-04-21T00:00:00",
          "portfolio_history": 1633.3001089999998,
          "portfolio_history_bh": 1310.5,
          "portfolio_history_rand": 1345.300047000002,
          "position": 1329
         },
         {
          "action": "HOLD",
          "actual": 1116,
          "date": "2016-04-22T00:00:00",
          "portfolio_history": 1641.3001089999998,
          "portfolio_history_bh": 1318.5,
          "portfolio_history_rand": 1353.300047000002,
          "position": 1329
         },
         {
          "action": "HOLD",
          "actual": 1120,
          "date": "2016-04-25T00:00:00",
          "portfolio_history": 1668.8001089999998,
          "portfolio_history_bh": 1346,
          "portfolio_history_rand": 1380.800047000002,
          "position": 1326
         },
         {
          "action": "HOLD",
          "actual": 1124,
          "date": "2016-04-26T00:00:00",
          "portfolio_history": 1702.8001089999998,
          "portfolio_history_bh": 1380,
          "portfolio_history_rand": 1414.800047000002,
          "position": 1296
         },
         {
          "action": "HOLD",
          "actual": 1110,
          "date": "2016-04-27T00:00:00",
          "portfolio_history": 1706.8001089999998,
          "portfolio_history_bh": 1384,
          "portfolio_history_rand": 1418.800047000002,
          "position": 1250
         },
         {
          "action": "HOLD",
          "actual": 1110,
          "date": "2016-04-28T00:00:00",
          "portfolio_history": 1710.8001089999998,
          "portfolio_history_bh": 1388,
          "portfolio_history_rand": 1422.800047000002,
          "position": 1237
         },
         {
          "action": "HOLD",
          "actual": 1109.900024,
          "date": "2016-04-29T00:00:00",
          "portfolio_history": 1696.8001089999998,
          "portfolio_history_bh": 1374,
          "portfolio_history_rand": 1408.800047000002,
          "position": 1252
         },
         {
          "action": "HOLD",
          "actual": 1100,
          "date": "2016-05-02T00:00:00",
          "portfolio_history": 1696.8001089999998,
          "portfolio_history_bh": 1374,
          "portfolio_history_rand": 1408.800047000002,
          "position": 1280
         },
         {
          "action": "HOLD",
          "actual": 1100,
          "date": "2016-05-03T00:00:00",
          "portfolio_history": 1696.7001329999998,
          "portfolio_history_bh": 1373.900024,
          "portfolio_history_rand": 1408.700071000002,
          "position": 1285.5
         },
         {
          "action": "HOLD",
          "actual": 1086,
          "date": "2016-05-04T00:00:00",
          "portfolio_history": 1686.8001089999998,
          "portfolio_history_bh": 1364,
          "portfolio_history_rand": 1408.700071000002,
          "position": 1241.349976
         },
         {
          "action": "HOLD",
          "actual": 1072.050049,
          "date": "2016-05-05T00:00:00",
          "portfolio_history": 1686.8001089999998,
          "portfolio_history_bh": 1364,
          "portfolio_history_rand": 1408.700071000002,
          "position": 1212
         },
         {
          "action": "HOLD",
          "actual": 1084.900024,
          "date": "2016-05-06T00:00:00",
          "portfolio_history": 1672.8001089999998,
          "portfolio_history_bh": 1350,
          "portfolio_history_rand": 1394.700071000002,
          "position": 1235
         },
         {
          "action": "HOLD",
          "actual": 1075,
          "date": "2016-05-09T00:00:00",
          "portfolio_history": 1658.8501579999997,
          "portfolio_history_bh": 1336.050049,
          "portfolio_history_rand": 1380.750120000002,
          "position": 1260
         },
         {
          "action": "HOLD",
          "actual": 1060,
          "date": "2016-05-10T00:00:00",
          "portfolio_history": 1671.7001329999998,
          "portfolio_history_bh": 1348.900024,
          "portfolio_history_rand": 1393.600095000002,
          "position": 1259.300049
         },
         {
          "action": "HOLD",
          "actual": 1051,
          "date": "2016-05-11T00:00:00",
          "portfolio_history": 1661.8001089999998,
          "portfolio_history_bh": 1339,
          "portfolio_history_rand": 1393.600095000002,
          "position": 1255
         },
         {
          "action": "HOLD",
          "actual": 1052,
          "date": "2016-05-12T00:00:00",
          "portfolio_history": 1646.8001089999998,
          "portfolio_history_bh": 1324,
          "portfolio_history_rand": 1393.600095000002,
          "position": 1268
         },
         {
          "action": "HOLD",
          "actual": 1045,
          "date": "2016-05-13T00:00:00",
          "portfolio_history": 1637.8001089999998,
          "portfolio_history_bh": 1315,
          "portfolio_history_rand": 1393.600095000002,
          "position": 1280
         },
         {
          "action": "HOLD",
          "actual": 1060,
          "date": "2016-05-16T00:00:00",
          "portfolio_history": 1638.8001089999998,
          "portfolio_history_bh": 1316,
          "portfolio_history_rand": 1393.600095000002,
          "position": 1265.949951
         },
         {
          "action": "HOLD",
          "actual": 1074,
          "date": "2016-05-17T00:00:00",
          "portfolio_history": 1631.8001089999998,
          "portfolio_history_bh": 1309,
          "portfolio_history_rand": 1393.600095000002,
          "position": 1230.5
         },
         {
          "action": "HOLD",
          "actual": 1070,
          "date": "2016-05-18T00:00:00",
          "portfolio_history": 1646.8001089999998,
          "portfolio_history_bh": 1324,
          "portfolio_history_rand": 1408.600095000002,
          "position": 1157
         },
         {
          "action": "HOLD",
          "actual": 1070,
          "date": "2016-05-19T00:00:00",
          "portfolio_history": 1660.8001089999998,
          "portfolio_history_bh": 1338,
          "portfolio_history_rand": 1408.600095000002,
          "position": 1220
         },
         {
          "action": "HOLD",
          "actual": 1042,
          "date": "2016-05-20T00:00:00",
          "portfolio_history": 1656.8001089999998,
          "portfolio_history_bh": 1334,
          "portfolio_history_rand": 1408.600095000002,
          "position": 1230
         },
         {
          "action": "HOLD",
          "actual": 1042,
          "date": "2016-05-23T00:00:00",
          "portfolio_history": 1656.8001089999998,
          "portfolio_history_bh": 1334,
          "portfolio_history_rand": 1408.600095000002,
          "position": 1240
         },
         {
          "action": "HOLD",
          "actual": 1045,
          "date": "2016-05-24T00:00:00",
          "portfolio_history": 1628.8001089999998,
          "portfolio_history_bh": 1306,
          "portfolio_history_rand": 1408.600095000002,
          "position": 1249.900024
         },
         {
          "action": "HOLD",
          "actual": 1051.050049,
          "date": "2016-05-25T00:00:00",
          "portfolio_history": 1628.8001089999998,
          "portfolio_history_bh": 1306,
          "portfolio_history_rand": 1408.600095000002,
          "position": 1250.949951
         },
         {
          "action": "HOLD",
          "actual": 1051.050049,
          "date": "2016-05-26T00:00:00",
          "portfolio_history": 1631.8001089999998,
          "portfolio_history_bh": 1309,
          "portfolio_history_rand": 1408.600095000002,
          "position": 1235
         },
         {
          "action": "HOLD",
          "actual": 1075,
          "date": "2016-05-27T00:00:00",
          "portfolio_history": 1637.8501579999997,
          "portfolio_history_bh": 1315.050049,
          "portfolio_history_rand": 1408.600095000002,
          "position": 1255
         },
         {
          "action": "HOLD",
          "actual": 1020,
          "date": "2016-05-31T00:00:00",
          "portfolio_history": 1637.8501579999997,
          "portfolio_history_bh": 1315.050049,
          "portfolio_history_rand": 1408.600095000002,
          "position": 1319
         },
         {
          "action": "HOLD",
          "actual": 1002.150024,
          "date": "2016-06-01T00:00:00",
          "portfolio_history": 1661.8001089999998,
          "portfolio_history_bh": 1339,
          "portfolio_history_rand": 1408.600095000002,
          "position": 1354.800049
         },
         {
          "action": "SELL",
          "actual": 1020,
          "date": "2016-06-02T00:00:00",
          "portfolio_history": 1606.8001089999998,
          "portfolio_history_bh": 1284,
          "portfolio_history_rand": 1353.600095000002,
          "position": 1370
         },
         {
          "action": "HOLD",
          "actual": 1074,
          "date": "2016-06-03T00:00:00",
          "portfolio_history": 1588.9501329999998,
          "portfolio_history_bh": 1266.150024,
          "portfolio_history_rand": 1335.750119000002,
          "position": 1395
         },
         {
          "action": "HOLD",
          "actual": 1030,
          "date": "2016-06-06T00:00:00",
          "portfolio_history": 1588.9501329999998,
          "portfolio_history_bh": 1284,
          "portfolio_history_rand": 1335.750119000002,
          "position": 1404.949951
         },
         {
          "action": "HOLD",
          "actual": 1038,
          "date": "2016-06-07T00:00:00",
          "portfolio_history": 1588.9501329999998,
          "portfolio_history_bh": 1338,
          "portfolio_history_rand": 1389.750119000002,
          "position": 1421.349976
         },
         {
          "action": "HOLD",
          "actual": 1040,
          "date": "2016-06-08T00:00:00",
          "portfolio_history": 1588.9501329999998,
          "portfolio_history_bh": 1294,
          "portfolio_history_rand": 1345.750119000002,
          "position": 1419.800049
         },
         {
          "action": "HOLD",
          "actual": 1030.5,
          "date": "2016-06-09T00:00:00",
          "portfolio_history": 1588.9501329999998,
          "portfolio_history_bh": 1302,
          "portfolio_history_rand": 1345.750119000002,
          "position": 1395
         },
         {
          "action": "HOLD",
          "actual": 1040,
          "date": "2016-06-10T00:00:00",
          "portfolio_history": 1588.9501329999998,
          "portfolio_history_bh": 1304,
          "portfolio_history_rand": 1347.750119000002,
          "position": 1300.550049
         },
         {
          "action": "HOLD",
          "actual": 1012,
          "date": "2016-06-13T00:00:00",
          "portfolio_history": 1588.9501329999998,
          "portfolio_history_bh": 1294.5,
          "portfolio_history_rand": 1347.750119000002,
          "position": 1327.25
         },
         {
          "action": "HOLD",
          "actual": 1009,
          "date": "2016-06-14T00:00:00",
          "portfolio_history": 1588.9501329999998,
          "portfolio_history_bh": 1304,
          "portfolio_history_rand": 1347.750119000002,
          "position": 1315
         },
         {
          "action": "HOLD",
          "actual": 1005.0499880000001,
          "date": "2016-06-15T00:00:00",
          "portfolio_history": 1588.9501329999998,
          "portfolio_history_bh": 1276,
          "portfolio_history_rand": 1347.750119000002,
          "position": 1331
         },
         {
          "action": "HOLD",
          "actual": 1004,
          "date": "2016-06-16T00:00:00",
          "portfolio_history": 1588.9501329999998,
          "portfolio_history_bh": 1273,
          "portfolio_history_rand": 1347.750119000002,
          "position": 1300.099976
         },
         {
          "action": "HOLD",
          "actual": 1002,
          "date": "2016-06-17T00:00:00",
          "portfolio_history": 1588.9501329999998,
          "portfolio_history_bh": 1269.0499880000002,
          "portfolio_history_rand": 1347.750119000002,
          "position": 1322
         },
         {
          "action": "HOLD",
          "actual": 1025,
          "date": "2016-06-20T00:00:00",
          "portfolio_history": 1588.9501329999998,
          "portfolio_history_bh": 1268,
          "portfolio_history_rand": 1347.750119000002,
          "position": 1322
         },
         {
          "action": "HOLD",
          "actual": 1019,
          "date": "2016-06-21T00:00:00",
          "portfolio_history": 1588.9501329999998,
          "portfolio_history_bh": 1266,
          "portfolio_history_rand": 1347.750119000002,
          "position": 1305.050049
         },
         {
          "action": "HOLD",
          "actual": 1020,
          "date": "2016-06-22T00:00:00",
          "portfolio_history": 1588.9501329999998,
          "portfolio_history_bh": 1289,
          "portfolio_history_rand": 1347.750119000002,
          "position": 1330
         },
         {
          "action": "HOLD",
          "actual": 1025,
          "date": "2016-06-23T00:00:00",
          "portfolio_history": 1588.9501329999998,
          "portfolio_history_bh": 1283,
          "portfolio_history_rand": 1347.750119000002,
          "position": 1310
         },
         {
          "action": "HOLD",
          "actual": 1014.5,
          "date": "2016-06-24T00:00:00",
          "portfolio_history": 1588.9501329999998,
          "portfolio_history_bh": 1284,
          "portfolio_history_rand": 1347.750119000002,
          "position": 1315
         },
         {
          "action": "HOLD",
          "actual": 999,
          "date": "2016-06-27T00:00:00",
          "portfolio_history": 1588.9501329999998,
          "portfolio_history_bh": 1289,
          "portfolio_history_rand": 1347.750119000002,
          "position": 1315
         },
         {
          "action": "HOLD",
          "actual": 993,
          "date": "2016-06-28T00:00:00",
          "portfolio_history": 1588.9501329999998,
          "portfolio_history_bh": 1278.5,
          "portfolio_history_rand": 1347.750119000002,
          "position": 1315
         },
         {
          "action": "HOLD",
          "actual": 1000,
          "date": "2016-06-29T00:00:00",
          "portfolio_history": 1588.9501329999998,
          "portfolio_history_bh": 1263,
          "portfolio_history_rand": 1347.750119000002,
          "position": 1299.949951
         },
         {
          "action": "HOLD",
          "actual": 990,
          "date": "2016-06-30T00:00:00",
          "portfolio_history": 1588.9501329999998,
          "portfolio_history_bh": 1257,
          "portfolio_history_rand": 1347.750119000002,
          "position": 1285.199951
         },
         {
          "action": "HOLD",
          "actual": 1000,
          "date": "2016-07-01T00:00:00",
          "portfolio_history": 1588.9501329999998,
          "portfolio_history_bh": 1264,
          "portfolio_history_rand": 1354.750119000002,
          "position": 1255.050049
         },
         {
          "action": "HOLD",
          "actual": 1000,
          "date": "2016-07-05T00:00:00",
          "portfolio_history": 1588.9501329999998,
          "portfolio_history_bh": 1254,
          "portfolio_history_rand": 1344.750119000002,
          "position": 1228
         },
         {
          "action": "HOLD",
          "actual": 1005,
          "date": "2016-07-06T00:00:00",
          "portfolio_history": 1588.9501329999998,
          "portfolio_history_bh": 1264,
          "portfolio_history_rand": 1344.750119000002,
          "position": 1221
         },
         {
          "action": "HOLD",
          "actual": 997,
          "date": "2016-07-07T00:00:00",
          "portfolio_history": 1588.9501329999998,
          "portfolio_history_bh": 1264,
          "portfolio_history_rand": 1344.750119000002,
          "position": 1217
         },
         {
          "action": "HOLD",
          "actual": 990,
          "date": "2016-07-08T00:00:00",
          "portfolio_history": 1588.9501329999998,
          "portfolio_history_bh": 1269,
          "portfolio_history_rand": 1344.750119000002,
          "position": 1238
         },
         {
          "action": "HOLD",
          "actual": 980,
          "date": "2016-07-11T00:00:00",
          "portfolio_history": 1588.9501329999998,
          "portfolio_history_bh": 1261,
          "portfolio_history_rand": 1336.750119000002,
          "position": 1238
         },
         {
          "action": "HOLD",
          "actual": 971,
          "date": "2016-07-12T00:00:00",
          "portfolio_history": 1588.9501329999998,
          "portfolio_history_bh": 1254,
          "portfolio_history_rand": 1329.750119000002,
          "position": 1239
         },
         {
          "action": "HOLD",
          "actual": 975,
          "date": "2016-07-13T00:00:00",
          "portfolio_history": 1588.9501329999998,
          "portfolio_history_bh": 1244,
          "portfolio_history_rand": 1319.750119000002,
          "position": 1240
         },
         {
          "action": "HOLD",
          "actual": 990,
          "date": "2016-07-14T00:00:00",
          "portfolio_history": 1588.9501329999998,
          "portfolio_history_bh": 1235,
          "portfolio_history_rand": 1319.750119000002,
          "position": 1250
         },
         {
          "action": "HOLD",
          "actual": 990,
          "date": "2016-07-15T00:00:00",
          "portfolio_history": 1588.9501329999998,
          "portfolio_history_bh": 1239,
          "portfolio_history_rand": 1319.750119000002,
          "position": 1250
         },
         {
          "action": "HOLD",
          "actual": 983,
          "date": "2016-07-18T00:00:00",
          "portfolio_history": 1588.9501329999998,
          "portfolio_history_bh": 1254,
          "portfolio_history_rand": 1319.750119000002,
          "position": 1273.5
         },
         {
          "action": "HOLD",
          "actual": 975,
          "date": "2016-07-19T00:00:00",
          "portfolio_history": 1588.9501329999998,
          "portfolio_history_bh": 1254,
          "portfolio_history_rand": 1319.750119000002,
          "position": 1273.900024
         },
         {
          "action": "HOLD",
          "actual": 973,
          "date": "2016-07-20T00:00:00",
          "portfolio_history": 1588.9501329999998,
          "portfolio_history_bh": 1247,
          "portfolio_history_rand": 1319.750119000002,
          "position": 1269.900024
         },
         {
          "action": "HOLD",
          "actual": 978,
          "date": "2016-07-21T00:00:00",
          "portfolio_history": 1588.9501329999998,
          "portfolio_history_bh": 1239,
          "portfolio_history_rand": 1319.750119000002,
          "position": 1260
         },
         {
          "action": "HOLD",
          "actual": 975.099976,
          "date": "2016-07-22T00:00:00",
          "portfolio_history": 1588.9501329999998,
          "portfolio_history_bh": 1237,
          "portfolio_history_rand": 1319.750119000002,
          "position": 1260
         },
         {
          "action": "HOLD",
          "actual": 976,
          "date": "2016-07-25T00:00:00",
          "portfolio_history": 1588.9501329999998,
          "portfolio_history_bh": 1242,
          "portfolio_history_rand": 1324.750119000002,
          "position": 1289.5
         },
         {
          "action": "HOLD",
          "actual": 983,
          "date": "2016-07-26T00:00:00",
          "portfolio_history": 1588.9501329999998,
          "portfolio_history_bh": 1239.099976,
          "portfolio_history_rand": 1321.850095000002,
          "position": 1313
         },
         {
          "action": "HOLD",
          "actual": 969.9500119999999,
          "date": "2016-07-27T00:00:00",
          "portfolio_history": 1588.9501329999998,
          "portfolio_history_bh": 1240,
          "portfolio_history_rand": 1321.850095000002,
          "position": 1316
         },
         {
          "action": "HOLD",
          "actual": 945.5,
          "date": "2016-07-28T00:00:00",
          "portfolio_history": 1588.9501329999998,
          "portfolio_history_bh": 1247,
          "portfolio_history_rand": 1328.850095000002,
          "position": 1300
         },
         {
          "action": "HOLD",
          "actual": 930,
          "date": "2016-07-29T00:00:00",
          "portfolio_history": 1588.9501329999998,
          "portfolio_history_bh": 1233.9500119999998,
          "portfolio_history_rand": 1315.8001070000018,
          "position": 1320
         },
         {
          "action": "HOLD",
          "actual": 938,
          "date": "2016-08-01T00:00:00",
          "portfolio_history": 1588.9501329999998,
          "portfolio_history_bh": 1209.5,
          "portfolio_history_rand": 1315.8001070000018,
          "position": 1300
         },
         {
          "action": "HOLD",
          "actual": 940,
          "date": "2016-08-02T00:00:00",
          "portfolio_history": 1588.9501329999998,
          "portfolio_history_bh": 1194,
          "portfolio_history_rand": 1315.8001070000018,
          "position": 1306.150024
         },
         {
          "action": "HOLD",
          "actual": 945,
          "date": "2016-08-03T00:00:00",
          "portfolio_history": 1588.9501329999998,
          "portfolio_history_bh": 1202,
          "portfolio_history_rand": 1315.8001070000018,
          "position": 1306.150024
         },
         {
          "action": "HOLD",
          "actual": 950,
          "date": "2016-08-04T00:00:00",
          "portfolio_history": 1588.9501329999998,
          "portfolio_history_bh": 1204,
          "portfolio_history_rand": 1315.8001070000018,
          "position": 1297.900024
         },
         {
          "action": "HOLD",
          "actual": 950,
          "date": "2016-08-05T00:00:00",
          "portfolio_history": 1588.9501329999998,
          "portfolio_history_bh": 1209,
          "portfolio_history_rand": 1320.8001070000018,
          "position": 1260.050049
         },
         {
          "action": "HOLD",
          "actual": 954,
          "date": "2016-08-08T00:00:00",
          "portfolio_history": 1588.9501329999998,
          "portfolio_history_bh": 1214,
          "portfolio_history_rand": 1325.8001070000018,
          "position": 1260
         },
         {
          "action": "HOLD",
          "actual": 940,
          "date": "2016-08-09T00:00:00",
          "portfolio_history": 1588.9501329999998,
          "portfolio_history_bh": 1214,
          "portfolio_history_rand": 1325.8001070000018,
          "position": 1269
         },
         {
          "action": "HOLD",
          "actual": 935,
          "date": "2016-08-10T00:00:00",
          "portfolio_history": 1588.9501329999998,
          "portfolio_history_bh": 1218,
          "portfolio_history_rand": 1325.8001070000018,
          "position": 1256
         },
         {
          "action": "HOLD",
          "actual": 930,
          "date": "2016-08-11T00:00:00",
          "portfolio_history": 1588.9501329999998,
          "portfolio_history_bh": 1204,
          "portfolio_history_rand": 1325.8001070000018,
          "position": 1265.050049
         },
         {
          "action": "HOLD",
          "actual": 940,
          "date": "2016-08-12T00:00:00",
          "portfolio_history": 1588.9501329999998,
          "portfolio_history_bh": 1199,
          "portfolio_history_rand": 1325.8001070000018,
          "position": 1270
         },
         {
          "action": "HOLD",
          "actual": 940,
          "date": "2016-08-15T00:00:00",
          "portfolio_history": 1588.9501329999998,
          "portfolio_history_bh": 1194,
          "portfolio_history_rand": 1325.8001070000018,
          "position": 1263
         },
         {
          "action": "HOLD",
          "actual": 950,
          "date": "2016-08-16T00:00:00",
          "portfolio_history": 1588.9501329999998,
          "portfolio_history_bh": 1204,
          "portfolio_history_rand": 1325.8001070000018,
          "position": 1240
         },
         {
          "action": "HOLD",
          "actual": 940,
          "date": "2016-08-17T00:00:00",
          "portfolio_history": 1588.9501329999998,
          "portfolio_history_bh": 1204,
          "portfolio_history_rand": 1325.8001070000018,
          "position": 1126
         },
         {
          "action": "HOLD",
          "actual": 917,
          "date": "2016-08-18T00:00:00",
          "portfolio_history": 1588.9501329999998,
          "portfolio_history_bh": 1214,
          "portfolio_history_rand": 1325.8001070000018,
          "position": 1086
         },
         {
          "action": "HOLD",
          "actual": 913,
          "date": "2016-08-19T00:00:00",
          "portfolio_history": 1588.9501329999998,
          "portfolio_history_bh": 1204,
          "portfolio_history_rand": 1325.8001070000018,
          "position": 1057
         },
         {
          "action": "HOLD",
          "actual": 913,
          "date": "2016-08-22T00:00:00",
          "portfolio_history": 1588.9501329999998,
          "portfolio_history_bh": 1181,
          "portfolio_history_rand": 1325.8001070000018,
          "position": 1095
         },
         {
          "action": "HOLD",
          "actual": 917,
          "date": "2016-08-23T00:00:00",
          "portfolio_history": 1588.9501329999998,
          "portfolio_history_bh": 1177,
          "portfolio_history_rand": 1325.8001070000018,
          "position": 1110
         },
         {
          "action": "HOLD",
          "actual": 920.099976,
          "date": "2016-08-24T00:00:00",
          "portfolio_history": 1588.9501329999998,
          "portfolio_history_bh": 1177,
          "portfolio_history_rand": 1325.8001070000018,
          "position": 1117
         },
         {
          "action": "HOLD",
          "actual": 920.0499880000001,
          "date": "2016-08-25T00:00:00",
          "portfolio_history": 1588.9501329999998,
          "portfolio_history_bh": 1181,
          "portfolio_history_rand": 1325.8001070000018,
          "position": 1060
         },
         {
          "action": "HOLD",
          "actual": 917,
          "date": "2016-08-26T00:00:00",
          "portfolio_history": 1588.9501329999998,
          "portfolio_history_bh": 1184.099976,
          "portfolio_history_rand": 1325.8001070000018,
          "position": 1110
         },
         {
          "action": "HOLD",
          "actual": 921,
          "date": "2016-08-29T00:00:00",
          "portfolio_history": 1588.9501329999998,
          "portfolio_history_bh": 1184.0499880000002,
          "portfolio_history_rand": 1325.750119000002,
          "position": 1081
         },
         {
          "action": "HOLD",
          "actual": 906.9500119999999,
          "date": "2016-08-30T00:00:00",
          "portfolio_history": 1588.9501329999998,
          "portfolio_history_bh": 1181,
          "portfolio_history_rand": 1322.7001310000019,
          "position": 1081
         },
         {
          "action": "HOLD",
          "actual": 885,
          "date": "2016-08-31T00:00:00",
          "portfolio_history": 1588.9501329999998,
          "portfolio_history_bh": 1185,
          "portfolio_history_rand": 1322.7001310000019,
          "position": 1082.5
         },
         {
          "action": "HOLD",
          "actual": 891,
          "date": "2016-09-01T00:00:00",
          "portfolio_history": 1588.9501329999998,
          "portfolio_history_bh": 1170.9500119999998,
          "portfolio_history_rand": 1322.7001310000019,
          "position": 1068
         },
         {
          "action": "HOLD",
          "actual": 904.25,
          "date": "2016-09-02T00:00:00",
          "portfolio_history": 1588.9501329999998,
          "portfolio_history_bh": 1149,
          "portfolio_history_rand": 1300.750119000002,
          "position": 1046
         },
         {
          "action": "HOLD",
          "actual": 910,
          "date": "2016-09-06T00:00:00",
          "portfolio_history": 1588.9501329999998,
          "portfolio_history_bh": 1155,
          "portfolio_history_rand": 1300.750119000002,
          "position": 1050
         },
         {
          "action": "HOLD",
          "actual": 920,
          "date": "2016-09-07T00:00:00",
          "portfolio_history": 1588.9501329999998,
          "portfolio_history_bh": 1168.25,
          "portfolio_history_rand": 1300.750119000002,
          "position": 1050
         },
         {
          "action": "HOLD",
          "actual": 924.75,
          "date": "2016-09-08T00:00:00",
          "portfolio_history": 1588.9501329999998,
          "portfolio_history_bh": 1174,
          "portfolio_history_rand": 1300.750119000002,
          "position": 1071
         },
         {
          "action": "HOLD",
          "actual": 917,
          "date": "2016-09-09T00:00:00",
          "portfolio_history": 1588.9501329999998,
          "portfolio_history_bh": 1184,
          "portfolio_history_rand": 1300.750119000002,
          "position": 1078.949951
         },
         {
          "action": "HOLD",
          "actual": 891.0499880000001,
          "date": "2016-09-12T00:00:00",
          "portfolio_history": 1588.9501329999998,
          "portfolio_history_bh": 1188.75,
          "portfolio_history_rand": 1305.500119000002,
          "position": 1079.949951
         },
         {
          "action": "HOLD",
          "actual": 905,
          "date": "2016-09-13T00:00:00",
          "portfolio_history": 1588.9501329999998,
          "portfolio_history_bh": 1181,
          "portfolio_history_rand": 1297.750119000002,
          "position": 1055.099976
         },
         {
          "action": "HOLD",
          "actual": 910,
          "date": "2016-09-14T00:00:00",
          "portfolio_history": 1588.9501329999998,
          "portfolio_history_bh": 1155.0499880000002,
          "portfolio_history_rand": 1297.750119000002,
          "position": 1051.050049
         },
         {
          "action": "HOLD",
          "actual": 910,
          "date": "2016-09-15T00:00:00",
          "portfolio_history": 1588.9501329999998,
          "portfolio_history_bh": 1169,
          "portfolio_history_rand": 1297.750119000002,
          "position": 1060
         },
         {
          "action": "HOLD",
          "actual": 891,
          "date": "2016-09-16T00:00:00",
          "portfolio_history": 1588.9501329999998,
          "portfolio_history_bh": 1174,
          "portfolio_history_rand": 1302.750119000002,
          "position": 1051
         },
         {
          "action": "HOLD",
          "actual": 899.400024,
          "date": "2016-09-19T00:00:00",
          "portfolio_history": 1588.9501329999998,
          "portfolio_history_bh": 1174,
          "portfolio_history_rand": 1302.750119000002,
          "position": 1041
         },
         {
          "action": "HOLD",
          "actual": 910,
          "date": "2016-09-20T00:00:00",
          "portfolio_history": 1588.9501329999998,
          "portfolio_history_bh": 1155,
          "portfolio_history_rand": 1302.750119000002,
          "position": 1040
         },
         {
          "action": "HOLD",
          "actual": 894,
          "date": "2016-09-21T00:00:00",
          "portfolio_history": 1588.9501329999998,
          "portfolio_history_bh": 1163.400024,
          "portfolio_history_rand": 1302.750119000002,
          "position": 1030
         },
         {
          "action": "HOLD",
          "actual": 879,
          "date": "2016-09-22T00:00:00",
          "portfolio_history": 1588.9501329999998,
          "portfolio_history_bh": 1174,
          "portfolio_history_rand": 1302.750119000002,
          "position": 1017
         },
         {
          "action": "HOLD",
          "actual": 870,
          "date": "2016-09-23T00:00:00",
          "portfolio_history": 1588.9501329999998,
          "portfolio_history_bh": 1158,
          "portfolio_history_rand": 1302.750119000002,
          "position": 1012
         },
         {
          "action": "HOLD",
          "actual": 853.5,
          "date": "2016-09-26T00:00:00",
          "portfolio_history": 1588.9501329999998,
          "portfolio_history_bh": 1143,
          "portfolio_history_rand": 1302.750119000002,
          "position": 1025
         },
         {
          "action": "HOLD",
          "actual": 863,
          "date": "2016-09-27T00:00:00",
          "portfolio_history": 1588.9501329999998,
          "portfolio_history_bh": 1134,
          "portfolio_history_rand": 1293.750119000002,
          "position": 1034.400024
         },
         {
          "action": "HOLD",
          "actual": 856,
          "date": "2016-09-28T00:00:00",
          "portfolio_history": 1588.9501329999998,
          "portfolio_history_bh": 1117.5,
          "portfolio_history_rand": 1277.250119000002,
          "position": 981.0499880000001
         },
         {
          "action": "HOLD",
          "actual": 850.150024,
          "date": "2016-09-29T00:00:00",
          "portfolio_history": 1588.9501329999998,
          "portfolio_history_bh": 1127,
          "portfolio_history_rand": 1286.750119000002,
          "position": 942
         },
         {
          "action": "HOLD",
          "actual": 900,
          "date": "2016-09-30T00:00:00",
          "portfolio_history": 1588.9501329999998,
          "portfolio_history_bh": 1120,
          "portfolio_history_rand": 1286.750119000002,
          "position": 944
         },
         {
          "action": "HOLD",
          "actual": 900,
          "date": "2016-10-03T00:00:00",
          "portfolio_history": 1588.9501329999998,
          "portfolio_history_bh": 1114.150024,
          "portfolio_history_rand": 1286.750119000002,
          "position": 1013
         },
         {
          "action": "HOLD",
          "actual": 885,
          "date": "2016-10-04T00:00:00",
          "portfolio_history": 1588.9501329999998,
          "portfolio_history_bh": 1164,
          "portfolio_history_rand": 1286.750119000002,
          "position": 1040
         },
         {
          "action": "HOLD",
          "actual": 893,
          "date": "2016-10-05T00:00:00",
          "portfolio_history": 1588.9501329999998,
          "portfolio_history_bh": 1164,
          "portfolio_history_rand": 1286.750119000002,
          "position": 1020
         },
         {
          "action": "HOLD",
          "actual": 892.5,
          "date": "2016-10-06T00:00:00",
          "portfolio_history": 1588.9501329999998,
          "portfolio_history_bh": 1149,
          "portfolio_history_rand": 1286.750119000002,
          "position": 1030
         },
         {
          "action": "HOLD",
          "actual": 870,
          "date": "2016-10-07T00:00:00",
          "portfolio_history": 1588.9501329999998,
          "portfolio_history_bh": 1157,
          "portfolio_history_rand": 1294.750119000002,
          "position": 1010
         },
         {
          "action": "HOLD",
          "actual": 881.599976,
          "date": "2016-10-10T00:00:00",
          "portfolio_history": 1588.9501329999998,
          "portfolio_history_bh": 1156.5,
          "portfolio_history_rand": 1294.750119000002,
          "position": 1040
         },
         {
          "action": "HOLD",
          "actual": 875,
          "date": "2016-10-11T00:00:00",
          "portfolio_history": 1588.9501329999998,
          "portfolio_history_bh": 1134,
          "portfolio_history_rand": 1294.750119000002,
          "position": 1075
         },
         {
          "action": "HOLD",
          "actual": 860,
          "date": "2016-10-12T00:00:00",
          "portfolio_history": 1588.9501329999998,
          "portfolio_history_bh": 1145.599976,
          "portfolio_history_rand": 1294.750119000002,
          "position": 1075
         },
         {
          "action": "HOLD",
          "actual": 868.900024,
          "date": "2016-10-13T00:00:00",
          "portfolio_history": 1588.9501329999998,
          "portfolio_history_bh": 1139,
          "portfolio_history_rand": 1288.1501430000021,
          "position": 1075
         },
         {
          "action": "HOLD",
          "actual": 875.9500119999999,
          "date": "2016-10-14T00:00:00",
          "portfolio_history": 1588.9501329999998,
          "portfolio_history_bh": 1124,
          "portfolio_history_rand": 1288.1501430000021,
          "position": 1100
         },
         {
          "action": "HOLD",
          "actual": 882,
          "date": "2016-10-17T00:00:00",
          "portfolio_history": 1588.9501329999998,
          "portfolio_history_bh": 1132.900024,
          "portfolio_history_rand": 1288.1501430000021,
          "position": 1189
         },
         {
          "action": "HOLD",
          "actual": 867,
          "date": "2016-10-18T00:00:00",
          "portfolio_history": 1588.9501329999998,
          "portfolio_history_bh": 1139.9500119999998,
          "portfolio_history_rand": 1295.2001310000019,
          "position": 1189
         },
         {
          "action": "HOLD",
          "actual": 865,
          "date": "2016-10-19T00:00:00",
          "portfolio_history": 1588.9501329999998,
          "portfolio_history_bh": 1146,
          "portfolio_history_rand": 1301.250119000002,
          "position": 1157
         },
         {
          "action": "HOLD",
          "actual": 865,
          "date": "2016-10-20T00:00:00",
          "portfolio_history": 1588.9501329999998,
          "portfolio_history_bh": 1131,
          "portfolio_history_rand": 1286.250119000002,
          "position": 1136
         },
         {
          "action": "BUY",
          "actual": 869,
          "date": "2016-10-21T00:00:00",
          "portfolio_history": 1588.9501329999998,
          "portfolio_history_bh": 1129,
          "portfolio_history_rand": 1284.250119000002,
          "position": 1136
         },
         {
          "action": "HOLD",
          "actual": 870,
          "date": "2016-10-24T00:00:00",
          "portfolio_history": 1588.9501329999998,
          "portfolio_history_bh": 1129,
          "portfolio_history_rand": 1284.250119000002,
          "position": 1117
         },
         {
          "action": "HOLD",
          "actual": 870,
          "date": "2016-10-25T00:00:00",
          "portfolio_history": 1592.9501329999998,
          "portfolio_history_bh": 1133,
          "portfolio_history_rand": 1284.250119000002,
          "position": 1130
         },
         {
          "action": "HOLD",
          "actual": 870,
          "date": "2016-10-26T00:00:00",
          "portfolio_history": 1593.9501329999998,
          "portfolio_history_bh": 1134,
          "portfolio_history_rand": 1284.250119000002,
          "position": 1113
         },
         {
          "action": "HOLD",
          "actual": 870,
          "date": "2016-10-27T00:00:00",
          "portfolio_history": 1593.9501329999998,
          "portfolio_history_bh": 1134,
          "portfolio_history_rand": 1284.250119000002,
          "position": 1099
         },
         {
          "action": "HOLD",
          "actual": 870,
          "date": "2016-10-28T00:00:00",
          "portfolio_history": 1593.9501329999998,
          "portfolio_history_bh": 1134,
          "portfolio_history_rand": 1284.250119000002,
          "position": 1070
         },
         {
          "action": "HOLD",
          "actual": 869,
          "date": "2016-10-31T00:00:00",
          "portfolio_history": 1593.9501329999998,
          "portfolio_history_bh": 1134,
          "portfolio_history_rand": 1284.250119000002,
          "position": 1049
         },
         {
          "action": "HOLD",
          "actual": 869,
          "date": "2016-11-01T00:00:00",
          "portfolio_history": 1593.9501329999998,
          "portfolio_history_bh": 1134,
          "portfolio_history_rand": 1284.250119000002,
          "position": 1033.25
         },
         {
          "action": "HOLD",
          "actual": 870,
          "date": "2016-11-02T00:00:00",
          "portfolio_history": 1592.9501329999998,
          "portfolio_history_bh": 1133,
          "portfolio_history_rand": 1284.250119000002,
          "position": 1000
         },
         {
          "action": "HOLD",
          "actual": 870,
          "date": "2016-11-03T00:00:00",
          "portfolio_history": 1592.9501329999998,
          "portfolio_history_bh": 1133,
          "portfolio_history_rand": 1284.250119000002,
          "position": 1000
         },
         {
          "action": "HOLD",
          "actual": 888,
          "date": "2016-11-04T00:00:00",
          "portfolio_history": 1593.9501329999998,
          "portfolio_history_bh": 1134,
          "portfolio_history_rand": 1285.250119000002,
          "position": 990
         },
         {
          "action": "HOLD",
          "actual": 978.9500119999999,
          "date": "2016-11-07T00:00:00",
          "portfolio_history": 1593.9501329999998,
          "portfolio_history_bh": 1134,
          "portfolio_history_rand": 1285.250119000002,
          "position": 985
         },
         {
          "action": "HOLD",
          "actual": 998.5,
          "date": "2016-11-08T00:00:00",
          "portfolio_history": 1611.9501329999998,
          "portfolio_history_bh": 1152,
          "portfolio_history_rand": 1303.250119000002,
          "position": 987.099976
         },
         {
          "action": "HOLD",
          "actual": 1019.7999880000001,
          "date": "2016-11-09T00:00:00",
          "portfolio_history": 1702.9001449999996,
          "portfolio_history_bh": 1242.9500119999998,
          "portfolio_history_rand": 1394.2001310000019,
          "position": 985
         },
         {
          "action": "HOLD",
          "actual": 1038,
          "date": "2016-11-10T00:00:00",
          "portfolio_history": 1722.4501329999998,
          "portfolio_history_bh": 1262.5,
          "portfolio_history_rand": 1413.750119000002,
          "position": 986.599976
         },
         {
          "action": "HOLD",
          "actual": 1038,
          "date": "2016-11-11T00:00:00",
          "portfolio_history": 1743.750121,
          "portfolio_history_bh": 1283.7999880000002,
          "portfolio_history_rand": 1413.750119000002,
          "position": 999.9500119999999
         },
         {
          "action": "HOLD",
          "actual": 1007.0499880000001,
          "date": "2016-11-14T00:00:00",
          "portfolio_history": 1761.9501329999998,
          "portfolio_history_bh": 1302,
          "portfolio_history_rand": 1413.750119000002,
          "position": 1000
         },
         {
          "action": "HOLD",
          "actual": 997,
          "date": "2016-11-15T00:00:00",
          "portfolio_history": 1761.9501329999998,
          "portfolio_history_bh": 1302,
          "portfolio_history_rand": 1413.750119000002,
          "position": 1004
         },
         {
          "action": "HOLD",
          "actual": 997,
          "date": "2016-11-16T00:00:00",
          "portfolio_history": 1731.000121,
          "portfolio_history_bh": 1271.0499880000002,
          "portfolio_history_rand": 1413.750119000002,
          "position": 1024.949951
         },
         {
          "action": "HOLD",
          "actual": 1011.7999880000001,
          "date": "2016-11-17T00:00:00",
          "portfolio_history": 1720.9501329999998,
          "portfolio_history_bh": 1261,
          "portfolio_history_rand": 1403.7001310000019,
          "position": 1003.0499880000001
         },
         {
          "action": "HOLD",
          "actual": 999.0499880000001,
          "date": "2016-11-18T00:00:00",
          "portfolio_history": 1720.9501329999998,
          "portfolio_history_bh": 1261,
          "portfolio_history_rand": 1403.7001310000019,
          "position": 1015
         },
         {
          "action": "HOLD",
          "actual": 1000.0499880000001,
          "date": "2016-11-21T00:00:00",
          "portfolio_history": 1735.750121,
          "portfolio_history_bh": 1275.7999880000002,
          "portfolio_history_rand": 1418.500119000002,
          "position": 1003.099976
         },
         {
          "action": "HOLD",
          "actual": 1002.2000119999999,
          "date": "2016-11-22T00:00:00",
          "portfolio_history": 1723.000121,
          "portfolio_history_bh": 1263.0499880000002,
          "portfolio_history_rand": 1418.500119000002,
          "position": 1065.650024
         },
         {
          "action": "HOLD",
          "actual": 1030,
          "date": "2016-11-23T00:00:00",
          "portfolio_history": 1724.000121,
          "portfolio_history_bh": 1264.0499880000002,
          "portfolio_history_rand": 1418.500119000002,
          "position": 1030.099976
         },
         {
          "action": "HOLD",
          "actual": 1045,
          "date": "2016-11-25T00:00:00",
          "portfolio_history": 1726.1501449999996,
          "portfolio_history_bh": 1266.2000119999998,
          "portfolio_history_rand": 1420.650143000002,
          "position": 1012
         },
         {
          "action": "HOLD",
          "actual": 1055,
          "date": "2016-11-28T00:00:00",
          "portfolio_history": 1753.9501329999998,
          "portfolio_history_bh": 1294,
          "portfolio_history_rand": 1420.650143000002,
          "position": 1014
         },
         {
          "action": "HOLD",
          "actual": 1055.400024,
          "date": "2016-11-29T00:00:00",
          "portfolio_history": 1768.9501329999998,
          "portfolio_history_bh": 1309,
          "portfolio_history_rand": 1420.650143000002,
          "position": 1006
         },
         {
          "action": "HOLD",
          "actual": 1060,
          "date": "2016-11-30T00:00:00",
          "portfolio_history": 1778.9501329999998,
          "portfolio_history_bh": 1319,
          "portfolio_history_rand": 1420.650143000002,
          "position": 1021.7999880000001
         },
         {
          "action": "HOLD",
          "actual": 1070,
          "date": "2016-12-01T00:00:00",
          "portfolio_history": 1779.3501569999999,
          "portfolio_history_bh": 1319.400024,
          "portfolio_history_rand": 1420.650143000002,
          "position": 1020
         },
         {
          "action": "SELL",
          "actual": 1069.800049,
          "date": "2016-12-02T00:00:00",
          "portfolio_history": 1783.9501329999998,
          "portfolio_history_bh": 1324,
          "portfolio_history_rand": 1420.650143000002,
          "position": 1020
         },
         {
          "action": "HOLD",
          "actual": 1060.25,
          "date": "2016-12-05T00:00:00",
          "portfolio_history": 1793.9501329999998,
          "portfolio_history_bh": 1334,
          "portfolio_history_rand": 1420.650143000002,
          "position": 1006.5499880000001
         },
         {
          "action": "HOLD",
          "actual": 1070,
          "date": "2016-12-06T00:00:00",
          "portfolio_history": 1793.9501329999998,
          "portfolio_history_bh": 1333.800049,
          "portfolio_history_rand": 1420.650143000002,
          "position": 1019
         },
         {
          "action": "HOLD",
          "actual": 1063.949951,
          "date": "2016-12-07T00:00:00",
          "portfolio_history": 1793.9501329999998,
          "portfolio_history_bh": 1324.25,
          "portfolio_history_rand": 1420.650143000002,
          "position": 1019
         },
         {
          "action": "HOLD",
          "actual": 1095,
          "date": "2016-12-08T00:00:00",
          "portfolio_history": 1793.9501329999998,
          "portfolio_history_bh": 1334,
          "portfolio_history_rand": 1420.650143000002,
          "position": 1010
         },
         {
          "action": "HOLD",
          "actual": 1084,
          "date": "2016-12-09T00:00:00",
          "portfolio_history": 1793.9501329999998,
          "portfolio_history_bh": 1327.949951,
          "portfolio_history_rand": 1420.650143000002,
          "position": 1002
         },
         {
          "action": "HOLD",
          "actual": 1084,
          "date": "2016-12-12T00:00:00",
          "portfolio_history": 1793.9501329999998,
          "portfolio_history_bh": 1359,
          "portfolio_history_rand": 1420.650143000002,
          "position": 1010
         },
         {
          "action": "HOLD",
          "actual": 1083,
          "date": "2016-12-13T00:00:00",
          "portfolio_history": 1793.9501329999998,
          "portfolio_history_bh": 1348,
          "portfolio_history_rand": 1420.650143000002,
          "position": 1001
         },
         {
          "action": "HOLD",
          "actual": 1089,
          "date": "2016-12-14T00:00:00",
          "portfolio_history": 1793.9501329999998,
          "portfolio_history_bh": 1348,
          "portfolio_history_rand": 1420.650143000002,
          "position": 1001
         },
         {
          "action": "HOLD",
          "actual": 1077.949951,
          "date": "2016-12-15T00:00:00",
          "portfolio_history": 1793.9501329999998,
          "portfolio_history_bh": 1347,
          "portfolio_history_rand": 1420.650143000002,
          "position": 1065
         },
         {
          "action": "HOLD",
          "actual": 1090,
          "date": "2016-12-16T00:00:00",
          "portfolio_history": 1793.9501329999998,
          "portfolio_history_bh": 1353,
          "portfolio_history_rand": 1420.650143000002,
          "position": 1060.900024
         },
         {
          "action": "HOLD",
          "actual": 1070,
          "date": "2016-12-19T00:00:00",
          "portfolio_history": 1793.9501329999998,
          "portfolio_history_bh": 1341.949951,
          "portfolio_history_rand": 1420.650143000002,
          "position": 1057.949951
         },
         {
          "action": "HOLD",
          "actual": 1088,
          "date": "2016-12-20T00:00:00",
          "portfolio_history": 1793.9501329999998,
          "portfolio_history_bh": 1354,
          "portfolio_history_rand": 1420.650143000002,
          "position": 1033
         },
         {
          "action": "BUY",
          "actual": 1090,
          "date": "2016-12-21T00:00:00",
          "portfolio_history": 1793.9501329999998,
          "portfolio_history_bh": 1334,
          "portfolio_history_rand": 1400.650143000002,
          "position": 1025
         },
         {
          "action": "HOLD",
          "actual": 1090,
          "date": "2016-12-22T00:00:00",
          "portfolio_history": 1793.9501329999998,
          "portfolio_history_bh": 1352,
          "portfolio_history_rand": 1400.650143000002,
          "position": 1038
         },
         {
          "action": "HOLD",
          "actual": 1089.25,
          "date": "2016-12-23T00:00:00",
          "portfolio_history": 1795.9501329999998,
          "portfolio_history_bh": 1354,
          "portfolio_history_rand": 1402.650143000002,
          "position": 1030.099976
         },
         {
          "action": "HOLD",
          "actual": 1077,
          "date": "2016-12-27T00:00:00",
          "portfolio_history": 1795.9501329999998,
          "portfolio_history_bh": 1354,
          "portfolio_history_rand": 1402.650143000002,
          "position": 1032
         },
         {
          "action": "HOLD",
          "actual": 1084.75,
          "date": "2016-12-28T00:00:00",
          "portfolio_history": 1795.2001329999998,
          "portfolio_history_bh": 1353.25,
          "portfolio_history_rand": 1401.900143000002,
          "position": 1020
         },
         {
          "action": "HOLD",
          "actual": 1090,
          "date": "2016-12-29T00:00:00",
          "portfolio_history": 1782.9501329999998,
          "portfolio_history_bh": 1341,
          "portfolio_history_rand": 1389.650143000002,
          "position": 1025
         },
         {
          "action": "HOLD",
          "actual": 1100,
          "date": "2016-12-30T00:00:00",
          "portfolio_history": 1790.7001329999998,
          "portfolio_history_bh": 1348.75,
          "portfolio_history_rand": 1397.400143000002,
          "position": 1018
         },
         {
          "action": "HOLD",
          "actual": 1035,
          "date": "2017-01-03T00:00:00",
          "portfolio_history": 1795.9501329999998,
          "portfolio_history_bh": 1354,
          "portfolio_history_rand": 1402.650143000002,
          "position": 1025
         },
         {
          "action": "HOLD",
          "actual": 1025.25,
          "date": "2017-01-04T00:00:00",
          "portfolio_history": 1805.9501329999998,
          "portfolio_history_bh": 1364,
          "portfolio_history_rand": 1412.650143000002,
          "position": 1003
         },
         {
          "action": "HOLD",
          "actual": 1020,
          "date": "2017-01-05T00:00:00",
          "portfolio_history": 1740.9501329999998,
          "portfolio_history_bh": 1299,
          "portfolio_history_rand": 1347.650143000002,
          "position": 1016.849976
         },
         {
          "action": "HOLD",
          "actual": 1020,
          "date": "2017-01-06T00:00:00",
          "portfolio_history": 1731.2001329999998,
          "portfolio_history_bh": 1289.25,
          "portfolio_history_rand": 1347.650143000002,
          "position": 1010
         },
         {
          "action": "HOLD",
          "actual": 1023.5,
          "date": "2017-01-09T00:00:00",
          "portfolio_history": 1725.9501329999998,
          "portfolio_history_bh": 1284,
          "portfolio_history_rand": 1347.650143000002,
          "position": 997
         },
         {
          "action": "HOLD",
          "actual": 1030,
          "date": "2017-01-10T00:00:00",
          "portfolio_history": 1725.9501329999998,
          "portfolio_history_bh": 1284,
          "portfolio_history_rand": 1347.650143000002,
          "position": 995
         },
         {
          "action": "HOLD",
          "actual": 1034.550049,
          "date": "2017-01-11T00:00:00",
          "portfolio_history": 1729.4501329999998,
          "portfolio_history_bh": 1287.5,
          "portfolio_history_rand": 1351.150143000002,
          "position": 995
         },
         {
          "action": "HOLD",
          "actual": 1053.5,
          "date": "2017-01-12T00:00:00",
          "portfolio_history": 1735.9501329999998,
          "portfolio_history_bh": 1294,
          "portfolio_history_rand": 1357.650143000002,
          "position": 997.0499880000001
         },
         {
          "action": "HOLD",
          "actual": 1041.099976,
          "date": "2017-01-13T00:00:00",
          "portfolio_history": 1740.5001819999998,
          "portfolio_history_bh": 1298.550049,
          "portfolio_history_rand": 1362.2001920000018,
          "position": 1000
         },
         {
          "action": "HOLD",
          "actual": 1070,
          "date": "2017-01-17T00:00:00",
          "portfolio_history": 1759.4501329999998,
          "portfolio_history_bh": 1317.5,
          "portfolio_history_rand": 1362.2001920000018,
          "position": 1000
         },
         {
          "action": "HOLD",
          "actual": 1056.550049,
          "date": "2017-01-18T00:00:00",
          "portfolio_history": 1747.0501089999998,
          "portfolio_history_bh": 1305.099976,
          "portfolio_history_rand": 1349.8001680000018,
          "position": 999
         },
         {
          "action": "HOLD",
          "actual": 1065,
          "date": "2017-01-19T00:00:00",
          "portfolio_history": 1775.9501329999998,
          "portfolio_history_bh": 1334,
          "portfolio_history_rand": 1378.7001920000018,
          "position": 999.9500119999999
         },
         {
          "action": "HOLD",
          "actual": 1083,
          "date": "2017-01-20T00:00:00",
          "portfolio_history": 1762.5001819999998,
          "portfolio_history_bh": 1320.550049,
          "portfolio_history_rand": 1378.7001920000018,
          "position": 995
         },
         {
          "action": "HOLD",
          "actual": 1084.5,
          "date": "2017-01-23T00:00:00",
          "portfolio_history": 1770.9501329999998,
          "portfolio_history_bh": 1329,
          "portfolio_history_rand": 1387.150143000002,
          "position": 974
         },
         {
          "action": "HOLD",
          "actual": 1102.75,
          "date": "2017-01-24T00:00:00",
          "portfolio_history": 1788.9501329999998,
          "portfolio_history_bh": 1347,
          "portfolio_history_rand": 1405.150143000002,
          "position": 985
         },
         {
          "action": "HOLD",
          "actual": 1120,
          "date": "2017-01-25T00:00:00",
          "portfolio_history": 1790.4501329999998,
          "portfolio_history_bh": 1348.5,
          "portfolio_history_rand": 1405.150143000002,
          "position": 983
         },
         {
          "action": "HOLD",
          "actual": 1110,
          "date": "2017-01-26T00:00:00",
          "portfolio_history": 1808.7001329999998,
          "portfolio_history_bh": 1366.75,
          "portfolio_history_rand": 1405.150143000002,
          "position": 985
         },
         {
          "action": "HOLD",
          "actual": 1080,
          "date": "2017-01-27T00:00:00",
          "portfolio_history": 1825.9501329999998,
          "portfolio_history_bh": 1384,
          "portfolio_history_rand": 1405.150143000002,
          "position": 982
         },
         {
          "action": "HOLD",
          "actual": 1100,
          "date": "2017-01-30T00:00:00",
          "portfolio_history": 1815.9501329999998,
          "portfolio_history_bh": 1374,
          "portfolio_history_rand": 1405.150143000002,
          "position": 994.5
         },
         {
          "action": "HOLD",
          "actual": 1178.900024,
          "date": "2017-01-31T00:00:00",
          "portfolio_history": 1785.9501329999998,
          "portfolio_history_bh": 1344,
          "portfolio_history_rand": 1405.150143000002,
          "position": 1003
         },
         {
          "action": "HOLD",
          "actual": 1195,
          "date": "2017-02-01T00:00:00",
          "portfolio_history": 1805.9501329999998,
          "portfolio_history_bh": 1364,
          "portfolio_history_rand": 1425.150143000002,
          "position": 1016
         },
         {
          "action": "HOLD",
          "actual": 1165,
          "date": "2017-02-02T00:00:00",
          "portfolio_history": 1884.8501569999999,
          "portfolio_history_bh": 1442.900024,
          "portfolio_history_rand": 1504.050167000002,
          "position": 1020
         },
         {
          "action": "HOLD",
          "actual": 1124,
          "date": "2017-02-03T00:00:00",
          "portfolio_history": 1900.9501329999998,
          "portfolio_history_bh": 1459,
          "portfolio_history_rand": 1520.150143000002,
          "position": 1046.5
         },
         {
          "action": "HOLD",
          "actual": 1136,
          "date": "2017-02-06T00:00:00",
          "portfolio_history": 1870.9501329999998,
          "portfolio_history_bh": 1429,
          "portfolio_history_rand": 1490.150143000002,
          "position": 1054.5
         },
         {
          "action": "HOLD",
          "actual": 1128.099976,
          "date": "2017-02-07T00:00:00",
          "portfolio_history": 1829.9501329999998,
          "portfolio_history_bh": 1388,
          "portfolio_history_rand": 1449.150143000002,
          "position": 1082
         },
         {
          "action": "HOLD",
          "actual": 1140,
          "date": "2017-02-08T00:00:00",
          "portfolio_history": 1841.9501329999998,
          "portfolio_history_bh": 1400,
          "portfolio_history_rand": 1449.150143000002,
          "position": 1116
         },
         {
          "action": "HOLD",
          "actual": 1155,
          "date": "2017-02-09T00:00:00",
          "portfolio_history": 1834.0501089999998,
          "portfolio_history_bh": 1392.099976,
          "portfolio_history_rand": 1441.2501190000019,
          "position": 1120
         },
         {
          "action": "HOLD",
          "actual": 1155,
          "date": "2017-02-10T00:00:00",
          "portfolio_history": 1845.9501329999998,
          "portfolio_history_bh": 1404,
          "portfolio_history_rand": 1453.150143000002,
          "position": 1124
         },
         {
          "action": "HOLD",
          "actual": 1150,
          "date": "2017-02-13T00:00:00",
          "portfolio_history": 1860.9501329999998,
          "portfolio_history_bh": 1419,
          "portfolio_history_rand": 1468.150143000002,
          "position": 1110
         },
         {
          "action": "HOLD",
          "actual": 1121,
          "date": "2017-02-14T00:00:00",
          "portfolio_history": 1860.9501329999998,
          "portfolio_history_bh": 1419,
          "portfolio_history_rand": 1468.150143000002,
          "position": 1110
         },
         {
          "action": "HOLD",
          "actual": 1119.949951,
          "date": "2017-02-15T00:00:00",
          "portfolio_history": 1855.9501329999998,
          "portfolio_history_bh": 1414,
          "portfolio_history_rand": 1468.150143000002,
          "position": 1109.900024
         },
         {
          "action": "HOLD",
          "actual": 1120,
          "date": "2017-02-16T00:00:00",
          "portfolio_history": 1826.9501329999998,
          "portfolio_history_bh": 1385,
          "portfolio_history_rand": 1468.150143000002,
          "position": 1100
         },
         {
          "action": "HOLD",
          "actual": 1123,
          "date": "2017-02-17T00:00:00",
          "portfolio_history": 1825.9000839999999,
          "portfolio_history_bh": 1383.949951,
          "portfolio_history_rand": 1467.100094000002,
          "position": 1100
         },
         {
          "action": "HOLD",
          "actual": 1135,
          "date": "2017-02-21T00:00:00",
          "portfolio_history": 1825.9501329999998,
          "portfolio_history_bh": 1384,
          "portfolio_history_rand": 1467.100094000002,
          "position": 1086
         },
         {
          "action": "HOLD",
          "actual": 1150,
          "date": "2017-02-22T00:00:00",
          "portfolio_history": 1828.9501329999998,
          "portfolio_history_bh": 1387,
          "portfolio_history_rand": 1467.100094000002,
          "position": 1072.050049
         },
         {
          "action": "HOLD",
          "actual": 1160,
          "date": "2017-02-23T00:00:00",
          "portfolio_history": 1840.9501329999998,
          "portfolio_history_bh": 1399,
          "portfolio_history_rand": 1479.100094000002,
          "position": 1084.900024
         },
         {
          "action": "HOLD",
          "actual": 1190,
          "date": "2017-02-24T00:00:00",
          "portfolio_history": 1855.9501329999998,
          "portfolio_history_bh": 1414,
          "portfolio_history_rand": 1479.100094000002,
          "position": 1075
         },
         {
          "action": "HOLD",
          "actual": 1175,
          "date": "2017-02-27T00:00:00",
          "portfolio_history": 1865.9501329999998,
          "portfolio_history_bh": 1424,
          "portfolio_history_rand": 1479.100094000002,
          "position": 1060
         },
         {
          "action": "HOLD",
          "actual": 1175,
          "date": "2017-02-28T00:00:00",
          "portfolio_history": 1895.9501329999998,
          "portfolio_history_bh": 1454,
          "portfolio_history_rand": 1479.100094000002,
          "position": 1051
         },
         {
          "action": "HOLD",
          "actual": 1169,
          "date": "2017-03-01T00:00:00",
          "portfolio_history": 1880.9501329999998,
          "portfolio_history_bh": 1439,
          "portfolio_history_rand": 1479.100094000002,
          "position": 1052
         },
         {
          "action": "HOLD",
          "actual": 1140,
          "date": "2017-03-02T00:00:00",
          "portfolio_history": 1880.9501329999998,
          "portfolio_history_bh": 1439,
          "portfolio_history_rand": 1479.100094000002,
          "position": 1045
         },
         {
          "action": "HOLD",
          "actual": 1140.050049,
          "date": "2017-03-03T00:00:00",
          "portfolio_history": 1874.9501329999998,
          "portfolio_history_bh": 1433,
          "portfolio_history_rand": 1473.100094000002,
          "position": 1060
         },
         {
          "action": "HOLD",
          "actual": 1146,
          "date": "2017-03-06T00:00:00",
          "portfolio_history": 1845.9501329999998,
          "portfolio_history_bh": 1404,
          "portfolio_history_rand": 1473.100094000002,
          "position": 1074
         },
         {
          "action": "HOLD",
          "actual": 1174,
          "date": "2017-03-07T00:00:00",
          "portfolio_history": 1846.0001819999998,
          "portfolio_history_bh": 1404.050049,
          "portfolio_history_rand": 1473.150143000002,
          "position": 1070
         },
         {
          "action": "HOLD",
          "actual": 1161,
          "date": "2017-03-08T00:00:00",
          "portfolio_history": 1851.9501329999998,
          "portfolio_history_bh": 1410,
          "portfolio_history_rand": 1479.100094000002,
          "position": 1070
         },
         {
          "action": "HOLD",
          "actual": 1160,
          "date": "2017-03-09T00:00:00",
          "portfolio_history": 1879.9501329999998,
          "portfolio_history_bh": 1438,
          "portfolio_history_rand": 1507.100094000002,
          "position": 1042
         },
         {
          "action": "SELL",
          "actual": 1174.5,
          "date": "2017-03-10T00:00:00",
          "portfolio_history": 1866.9501329999998,
          "portfolio_history_bh": 1425,
          "portfolio_history_rand": 1494.100094000002,
          "position": 1042
         },
         {
          "action": "HOLD",
          "actual": 1189,
          "date": "2017-03-13T00:00:00",
          "portfolio_history": 1865.9501329999998,
          "portfolio_history_bh": 1424,
          "portfolio_history_rand": 1493.100094000002,
          "position": 1045
         },
         {
          "action": "HOLD",
          "actual": 1185,
          "date": "2017-03-14T00:00:00",
          "portfolio_history": 1865.9501329999998,
          "portfolio_history_bh": 1438.5,
          "portfolio_history_rand": 1507.600094000002,
          "position": 1051.050049
         },
         {
          "action": "HOLD",
          "actual": 1173,
          "date": "2017-03-15T00:00:00",
          "portfolio_history": 1865.9501329999998,
          "portfolio_history_bh": 1453,
          "portfolio_history_rand": 1522.100094000002,
          "position": 1051.050049
         },
         {
          "action": "HOLD",
          "actual": 1187.900024,
          "date": "2017-03-16T00:00:00",
          "portfolio_history": 1865.9501329999998,
          "portfolio_history_bh": 1449,
          "portfolio_history_rand": 1518.100094000002,
          "position": 1075
         },
         {
          "action": "HOLD",
          "actual": 1098.900024,
          "date": "2017-03-17T00:00:00",
          "portfolio_history": 1865.9501329999998,
          "portfolio_history_bh": 1437,
          "portfolio_history_rand": 1506.100094000002,
          "position": 1020
         },
         {
          "action": "HOLD",
          "actual": 1078.900024,
          "date": "2017-03-20T00:00:00",
          "portfolio_history": 1865.9501329999998,
          "portfolio_history_bh": 1451.900024,
          "portfolio_history_rand": 1521.000118000002,
          "position": 1002.150024
         },
         {
          "action": "HOLD",
          "actual": 1040,
          "date": "2017-03-21T00:00:00",
          "portfolio_history": 1865.9501329999998,
          "portfolio_history_bh": 1362.900024,
          "portfolio_history_rand": 1432.000118000002,
          "position": 1020
         },
         {
          "action": "HOLD",
          "actual": 1020,
          "date": "2017-03-22T00:00:00",
          "portfolio_history": 1865.9501329999998,
          "portfolio_history_bh": 1342.900024,
          "portfolio_history_rand": 1432.000118000002,
          "position": 1074
         },
         {
          "action": "HOLD",
          "actual": 1050,
          "date": "2017-03-23T00:00:00",
          "portfolio_history": 1865.9501329999998,
          "portfolio_history_bh": 1304,
          "portfolio_history_rand": 1393.100094000002,
          "position": 1030
         },
         {
          "action": "HOLD",
          "actual": 1065,
          "date": "2017-03-24T00:00:00",
          "portfolio_history": 1865.9501329999998,
          "portfolio_history_bh": 1284,
          "portfolio_history_rand": 1373.100094000002,
          "position": 1038
         },
         {
          "action": "HOLD",
          "actual": 1054.800049,
          "date": "2017-03-27T00:00:00",
          "portfolio_history": 1865.9501329999998,
          "portfolio_history_bh": 1314,
          "portfolio_history_rand": 1373.100094000002,
          "position": 1040
         },
         {
          "action": "HOLD",
          "actual": 1032.800049,
          "date": "2017-03-28T00:00:00",
          "portfolio_history": 1865.9501329999998,
          "portfolio_history_bh": 1329,
          "portfolio_history_rand": 1388.100094000002,
          "position": 1030.5
         },
         {
          "action": "HOLD",
          "actual": 1042,
          "date": "2017-03-29T00:00:00",
          "portfolio_history": 1865.9501329999998,
          "portfolio_history_bh": 1318.800049,
          "portfolio_history_rand": 1377.900143000002,
          "position": 1040
         },
         {
          "action": "HOLD",
          "actual": 1010,
          "date": "2017-03-30T00:00:00",
          "portfolio_history": 1865.9501329999998,
          "portfolio_history_bh": 1296.800049,
          "portfolio_history_rand": 1355.900143000002,
          "position": 1012
         },
         {
          "action": "HOLD",
          "actual": 1030,
          "date": "2017-03-31T00:00:00",
          "portfolio_history": 1865.9501329999998,
          "portfolio_history_bh": 1306,
          "portfolio_history_rand": 1365.100094000002,
          "position": 1009
         },
         {
          "action": "HOLD",
          "actual": 1029,
          "date": "2017-04-03T00:00:00",
          "portfolio_history": 1865.9501329999998,
          "portfolio_history_bh": 1274,
          "portfolio_history_rand": 1365.100094000002,
          "position": 1005.0499880000001
         },
         {
          "action": "HOLD",
          "actual": 985,
          "date": "2017-04-04T00:00:00",
          "portfolio_history": 1865.9501329999998,
          "portfolio_history_bh": 1294,
          "portfolio_history_rand": 1385.100094000002,
          "position": 1004
         },
         {
          "action": "HOLD",
          "actual": 950,
          "date": "2017-04-05T00:00:00",
          "portfolio_history": 1865.9501329999998,
          "portfolio_history_bh": 1293,
          "portfolio_history_rand": 1384.100094000002,
          "position": 1002
         },
         {
          "action": "HOLD",
          "actual": 952.5,
          "date": "2017-04-06T00:00:00",
          "portfolio_history": 1865.9501329999998,
          "portfolio_history_bh": 1249,
          "portfolio_history_rand": 1340.100094000002,
          "position": 1025
         },
         {
          "action": "HOLD",
          "actual": 1000,
          "date": "2017-04-07T00:00:00",
          "portfolio_history": 1865.9501329999998,
          "portfolio_history_bh": 1214,
          "portfolio_history_rand": 1305.100094000002,
          "position": 1019
         },
         {
          "action": "HOLD",
          "actual": 965,
          "date": "2017-04-10T00:00:00",
          "portfolio_history": 1865.9501329999998,
          "portfolio_history_bh": 1216.5,
          "portfolio_history_rand": 1307.600094000002,
          "position": 1020
         },
         {
          "action": "HOLD",
          "actual": 970,
          "date": "2017-04-11T00:00:00",
          "portfolio_history": 1865.9501329999998,
          "portfolio_history_bh": 1264,
          "portfolio_history_rand": 1355.100094000002,
          "position": 1025
         },
         {
          "action": "HOLD",
          "actual": 955,
          "date": "2017-04-12T00:00:00",
          "portfolio_history": 1865.9501329999998,
          "portfolio_history_bh": 1229,
          "portfolio_history_rand": 1355.100094000002,
          "position": 1014.5
         },
         {
          "action": "HOLD",
          "actual": 965,
          "date": "2017-04-13T00:00:00",
          "portfolio_history": 1865.9501329999998,
          "portfolio_history_bh": 1234,
          "portfolio_history_rand": 1355.100094000002,
          "position": 999
         },
         {
          "action": "HOLD",
          "actual": 965,
          "date": "2017-04-17T00:00:00",
          "portfolio_history": 1865.9501329999998,
          "portfolio_history_bh": 1219,
          "portfolio_history_rand": 1340.100094000002,
          "position": 993
         },
         {
          "action": "HOLD",
          "actual": 967,
          "date": "2017-04-18T00:00:00",
          "portfolio_history": 1865.9501329999998,
          "portfolio_history_bh": 1229,
          "portfolio_history_rand": 1350.100094000002,
          "position": 1000
         },
         {
          "action": "HOLD",
          "actual": 999,
          "date": "2017-04-19T00:00:00",
          "portfolio_history": 1865.9501329999998,
          "portfolio_history_bh": 1229,
          "portfolio_history_rand": 1350.100094000002,
          "position": 990
         },
         {
          "action": "HOLD",
          "actual": 998,
          "date": "2017-04-20T00:00:00",
          "portfolio_history": 1865.9501329999998,
          "portfolio_history_bh": 1231,
          "portfolio_history_rand": 1352.100094000002,
          "position": 1000
         },
         {
          "action": "HOLD",
          "actual": 1020,
          "date": "2017-04-21T00:00:00",
          "portfolio_history": 1865.9501329999998,
          "portfolio_history_bh": 1263,
          "portfolio_history_rand": 1384.100094000002,
          "position": 1000
         },
         {
          "action": "HOLD",
          "actual": 1035,
          "date": "2017-04-24T00:00:00",
          "portfolio_history": 1865.9501329999998,
          "portfolio_history_bh": 1262,
          "portfolio_history_rand": 1383.100094000002,
          "position": 1005
         },
         {
          "action": "HOLD",
          "actual": 1043,
          "date": "2017-04-25T00:00:00",
          "portfolio_history": 1865.9501329999998,
          "portfolio_history_bh": 1284,
          "portfolio_history_rand": 1405.100094000002,
          "position": 997
         },
         {
          "action": "HOLD",
          "actual": 1050,
          "date": "2017-04-26T00:00:00",
          "portfolio_history": 1865.9501329999998,
          "portfolio_history_bh": 1299,
          "portfolio_history_rand": 1420.100094000002,
          "position": 990
         },
         {
          "action": "HOLD",
          "actual": 1095,
          "date": "2017-04-27T00:00:00",
          "portfolio_history": 1865.9501329999998,
          "portfolio_history_bh": 1307,
          "portfolio_history_rand": 1428.100094000002,
          "position": 980
         },
         {
          "action": "HOLD",
          "actual": 1100,
          "date": "2017-04-28T00:00:00",
          "portfolio_history": 1865.9501329999998,
          "portfolio_history_bh": 1314,
          "portfolio_history_rand": 1435.100094000002,
          "position": 971
         },
         {
          "action": "HOLD",
          "actual": 1100,
          "date": "2017-05-01T00:00:00",
          "portfolio_history": 1865.9501329999998,
          "portfolio_history_bh": 1359,
          "portfolio_history_rand": 1435.100094000002,
          "position": 975
         },
         {
          "action": "HOLD",
          "actual": 1118,
          "date": "2017-05-02T00:00:00",
          "portfolio_history": 1865.9501329999998,
          "portfolio_history_bh": 1364,
          "portfolio_history_rand": 1435.100094000002,
          "position": 990
         },
         {
          "action": "HOLD",
          "actual": 1118,
          "date": "2017-05-03T00:00:00",
          "portfolio_history": 1865.9501329999998,
          "portfolio_history_bh": 1364,
          "portfolio_history_rand": 1435.100094000002,
          "position": 990
         },
         {
          "action": "HOLD",
          "actual": 1100,
          "date": "2017-05-04T00:00:00",
          "portfolio_history": 1865.9501329999998,
          "portfolio_history_bh": 1382,
          "portfolio_history_rand": 1453.100094000002,
          "position": 983
         },
         {
          "action": "HOLD",
          "actual": 1095,
          "date": "2017-05-05T00:00:00",
          "portfolio_history": 1865.9501329999998,
          "portfolio_history_bh": 1382,
          "portfolio_history_rand": 1453.100094000002,
          "position": 975
         },
         {
          "action": "HOLD",
          "actual": 1118,
          "date": "2017-05-08T00:00:00",
          "portfolio_history": 1865.9501329999998,
          "portfolio_history_bh": 1364,
          "portfolio_history_rand": 1435.100094000002,
          "position": 973
         },
         {
          "action": "HOLD",
          "actual": 1116,
          "date": "2017-05-09T00:00:00",
          "portfolio_history": 1865.9501329999998,
          "portfolio_history_bh": 1359,
          "portfolio_history_rand": 1430.100094000002,
          "position": 978
         },
         {
          "action": "HOLD",
          "actual": 1115,
          "date": "2017-05-10T00:00:00",
          "portfolio_history": 1865.9501329999998,
          "portfolio_history_bh": 1382,
          "portfolio_history_rand": 1430.100094000002,
          "position": 975.099976
         },
         {
          "action": "HOLD",
          "actual": 1105,
          "date": "2017-05-11T00:00:00",
          "portfolio_history": 1865.9501329999998,
          "portfolio_history_bh": 1380,
          "portfolio_history_rand": 1430.100094000002,
          "position": 976
         },
         {
          "action": "HOLD",
          "actual": 1110,
          "date": "2017-05-12T00:00:00",
          "portfolio_history": 1865.9501329999998,
          "portfolio_history_bh": 1379,
          "portfolio_history_rand": 1430.100094000002,
          "position": 983
         },
         {
          "action": "BUY",
          "actual": 1091.900024,
          "date": "2017-05-15T00:00:00",
          "portfolio_history": 1865.9501329999998,
          "portfolio_history_bh": 1369,
          "portfolio_history_rand": 1430.100094000002,
          "position": 969.9500119999999
         },
         {
          "action": "HOLD",
          "actual": 1112,
          "date": "2017-05-16T00:00:00",
          "portfolio_history": 1865.9501329999998,
          "portfolio_history_bh": 1374,
          "portfolio_history_rand": 1430.100094000002,
          "position": 945.5
         },
         {
          "action": "HOLD",
          "actual": 1097.800049,
          "date": "2017-05-17T00:00:00",
          "portfolio_history": 1847.8501569999999,
          "portfolio_history_bh": 1355.900024,
          "portfolio_history_rand": 1430.100094000002,
          "position": 930
         },
         {
          "action": "HOLD",
          "actual": 1085,
          "date": "2017-05-18T00:00:00",
          "portfolio_history": 1867.9501329999998,
          "portfolio_history_bh": 1376,
          "portfolio_history_rand": 1430.100094000002,
          "position": 938
         },
         {
          "action": "HOLD",
          "actual": 1097.5,
          "date": "2017-05-19T00:00:00",
          "portfolio_history": 1853.7501819999998,
          "portfolio_history_bh": 1361.800049,
          "portfolio_history_rand": 1430.100094000002,
          "position": 940
         },
         {
          "action": "HOLD",
          "actual": 1107.900024,
          "date": "2017-05-22T00:00:00",
          "portfolio_history": 1840.9501329999998,
          "portfolio_history_bh": 1349,
          "portfolio_history_rand": 1430.100094000002,
          "position": 945
         },
         {
          "action": "HOLD",
          "actual": 1112,
          "date": "2017-05-23T00:00:00",
          "portfolio_history": 1853.4501329999998,
          "portfolio_history_bh": 1361.5,
          "portfolio_history_rand": 1430.100094000002,
          "position": 950
         },
         {
          "action": "HOLD",
          "actual": 1100,
          "date": "2017-05-24T00:00:00",
          "portfolio_history": 1863.8501569999999,
          "portfolio_history_bh": 1371.900024,
          "portfolio_history_rand": 1430.100094000002,
          "position": 950
         },
         {
          "action": "SELL",
          "actual": 1125,
          "date": "2017-05-25T00:00:00",
          "portfolio_history": 1867.9501329999998,
          "portfolio_history_bh": 1376,
          "portfolio_history_rand": 1430.100094000002,
          "position": 954
         },
         {
          "action": "HOLD",
          "actual": 1108,
          "date": "2017-05-26T00:00:00",
          "portfolio_history": 1855.9501329999998,
          "portfolio_history_bh": 1364,
          "portfolio_history_rand": 1430.100094000002,
          "position": 940
         },
         {
          "action": "HOLD",
          "actual": 1160,
          "date": "2017-05-30T00:00:00",
          "portfolio_history": 1855.9501329999998,
          "portfolio_history_bh": 1389,
          "portfolio_history_rand": 1430.100094000002,
          "position": 935
         },
         {
          "action": "HOLD",
          "actual": 1194.949951,
          "date": "2017-05-31T00:00:00",
          "portfolio_history": 1855.9501329999998,
          "portfolio_history_bh": 1372,
          "portfolio_history_rand": 1430.100094000002,
          "position": 930
         },
         {
          "action": "HOLD",
          "actual": 1189,
          "date": "2017-06-01T00:00:00",
          "portfolio_history": 1855.9501329999998,
          "portfolio_history_bh": 1424,
          "portfolio_history_rand": 1430.100094000002,
          "position": 940
         },
         {
          "action": "HOLD",
          "actual": 1180,
          "date": "2017-06-02T00:00:00",
          "portfolio_history": 1855.9501329999998,
          "portfolio_history_bh": 1458.949951,
          "portfolio_history_rand": 1430.100094000002,
          "position": 940
         },
         {
          "action": "HOLD",
          "actual": 1174,
          "date": "2017-06-05T00:00:00",
          "portfolio_history": 1855.9501329999998,
          "portfolio_history_bh": 1453,
          "portfolio_history_rand": 1430.100094000002,
          "position": 950
         },
         {
          "action": "HOLD",
          "actual": 1167,
          "date": "2017-06-06T00:00:00",
          "portfolio_history": 1855.9501329999998,
          "portfolio_history_bh": 1444,
          "portfolio_history_rand": 1421.100094000002,
          "position": 940
         },
         {
          "action": "HOLD",
          "actual": 1145,
          "date": "2017-06-07T00:00:00",
          "portfolio_history": 1855.9501329999998,
          "portfolio_history_bh": 1438,
          "portfolio_history_rand": 1415.100094000002,
          "position": 917
         },
         {
          "action": "HOLD",
          "actual": 1140,
          "date": "2017-06-08T00:00:00",
          "portfolio_history": 1855.9501329999998,
          "portfolio_history_bh": 1431,
          "portfolio_history_rand": 1415.100094000002,
          "position": 913
         },
         {
          "action": "HOLD",
          "actual": 1164,
          "date": "2017-06-09T00:00:00",
          "portfolio_history": 1855.9501329999998,
          "portfolio_history_bh": 1409,
          "portfolio_history_rand": 1415.100094000002,
          "position": 913
         },
         {
          "action": "HOLD",
          "actual": 1168,
          "date": "2017-06-12T00:00:00",
          "portfolio_history": 1855.9501329999998,
          "portfolio_history_bh": 1404,
          "portfolio_history_rand": 1410.100094000002,
          "position": 917
         },
         {
          "action": "HOLD",
          "actual": 1175,
          "date": "2017-06-13T00:00:00",
          "portfolio_history": 1855.9501329999998,
          "portfolio_history_bh": 1428,
          "portfolio_history_rand": 1434.100094000002,
          "position": 920.099976
         },
         {
          "action": "HOLD",
          "actual": 1170,
          "date": "2017-06-14T00:00:00",
          "portfolio_history": 1855.9501329999998,
          "portfolio_history_bh": 1432,
          "portfolio_history_rand": 1438.100094000002,
          "position": 920.0499880000001
         },
         {
          "action": "HOLD",
          "actual": 1170,
          "date": "2017-06-15T00:00:00",
          "portfolio_history": 1855.9501329999998,
          "portfolio_history_bh": 1439,
          "portfolio_history_rand": 1445.100094000002,
          "position": 917
         },
         {
          "action": "HOLD",
          "actual": 1180,
          "date": "2017-06-16T00:00:00",
          "portfolio_history": 1855.9501329999998,
          "portfolio_history_bh": 1434,
          "portfolio_history_rand": 1445.100094000002,
          "position": 921
         },
         {
          "action": "HOLD",
          "actual": 1182.199951,
          "date": "2017-06-19T00:00:00",
          "portfolio_history": 1855.9501329999998,
          "portfolio_history_bh": 1434,
          "portfolio_history_rand": 1445.100094000002,
          "position": 906.9500119999999
         },
         {
          "action": "HOLD",
          "actual": 1180.150024,
          "date": "2017-06-20T00:00:00",
          "portfolio_history": 1855.9501329999998,
          "portfolio_history_bh": 1444,
          "portfolio_history_rand": 1455.100094000002,
          "position": 885
         },
         {
          "action": "HOLD",
          "actual": 1191.949951,
          "date": "2017-06-21T00:00:00",
          "portfolio_history": 1855.9501329999998,
          "portfolio_history_bh": 1446.199951,
          "portfolio_history_rand": 1457.300045000002,
          "position": 891
         },
         {
          "action": "HOLD",
          "actual": 1190,
          "date": "2017-06-22T00:00:00",
          "portfolio_history": 1855.9501329999998,
          "portfolio_history_bh": 1444.150024,
          "portfolio_history_rand": 1455.250118000002,
          "position": 904.25
         },
         {
          "action": "HOLD",
          "actual": 1194,
          "date": "2017-06-23T00:00:00",
          "portfolio_history": 1855.9501329999998,
          "portfolio_history_bh": 1455.949951,
          "portfolio_history_rand": 1467.050045000002,
          "position": 910
         },
         {
          "action": "HOLD",
          "actual": 1175,
          "date": "2017-06-26T00:00:00",
          "portfolio_history": 1855.9501329999998,
          "portfolio_history_bh": 1454,
          "portfolio_history_rand": 1467.050045000002,
          "position": 920
         },
         {
          "action": "HOLD",
          "actual": 1188,
          "date": "2017-06-27T00:00:00",
          "portfolio_history": 1855.9501329999998,
          "portfolio_history_bh": 1458,
          "portfolio_history_rand": 1467.050045000002,
          "position": 924.75
         },
         {
          "action": "HOLD",
          "actual": 1194,
          "date": "2017-06-28T00:00:00",
          "portfolio_history": 1855.9501329999998,
          "portfolio_history_bh": 1439,
          "portfolio_history_rand": 1467.050045000002,
          "position": 917
         },
         {
          "action": "HOLD",
          "actual": 1195,
          "date": "2017-06-29T00:00:00",
          "portfolio_history": 1855.9501329999998,
          "portfolio_history_bh": 1452,
          "portfolio_history_rand": 1480.050045000002,
          "position": 891.0499880000001
         },
         {
          "action": "HOLD",
          "actual": 1180,
          "date": "2017-06-30T00:00:00",
          "portfolio_history": 1855.9501329999998,
          "portfolio_history_bh": 1458,
          "portfolio_history_rand": 1480.050045000002,
          "position": 905
         },
         {
          "action": "HOLD",
          "actual": 1178,
          "date": "2017-07-03T00:00:00",
          "portfolio_history": 1855.9501329999998,
          "portfolio_history_bh": 1459,
          "portfolio_history_rand": 1480.050045000002,
          "position": 910
         },
         {
          "action": "HOLD",
          "actual": 1175,
          "date": "2017-07-05T00:00:00",
          "portfolio_history": 1855.9501329999998,
          "portfolio_history_bh": 1444,
          "portfolio_history_rand": 1465.050045000002,
          "position": 910
         },
         {
          "action": "HOLD",
          "actual": 1188,
          "date": "2017-07-06T00:00:00",
          "portfolio_history": 1855.9501329999998,
          "portfolio_history_bh": 1442,
          "portfolio_history_rand": 1465.050045000002,
          "position": 891
         },
         {
          "action": "HOLD",
          "actual": 1168,
          "date": "2017-07-07T00:00:00",
          "portfolio_history": 1855.9501329999998,
          "portfolio_history_bh": 1439,
          "portfolio_history_rand": 1462.050045000002,
          "position": 899.400024
         },
         {
          "action": "HOLD",
          "actual": 1160,
          "date": "2017-07-10T00:00:00",
          "portfolio_history": 1855.9501329999998,
          "portfolio_history_bh": 1452,
          "portfolio_history_rand": 1475.050045000002,
          "position": 910
         },
         {
          "action": "BUY",
          "actual": 1150,
          "date": "2017-07-11T00:00:00",
          "portfolio_history": 1855.9501329999998,
          "portfolio_history_bh": 1432,
          "portfolio_history_rand": 1455.050045000002,
          "position": 894
         },
         {
          "action": "HOLD",
          "actual": 1165,
          "date": "2017-07-12T00:00:00",
          "portfolio_history": 1855.9501329999998,
          "portfolio_history_bh": 1424,
          "portfolio_history_rand": 1447.050045000002,
          "position": 879
         },
         {
          "action": "HOLD",
          "actual": 1160,
          "date": "2017-07-13T00:00:00",
          "portfolio_history": 1845.9501329999998,
          "portfolio_history_bh": 1414,
          "portfolio_history_rand": 1437.050045000002,
          "position": 870
         },
         {
          "action": "HOLD",
          "actual": 1165,
          "date": "2017-07-14T00:00:00",
          "portfolio_history": 1860.9501329999998,
          "portfolio_history_bh": 1429,
          "portfolio_history_rand": 1452.050045000002,
          "position": 853.5
         },
         {
          "action": "HOLD",
          "actual": 1170,
          "date": "2017-07-17T00:00:00",
          "portfolio_history": 1855.9501329999998,
          "portfolio_history_bh": 1424,
          "portfolio_history_rand": 1452.050045000002,
          "position": 863
         },
         {
          "action": "HOLD",
          "actual": 1169.949951,
          "date": "2017-07-18T00:00:00",
          "portfolio_history": 1860.9501329999998,
          "portfolio_history_bh": 1429,
          "portfolio_history_rand": 1452.050045000002,
          "position": 856
         },
         {
          "action": "HOLD",
          "actual": 1194.900024,
          "date": "2017-07-19T00:00:00",
          "portfolio_history": 1865.9501329999998,
          "portfolio_history_bh": 1434,
          "portfolio_history_rand": 1452.050045000002,
          "position": 850.150024
         },
         {
          "action": "HOLD",
          "actual": 1172.949951,
          "date": "2017-07-20T00:00:00",
          "portfolio_history": 1865.9000839999999,
          "portfolio_history_bh": 1433.949951,
          "portfolio_history_rand": 1451.999996000002,
          "position": 900
         },
         {
          "action": "HOLD",
          "actual": 1140,
          "date": "2017-07-21T00:00:00",
          "portfolio_history": 1890.8501569999999,
          "portfolio_history_bh": 1458.900024,
          "portfolio_history_rand": 1476.950069000002,
          "position": 900
         },
         {
          "action": "HOLD",
          "actual": 1143.900024,
          "date": "2017-07-24T00:00:00",
          "portfolio_history": 1868.9000839999999,
          "portfolio_history_bh": 1436.949951,
          "portfolio_history_rand": 1454.999996000002,
          "position": 885
         },
         {
          "action": "HOLD",
          "actual": 1194,
          "date": "2017-07-25T00:00:00",
          "portfolio_history": 1835.9501329999998,
          "portfolio_history_bh": 1404,
          "portfolio_history_rand": 1422.050045000002,
          "position": 893
         },
         {
          "action": "HOLD",
          "actual": 1151.949951,
          "date": "2017-07-26T00:00:00",
          "portfolio_history": 1839.8501569999999,
          "portfolio_history_bh": 1407.900024,
          "portfolio_history_rand": 1425.950069000002,
          "position": 892.5
         },
         {
          "action": "HOLD",
          "actual": 1153,
          "date": "2017-07-27T00:00:00",
          "portfolio_history": 1889.9501329999998,
          "portfolio_history_bh": 1458,
          "portfolio_history_rand": 1476.050045000002,
          "position": 870
         },
         {
          "action": "HOLD",
          "actual": 1143,
          "date": "2017-07-28T00:00:00",
          "portfolio_history": 1847.9000839999999,
          "portfolio_history_bh": 1415.949951,
          "portfolio_history_rand": 1433.999996000002,
          "position": 881.599976
         },
         {
          "action": "HOLD",
          "actual": 1124.449951,
          "date": "2017-07-31T00:00:00",
          "portfolio_history": 1848.9501329999998,
          "portfolio_history_bh": 1417,
          "portfolio_history_rand": 1435.050045000002,
          "position": 875
         },
         {
          "action": "HOLD",
          "actual": 1133.900024,
          "date": "2017-08-01T00:00:00",
          "portfolio_history": 1838.9501329999998,
          "portfolio_history_bh": 1407,
          "portfolio_history_rand": 1425.050045000002,
          "position": 860
         },
         {
          "action": "HOLD",
          "actual": 1146,
          "date": "2017-08-02T00:00:00",
          "portfolio_history": 1820.4000839999999,
          "portfolio_history_bh": 1388.449951,
          "portfolio_history_rand": 1406.499996000002,
          "position": 868.900024
         },
         {
          "action": "HOLD",
          "actual": 1125,
          "date": "2017-08-03T00:00:00",
          "portfolio_history": 1829.8501569999999,
          "portfolio_history_bh": 1397.900024,
          "portfolio_history_rand": 1415.950069000002,
          "position": 875.9500119999999
         },
         {
          "action": "HOLD",
          "actual": 1137,
          "date": "2017-08-04T00:00:00",
          "portfolio_history": 1841.9501329999998,
          "portfolio_history_bh": 1410,
          "portfolio_history_rand": 1428.050045000002,
          "position": 882
         },
         {
          "action": "HOLD",
          "actual": 1123,
          "date": "2017-08-07T00:00:00",
          "portfolio_history": 1820.9501329999998,
          "portfolio_history_bh": 1389,
          "portfolio_history_rand": 1407.050045000002,
          "position": 867
         },
         {
          "action": "HOLD",
          "actual": 1121.900024,
          "date": "2017-08-08T00:00:00",
          "portfolio_history": 1832.9501329999998,
          "portfolio_history_bh": 1401,
          "portfolio_history_rand": 1419.050045000002,
          "position": 865
         },
         {
          "action": "HOLD",
          "actual": 1118.949951,
          "date": "2017-08-09T00:00:00",
          "portfolio_history": 1818.9501329999998,
          "portfolio_history_bh": 1387,
          "portfolio_history_rand": 1405.050045000002,
          "position": 865
         },
         {
          "action": "HOLD",
          "actual": 1137,
          "date": "2017-08-10T00:00:00",
          "portfolio_history": 1817.8501569999999,
          "portfolio_history_bh": 1385.900024,
          "portfolio_history_rand": 1405.050045000002,
          "position": 869
         },
         {
          "action": "HOLD",
          "actual": 1130,
          "date": "2017-08-11T00:00:00",
          "portfolio_history": 1814.9000839999999,
          "portfolio_history_bh": 1382.949951,
          "portfolio_history_rand": 1405.050045000002,
          "position": 870
         },
         {
          "action": "HOLD",
          "actual": 1105,
          "date": "2017-08-14T00:00:00",
          "portfolio_history": 1832.9501329999998,
          "portfolio_history_bh": 1401,
          "portfolio_history_rand": 1405.050045000002,
          "position": 870
         },
         {
          "action": "HOLD",
          "actual": 1105,
          "date": "2017-08-15T00:00:00",
          "portfolio_history": 1825.9501329999998,
          "portfolio_history_bh": 1394,
          "portfolio_history_rand": 1405.050045000002,
          "position": 870
         },
         {
          "action": "HOLD",
          "actual": 1100,
          "date": "2017-08-16T00:00:00",
          "portfolio_history": 1800.9501329999998,
          "portfolio_history_bh": 1369,
          "portfolio_history_rand": 1405.050045000002,
          "position": 870
         },
         {
          "action": "HOLD",
          "actual": 1090,
          "date": "2017-08-17T00:00:00",
          "portfolio_history": 1800.9501329999998,
          "portfolio_history_bh": 1369,
          "portfolio_history_rand": 1405.050045000002,
          "position": 870
         },
         {
          "action": "HOLD",
          "actual": 1098,
          "date": "2017-08-18T00:00:00",
          "portfolio_history": 1795.9501329999998,
          "portfolio_history_bh": 1364,
          "portfolio_history_rand": 1405.050045000002,
          "position": 869
         },
         {
          "action": "HOLD",
          "actual": 1095,
          "date": "2017-08-21T00:00:00",
          "portfolio_history": 1785.9501329999998,
          "portfolio_history_bh": 1354,
          "portfolio_history_rand": 1405.050045000002,
          "position": 869
         },
         {
          "action": "HOLD",
          "actual": 1030,
          "date": "2017-08-22T00:00:00",
          "portfolio_history": 1793.9501329999998,
          "portfolio_history_bh": 1362,
          "portfolio_history_rand": 1405.050045000002,
          "position": 870
         },
         {
          "action": "HOLD",
          "actual": 1000,
          "date": "2017-08-23T00:00:00",
          "portfolio_history": 1790.9501329999998,
          "portfolio_history_bh": 1359,
          "portfolio_history_rand": 1405.050045000002,
          "position": 870
         },
         {
          "action": "HOLD",
          "actual": 990,
          "date": "2017-08-24T00:00:00",
          "portfolio_history": 1725.9501329999998,
          "portfolio_history_bh": 1294,
          "portfolio_history_rand": 1405.050045000002,
          "position": 888
         },
         {
          "action": "HOLD",
          "actual": 987.5,
          "date": "2017-08-25T00:00:00",
          "portfolio_history": 1695.9501329999998,
          "portfolio_history_bh": 1264,
          "portfolio_history_rand": 1405.050045000002,
          "position": 978.9500119999999
         },
         {
          "action": "HOLD",
          "actual": 994.900024,
          "date": "2017-08-28T00:00:00",
          "portfolio_history": 1685.9501329999998,
          "portfolio_history_bh": 1254,
          "portfolio_history_rand": 1405.050045000002,
          "position": 998.5
         },
         {
          "action": "HOLD",
          "actual": 990,
          "date": "2017-08-29T00:00:00",
          "portfolio_history": 1683.4501329999998,
          "portfolio_history_bh": 1251.5,
          "portfolio_history_rand": 1405.050045000002,
          "position": 1019.7999880000001
         },
         {
          "action": "HOLD",
          "actual": 984,
          "date": "2017-08-30T00:00:00",
          "portfolio_history": 1690.8501569999999,
          "portfolio_history_bh": 1258.900024,
          "portfolio_history_rand": 1412.450069000002,
          "position": 1038
         },
         {
          "action": "HOLD",
          "actual": 985,
          "date": "2017-08-31T00:00:00",
          "portfolio_history": 1685.9501329999998,
          "portfolio_history_bh": 1254,
          "portfolio_history_rand": 1407.550045000002,
          "position": 1038
         },
         {
          "action": "HOLD",
          "actual": 985,
          "date": "2017-09-01T00:00:00",
          "portfolio_history": 1679.9501329999998,
          "portfolio_history_bh": 1248,
          "portfolio_history_rand": 1401.550045000002,
          "position": 1007.0499880000001
         },
         {
          "action": "HOLD",
          "actual": 990,
          "date": "2017-09-05T00:00:00",
          "portfolio_history": 1680.9501329999998,
          "portfolio_history_bh": 1249,
          "portfolio_history_rand": 1401.550045000002,
          "position": 997
         },
         {
          "action": "HOLD",
          "actual": 989,
          "date": "2017-09-06T00:00:00",
          "portfolio_history": 1680.9501329999998,
          "portfolio_history_bh": 1249,
          "portfolio_history_rand": 1401.550045000002,
          "position": 997
         },
         {
          "action": "HOLD",
          "actual": 990,
          "date": "2017-09-07T00:00:00",
          "portfolio_history": 1685.9501329999998,
          "portfolio_history_bh": 1254,
          "portfolio_history_rand": 1401.550045000002,
          "position": 1011.7999880000001
         },
         {
          "action": "HOLD",
          "actual": 1009,
          "date": "2017-09-08T00:00:00",
          "portfolio_history": 1684.9501329999998,
          "portfolio_history_bh": 1253,
          "portfolio_history_rand": 1400.550045000002,
          "position": 999.0499880000001
         },
         {
          "action": "HOLD",
          "actual": 1007,
          "date": "2017-09-11T00:00:00",
          "portfolio_history": 1685.9501329999998,
          "portfolio_history_bh": 1254,
          "portfolio_history_rand": 1401.550045000002,
          "position": 1000.0499880000001
         },
         {
          "action": "HOLD",
          "actual": 1013.5,
          "date": "2017-09-12T00:00:00",
          "portfolio_history": 1704.9501329999998,
          "portfolio_history_bh": 1273,
          "portfolio_history_rand": 1420.550045000002,
          "position": 1002.2000119999999
         },
         {
          "action": "HOLD",
          "actual": 1002,
          "date": "2017-09-13T00:00:00",
          "portfolio_history": 1702.9501329999998,
          "portfolio_history_bh": 1271,
          "portfolio_history_rand": 1418.550045000002,
          "position": 1030
         },
         {
          "action": "HOLD",
          "actual": 1002,
          "date": "2017-09-14T00:00:00",
          "portfolio_history": 1709.4501329999998,
          "portfolio_history_bh": 1277.5,
          "portfolio_history_rand": 1425.050045000002,
          "position": 1045
         },
         {
          "action": "HOLD",
          "actual": 996,
          "date": "2017-09-15T00:00:00",
          "portfolio_history": 1697.9501329999998,
          "portfolio_history_bh": 1266,
          "portfolio_history_rand": 1425.050045000002,
          "position": 1055
         },
         {
          "action": "HOLD",
          "actual": 999,
          "date": "2017-09-18T00:00:00",
          "portfolio_history": 1697.9501329999998,
          "portfolio_history_bh": 1266,
          "portfolio_history_rand": 1425.050045000002,
          "position": 1055.400024
         },
         {
          "action": "HOLD",
          "actual": 993.7000119999999,
          "date": "2017-09-19T00:00:00",
          "portfolio_history": 1691.9501329999998,
          "portfolio_history_bh": 1260,
          "portfolio_history_rand": 1419.050045000002,
          "position": 1060
         },
         {
          "action": "HOLD",
          "actual": 990.099976,
          "date": "2017-09-20T00:00:00",
          "portfolio_history": 1694.9501329999998,
          "portfolio_history_bh": 1263,
          "portfolio_history_rand": 1422.050045000002,
          "position": 1070
         },
         {
          "action": "HOLD",
          "actual": 994.9500119999999,
          "date": "2017-09-21T00:00:00",
          "portfolio_history": 1689.6501449999996,
          "portfolio_history_bh": 1257.7000119999998,
          "portfolio_history_rand": 1416.750057000002,
          "position": 1069.800049
         },
         {
          "action": "HOLD",
          "actual": 999,
          "date": "2017-09-22T00:00:00",
          "portfolio_history": 1686.0501089999998,
          "portfolio_history_bh": 1254.099976,
          "portfolio_history_rand": 1413.150021000002,
          "position": 1060.25
         },
         {
          "action": "HOLD",
          "actual": 995,
          "date": "2017-09-25T00:00:00",
          "portfolio_history": 1690.9001449999996,
          "portfolio_history_bh": 1258.9500119999998,
          "portfolio_history_rand": 1413.150021000002,
          "position": 1070
         },
         {
          "action": "HOLD",
          "actual": 995,
          "date": "2017-09-26T00:00:00",
          "portfolio_history": 1694.9501329999998,
          "portfolio_history_bh": 1263,
          "portfolio_history_rand": 1417.200009000002,
          "position": 1063.949951
         },
         {
          "action": "HOLD",
          "actual": 994.900024,
          "date": "2017-09-27T00:00:00",
          "portfolio_history": 1690.9501329999998,
          "portfolio_history_bh": 1259,
          "portfolio_history_rand": 1413.200009000002,
          "position": 1095
         },
         {
          "action": "HOLD",
          "actual": 990,
          "date": "2017-09-28T00:00:00",
          "portfolio_history": 1690.9501329999998,
          "portfolio_history_bh": 1259,
          "portfolio_history_rand": 1413.200009000002,
          "position": 1084
         },
         {
          "action": "HOLD",
          "actual": 990,
          "date": "2017-09-29T00:00:00",
          "portfolio_history": 1690.8501569999999,
          "portfolio_history_bh": 1258.900024,
          "portfolio_history_rand": 1413.200009000002,
          "position": 1084
         },
         {
          "action": "HOLD",
          "actual": 990,
          "date": "2017-10-02T00:00:00",
          "portfolio_history": 1685.9501329999998,
          "portfolio_history_bh": 1254,
          "portfolio_history_rand": 1408.299985000002,
          "position": 1083
         },
         {
          "action": "HOLD",
          "actual": 980,
          "date": "2017-10-03T00:00:00",
          "portfolio_history": 1685.9501329999998,
          "portfolio_history_bh": 1254,
          "portfolio_history_rand": 1408.299985000002,
          "position": 1089
         },
         {
          "action": "HOLD",
          "actual": 984.900024,
          "date": "2017-10-04T00:00:00",
          "portfolio_history": 1685.9501329999998,
          "portfolio_history_bh": 1254,
          "portfolio_history_rand": 1408.299985000002,
          "position": 1077.949951
         },
         {
          "action": "HOLD",
          "actual": 956.900024,
          "date": "2017-10-05T00:00:00",
          "portfolio_history": 1675.9501329999998,
          "portfolio_history_bh": 1244,
          "portfolio_history_rand": 1408.299985000002,
          "position": 1090
         },
         {
          "action": "HOLD",
          "actual": 971,
          "date": "2017-10-06T00:00:00",
          "portfolio_history": 1680.8501569999999,
          "portfolio_history_bh": 1248.900024,
          "portfolio_history_rand": 1408.299985000002,
          "position": 1070
         },
         {
          "action": "HOLD",
          "actual": 979.2999880000001,
          "date": "2017-10-09T00:00:00",
          "portfolio_history": 1652.8501569999999,
          "portfolio_history_bh": 1220.900024,
          "portfolio_history_rand": 1380.299985000002,
          "position": 1088
         },
         {
          "action": "HOLD",
          "actual": 970,
          "date": "2017-10-10T00:00:00",
          "portfolio_history": 1666.9501329999998,
          "portfolio_history_bh": 1235,
          "portfolio_history_rand": 1380.299985000002,
          "position": 1090
         },
         {
          "action": "HOLD",
          "actual": 979.5,
          "date": "2017-10-11T00:00:00",
          "portfolio_history": 1675.250121,
          "portfolio_history_bh": 1243.2999880000002,
          "portfolio_history_rand": 1380.299985000002,
          "position": 1090
         },
         {
          "action": "HOLD",
          "actual": 969,
          "date": "2017-10-12T00:00:00",
          "portfolio_history": 1665.9501329999998,
          "portfolio_history_bh": 1234,
          "portfolio_history_rand": 1380.299985000002,
          "position": 1089.25
         },
         {
          "action": "HOLD",
          "actual": 958,
          "date": "2017-10-13T00:00:00",
          "portfolio_history": 1675.4501329999998,
          "portfolio_history_bh": 1243.5,
          "portfolio_history_rand": 1380.299985000002,
          "position": 1077
         },
         {
          "action": "HOLD",
          "actual": 956.599976,
          "date": "2017-10-16T00:00:00",
          "portfolio_history": 1664.9501329999998,
          "portfolio_history_bh": 1233,
          "portfolio_history_rand": 1380.299985000002,
          "position": 1084.75
         },
         {
          "action": "HOLD",
          "actual": 960,
          "date": "2017-10-17T00:00:00",
          "portfolio_history": 1653.9501329999998,
          "portfolio_history_bh": 1222,
          "portfolio_history_rand": 1380.299985000002,
          "position": 1090
         },
         {
          "action": "HOLD",
          "actual": 969,
          "date": "2017-10-18T00:00:00",
          "portfolio_history": 1652.5501089999998,
          "portfolio_history_bh": 1220.599976,
          "portfolio_history_rand": 1378.899961000002,
          "position": 1100
         },
         {
          "action": "HOLD",
          "actual": 969,
          "date": "2017-10-19T00:00:00",
          "portfolio_history": 1655.9501329999998,
          "portfolio_history_bh": 1224,
          "portfolio_history_rand": 1382.299985000002,
          "position": 1035
         },
         {
          "action": "HOLD",
          "actual": 969.400024,
          "date": "2017-10-20T00:00:00",
          "portfolio_history": 1664.9501329999998,
          "portfolio_history_bh": 1233,
          "portfolio_history_rand": 1391.299985000002,
          "position": 1025.25
         },
         {
          "action": "HOLD",
          "actual": 950,
          "date": "2017-10-23T00:00:00",
          "portfolio_history": 1664.9501329999998,
          "portfolio_history_bh": 1233,
          "portfolio_history_rand": 1391.299985000002,
          "position": 1020
         },
         {
          "action": "HOLD",
          "actual": 945,
          "date": "2017-10-24T00:00:00",
          "portfolio_history": 1665.3501569999999,
          "portfolio_history_bh": 1233.400024,
          "portfolio_history_rand": 1391.299985000002,
          "position": 1020
         },
         {
          "action": "HOLD",
          "actual": 954.9500119999999,
          "date": "2017-10-25T00:00:00",
          "portfolio_history": 1645.9501329999998,
          "portfolio_history_bh": 1214,
          "portfolio_history_rand": 1391.299985000002,
          "position": 1023.5
         },
         {
          "action": "HOLD",
          "actual": 954,
          "date": "2017-10-26T00:00:00",
          "portfolio_history": 1640.9501329999998,
          "portfolio_history_bh": 1209,
          "portfolio_history_rand": 1386.299985000002,
          "position": 1030
         },
         {
          "action": "HOLD",
          "actual": 972,
          "date": "2017-10-27T00:00:00",
          "portfolio_history": 1650.9001449999996,
          "portfolio_history_bh": 1218.9500119999998,
          "portfolio_history_rand": 1386.299985000002,
          "position": 1034.550049
         },
         {
          "action": "HOLD",
          "actual": 978.7999880000001,
          "date": "2017-10-30T00:00:00",
          "portfolio_history": 1649.9501329999998,
          "portfolio_history_bh": 1218,
          "portfolio_history_rand": 1386.299985000002,
          "position": 1053.5
         },
         {
          "action": "HOLD",
          "actual": 965.349976,
          "date": "2017-10-31T00:00:00",
          "portfolio_history": 1667.9501329999998,
          "portfolio_history_bh": 1236,
          "portfolio_history_rand": 1386.299985000002,
          "position": 1041.099976
         },
         {
          "action": "HOLD",
          "actual": 965.349976,
          "date": "2017-11-01T00:00:00",
          "portfolio_history": 1674.750121,
          "portfolio_history_bh": 1242.7999880000002,
          "portfolio_history_rand": 1386.299985000002,
          "position": 1070
         },
         {
          "action": "HOLD",
          "actual": 970,
          "date": "2017-11-02T00:00:00",
          "portfolio_history": 1661.3001089999998,
          "portfolio_history_bh": 1229.349976,
          "portfolio_history_rand": 1372.8499730000017,
          "position": 1056.550049
         },
         {
          "action": "HOLD",
          "actual": 970,
          "date": "2017-11-03T00:00:00",
          "portfolio_history": 1661.3001089999998,
          "portfolio_history_bh": 1229.349976,
          "portfolio_history_rand": 1372.8499730000017,
          "position": 1065
         },
         {
          "action": "HOLD",
          "actual": 967.900024,
          "date": "2017-11-06T00:00:00",
          "portfolio_history": 1665.9501329999998,
          "portfolio_history_bh": 1234,
          "portfolio_history_rand": 1372.8499730000017,
          "position": 1083
         },
         {
          "action": "HOLD",
          "actual": 961,
          "date": "2017-11-07T00:00:00",
          "portfolio_history": 1665.9501329999998,
          "portfolio_history_bh": 1234,
          "portfolio_history_rand": 1372.8499730000017,
          "position": 1084.5
         },
         {
          "action": "HOLD",
          "actual": 970.650024,
          "date": "2017-11-08T00:00:00",
          "portfolio_history": 1663.8501569999999,
          "portfolio_history_bh": 1231.900024,
          "portfolio_history_rand": 1372.8499730000017,
          "position": 1102.75
         },
         {
          "action": "HOLD",
          "actual": 965,
          "date": "2017-11-09T00:00:00",
          "portfolio_history": 1656.9501329999998,
          "portfolio_history_bh": 1225,
          "portfolio_history_rand": 1365.9499490000017,
          "position": 1120
         },
         {
          "action": "HOLD",
          "actual": 970,
          "date": "2017-11-10T00:00:00",
          "portfolio_history": 1666.6001569999999,
          "portfolio_history_bh": 1234.650024,
          "portfolio_history_rand": 1375.5999730000017,
          "position": 1110
         },
         {
          "action": "HOLD",
          "actual": 970,
          "date": "2017-11-13T00:00:00",
          "portfolio_history": 1660.9501329999998,
          "portfolio_history_bh": 1229,
          "portfolio_history_rand": 1369.9499490000017,
          "position": 1080
         },
         {
          "action": "HOLD",
          "actual": 969.9500119999999,
          "date": "2017-11-14T00:00:00",
          "portfolio_history": 1665.9501329999998,
          "portfolio_history_bh": 1234,
          "portfolio_history_rand": 1374.9499490000017,
          "position": 1100
         },
         {
          "action": "HOLD",
          "actual": 969.5499880000001,
          "date": "2017-11-15T00:00:00",
          "portfolio_history": 1665.9501329999998,
          "portfolio_history_bh": 1234,
          "portfolio_history_rand": 1374.9499490000017,
          "position": 1178.900024
         },
         {
          "action": "HOLD",
          "actual": 972,
          "date": "2017-11-16T00:00:00",
          "portfolio_history": 1665.9001449999996,
          "portfolio_history_bh": 1233.9500119999998,
          "portfolio_history_rand": 1374.8999610000014,
          "position": 1195
         },
         {
          "action": "HOLD",
          "actual": 965,
          "date": "2017-11-17T00:00:00",
          "portfolio_history": 1665.500121,
          "portfolio_history_bh": 1233.5499880000002,
          "portfolio_history_rand": 1374.4999370000019,
          "position": 1165
         },
         {
          "action": "HOLD",
          "actual": 972.9500119999999,
          "date": "2017-11-20T00:00:00",
          "portfolio_history": 1667.9501329999998,
          "portfolio_history_bh": 1236,
          "portfolio_history_rand": 1376.9499490000017,
          "position": 1124
         },
         {
          "action": "HOLD",
          "actual": 974,
          "date": "2017-11-21T00:00:00",
          "portfolio_history": 1660.9501329999998,
          "portfolio_history_bh": 1229,
          "portfolio_history_rand": 1369.9499490000017,
          "position": 1136
         },
         {
          "action": "HOLD",
          "actual": 975,
          "date": "2017-11-22T00:00:00",
          "portfolio_history": 1668.9001449999996,
          "portfolio_history_bh": 1236.9500119999998,
          "portfolio_history_rand": 1377.8999610000014,
          "position": 1128.099976
         },
         {
          "action": "HOLD",
          "actual": 971.9500119999999,
          "date": "2017-11-24T00:00:00",
          "portfolio_history": 1669.9501329999998,
          "portfolio_history_bh": 1238,
          "portfolio_history_rand": 1378.9499490000017,
          "position": 1140
         },
         {
          "action": "HOLD",
          "actual": 970,
          "date": "2017-11-27T00:00:00",
          "portfolio_history": 1670.9501329999998,
          "portfolio_history_bh": 1239,
          "portfolio_history_rand": 1379.9499490000017,
          "position": 1155
         },
         {
          "action": "HOLD",
          "actual": 969.099976,
          "date": "2017-11-28T00:00:00",
          "portfolio_history": 1667.9001449999996,
          "portfolio_history_bh": 1235.9500119999998,
          "portfolio_history_rand": 1376.8999610000014,
          "position": 1155
         },
         {
          "action": "HOLD",
          "actual": 969.099976,
          "date": "2017-11-29T00:00:00",
          "portfolio_history": 1665.9501329999998,
          "portfolio_history_bh": 1234,
          "portfolio_history_rand": 1374.9499490000017,
          "position": 1150
         },
         {
          "action": "HOLD",
          "actual": 966,
          "date": "2017-11-30T00:00:00",
          "portfolio_history": 1665.0501089999998,
          "portfolio_history_bh": 1233.099976,
          "portfolio_history_rand": 1374.0499250000016,
          "position": 1121
         },
         {
          "action": "HOLD",
          "actual": 962,
          "date": "2017-12-01T00:00:00",
          "portfolio_history": 1665.0501089999998,
          "portfolio_history_bh": 1233.099976,
          "portfolio_history_rand": 1374.0499250000016,
          "position": 1119.949951
         },
         {
          "action": "HOLD",
          "actual": 965,
          "date": "2017-12-04T00:00:00",
          "portfolio_history": 1661.9501329999998,
          "portfolio_history_bh": 1230,
          "portfolio_history_rand": 1374.0499250000016,
          "position": 1120
         },
         {
          "action": "HOLD",
          "actual": 962,
          "date": "2017-12-05T00:00:00",
          "portfolio_history": 1657.9501329999998,
          "portfolio_history_bh": 1226,
          "portfolio_history_rand": 1374.0499250000016,
          "position": 1123
         },
         {
          "action": "HOLD",
          "actual": 974,
          "date": "2017-12-06T00:00:00",
          "portfolio_history": 1660.9501329999998,
          "portfolio_history_bh": 1229,
          "portfolio_history_rand": 1374.0499250000016,
          "position": 1135
         },
         {
          "action": "HOLD",
          "actual": 969.400024,
          "date": "2017-12-07T00:00:00",
          "portfolio_history": 1657.9501329999998,
          "portfolio_history_bh": 1226,
          "portfolio_history_rand": 1371.0499250000016,
          "position": 1150
         },
         {
          "action": "HOLD",
          "actual": 966.0499880000001,
          "date": "2017-12-08T00:00:00",
          "portfolio_history": 1669.9501329999998,
          "portfolio_history_bh": 1238,
          "portfolio_history_rand": 1371.0499250000016,
          "position": 1160
         },
         {
          "action": "HOLD",
          "actual": 950,
          "date": "2017-12-11T00:00:00",
          "portfolio_history": 1665.3501569999999,
          "portfolio_history_bh": 1233.400024,
          "portfolio_history_rand": 1371.0499250000016,
          "position": 1190
         },
         {
          "action": "HOLD",
          "actual": 945,
          "date": "2017-12-12T00:00:00",
          "portfolio_history": 1662.000121,
          "portfolio_history_bh": 1230.0499880000002,
          "portfolio_history_rand": 1371.0499250000016,
          "position": 1175
         },
         {
          "action": "HOLD",
          "actual": 955,
          "date": "2017-12-13T00:00:00",
          "portfolio_history": 1645.9501329999998,
          "portfolio_history_bh": 1214,
          "portfolio_history_rand": 1371.0499250000016,
          "position": 1175
         },
         {
          "action": "HOLD",
          "actual": 950.5,
          "date": "2017-12-14T00:00:00",
          "portfolio_history": 1640.9501329999998,
          "portfolio_history_bh": 1209,
          "portfolio_history_rand": 1366.0499250000016,
          "position": 1169
         },
         {
          "action": "HOLD",
          "actual": 954.900024,
          "date": "2017-12-15T00:00:00",
          "portfolio_history": 1650.9501329999998,
          "portfolio_history_bh": 1219,
          "portfolio_history_rand": 1376.0499250000016,
          "position": 1140
         },
         {
          "action": "SELL",
          "actual": 958,
          "date": "2017-12-18T00:00:00",
          "portfolio_history": 1646.4501329999998,
          "portfolio_history_bh": 1214.5,
          "portfolio_history_rand": 1371.5499250000016,
          "position": 1140.050049
         },
         {
          "action": "HOLD",
          "actual": 973.0499880000001,
          "date": "2017-12-19T00:00:00",
          "portfolio_history": 1650.8501569999999,
          "portfolio_history_bh": 1218.900024,
          "portfolio_history_rand": 1371.5499250000016,
          "position": 1146
         },
         {
          "action": "HOLD",
          "actual": 1015.099976,
          "date": "2017-12-20T00:00:00",
          "portfolio_history": 1650.8501569999999,
          "portfolio_history_bh": 1222,
          "portfolio_history_rand": 1374.6499010000016,
          "position": 1174
         },
         {
          "action": "HOLD",
          "actual": 1039.900024,
          "date": "2017-12-21T00:00:00",
          "portfolio_history": 1650.8501569999999,
          "portfolio_history_bh": 1237.0499880000002,
          "portfolio_history_rand": 1389.6998890000018,
          "position": 1161
         },
         {
          "action": "HOLD",
          "actual": 1030,
          "date": "2017-12-22T00:00:00",
          "portfolio_history": 1650.8501569999999,
          "portfolio_history_bh": 1279.099976,
          "portfolio_history_rand": 1431.7498770000016,
          "position": 1160
         },
         {
          "action": "BUY",
          "actual": 1030,
          "date": "2017-12-26T00:00:00",
          "portfolio_history": 1650.8501569999999,
          "portfolio_history_bh": 1303.900024,
          "portfolio_history_rand": 1431.7498770000016,
          "position": 1174.5
         },
         {
          "action": "HOLD",
          "actual": 1005.25,
          "date": "2017-12-27T00:00:00",
          "portfolio_history": 1650.8501569999999,
          "portfolio_history_bh": 1294,
          "portfolio_history_rand": 1431.7498770000016,
          "position": 1189
         },
         {
          "action": "SELL",
          "actual": 1029,
          "date": "2017-12-28T00:00:00",
          "portfolio_history": 1650.8501569999999,
          "portfolio_history_bh": 1294,
          "portfolio_history_rand": 1431.7498770000016,
          "position": 1185
         },
         {
          "action": "HOLD",
          "actual": 1030.75,
          "date": "2017-12-29T00:00:00",
          "portfolio_history": 1626.1001569999999,
          "portfolio_history_bh": 1269.25,
          "portfolio_history_rand": 1406.9998770000016,
          "position": 1173
         },
         {
          "action": "HOLD",
          "actual": 1030.75,
          "date": "2018-01-02T00:00:00",
          "portfolio_history": 1626.1001569999999,
          "portfolio_history_bh": 1293,
          "portfolio_history_rand": 1430.7498770000016,
          "position": 1187.900024
         },
         {
          "action": "HOLD",
          "actual": 1030,
          "date": "2018-01-03T00:00:00",
          "portfolio_history": 1626.1001569999999,
          "portfolio_history_bh": 1294.75,
          "portfolio_history_rand": 1432.4998770000016,
          "position": 1098.900024
         },
         {
          "action": "HOLD",
          "actual": 1060,
          "date": "2018-01-04T00:00:00",
          "portfolio_history": 1626.1001569999999,
          "portfolio_history_bh": 1294.75,
          "portfolio_history_rand": 1432.4998770000016,
          "position": 1078.900024
         },
         {
          "action": "HOLD",
          "actual": 1100,
          "date": "2018-01-05T00:00:00",
          "portfolio_history": 1626.1001569999999,
          "portfolio_history_bh": 1294,
          "portfolio_history_rand": 1432.4998770000016,
          "position": 1040
         },
         {
          "action": "HOLD",
          "actual": 1100,
          "date": "2018-01-08T00:00:00",
          "portfolio_history": 1626.1001569999999,
          "portfolio_history_bh": 1324,
          "portfolio_history_rand": 1462.4998770000016,
          "position": 1020
         },
         {
          "action": "HOLD",
          "actual": 1115,
          "date": "2018-01-09T00:00:00",
          "portfolio_history": 1626.1001569999999,
          "portfolio_history_bh": 1364,
          "portfolio_history_rand": 1462.4998770000016,
          "position": 1050
         },
         {
          "action": "HOLD",
          "actual": 1085,
          "date": "2018-01-10T00:00:00",
          "portfolio_history": 1626.1001569999999,
          "portfolio_history_bh": 1364,
          "portfolio_history_rand": 1462.4998770000016,
          "position": 1065
         },
         {
          "action": "HOLD",
          "actual": 1095,
          "date": "2018-01-11T00:00:00",
          "portfolio_history": 1626.1001569999999,
          "portfolio_history_bh": 1379,
          "portfolio_history_rand": 1477.4998770000016,
          "position": 1054.800049
         },
         {
          "action": "HOLD",
          "actual": 1100,
          "date": "2018-01-12T00:00:00",
          "portfolio_history": 1626.1001569999999,
          "portfolio_history_bh": 1349,
          "portfolio_history_rand": 1447.4998770000016,
          "position": 1032.800049
         },
         {
          "action": "HOLD",
          "actual": 1090,
          "date": "2018-01-16T00:00:00",
          "portfolio_history": 1626.1001569999999,
          "portfolio_history_bh": 1359,
          "portfolio_history_rand": 1457.4998770000016,
          "position": 1042
         },
         {
          "action": "HOLD",
          "actual": 1125,
          "date": "2018-01-17T00:00:00",
          "portfolio_history": 1626.1001569999999,
          "portfolio_history_bh": 1364,
          "portfolio_history_rand": 1457.4998770000016,
          "position": 1010
         },
         {
          "action": "HOLD",
          "actual": 1110,
          "date": "2018-01-18T00:00:00",
          "portfolio_history": 1626.1001569999999,
          "portfolio_history_bh": 1354,
          "portfolio_history_rand": 1457.4998770000016,
          "position": 1030
         },
         {
          "action": "HOLD",
          "actual": 1095,
          "date": "2018-01-19T00:00:00",
          "portfolio_history": 1626.1001569999999,
          "portfolio_history_bh": 1389,
          "portfolio_history_rand": 1457.4998770000016,
          "position": 1029
         },
         {
          "action": "BUY",
          "actual": 1125,
          "date": "2018-01-22T00:00:00",
          "portfolio_history": 1626.1001569999999,
          "portfolio_history_bh": 1374,
          "portfolio_history_rand": 1442.4998770000016,
          "position": 985
         },
         {
          "action": "HOLD",
          "actual": 1150,
          "date": "2018-01-23T00:00:00",
          "portfolio_history": 1626.1001569999999,
          "portfolio_history_bh": 1359,
          "portfolio_history_rand": 1427.4998770000016,
          "position": 950
         },
         {
          "action": "HOLD",
          "actual": 1140,
          "date": "2018-01-24T00:00:00",
          "portfolio_history": 1656.1001569999999,
          "portfolio_history_bh": 1389,
          "portfolio_history_rand": 1427.4998770000016,
          "position": 952.5
         },
         {
          "action": "HOLD",
          "actual": 1140,
          "date": "2018-01-25T00:00:00",
          "portfolio_history": 1681.1001569999999,
          "portfolio_history_bh": 1414,
          "portfolio_history_rand": 1452.4998770000016,
          "position": 1000
         },
         {
          "action": "HOLD",
          "actual": 1145,
          "date": "2018-01-26T00:00:00",
          "portfolio_history": 1671.1001569999999,
          "portfolio_history_bh": 1404,
          "portfolio_history_rand": 1452.4998770000016,
          "position": 965
         },
         {
          "action": "HOLD",
          "actual": 1130,
          "date": "2018-01-29T00:00:00",
          "portfolio_history": 1671.1001569999999,
          "portfolio_history_bh": 1404,
          "portfolio_history_rand": 1452.4998770000016,
          "position": 970
         },
         {
          "action": "HOLD",
          "actual": 1140,
          "date": "2018-01-30T00:00:00",
          "portfolio_history": 1676.1001569999999,
          "portfolio_history_bh": 1409,
          "portfolio_history_rand": 1457.4998770000016,
          "position": 955
         }
        ]
       },
       "height": 300,
       "layer": [
        {
         "data": {
          "name": "data-02d7c715796255212a65cc4041b68e54"
         },
         "encoding": {
          "x": {
           "axis": {
            "title": "Date"
           },
           "field": "date",
           "type": "temporal"
          },
          "y": {
           "axis": {
            "format": "$.2f",
            "title": "Portfolio Value"
           },
           "field": "portfolio_history",
           "scale": {
            "clamp": true,
            "domain": [
             946.5,
             1950.9501329999998
            ]
           },
           "type": "quantitative"
          }
         },
         "mark": {
          "color": "green",
          "opacity": 0.5,
          "type": "line"
         },
         "selection": {
          "selector013": {
           "bind": "scales",
           "encodings": [
            "x"
           ],
           "mark": {
            "fill": "#333",
            "fillOpacity": 0.125,
            "stroke": "white"
           },
           "on": "[mousedown, window:mouseup] > window:mousemove!",
           "resolve": "global",
           "translate": "[mousedown, window:mouseup] > window:mousemove!",
           "type": "interval",
           "zoom": "wheel!"
          }
         }
        },
        {
         "data": {
          "name": "data-02d7c715796255212a65cc4041b68e54"
         },
         "encoding": {
          "x": {
           "field": "date",
           "type": "temporal"
          },
          "y": {
           "axis": {
            "format": "$.2f",
            "title": "Portfolio Value"
           },
           "field": "portfolio_history_rand",
           "type": "quantitative"
          }
         },
         "mark": {
          "color": "blue",
          "opacity": 0.5,
          "type": "line"
         },
         "selection": {
          "selector014": {
           "bind": "scales",
           "encodings": [
            "x"
           ],
           "mark": {
            "fill": "#333",
            "fillOpacity": 0.125,
            "stroke": "white"
           },
           "on": "[mousedown, window:mouseup] > window:mousemove!",
           "resolve": "global",
           "translate": "[mousedown, window:mouseup] > window:mousemove!",
           "type": "interval",
           "zoom": "wheel!"
          }
         }
        },
        {
         "data": {
          "name": "data-02d7c715796255212a65cc4041b68e54"
         },
         "encoding": {
          "x": {
           "field": "date",
           "type": "temporal"
          },
          "y": {
           "axis": {
            "format": "$.2f",
            "title": "Portfolio Value"
           },
           "field": "portfolio_history_bh",
           "type": "quantitative"
          }
         },
         "mark": {
          "color": "red",
          "opacity": 0.5,
          "type": "line"
         },
         "selection": {
          "selector015": {
           "bind": "scales",
           "encodings": [
            "x"
           ],
           "mark": {
            "fill": "#333",
            "fillOpacity": 0.125,
            "stroke": "white"
           },
           "on": "[mousedown, window:mouseup] > window:mousemove!",
           "resolve": "global",
           "translate": "[mousedown, window:mouseup] > window:mousemove!",
           "type": "interval",
           "zoom": "wheel!"
          }
         }
        }
       ],
       "title": "Portfolio Value",
       "width": 1000
      },
      "image/png": "[encoded data removed]",
      "text/plain": [
       "<VegaLite 2 object>\n",
       "\n",
       "If you see this message, it means the renderer has not been properly enabled\n",
       "for the frontend that you are using. For more information, see\n",
       "https://altair-viz.github.io/user_guide/troubleshooting.html\n"
      ]
     },
     "execution_count": 82,
     "metadata": {},
     "output_type": "execute_result"
    }
   ],
   "source": [
    "chart1 = visualize2(test_prices_plot, history, portfolio_history, portfolio_history_rand, portfolio_history_bh)\n",
    "chart1"
   ]
  },
  {
   "cell_type": "code",
   "execution_count": null,
   "metadata": {},
   "outputs": [],
   "source": []
  },
  {
   "cell_type": "code",
   "execution_count": null,
   "metadata": {},
   "outputs": [],
   "source": []
  }
 ],
 "metadata": {
  "kernelspec": {
   "display_name": "Python 3",
   "language": "python",
   "name": "python3"
  },
  "language_info": {
   "codemirror_mode": {
    "name": "ipython",
    "version": 3
   },
   "file_extension": ".py",
   "mimetype": "text/x-python",
   "name": "python",
   "nbconvert_exporter": "python",
   "pygments_lexer": "ipython3",
   "version": "3.6.5"
  },
  "toc": {
   "base_numbering": 1,
   "nav_menu": {},
   "number_sections": true,
   "sideBar": true,
   "skip_h1_title": false,
   "title_cell": "Table of Contents",
   "title_sidebar": "Contents",
   "toc_cell": false,
   "toc_position": {},
   "toc_section_display": true,
   "toc_window_display": false
  },
  "varInspector": {
   "cols": {
    "lenName": 16,
    "lenType": 16,
    "lenVar": 40
   },
   "kernels_config": {
    "python": {
     "delete_cmd_postfix": "",
     "delete_cmd_prefix": "del ",
     "library": "var_list.py",
     "varRefreshCmd": "print(var_dic_list())"
    },
    "r": {
     "delete_cmd_postfix": ") ",
     "delete_cmd_prefix": "rm(",
     "library": "var_list.r",
     "varRefreshCmd": "cat(var_dic_list()) "
    }
   },
   "types_to_exclude": [
    "module",
    "function",
    "builtin_function_or_method",
    "instance",
    "_Feature"
   ],
   "window_display": false
  }
 },
 "nbformat": 4,
 "nbformat_minor": 2
}
